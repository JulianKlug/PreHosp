{
 "cells": [
  {
   "cell_type": "markdown",
   "id": "295c641c",
   "metadata": {},
   "source": [
    "# Table 3. Descriptive Outcomes\n",
    "On-scene survival (Yes=1, No=0)\n",
    "ICU yes (Length >0)\n",
    "If ICU yes, Length of ICU stay\n",
    "Length of hospital stay\n",
    "Survival of hospital stay\n",
    "1 y survival\n"
   ]
  },
  {
   "cell_type": "code",
   "execution_count": null,
   "id": "dc34a398",
   "metadata": {},
   "outputs": [],
   "source": [
    "import pandas as pd"
   ]
  },
  {
   "cell_type": "code",
   "execution_count": null,
   "id": "cf2c0afb",
   "metadata": {},
   "outputs": [],
   "source": [
    "data_path = '/Users/jk1/Library/CloudStorage/OneDrive-unige.ch/icu_research/prehospital/pediatric_trauma/data/Data_PedRegaTrauma_coded_for_analysis_250417.xlsx'"
   ]
  },
  {
   "cell_type": "code",
   "execution_count": null,
   "id": "faea0c30",
   "metadata": {},
   "outputs": [],
   "source": [
    "df = pd.read_excel(data_path, sheet_name='All centres cleaned')"
   ]
  },
  {
   "cell_type": "code",
   "execution_count": null,
   "id": "bc8cc89d",
   "metadata": {},
   "outputs": [],
   "source": [
    "df.head()"
   ]
  },
  {
   "cell_type": "code",
   "execution_count": null,
   "id": "b5eafe2f",
   "metadata": {},
   "outputs": [],
   "source": [
    "df['on-sceen survival (y/n)'].value_counts()"
   ]
  },
  {
   "cell_type": "code",
   "execution_count": null,
   "id": "36152d28",
   "metadata": {},
   "outputs": [],
   "source": [
    "df['Place discharge'].value_counts()"
   ]
  },
  {
   "cell_type": "code",
   "execution_count": null,
   "id": "79bc5d25",
   "metadata": {},
   "outputs": [],
   "source": [
    "def create_table3(df):    \n",
    "    assert df[\"Pat ID\"].nunique() == len(df), \"There are duplicate patient IDs in the dataset.\" \n",
    "\n",
    "    pop_df = pd.DataFrame()\n",
    "    str_df = pd.DataFrame()\n",
    "\n",
    "    # get the number of patients\n",
    "    n_patients = len(df)\n",
    "    pop_df['n_patients'] = [n_patients]\n",
    "    str_df['n_patients'] = [n_patients]\n",
    "\n",
    "    # On-scene survival (Yes=1, No=0)\n",
    "    pop_df['n_on_scene_survival'] = [len(df[df['on-sceen survival (y/n)'] == 1])]\n",
    "    pop_df['prop_on_scene_survival'] = [pop_df['n_on_scene_survival'].values[0] / n_patients]\n",
    "    str_df['on_scene_survival'] = f'{pop_df[\"n_on_scene_survival\"].values[0]} ({pop_df[\"prop_on_scene_survival\"].values[0]:.1%})'\n",
    "\n",
    "    # ICU yes (Length >0)\n",
    "    df['length of ICU stay'] = df['length of ICU stay'].replace(999, pd.NA)\n",
    "    pop_df['n_icu_yes'] = [len(df[df['length of ICU stay'] > 0])]\n",
    "    pop_df['prop_icu_yes'] = [pop_df['n_icu_yes'].values[0] / n_patients]\n",
    "    str_df['icu_admission'] = f'{pop_df[\"n_icu_yes\"].values[0]} ({pop_df[\"prop_icu_yes\"].values[0]:.1%})'\n",
    "\n",
    "    # If ICU yes, Length of ICU stay\n",
    "    with_icu_df = df[df['length of ICU stay'] > 0]\n",
    "    # replace 999 with nan\n",
    "    with_icu_df['length of ICU stay'] = with_icu_df['length of ICU stay'].replace(999, pd.NA)\n",
    "    pop_df['icu_los_median'] = [with_icu_df['length of ICU stay'].median()]\n",
    "    pop_df['icu_los_q1'] = [with_icu_df['length of ICU stay'].quantile(0.25)]\n",
    "    pop_df['icu_los_q3'] = [with_icu_df['length of ICU stay'].quantile(0.75)]\n",
    "    str_df['icu_los'] = f'{pop_df[\"icu_los_median\"].values[0]} [{pop_df[\"icu_los_q1\"].values[0]}-{pop_df[\"icu_los_q3\"].values[0]}]'\n",
    "\n",
    "    # Length of hospital stay\n",
    "    # replace 999 with nan\n",
    "    df['Length of hospital stay'] = df['Length of hospital stay'].replace(999, pd.NA)\n",
    "    pop_df['hospital_los_median'] = [df['Length of hospital stay'].median()]\n",
    "    pop_df['hospital_los_q1'] = [df['Length of hospital stay'].quantile(0.25)]\n",
    "    pop_df['hospital_los_q3'] = [df['Length of hospital stay'].quantile(0.75)]\n",
    "    str_df['hospital_los'] = f'{pop_df[\"hospital_los_median\"].values[0]} [{pop_df[\"hospital_los_q1\"].values[0]}-{pop_df[\"hospital_los_q3\"].values[0]}]'\n",
    "    \n",
    "    # Survival of hospital stay\n",
    "    df['Place discharge'] = df['Place discharge'].replace(999, pd.NA)\n",
    "    pop_df['n_hospital_survival'] = [len(df[(df['Place discharge'] == 1) | (df['Place discharge'] == 2) | (df['Place discharge'] == 3) | (df['Place discharge'] == 4)])]\n",
    "    pop_df['prop_hospital_survival'] = [pop_df['n_hospital_survival'].values[0] / n_patients]\n",
    "    str_df['hospital_survival'] = f'{pop_df[\"n_hospital_survival\"].values[0]} ({pop_df[\"prop_hospital_survival\"].values[0]:.1%})'\n",
    "\n",
    "    # 1 y survival\n",
    "    df['1y survival'] = df['1y survival'].replace(999, pd.NA)\n",
    "    pop_df['n_1y_survival'] = [len(df[df['1y survival'] == 1])]\n",
    "    pop_df['prop_1y_survival'] = [pop_df['n_1y_survival'].values[0] / n_patients]\n",
    "    str_df['1y_survival'] = f'{pop_df[\"n_1y_survival\"].values[0]} ({pop_df[\"prop_1y_survival\"].values[0]:.1%})'\n",
    "\n",
    "    return pop_df.T, str_df.T"
   ]
  },
  {
   "cell_type": "code",
   "execution_count": null,
   "id": "0d22a517",
   "metadata": {},
   "outputs": [],
   "source": [
    "pop_df, str_df = create_table3(df)\n",
    "str_df"
   ]
  },
  {
   "cell_type": "code",
   "execution_count": null,
   "id": "d62cd593",
   "metadata": {},
   "outputs": [],
   "source": [
    "# str_df.to_csv('/Users/jk1/Library/CloudStorage/OneDrive-unige.ch/icu_research/prehospital/pediatric_trauma/data/table3.csv')"
   ]
  },
  {
   "cell_type": "code",
   "execution_count": null,
   "id": "6aea8f21",
   "metadata": {},
   "outputs": [],
   "source": []
  }
 ],
 "metadata": {
  "kernelspec": {
   "display_name": "prehosp",
   "language": "python",
   "name": "python3"
  },
  "language_info": {
   "codemirror_mode": {
    "name": "ipython",
    "version": 3
   },
   "file_extension": ".py",
   "mimetype": "text/x-python",
   "name": "python",
   "nbconvert_exporter": "python",
   "pygments_lexer": "ipython3",
   "version": "3.11.9"
  }
 },
 "nbformat": 4,
 "nbformat_minor": 5
}
