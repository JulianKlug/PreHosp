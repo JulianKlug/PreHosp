{
 "cells": [
  {
   "cell_type": "markdown",
   "id": "2c0b5b2c",
   "metadata": {},
   "source": [
    "# Table 1. Baseline characteristics of patients\n",
    "- AGE\n",
    "- SEX\n",
    "- Bodyweight (KG)\n",
    "-  Time of alarm (Day vs. night)\n",
    "- MECHANISM\n",
    "- NACA\n",
    "- Main Diagnosis out-of-hospital (Spalte L)\n",
    "- In-hospital\n",
    "- Main Diagnosis In-hospital (M)\n",
    "- ISS\n"
   ]
  },
  {
   "cell_type": "code",
   "execution_count": null,
   "id": "98e37e8a",
   "metadata": {},
   "outputs": [],
   "source": [
    "import pandas as pd"
   ]
  },
  {
   "cell_type": "code",
   "execution_count": null,
   "id": "9c2ef41a",
   "metadata": {},
   "outputs": [],
   "source": [
    "data_path = '/Users/jk1/Library/CloudStorage/OneDrive-unige.ch/icu_research/prehospital/pediatric_trauma/data/Data_PedRegaTrauma_coded_for_analysis_250417.xlsx'"
   ]
  },
  {
   "cell_type": "code",
   "execution_count": null,
   "id": "61f440ac",
   "metadata": {},
   "outputs": [],
   "source": [
    "data_df = pd.read_excel(data_path, sheet_name='All centres cleaned')"
   ]
  },
  {
   "cell_type": "code",
   "execution_count": null,
   "id": "373c6335",
   "metadata": {},
   "outputs": [],
   "source": [
    "data_df.head()"
   ]
  },
  {
   "cell_type": "code",
   "execution_count": null,
   "id": "09069f98",
   "metadata": {},
   "outputs": [],
   "source": []
  },
  {
   "cell_type": "code",
   "execution_count": null,
   "id": "b707a91b",
   "metadata": {},
   "outputs": [],
   "source": [
    "\n",
    "def get_multi_label_counts(data_df, multi_label_column):\n",
    "    data_df[multi_label_column] = data_df[multi_label_column].replace(999, pd.NA)\n",
    "    label_counter = {}\n",
    "    # iterate through the rows\n",
    "    for index, row in data_df.iterrows():\n",
    "        # split by comma then strip spaces\n",
    "        labels = [label.strip() for label in str(row[multi_label_column]).split(',')]\n",
    "        # if label not in the dict, add it\n",
    "        for label in labels:\n",
    "            if label == 'nan' or label == '<NA>':\n",
    "                continue\n",
    "            if label not in label_counter:\n",
    "                label_counter[label] = 1\n",
    "            else:\n",
    "                label_counter[label] += 1\n",
    "\n",
    "    # sort the dictionary by value\n",
    "    sorted_label_counter = dict(sorted(label_counter.items(), key=lambda item: item[1], reverse=True))\n",
    "    return sorted_label_counter\n",
    "    "
   ]
  },
  {
   "cell_type": "code",
   "execution_count": null,
   "id": "64913264",
   "metadata": {},
   "outputs": [],
   "source": [
    "data_df['Main diagnosis in-hospital'].unique()"
   ]
  },
  {
   "cell_type": "code",
   "execution_count": null,
   "id": "8ff0db96",
   "metadata": {},
   "outputs": [],
   "source": [
    "((pd.to_datetime(data_df['Date of accident']) - pd.to_datetime(data_df['Date of Birth']))/pd.Timedelta(days=365.25)).median()"
   ]
  },
  {
   "cell_type": "code",
   "execution_count": null,
   "id": "3eb9116e",
   "metadata": {},
   "outputs": [],
   "source": [
    "def create_table1(df):\n",
    "    \n",
    "    assert data_df[\"Pat ID\"].nunique() == len(data_df), \"There are duplicate patient IDs in the dataset.\" \n",
    "\n",
    "    pop_df = pd.DataFrame()\n",
    "    str_df = pd.DataFrame()\n",
    "\n",
    "    # get the number of patients\n",
    "    n_patients = len(data_df)\n",
    "    pop_df['n_patients'] = [n_patients]\n",
    "    str_df['n_patients'] = [n_patients]\n",
    "\n",
    "    data_df.age = (pd.to_datetime(data_df['Date of accident']) - pd.to_datetime(data_df['Date of Birth']))/pd.Timedelta(days=365.25)\n",
    "\n",
    "    pop_df['age_median'] = [data_df.age.median()]\n",
    "    pop_df['age_q1'] = [data_df.age.quantile(0.25)]\n",
    "    pop_df['age_q3'] = [data_df.age.quantile(0.75)]\n",
    "    str_df['age_str'] = f'{pop_df.age_median.values[0]:.1f} [{pop_df.age_q1.values[0]:.1f} - {pop_df.age_q3.values[0]:.1f}]'\n",
    "\n",
    "    pop_df['sex_m'] = [data_df.Sex.value_counts().get('2', 0)]\n",
    "    str_df['sex_string'] = [f'{data_df.Sex.value_counts().get(2, 0)} ({data_df.Sex.value_counts(normalize=True).get(2, 0)*100:.1f}%)']\n",
    "\n",
    "    # set n/a to nan\n",
    "    df['Bodyweight (kg)'] = df['Bodyweight (kg)'].replace('n/a', pd.NA)\n",
    "    # replace ',' with '.' \n",
    "    df['Bodyweight (kg)'] = df['Bodyweight (kg)'].astype(str).str.replace(',', '.')\n",
    "    df['Bodyweight (kg)'] = pd.to_numeric(df['Bodyweight (kg)'], errors='coerce')\n",
    "\n",
    "    pop_df['weight_median'] = [data_df['Bodyweight (kg)'].median()]\n",
    "    pop_df['weight_q1'] = [data_df['Bodyweight (kg)'].quantile(0.25)]\n",
    "    pop_df['weight_q3'] = [data_df['Bodyweight (kg)'].quantile(0.75)]\n",
    "    str_df['weight_str'] = f'{pop_df.weight_median.values[0]:.1f} [{pop_df.weight_q1.values[0]:.1f} - {pop_df.weight_q3.values[0]:.1f}]'\n",
    "\n",
    "    # replace 999 with nan\n",
    "    df['Time of alarm (day/night)'] = df['Time of alarm (day/night)'].replace(999, pd.NA)\n",
    "    pop_df['night_mission'] = [data_df['Time of alarm (day/night)'].value_counts().get('2', 0)]\n",
    "    str_df['night_mission_str'] = [f'{data_df[\"Time of alarm (day/night)\"].value_counts().get(2, 0)} ({data_df[\"Time of alarm (day/night)\"].value_counts(normalize=True).get(2, 0)*100:.1f}%)']\n",
    "    \n",
    "    # Encoding of the mechanism of injury\n",
    "    # Trafic accident\t1\n",
    "    # Fall (from hights)\t2\n",
    "    # Burning/scalding\t3\n",
    "    # battled child\t4\n",
    "    # Kollision mit Beteiligung anderer Menschen\t5\n",
    "    # Skisturz/ Hochrasantstrauma/ Kollision mit Gegenstände\t6\n",
    "    # Stolpersturz/ Sturz aus Körperhöhe\t7\n",
    "    # other traumatic impact\t8\n",
    "\n",
    "    data_df['Mechanism of injury'] = data_df['Mechanism of injury'].replace('1,6', 1)\n",
    "    # assert that all values are in the range 1-8\n",
    "    assert data_df['Mechanism of injury'].isin([1, 2, 3, 4, 5, 6, 7, 8]).all(), \"There are values in the Mechanism of injury column that are not in the range 1-8\"\n",
    "    pop_df['mechanism_traffic'] = [data_df['Mechanism of injury'].value_counts().get(1, 0)]\n",
    "    str_df['mechanism_traffic_str'] = [f'{data_df[\"Mechanism of injury\"].value_counts().get(1, 0)} ({data_df[\"Mechanism of injury\"].value_counts(normalize=True).get(1, 0)*100:.1f}%)']\n",
    "    pop_df['mechanism_fall'] = [data_df['Mechanism of injury'].value_counts().get(2, 0)]\n",
    "    str_df['mechanism_fall_str'] = [f'{data_df[\"Mechanism of injury\"].value_counts().get(2, 0)} ({data_df[\"Mechanism of injury\"].value_counts(normalize=True).get(2, 0)*100:.1f}%)']\n",
    "    pop_df['mechanism_burn'] = [data_df['Mechanism of injury'].value_counts().get(3, 0)]\n",
    "    str_df['mechanism_burn_str'] = [f'{data_df[\"Mechanism of injury\"].value_counts().get(3, 0)} ({data_df[\"Mechanism of injury\"].value_counts(normalize=True).get(3, 0)*100:.1f}%)']\n",
    "    pop_df['mechanism_battered'] = [data_df['Mechanism of injury'].value_counts().get(4, 0)]\n",
    "    str_df['mechanism_battered_str'] = [f'{data_df[\"Mechanism of injury\"].value_counts().get(4, 0)} ({data_df[\"Mechanism of injury\"].value_counts(normalize=True).get(4, 0)*100:.1f}%)']\n",
    "    pop_df['mechanism_collision'] = [data_df['Mechanism of injury'].value_counts().get(5, 0)]\n",
    "    str_df['mechanism_collision_str'] = [f'{data_df[\"Mechanism of injury\"].value_counts().get(5, 0)} ({data_df[\"Mechanism of injury\"].value_counts(normalize=True).get(5, 0)*100:.1f}%)']\n",
    "    pop_df['mechanism_other_high_velocity'] = [data_df['Mechanism of injury'].value_counts().get(6, 0)]\n",
    "    str_df['mechanism_other_high_velocity_str'] = [f'{data_df[\"Mechanism of injury\"].value_counts().get(6, 0)} ({data_df[\"Mechanism of injury\"].value_counts(normalize=True).get(6, 0)*100:.1f}%)']\n",
    "    pop_df['mechanism_fall_from_own_height'] = [data_df['Mechanism of injury'].value_counts().get(7, 0)]\n",
    "    str_df['mechanism_fall_from_own_height_str'] = [f'{data_df[\"Mechanism of injury\"].value_counts().get(7, 0)} ({data_df[\"Mechanism of injury\"].value_counts(normalize=True).get(7, 0)*100:.1f}%)']\n",
    "    pop_df['mechanism_other_trauma'] = [data_df['Mechanism of injury'].value_counts().get(8, 0)]\n",
    "    str_df['mechanism_other_trauma_str'] = [f'{data_df[\"Mechanism of injury\"].value_counts().get(8, 0)} ({data_df[\"Mechanism of injury\"].value_counts(normalize=True).get(8, 0)*100:.1f}%)']\n",
    "\n",
    "    pop_df['naca_median'] = [data_df['NACA'].median()]\n",
    "    pop_df['naca_q1'] = [data_df['NACA'].quantile(0.25)]\n",
    "    pop_df['naca_q3'] = [data_df['NACA'].quantile(0.75)]\n",
    "    str_df['naca_str'] = f'{pop_df.naca_median.values[0]:.1f} [{pop_df.naca_q1.values[0]:.1f} - {pop_df.naca_q3.values[0]:.1f}]'\n",
    "\n",
    "    # multi-diagnosis counts\n",
    "    data_df['Main diagnosis pre-hospital'] = data_df['Main diagnosis pre-hospital'].replace('<NA>', pd.NA)\n",
    "    data_df['Main diagnosis pre-hospital'] = data_df['Main diagnosis pre-hospital'].replace('Vd. a. Asphiktische REA', 10)\n",
    "    data_df['Main diagnosis pre-hospital'] = data_df['Main diagnosis pre-hospital'].replace('1. CO Intoxikation durch Rauchgasvergiftung (Kachelofen)\\n   - CO 20%\\n   - Schwindel, Unwohlsein, fragliche krampfartigen Äquivalente', 11)\n",
    "    data_df['Main diagnosis pre-hospital'] = data_df['Main diagnosis pre-hospital'].replace('1. CO INtoxikation durch Rauchgasvergiftung (Kachelofen) mit\\n   - Krampfäquivalent, Schwindel, Übelkeit\\n   - CO 22%', 11)\n",
    "    multi_label_column = 'Main diagnosis pre-hospital'\n",
    "    pre_hosp_diagnosis_counts = get_multi_label_counts(data_df, multi_label_column)\n",
    "\n",
    "    # Traumatic brain injury, HWS\t1\n",
    "    # Chest trauma\t2\n",
    "    # Abdominal trauma\t3\n",
    "    # Pelvic Trauma/ LWS\t4\n",
    "    # Upper extremity trauma\t5\n",
    "    # Lower extremity trauma\t6\n",
    "    # Spine injury\t7\n",
    "    # Face\t8\n",
    "    # Polytrauma\t9\n",
    "    # Ertrinken\t10\n",
    "    # Ganzkörperverbrennung\t11\n",
    "\n",
    "    pre_hosp_dx_df = pd.DataFrame()\n",
    "    in_hosp_dx_df = pd.DataFrame()\n",
    "    # replace every label number with the corresponding label in sorted_label_counter\n",
    "    pre_hosp_dx_df['tbi_cspine_str'] = [f'{pre_hosp_diagnosis_counts.get(\"1\", 0)} ({pre_hosp_diagnosis_counts.get(\"1\", 0)/n_patients*100:.1f}%)']\n",
    "    pre_hosp_dx_df['chest_str'] = [f'{pre_hosp_diagnosis_counts.get(\"2\", 0)} ({pre_hosp_diagnosis_counts.get(\"2\", 0)/n_patients*100:.1f}%)']\n",
    "    pre_hosp_dx_df['abdomen_str'] = [f'{pre_hosp_diagnosis_counts.get(\"3\", 0)} ({pre_hosp_diagnosis_counts.get(\"3\", 0)/n_patients*100:.1f}%)']\n",
    "    pre_hosp_dx_df['pelvic_str'] = [f'{pre_hosp_diagnosis_counts.get(\"4\", 0)} ({pre_hosp_diagnosis_counts.get(\"4\", 0)/n_patients*100:.1f}%)']\n",
    "    pre_hosp_dx_df['upper_extremity_str'] = [f'{pre_hosp_diagnosis_counts.get(\"5\", 0)} ({pre_hosp_diagnosis_counts.get(\"5\", 0)/n_patients*100:.1f}%)']\n",
    "    pre_hosp_dx_df['lower_extremity_str'] = [f'{pre_hosp_diagnosis_counts.get(\"6\", 0)} ({pre_hosp_diagnosis_counts.get(\"6\", 0)/n_patients*100:.1f}%)']\n",
    "    pre_hosp_dx_df['face_str'] = [f'{pre_hosp_diagnosis_counts.get(\"8\", 0)} ({pre_hosp_diagnosis_counts.get(\"8\", 0)/n_patients*100:.1f}%)']\n",
    "    pre_hosp_dx_df['polytrauma_str'] = [f'{pre_hosp_diagnosis_counts.get(\"9\", 0)} ({pre_hosp_diagnosis_counts.get(\"9\", 0)/n_patients*100:.1f}%)']\n",
    "    pre_hosp_dx_df['drowning_and_asphyxia_str'] = [f'{pre_hosp_diagnosis_counts.get(\"10\", 0)} ({pre_hosp_diagnosis_counts.get(\"10\", 0)/n_patients*100:.1f}%)']\n",
    "    pre_hosp_dx_df['burns_and_fumes_str'] = [f'{pre_hosp_diagnosis_counts.get(\"11\", 0)} ({pre_hosp_diagnosis_counts.get(\"11\", 0)/n_patients*100:.1f}%)']\n",
    "\n",
    "    \n",
    "    data_df['Main diagnosis in-hospital'] = data_df['Main diagnosis in-hospital'].replace('Obstrukt.Atemversagen -REA', 10)\n",
    "    data_df['Main diagnosis in-hospital'] = data_df['Main diagnosis in-hospital'].replace('C2-Intoxikation', pd.NA)\n",
    "    in_hospital_diagnosis_counts = get_multi_label_counts(data_df,'Main diagnosis in-hospital')\n",
    "\n",
    "    in_hosp_dx_df['tbi_cspine_str'] = [f'{in_hospital_diagnosis_counts.get(\"1\", 0)} ({in_hospital_diagnosis_counts.get(\"1\", 0)/n_patients*100:.1f}%)']\n",
    "    in_hosp_dx_df['chest_str'] = [f'{in_hospital_diagnosis_counts.get(\"2\", 0)} ({in_hospital_diagnosis_counts.get(\"2\", 0)/n_patients*100:.1f}%)']\n",
    "    in_hosp_dx_df['abdomen_str'] = [f'{in_hospital_diagnosis_counts.get(\"3\", 0)} ({in_hospital_diagnosis_counts.get(\"3\", 0)/n_patients*100:.1f}%)']\n",
    "    in_hosp_dx_df['pelvic_str'] = [f'{in_hospital_diagnosis_counts.get(\"4\", 0)} ({in_hospital_diagnosis_counts.get(\"4\", 0)/n_patients*100:.1f}%)']\n",
    "    in_hosp_dx_df['upper_extremity_str'] = [f'{in_hospital_diagnosis_counts.get(\"5\", 0)} ({in_hospital_diagnosis_counts.get(\"5\", 0)/n_patients*100:.1f}%)']\n",
    "    in_hosp_dx_df['lower_extremity_str'] = [f'{in_hospital_diagnosis_counts.get(\"6\", 0)} ({in_hospital_diagnosis_counts.get(\"6\", 0)/n_patients*100:.1f}%)']\n",
    "    in_hosp_dx_df['face_str'] = [f'{in_hospital_diagnosis_counts.get(\"8\", 0)} ({in_hospital_diagnosis_counts.get(\"8\", 0)/n_patients*100:.1f}%)']\n",
    "    in_hosp_dx_df['polytrauma_str'] = [f'{in_hospital_diagnosis_counts.get(\"9\", 0)} ({in_hospital_diagnosis_counts.get(\"9\", 0)/n_patients*100:.1f}%)']\n",
    "    in_hosp_dx_df['drowning_and_asphyxia_str'] = [f'{in_hospital_diagnosis_counts.get(\"10\", 0)} ({in_hospital_diagnosis_counts.get(\"10\", 0)/n_patients*100:.1f}%)']\n",
    "    in_hosp_dx_df['burns_and_fumes_str'] = [f'{in_hospital_diagnosis_counts.get(\"11\", 0)} ({in_hospital_diagnosis_counts.get(\"11\", 0)/n_patients*100:.1f}%)']\n",
    "\n",
    "    # remove _str suffix from the column names in str_df, pre_hosp_dx_df and in_hosp_dx_df\n",
    "    for df in [str_df, pre_hosp_dx_df, in_hosp_dx_df]:\n",
    "        df.columns = df.columns.str.replace('_str', '', regex=False)\n",
    "\n",
    "    # create a dx_df with two columns: pre_hosp and in_hosp and a row for each diagnosis\n",
    "    dx_df = pd.merge(pre_hosp_dx_df.T, in_hosp_dx_df.T, left_index=True, right_index=True)\n",
    "    dx_df.columns = ['Pre-hospital', 'Intrahospital']\n",
    "    dx_df.index.name = 'Diagnosis'\n",
    "    return pop_df.T, str_df.T, dx_df\n",
    "\n",
    "\n"
   ]
  },
  {
   "cell_type": "code",
   "execution_count": null,
   "id": "7c8ac8dc",
   "metadata": {},
   "outputs": [],
   "source": [
    "pop_df, str_df, dx_df = create_table1(data_df)\n",
    "str_df"
   ]
  },
  {
   "cell_type": "code",
   "execution_count": null,
   "id": "031fcd31",
   "metadata": {},
   "outputs": [],
   "source": [
    "dx_df"
   ]
  },
  {
   "cell_type": "code",
   "execution_count": null,
   "id": "1db65012",
   "metadata": {},
   "outputs": [],
   "source": [
    "# plot age distribution$\n",
    "data_df.age.hist(bins=50)"
   ]
  },
  {
   "cell_type": "code",
   "execution_count": null,
   "id": "31cef982",
   "metadata": {},
   "outputs": [],
   "source": [
    "# save pop_df, str_df and dx_df to excel\n",
    "# pop_df.to_excel('/Users/jk1/Downloads/table1_pop_df.xlsx')\n",
    "# str_df.to_excel('/Users/jk1/Downloads/table1.xlsx')\n",
    "# dx_df.to_excel('/Users/jk1/Downloads/diagnoses.xlsx')"
   ]
  },
  {
   "cell_type": "code",
   "execution_count": null,
   "id": "1f98bfbc",
   "metadata": {},
   "outputs": [],
   "source": []
  }
 ],
 "metadata": {
  "kernelspec": {
   "display_name": "prehosp",
   "language": "python",
   "name": "python3"
  },
  "language_info": {
   "codemirror_mode": {
    "name": "ipython",
    "version": 3
   },
   "file_extension": ".py",
   "mimetype": "text/x-python",
   "name": "python",
   "nbconvert_exporter": "python",
   "pygments_lexer": "ipython3",
   "version": "3.11.9"
  }
 },
 "nbformat": 4,
 "nbformat_minor": 5
}
