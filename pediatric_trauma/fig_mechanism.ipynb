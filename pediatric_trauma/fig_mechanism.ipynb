{
 "cells": [
  {
   "cell_type": "code",
   "execution_count": null,
   "id": "a0ffd09b",
   "metadata": {},
   "outputs": [],
   "source": [
    "import pandas as pd\n",
    "import matplotlib.pyplot as plt\n",
    "import seaborn as sns"
   ]
  },
  {
   "cell_type": "code",
   "execution_count": null,
   "id": "324083f1",
   "metadata": {},
   "outputs": [],
   "source": [
    "data_path = '/Users/jk1/Library/CloudStorage/OneDrive-unige.ch/icu_research/prehospital/pediatric_trauma/data/Data_PedRegaTrauma_coded_for_analysis_250417.xlsx'"
   ]
  },
  {
   "cell_type": "code",
   "execution_count": null,
   "id": "5ed78d9b",
   "metadata": {},
   "outputs": [],
   "source": [
    "data_df = pd.read_excel(data_path, sheet_name='All centres cleaned')\n",
    "data_df['age'] = (pd.to_datetime(data_df['Date of accident']) - pd.to_datetime(data_df['Date of Birth']))/pd.Timedelta(days=365.25)"
   ]
  },
  {
   "cell_type": "code",
   "execution_count": null,
   "id": "3402ccc5",
   "metadata": {},
   "outputs": [],
   "source": [
    "# mechanism encoding\n",
    "# Trafic accident\t1\n",
    "# Fall (from hights)\t2\n",
    "# Burning/scalding\t3\n",
    "# battled child\t4\n",
    "# Kollision mit Beteiligung anderer Menschen\t5\n",
    "# Skisturz/ Hochrasantstrauma/ Kollision mit Gegenstände\t6\n",
    "# Stolpersturz/ Sturz aus Körperhöhe\t7\n",
    "# other traumatic impact\t8\n",
    "\n",
    "# should be grouped together:\n",
    "# collisions: 1, 5, 6\n",
    "# falls: 2, 7\n",
    "# burns: 3\n",
    "# other: 4, 8\n",
    "\n",
    "mechanism_encoding_groups_map = {\n",
    "    'collisions': [1, 5, 6],\n",
    "    'falls': [2, 7],\n",
    "    'burns': [3],\n",
    "    'other': [4, 8]\n",
    "}"
   ]
  },
  {
   "cell_type": "code",
   "execution_count": null,
   "id": "2956517d",
   "metadata": {},
   "outputs": [],
   "source": [
    "data_df['mechanism_group'] = data_df['Mechanism of injury'].map(lambda x: next((group for group, codes in mechanism_encoding_groups_map.items() if x in codes), pd.NA))"
   ]
  },
  {
   "cell_type": "code",
   "execution_count": null,
   "id": "a971fa8e",
   "metadata": {},
   "outputs": [],
   "source": [
    "data_df['Mechanism of injury'].value_counts()"
   ]
  },
  {
   "cell_type": "code",
   "execution_count": null,
   "id": "9f3942f8",
   "metadata": {},
   "outputs": [],
   "source": [
    "\n",
    "# fig, ax = plt.subplots(figsize=(10, 6))\n",
    "fig = plt.figure(figsize=(10, 6))\n",
    "g = sns.displot(data_df, x='age', hue='mechanism_group', kind='kde', fill=True, palette=['#E31837', '#0072CE', '#8B4513', '#D2691E'], alpha=0.1, height=6, aspect=1.5)\n",
    "g.ax.set_xlim(0, 18)\n"
   ]
  },
  {
   "cell_type": "code",
   "execution_count": null,
   "id": "31c3331a",
   "metadata": {},
   "outputs": [],
   "source": [
    "fig, axes = plt.subplots(2, 2, figsize=(12, 8))\n",
    "axes = axes.ravel()\n",
    "groups = data_df['mechanism_group'].unique()\n",
    "colors = ['#2E8B57', '#FF6347', '#4682B4', '#DAA520']  # Sea green, tomato, steel blue, goldenrod\n",
    "\n",
    "for i, group in enumerate(groups):\n",
    "    if i < len(axes):\n",
    "        subset = data_df[data_df['mechanism_group'] == group]['age']\n",
    "        # axes[i].hist(subset, bins=15, alpha=0.7, edgecolor='black', color=colors[i])\n",
    "        axes[i] = sns.histplot(subset, bins=15, kde=False, color=colors[i], ax=axes[i], stat='count', alpha=0.7, edgecolor='black')\n",
    "        axes[i].set_title(f'{group.capitalize()} (n={len(subset)})')\n",
    "        axes[i].set_xlabel('Age (years)')\n",
    "        axes[i].set_ylabel('Count')\n",
    "        axes[i].set_xlim(0, 18)  # Same xlim for all subplots\n",
    "        axes[i].set_xticks(range(0, 19, 2))  # Integer x-ticks\n",
    "        axes[i].yaxis.set_major_locator(plt.MaxNLocator(integer=True))  # Integer y-ticks\n",
    "        # remove top and right spines\n",
    "        axes[i].spines['top'].set_visible(False)\n",
    "        axes[i].spines['right'].set_visible(False)\n",
    "\n",
    "plt.tight_layout()\n",
    "plt.show()"
   ]
  },
  {
   "cell_type": "code",
   "execution_count": null,
   "id": "c0dba155",
   "metadata": {},
   "outputs": [],
   "source": [
    "# fig.savefig('/Users/jk1/Library/CloudStorage/OneDrive-unige.ch/icu_research/prehospital/pediatric_trauma/figures/mecchanism_age_distribution.png', dpi=600, bbox_inches='tight')"
   ]
  },
  {
   "cell_type": "code",
   "execution_count": null,
   "id": "e0cde786",
   "metadata": {},
   "outputs": [],
   "source": []
  }
 ],
 "metadata": {
  "kernelspec": {
   "display_name": "prehosp",
   "language": "python",
   "name": "python3"
  },
  "language_info": {
   "codemirror_mode": {
    "name": "ipython",
    "version": 3
   },
   "file_extension": ".py",
   "mimetype": "text/x-python",
   "name": "python",
   "nbconvert_exporter": "python",
   "pygments_lexer": "ipython3",
   "version": "3.11.9"
  }
 },
 "nbformat": 4,
 "nbformat_minor": 5
}
