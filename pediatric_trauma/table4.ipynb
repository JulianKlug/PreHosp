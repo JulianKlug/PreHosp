{
 "cells": [
  {
   "cell_type": "markdown",
   "id": "01071089",
   "metadata": {},
   "source": [
    "# Table 4. Association of measurements and treatments with outcomes in patients with on-scene survival\n",
    "-\tDiscrepancy between main diagnosis out-of-hospital and in-hospital\n",
    "-\tNACA and hospital survival\n",
    "-\tISS and Analgetics\n",
    "-\tSex and Analgetics\n",
    "-\tTracheal Intubation and Survival\n",
    "-\tNACA and i.v. access / i.o.\n",
    "-\tNACA and ISS\n",
    "-\tMECHANISM and NACA/ISS\n"
   ]
  },
  {
   "cell_type": "code",
   "execution_count": null,
   "id": "f16daaf0",
   "metadata": {},
   "outputs": [],
   "source": [
    "import pandas as pd\n",
    "from sklearn.metrics import cohen_kappa_score\n",
    "import statsmodels.api as sm\n",
    "from scipy.stats import spearmanr\n"
   ]
  },
  {
   "cell_type": "code",
   "execution_count": null,
   "id": "87e00599",
   "metadata": {},
   "outputs": [],
   "source": [
    "data_path = '/Users/jk1/Library/CloudStorage/OneDrive-unige.ch/icu_research/prehospital/pediatric_trauma/data/Data_PedRegaTrauma_coded_for_analysis_250417.xlsx'"
   ]
  },
  {
   "cell_type": "code",
   "execution_count": null,
   "id": "a850b466",
   "metadata": {},
   "outputs": [],
   "source": [
    "df = pd.read_excel(data_path, sheet_name='All centres cleaned')"
   ]
  },
  {
   "cell_type": "markdown",
   "id": "99d5c544",
   "metadata": {},
   "source": [
    "## Discrepancy between main diagnosis out-of-hospital and in-hospital\n"
   ]
  },
  {
   "cell_type": "code",
   "execution_count": null,
   "id": "02f64885",
   "metadata": {},
   "outputs": [],
   "source": [
    "# Discrepancy between main diagnosis out-of-hospital and in-hospital\n",
    "\n",
    "df['Main diagnosis pre-hospital'] = df['Main diagnosis pre-hospital'].replace('<NA>', pd.NA)\n",
    "df['Main diagnosis pre-hospital'] = df['Main diagnosis pre-hospital'].replace('Vd. a. Asphiktische REA', 10)\n",
    "df['Main diagnosis pre-hospital'] = df['Main diagnosis pre-hospital'].replace('1. CO Intoxikation durch Rauchgasvergiftung (Kachelofen)\\n   - CO 20%\\n   - Schwindel, Unwohlsein, fragliche krampfartigen Äquivalente', 11)\n",
    "df['Main diagnosis pre-hospital'] = df['Main diagnosis pre-hospital'].replace('1. CO INtoxikation durch Rauchgasvergiftung (Kachelofen) mit\\n   - Krampfäquivalent, Schwindel, Übelkeit\\n   - CO 22%', 11)\n",
    "\n",
    "df['Main diagnosis in-hospital'] = df['Main diagnosis in-hospital'].replace('Obstrukt.Atemversagen -REA', 10)\n",
    "df['Main diagnosis in-hospital'] = df['Main diagnosis in-hospital'].replace('C2-Intoxikation', pd.NA)\n",
    "\n",
    "# replace 999 with pd.NA\n",
    "df['Main diagnosis pre-hospital'] = df['Main diagnosis pre-hospital'].replace(999, pd.NA)\n",
    "df['Main diagnosis in-hospital'] = df['Main diagnosis in-hospital'].replace(999, pd.NA)\n",
    "\n",
    "dx_df = df[['Pat ID', 'Main diagnosis pre-hospital', 'Main diagnosis in-hospital']].copy()\n",
    "dx_df['to_remvove'] = False\n",
    "for i, row in dx_df.iterrows():\n",
    "    # if row ['Main diagnosis pre-hospital'] is not pd.NA and a number, skip\n",
    "    if pd.isna(row['Main diagnosis pre-hospital']) or isinstance(row['Main diagnosis pre-hospital'], (int, float)):\n",
    "        continue\n",
    "    \n",
    "    pre_list_of_diagnoses = [int(dx.strip()) for dx in row['Main diagnosis pre-hospital'].split(',')]\n",
    "    pre_list_of_possible_diagnoses = [x if x in pre_list_of_diagnoses else pd.NA for x in range(1, 10)]\n",
    "\n",
    "    intra_list_of_diagnoses = [int(dx.strip()) for dx in str(row['Main diagnosis in-hospital']).split(',')]\n",
    "    intra_list_of_possible_diagnoses = [x if x in intra_list_of_diagnoses else pd.NA for x in range(1, 10)]\n",
    "\n",
    "    for idx in range(1, 10):\n",
    "        # add a new row to the dataframe with the Pat ID and the diagnoses\n",
    "        dx_df.loc[len(dx_df)] = [row['Pat ID'], pre_list_of_possible_diagnoses[idx-1], intra_list_of_possible_diagnoses[idx-1], False]\n",
    "    # mark current row for removal\n",
    "    dx_df.at[i, 'to_remvove'] = True\n",
    "\n",
    "# remove rows marked for removal\n",
    "dx_df = dx_df[~dx_df['to_remvove']]\n",
    "dx_df['Main diagnosis in-hospital'] = dx_df['Main diagnosis in-hospital'].apply(lambda x: x.split(',')[0] if isinstance(x, str) else x)\n"
   ]
  },
  {
   "cell_type": "code",
   "execution_count": null,
   "id": "f6519e33",
   "metadata": {},
   "outputs": [],
   "source": [
    "dx_df.dropna(inplace=True)\n",
    "dx_kappa = cohen_kappa_score(dx_df['Main diagnosis pre-hospital'].values.astype(int), dx_df['Main diagnosis in-hospital'].values.astype(int))\n",
    "dx_kappa"
   ]
  },
  {
   "cell_type": "markdown",
   "id": "62445b08",
   "metadata": {},
   "source": [
    "## NACA and hospital survival"
   ]
  },
  {
   "cell_type": "code",
   "execution_count": null,
   "id": "8a6aa94e",
   "metadata": {},
   "outputs": [],
   "source": [
    "df.NACA.unique()"
   ]
  },
  {
   "cell_type": "code",
   "execution_count": null,
   "id": "98600793",
   "metadata": {},
   "outputs": [],
   "source": [
    "# logistic regression with hostpital survival as outcome and NACA as predictor\n",
    "\n",
    "# map Place discharge to hospital survival (1-4): 1 / 0: 0 / 9999: nan\n",
    "df['hospital_survival'] = df['Place discharge'].apply(lambda x: 1 if x in [1, 2, 3, 4] else (0 if x == 0 else pd.NA))\n",
    "temp_df = df[['NACA', 'hospital_survival']].copy()\n",
    "temp_df.dropna(inplace=True)\n",
    "# this excluedes naca 7 as no hospital survival data is available for it\n",
    "\n",
    "temp_df['NACA'] = temp_df['NACA'].astype(int)\n",
    "temp_df['hospital_survival'] = temp_df['hospital_survival'].astype(int)\n",
    "\n",
    "survival_logit_model = sm.Logit(temp_df['hospital_survival'], sm.add_constant(temp_df['NACA']))\n",
    "survival_logit_result = survival_logit_model.fit()\n",
    "print(survival_logit_result.summary())"
   ]
  },
  {
   "cell_type": "markdown",
   "id": "ae05763c",
   "metadata": {},
   "source": [
    "## ISS and Analgetics"
   ]
  },
  {
   "cell_type": "code",
   "execution_count": null,
   "id": "1beb7aac",
   "metadata": {},
   "outputs": [],
   "source": [
    "df['In-hospital Injury Severity Score (ISS)'].replace(999, pd.NA, inplace=True)\n",
    "df['ISS'] = df['In-hospital Injury Severity Score (ISS)'].apply(lambda x: x.split('/')[0].strip() if isinstance(x, str) else x)\n",
    "df['ISS'] = df['ISS'].apply(lambda x: int(x.split(' ')[0].strip()) if isinstance(x, str) else x)\n",
    "df['ISS'] = pd.to_numeric(df['ISS'])\n",
    "\n",
    "df['any_analgetics'] = (df['Analgetics'] != 0).astype(int)\n",
    "temp_df = df[['ISS', 'any_analgetics']].copy()\n",
    "temp_df.dropna(inplace=True)\n",
    "temp_df['ISS'] = temp_df['ISS'].astype(int)\n",
    "iss_analgetics_logit_model = sm.Logit(temp_df['any_analgetics'], sm.add_constant(temp_df['ISS']))\n",
    "iss_analgetics_logit_result = iss_analgetics_logit_model.fit()\n",
    "print(iss_analgetics_logit_result.summary())"
   ]
  },
  {
   "cell_type": "code",
   "execution_count": null,
   "id": "25c122d4",
   "metadata": {},
   "outputs": [],
   "source": [
    "# plot analgetics per iss\n",
    "import seaborn as sns\n",
    "import matplotlib.pyplot as plt\n",
    "plt.figure(figsize=(6, 10))\n",
    "sns.boxplot(x='ISS', y='Analgetics', data=df, showfliers=False)\n",
    "plt.title('Analgetics per ISS')\n",
    "plt.xlabel('In-hospital Injury Severity Score (ISS)')\n",
    "plt.ylabel('Analgetics')\n",
    "plt.xticks(rotation=45)\n",
    "plt.tight_layout()"
   ]
  },
  {
   "cell_type": "markdown",
   "id": "ae3e9e2b",
   "metadata": {},
   "source": [
    "## Sex and Analgetics"
   ]
  },
  {
   "cell_type": "code",
   "execution_count": null,
   "id": "f7363fc0",
   "metadata": {},
   "outputs": [],
   "source": [
    "temp_df = df[['any_analgetics', 'Sex']]\n",
    "temp_df.dropna(inplace=True)\n",
    "temp_df['any_analgetics'] = temp_df['any_analgetics'].astype(int)\n",
    "\n",
    "sex_analgetics_logit_model = sm.Logit(temp_df['any_analgetics'], sm.add_constant(temp_df['Sex']))\n",
    "sex_analgetics_logit_result = sex_analgetics_logit_model.fit()\n",
    "print(sex_analgetics_logit_result.summary())\n"
   ]
  },
  {
   "cell_type": "markdown",
   "id": "7dda4633",
   "metadata": {},
   "source": [
    "## Tracheal Intubation and Survival"
   ]
  },
  {
   "cell_type": "code",
   "execution_count": null,
   "id": "a3ab1673",
   "metadata": {},
   "outputs": [],
   "source": [
    "df['1y survival'].replace(999, pd.NA, inplace=True)\n",
    "temp_df = df[['Intubation (y/n)', '1y survival']].copy()\n",
    "temp_df.dropna(inplace=True)\n",
    "temp_df['Intubation (y/n)'] = temp_df['Intubation (y/n)'].astype(int)\n",
    "temp_df['1y survival'] = temp_df['1y survival'].astype(int)\n",
    "\n",
    "intubation_survival_logit_model = sm.Logit(temp_df['1y survival'], sm.add_constant(temp_df['Intubation (y/n)']))\n",
    "intubation_survival_result = intubation_survival_logit_model.fit()\n",
    "print(intubation_survival_result.summary())"
   ]
  },
  {
   "cell_type": "markdown",
   "id": "1d2a5f47",
   "metadata": {},
   "source": [
    "## NACA and i.v. access "
   ]
  },
  {
   "cell_type": "code",
   "execution_count": null,
   "id": "f511fe1d",
   "metadata": {},
   "outputs": [],
   "source": [
    "temp_df = df[['NACA', 'iv']].copy()\n",
    "temp_df.dropna(inplace=True)\n",
    "temp_df['NACA'] = temp_df['NACA'].astype(int)\n",
    "temp_df['iv'] = temp_df['iv'].astype(int)\n",
    "iv_naca_logit_model = sm.Logit(temp_df['iv'], sm.add_constant(temp_df['NACA']))\n",
    "iv_naca_result = iv_naca_logit_model.fit()\n",
    "print(iv_naca_result.summary())"
   ]
  },
  {
   "cell_type": "markdown",
   "id": "e5e10767",
   "metadata": {},
   "source": [
    "## NACA and i.o. access "
   ]
  },
  {
   "cell_type": "code",
   "execution_count": null,
   "id": "99ba2b4a",
   "metadata": {},
   "outputs": [],
   "source": [
    "df['io'] = df['io'].replace(999, pd.NA)\n",
    "temp_df = df[['io', 'NACA']].copy()\n",
    "temp_df.dropna(inplace=True)\n",
    "temp_df['io'] = temp_df['io'].astype(int)\n",
    "temp_df['NACA'] = temp_df['NACA'].astype(int)\n",
    "io_naca_logit_model = sm.Logit(temp_df['io'], sm.add_constant(temp_df['NACA']))\n",
    "io_naca_result = io_naca_logit_model.fit()\n",
    "print(io_naca_result.summary())"
   ]
  },
  {
   "cell_type": "markdown",
   "id": "a54c2b48",
   "metadata": {},
   "source": [
    "## NACA and ISS"
   ]
  },
  {
   "cell_type": "code",
   "execution_count": null,
   "id": "845bdaae",
   "metadata": {},
   "outputs": [],
   "source": [
    "temp_df = df[['NACA', 'ISS']].copy()\n",
    "temp_df.dropna(inplace=True)\n",
    "temp_df['NACA'] = temp_df['NACA'].astype(int)\n",
    "temp_df['ISS'] = temp_df['ISS'].astype(int)\n",
    "# pearson correlation between NACA and ISS\n",
    "naca_iss_corr, naca_iss_pval = spearmanr(temp_df['NACA'], temp_df['ISS'])\n",
    "print(f\"Spearman correlation between NACA and ISS: {naca_iss_corr}, p-value: {naca_iss_pval}\")"
   ]
  },
  {
   "cell_type": "code",
   "execution_count": null,
   "id": "e1597410",
   "metadata": {},
   "outputs": [],
   "source": [
    "# plot iss vs naca\n",
    "plt.figure(figsize=(10, 6))\n",
    "sns.scatterplot(x='NACA', y='ISS', data=temp_df, alpha=0.5)\n",
    "plt.title('In-hospital Injury Severity Score (ISS) vs NACA')\n",
    "plt.xlabel('NACA')\n",
    "plt.ylabel('In-hospital Injury Severity Score (ISS)')\n",
    "plt.xticks(rotation=45)\n",
    "plt.tight_layout()"
   ]
  },
  {
   "cell_type": "markdown",
   "id": "744e0615",
   "metadata": {},
   "source": [
    "## MECHANISM and ISS"
   ]
  },
  {
   "cell_type": "code",
   "execution_count": null,
   "id": "a1d3e484",
   "metadata": {},
   "outputs": [],
   "source": [
    "df['Mechanism of injury'] = df['Mechanism of injury'].replace('1,6', 1)"
   ]
  },
  {
   "cell_type": "code",
   "execution_count": null,
   "id": "8915ff4c",
   "metadata": {},
   "outputs": [],
   "source": [
    "# kruskal\n",
    "temp_df = df[['Mechanism of injury', 'ISS']].copy()\n",
    "temp_df.dropna(inplace=True)\n",
    "temp_df['Mechanism of injury'] = temp_df['Mechanism of injury'].astype(int)\n",
    "from scipy.stats import kruskal\n",
    "\n",
    "mechanism_iss_groups = [group['ISS'].values for name, group in temp_df.groupby('Mechanism of injury')]\n",
    "mechanism_iss_kruskal_result = kruskal(*mechanism_iss_groups)\n",
    "print(f\"Kruskal-Wallis test result: H-statistic = {mechanism_iss_kruskal_result.statistic}, p-value = {mechanism_iss_kruskal_result.pvalue}\")"
   ]
  },
  {
   "cell_type": "markdown",
   "id": "8b5902a4",
   "metadata": {},
   "source": [
    "## MECHANISM and NACA"
   ]
  },
  {
   "cell_type": "code",
   "execution_count": null,
   "id": "dba7de95",
   "metadata": {},
   "outputs": [],
   "source": [
    "temp_df = df[['Mechanism of injury', 'NACA']].copy()\n",
    "temp_df.dropna(inplace=True)\n",
    "temp_df['Mechanism of injury'] = temp_df['Mechanism of injury'].astype(int)\n",
    "mechanism_naca_groups = [group['NACA'].values for name, group in temp_df.groupby('Mechanism of injury')]\n",
    "mechanism_naca_kruskal_result = kruskal(*mechanism_naca_groups)\n",
    "print(f\"Kruskal-Wallis test result for NACA: H-statistic = {mechanism_naca_kruskal_result.statistic}, p-value = {mechanism_naca_kruskal_result.pvalue}\")"
   ]
  },
  {
   "cell_type": "markdown",
   "id": "0be8b080",
   "metadata": {},
   "source": [
    "## Final table"
   ]
  },
  {
   "cell_type": "code",
   "execution_count": null,
   "id": "4f72a16f",
   "metadata": {},
   "outputs": [],
   "source": [
    "str_df = pd.DataFrame({\n",
    "    'Discrepancy between main diagnosis out-of-hospital and in-hospital':[ f'Cohen\\'s kappa: {dx_kappa:.2f}'],\n",
    "    'Association between NACA and hospital survival':[f'OR: {survival_logit_result.params[\"NACA\"]:.2f}, p-value: {survival_logit_result.pvalues[\"NACA\"]:.3f}'],\n",
    "    'Association between ISS and analgetics':[f'OR: {iss_analgetics_logit_result.params[\"ISS\"]:.2f}, p-value: {iss_analgetics_logit_result.pvalues[\"ISS\"]:.3f}'],\n",
    "    'Association between sex and analgetics':[f'OR: {sex_analgetics_logit_result.params[\"Sex\"]:.2f}, p-value: {sex_analgetics_logit_result.pvalues[\"Sex\"]:.3f}'],\n",
    "    'Association between intubation and 1y survival':[f'OR: {intubation_survival_result.params[\"Intubation (y/n)\"]:.2f}, p-value: {intubation_survival_result.pvalues[\"Intubation (y/n)\"]:.3f}'],\n",
    "    'Association between NACA and IV':[f'OR: {iv_naca_result.params[\"NACA\"]:.2f}, p-value: {iv_naca_result.pvalues[\"NACA\"]:.3f}'],\n",
    "    'Association between NACA and IO':[f'OR: {io_naca_result.params[\"NACA\"]:.2f}, p-value: {io_naca_result.pvalues[\"NACA\"]:.3f}'],\n",
    "    'Correlation between NACA and ISS':[f'Spearman Correlation: {naca_iss_corr:.2f}, p-value: {naca_iss_pval:.3f}'],\n",
    "    'Association of Mechanism of Injury with ISS':[f'Kruskal-Wallis H-statistic: {mechanism_iss_kruskal_result.statistic:.2f}, p-value: {mechanism_iss_kruskal_result.pvalue:.3f}'],\n",
    "    'Association of Mechanism of Injury with NACA':[f'Kruskal-Wallis H-statistic: {mechanism_naca_kruskal_result.statistic:.2f}, p-value: {mechanism_naca_kruskal_result.pvalue:.3f}']\n",
    "})\n",
    "str_df.T"
   ]
  },
  {
   "cell_type": "code",
   "execution_count": null,
   "id": "4aa4e5b8",
   "metadata": {},
   "outputs": [],
   "source": [
    "# str_df.T.to_csv('/Users/jk1/Downloads/table4.csv', index=True)"
   ]
  },
  {
   "cell_type": "code",
   "execution_count": null,
   "id": "701e4054",
   "metadata": {},
   "outputs": [],
   "source": []
  }
 ],
 "metadata": {
  "kernelspec": {
   "display_name": "prehosp",
   "language": "python",
   "name": "python3"
  },
  "language_info": {
   "codemirror_mode": {
    "name": "ipython",
    "version": 3
   },
   "file_extension": ".py",
   "mimetype": "text/x-python",
   "name": "python",
   "nbconvert_exporter": "python",
   "pygments_lexer": "ipython3",
   "version": "3.11.9"
  }
 },
 "nbformat": 4,
 "nbformat_minor": 5
}
