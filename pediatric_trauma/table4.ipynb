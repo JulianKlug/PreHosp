{
 "cells": [
  {
   "cell_type": "markdown",
   "id": "01071089",
   "metadata": {},
   "source": [
    "# Table 4. Association of measurements and treatments with outcomes in patients with on-scene survival\n",
    "-\tDiscrepancy between main diagnosis out-of-hospital and in-hospital\n",
    "-\tNACA and hospital survival\n",
    "-\tISS and Analgetics\n",
    "-\tSex and Analgetics\n",
    "-\tTracheal Intubation and Survival\n",
    "-\tNACA and i.v. access / i.o.\n",
    "-\tNACA and ISS\n",
    "-\tMECHANISM and NACA/ISS\n"
   ]
  },
  {
   "cell_type": "code",
   "execution_count": null,
   "id": "f16daaf0",
   "metadata": {},
   "outputs": [],
   "source": [
    "import pandas as pd\n",
    "from sklearn.metrics import cohen_kappa_score\n",
    "import statsmodels.api as sm\n",
    "from scipy.stats import spearmanr\n"
   ]
  },
  {
   "cell_type": "code",
   "execution_count": null,
   "id": "87e00599",
   "metadata": {},
   "outputs": [],
   "source": [
    "data_path = '/Users/jk1/Library/CloudStorage/OneDrive-unige.ch/icu_research/prehospital/pediatric_trauma/data/Data_PedRegaTrauma_coded_for_analysis_250417.xlsx'"
   ]
  },
  {
   "cell_type": "code",
   "execution_count": null,
   "id": "a850b466",
   "metadata": {},
   "outputs": [],
   "source": [
    "df = pd.read_excel(data_path, sheet_name='All centres cleaned')"
   ]
  },
  {
   "cell_type": "markdown",
   "id": "99d5c544",
   "metadata": {},
   "source": [
    "## Discrepancy between main diagnosis out-of-hospital and in-hospital\n"
   ]
  },
  {
   "cell_type": "code",
   "execution_count": null,
   "id": "02f64885",
   "metadata": {},
   "outputs": [],
   "source": [
    "# Discrepancy between main diagnosis out-of-hospital and in-hospital\n",
    "\n",
    "df['Main diagnosis pre-hospital'] = df['Main diagnosis pre-hospital'].replace('<NA>', pd.NA)\n",
    "df['Main diagnosis pre-hospital'] = df['Main diagnosis pre-hospital'].replace('Vd. a. Asphiktische REA', 10)\n",
    "df['Main diagnosis pre-hospital'] = df['Main diagnosis pre-hospital'].replace('1. CO Intoxikation durch Rauchgasvergiftung (Kachelofen)\\n   - CO 20%\\n   - Schwindel, Unwohlsein, fragliche krampfartigen Äquivalente', 11)\n",
    "df['Main diagnosis pre-hospital'] = df['Main diagnosis pre-hospital'].replace('1. CO INtoxikation durch Rauchgasvergiftung (Kachelofen) mit\\n   - Krampfäquivalent, Schwindel, Übelkeit\\n   - CO 22%', 11)\n",
    "\n",
    "df['Main diagnosis in-hospital'] = df['Main diagnosis in-hospital'].replace('Obstrukt.Atemversagen -REA', 10)\n",
    "df['Main diagnosis in-hospital'] = df['Main diagnosis in-hospital'].replace('C2-Intoxikation', pd.NA)\n",
    "\n",
    "# replace 999 with pd.NA\n",
    "df['Main diagnosis pre-hospital'] = df['Main diagnosis pre-hospital'].replace(999, pd.NA)\n",
    "df['Main diagnosis in-hospital'] = df['Main diagnosis in-hospital'].replace(999, pd.NA)\n",
    "\n",
    "dx_df = df[['Pat ID', 'Main diagnosis pre-hospital', 'Main diagnosis in-hospital']].copy()\n",
    "dx_df['to_remvove'] = False\n",
    "for i, row in dx_df.iterrows():\n",
    "    # if row ['Main diagnosis pre-hospital'] is not pd.NA and a number, skip\n",
    "    if pd.isna(row['Main diagnosis pre-hospital']) or isinstance(row['Main diagnosis pre-hospital'], (int, float)):\n",
    "        continue\n",
    "    \n",
    "    pre_list_of_diagnoses = [int(dx.strip()) for dx in row['Main diagnosis pre-hospital'].split(',')]\n",
    "    pre_list_of_possible_diagnoses = [x if x in pre_list_of_diagnoses else pd.NA for x in range(1, 10)]\n",
    "\n",
    "    intra_list_of_diagnoses = [int(dx.strip()) for dx in str(row['Main diagnosis in-hospital']).split(',')]\n",
    "    intra_list_of_possible_diagnoses = [x if x in intra_list_of_diagnoses else pd.NA for x in range(1, 10)]\n",
    "\n",
    "    for idx in range(1, 10):\n",
    "        # add a new row to the dataframe with the Pat ID and the diagnoses\n",
    "        dx_df.loc[len(dx_df)] = [row['Pat ID'], pre_list_of_possible_diagnoses[idx-1], intra_list_of_possible_diagnoses[idx-1], False]\n",
    "    # mark current row for removal\n",
    "    dx_df.at[i, 'to_remvove'] = True\n",
    "\n",
    "# remove rows marked for removal\n",
    "dx_df = dx_df[~dx_df['to_remvove']]\n",
    "dx_df['Main diagnosis in-hospital'] = dx_df['Main diagnosis in-hospital'].apply(lambda x: x.split(',')[0] if isinstance(x, str) else x)\n"
   ]
  },
  {
   "cell_type": "code",
   "execution_count": null,
   "id": "f6519e33",
   "metadata": {},
   "outputs": [],
   "source": [
    "dx_df.dropna(inplace=True)\n",
    "dx_kappa = cohen_kappa_score(dx_df['Main diagnosis pre-hospital'].values.astype(int), dx_df['Main diagnosis in-hospital'].values.astype(int))\n",
    "dx_kappa"
   ]
  },
  {
   "cell_type": "markdown",
   "id": "62445b08",
   "metadata": {},
   "source": [
    "## NACA and hospital survival"
   ]
  },
  {
   "cell_type": "code",
   "execution_count": null,
   "id": "8a6aa94e",
   "metadata": {},
   "outputs": [],
   "source": [
    "df.NACA.unique()"
   ]
  },
  {
   "cell_type": "code",
   "execution_count": null,
   "id": "98600793",
   "metadata": {},
   "outputs": [],
   "source": [
    "# logistic regression with hostpital survival as outcome and NACA as predictor\n",
    "\n",
    "# map Place discharge to hospital survival (1-4): 1 / 0: 0 / 9999: nan\n",
    "df['hospital_survival'] = df['Place discharge'].apply(lambda x: 1 if x in [1, 2, 3, 4] else (0 if x == 0 else pd.NA))\n",
    "temp_df = df[['NACA', 'hospital_survival']].copy()\n",
    "temp_df.dropna(inplace=True)\n",
    "# this excluedes naca 7 as no hospital survival data is available for it\n",
    "\n",
    "temp_df['NACA'] = temp_df['NACA'].astype(int)\n",
    "temp_df['hospital_survival'] = temp_df['hospital_survival'].astype(int)\n",
    "\n",
    "survival_logit_model = sm.Logit(temp_df['hospital_survival'], sm.add_constant(temp_df['NACA']))\n",
    "survival_logit_result = survival_logit_model.fit()\n",
    "print(survival_logit_result.summary())"
   ]
  },
  {
   "cell_type": "markdown",
   "id": "ae05763c",
   "metadata": {},
   "source": [
    "## ISS and Analgetics"
   ]
  },
  {
   "cell_type": "code",
   "execution_count": null,
   "id": "1beb7aac",
   "metadata": {},
   "outputs": [],
   "source": [
    "# any analgetics and ISS\n",
    "\n",
    "df['In-hospital Injury Severity Score (ISS)'].replace(999, pd.NA, inplace=True)\n",
    "df['ISS'] = df['In-hospital Injury Severity Score (ISS)'].apply(lambda x: x.split('/')[0].strip() if isinstance(x, str) else x)\n",
    "df['ISS'] = df['ISS'].apply(lambda x: int(x.split(' ')[0].strip()) if isinstance(x, str) else x)\n",
    "df['ISS'] = pd.to_numeric(df['ISS'])\n",
    "\n",
    "df['any_analgetics'] = (df['Analgetics'] != 0).astype(int)\n",
    "temp_df = df[['ISS', 'any_analgetics']].copy()\n",
    "temp_df.dropna(inplace=True)\n",
    "temp_df['ISS'] = temp_df['ISS'].astype(int)\n",
    "iss_analgetics_logit_model = sm.Logit(temp_df['any_analgetics'], sm.add_constant(temp_df['ISS']))\n",
    "iss_analgetics_logit_result = iss_analgetics_logit_model.fit()\n",
    "print(iss_analgetics_logit_result.summary())"
   ]
  },
  {
   "cell_type": "code",
   "execution_count": null,
   "id": "951c4bb3",
   "metadata": {},
   "outputs": [],
   "source": [
    "# analgetics : analgetic_id: analgetic dose; analgetic_id: analgetic dose; ... (analgetic_id 1: fentanyl, 2: ketamine)\n",
    "df['fentanyl_dose'] = 0\n",
    "df['ketamine_dose'] = 0\n",
    "df['Analgetics'] = df['Analgetics'].str.replace(',', ';')  # replace commas with semicolons for consistency\n",
    "for i, row in df.iterrows():\n",
    "    if pd.isna(row['Analgetics']) or row['Analgetics'] == 0:\n",
    "        continue\n",
    "    for analgetic in row['Analgetics'].split(';'):\n",
    "        if analgetic.strip() == '':\n",
    "            continue\n",
    "        analgetic_id, dose = analgetic.split(':')\n",
    "        \n",
    "        analgetic_id = int(analgetic_id.strip())\n",
    "        # remove mcg or mg from dose\n",
    "        dose = dose.replace('mcg', '').replace('mg', '').strip()\n",
    "        dose = float(dose) if dose else 0\n",
    "        if analgetic_id == 1:\n",
    "            df.at[i, 'fentanyl_dose'] = dose\n",
    "        elif analgetic_id == 2:\n",
    "            df.at[i, 'ketamine_dose'] = dose"
   ]
  },
  {
   "cell_type": "code",
   "execution_count": null,
   "id": "ec2df8b2",
   "metadata": {},
   "outputs": [],
   "source": [
    "df['Bodyweight (kg)'] = df['Bodyweight (kg)'].astype(str).str.replace(',', '.')\n",
    "df['Bodyweight (kg)'].replace('nan', pd.NA, inplace=True)\n",
    "df['fentanyl_dose_norm'] = df['fentanyl_dose'] / pd.to_numeric(df['Bodyweight (kg)'])\n",
    "df['ketamine_dose_norm'] = df['ketamine_dose'] / pd.to_numeric(df['Bodyweight (kg)'])"
   ]
  },
  {
   "cell_type": "code",
   "execution_count": null,
   "id": "0bc230ae",
   "metadata": {},
   "outputs": [],
   "source": [
    "# ISS as predictor for fentanyl/ketamine administration\n",
    "temp_df = df[['ISS', 'fentanyl_dose', 'ketamine_dose']].copy()\n",
    "temp_df['fentanyl_binary'] = (temp_df['fentanyl_dose'] > 0).astype(int)\n",
    "temp_df['ketamine_binary'] = (temp_df['ketamine_dose'] > 0).astype(int)\n",
    "temp_df.dropna(inplace=True)\n",
    "temp_df['ISS'] = temp_df['ISS'].astype(int)\n",
    "fentanyl_iss_logit_model = sm.Logit(temp_df['fentanyl_binary'], sm.add_constant(temp_df['ISS']))\n",
    "fentanyl_iss_logit_result = fentanyl_iss_logit_model.fit()\n",
    "print(fentanyl_iss_logit_result.summary())\n",
    "ketamine_iss_logit_model = sm.Logit(temp_df['ketamine_binary'], sm.add_constant(temp_df['ISS']))\n",
    "ketamine_iss_logit_result = ketamine_iss_logit_model.fit()\n",
    "print(ketamine_iss_logit_result.summary())"
   ]
  },
  {
   "cell_type": "code",
   "execution_count": null,
   "id": "e43317d0",
   "metadata": {},
   "outputs": [],
   "source": [
    "# associate fentanyl and ketamine doses with ISS\n",
    "temp_df = df[['ISS', 'fentanyl_dose_norm', 'ketamine_dose_norm']].copy()\n",
    "temp_df.dropna(inplace=True)\n",
    "temp_df['ISS'] = temp_df['ISS'].astype(int)\n",
    "fentanyl_iss_model = sm.OLS(temp_df['fentanyl_dose_norm'], sm.add_constant(temp_df['ISS']))\n",
    "fentanyl_iss_result = fentanyl_iss_model.fit()\n",
    "print(fentanyl_iss_result.summary())\n",
    "ketamine_iss_model = sm.OLS(temp_df['ketamine_dose_norm'], sm.add_constant(temp_df['ISS']))\n",
    "ketamine_iss_result = ketamine_iss_model.fit()\n",
    "print(ketamine_iss_result.summary())"
   ]
  },
  {
   "cell_type": "code",
   "execution_count": null,
   "id": "25c122d4",
   "metadata": {},
   "outputs": [],
   "source": [
    "# plot fentanyl and ketamine doses against ISS\n",
    "import seaborn as sns\n",
    "import matplotlib.pyplot as plt\n",
    "sns.set(style=\"whitegrid\")\n",
    "plt.figure(figsize=(12, 6))\n",
    "# sns.scatterplot(data=df, x='ISS', y='fentanyl_dose_norm', label='Fentanyl Dose', color='blue')\n",
    "# sns.scatterplot(data=df, x='ISS', y='ketamine_dose_norm', label='Ketamine Dose', color='orange')\n",
    "\n",
    "sns.regplot(data=df, x='ISS', y='fentanyl_dose_norm', scatter=True, color='blue', label='Fentanyl Regression Line')\n",
    "sns.regplot(data=df, x='ISS', y='ketamine_dose_norm', scatter=True, color='orange', label='Ketamine Regression Line')\n",
    "\n",
    "plt.title('Fentanyl and Ketamine Doses vs ISS')\n",
    "plt.xlabel('In-hospital Injury Severity Score (ISS)')\n",
    "plt.ylabel('Analgetic Dose (mcg or mg) per kg)')\n",
    "plt.legend()\n",
    "plt.show()"
   ]
  },
  {
   "cell_type": "code",
   "execution_count": null,
   "id": "7daf042c",
   "metadata": {},
   "outputs": [],
   "source": [
    "# make 2 plots depending on intubation status - df['Intubation (y/n)']\n",
    "ax = sns.FacetGrid(df, col='Intubation (y/n)', height=6, aspect=1.2)\n",
    "ax.map(sns.regplot, 'ISS', 'fentanyl_dose_norm', scatter=True, color='blue', label='Fentanyl Regression Line', scatter_kws={'alpha':0.3})\n",
    "ax.map(sns.regplot, 'ISS', 'ketamine_dose_norm', scatter=True, color='orange', label='Ketamine Regression Line', scatter_kws={'alpha':0.3})\n",
    "ax.set_axis_labels('In-hospital Injury Severity Score (ISS)', 'Analgetic Dose (mcg or mg) per kg)')\n",
    "ax.set_titles(col_template='Intubation Status: {col_name}')\n",
    "ax.add_legend()\n",
    "plt.subplots_adjust(top=0.85)\n",
    "ax.fig.suptitle('Fentanyl and Ketamine Doses vs ISS by Intubation Status', fontsize=16)\n",
    "plt.show()"
   ]
  },
  {
   "cell_type": "code",
   "execution_count": null,
   "id": "bf15e5ff",
   "metadata": {},
   "outputs": [],
   "source": [
    "# association of fentanyl and ketamine doses with ISS in intubated and non-intubated patients\n",
    "intubated_df = df[df['Intubation (y/n)'] == 1]\n",
    "non_intubated_df = df[df['Intubation (y/n)'] == 0]\n",
    "\n",
    "print(f\"Intubated patients: {len(intubated_df)}\")\n",
    "intubated_temp_df = intubated_df[['ISS', 'fentanyl_dose_norm', 'ketamine_dose_norm']].copy()\n",
    "intubated_temp_df.dropna(inplace=True)\n",
    "intubated_temp_df['ISS'] = intubated_temp_df['ISS'].astype(int)\n",
    "fentanyl_intubated_model = sm.OLS(intubated_temp_df['fentanyl_dose_norm'], sm.add_constant(intubated_temp_df['ISS']))\n",
    "fentanyl_intubated_result = fentanyl_intubated_model.fit()\n",
    "print(fentanyl_intubated_result.summary())\n",
    "ketamine_intubated_model = sm.OLS(intubated_temp_df['ketamine_dose_norm'], sm.add_constant(intubated_temp_df['ISS']))\n",
    "ketamine_intubated_result = ketamine_intubated_model.fit()\n",
    "print(ketamine_intubated_result.summary())\n",
    "\n",
    "print(f\"Non-intubated patients: {len(non_intubated_df)}\")\n",
    "non_intubated_temp_df = non_intubated_df[['ISS', 'fentanyl_dose_norm', 'ketamine_dose_norm']].copy()\n",
    "non_intubated_temp_df.dropna(inplace=True)\n",
    "non_intubated_temp_df['ISS'] = non_intubated_temp_df['ISS'].astype(int)\n",
    "fentanyl_non_intubated_model = sm.OLS(non_intubated_temp_df['fentanyl_dose_norm'], sm.add_constant(non_intubated_temp_df['ISS']))\n",
    "fentanyl_non_intubated_result = fentanyl_non_intubated_model.fit()\n",
    "print(fentanyl_non_intubated_result.summary())\n",
    "ketamine_non_intubated_model = sm.OLS(non_intubated_temp_df['ketamine_dose_norm'], sm.add_constant(non_intubated_temp_df['ISS']))\n",
    "ketamine_non_intubated_result = ketamine_non_intubated_model.fit()\n",
    "print(ketamine_non_intubated_result.summary())\n",
    "\n"
   ]
  },
  {
   "cell_type": "code",
   "execution_count": null,
   "id": "39d038c3",
   "metadata": {},
   "outputs": [],
   "source": [
    "# ISS as predictor for fentanyl/ketamine administration in intubated and non-intubated patients\n",
    "intubated_temp_df['fentanyl_binary'] = (intubated_temp_df['fentanyl_dose_norm'] > 0).astype(int)\n",
    "intubated_temp_df['ketamine_binary'] = (intubated_temp_df['ketamine_dose_norm'] > 0).astype(int)\n",
    "intubated_temp_df.dropna(inplace=True)\n",
    "intubated_temp_df['ISS'] = intubated_temp_df['ISS'].astype(int)\n",
    "\n",
    "print(\"Intubated patients logistic regression:\")\n",
    "fentanyl_intubated_iss_logit_model = sm.Logit(intubated_temp_df['fentanyl_binary'], sm.add_constant(intubated_temp_df['ISS']))\n",
    "fentanyl_intubated_iss_logit_result = fentanyl_intubated_iss_logit_model.fit()\n",
    "print(fentanyl_intubated_iss_logit_result.summary())\n",
    "ketamine_intubated_iss_logit_model = sm.Logit(intubated_temp_df['ketamine_binary'], sm.add_constant(intubated_temp_df['ISS']))\n",
    "ketamine_intubated_iss_logit_result = ketamine_intubated_iss_logit_model.fit()\n",
    "print(ketamine_intubated_iss_logit_result.summary())\n",
    "\n",
    "print(\"Non-intubated patients logistic regression:\")\n",
    "non_intubated_temp_df['fentanyl_binary'] = (non_intubated_temp_df['fentanyl_dose_norm'] > 0).astype(int)\n",
    "non_intubated_temp_df['ketamine_binary'] = (non_intubated_temp_df['ketamine_dose_norm'] > 0).astype(int)\n",
    "non_intubated_temp_df.dropna(inplace=True)\n",
    "non_intubated_temp_df['ISS'] = non_intubated_temp_df['ISS'].astype(int)\n",
    "fentanyl_non_intubated_iss_logit_model = sm.Logit(non_intubated_temp_df['fentanyl_binary'], sm.add_constant(non_intubated_temp_df['ISS']))\n",
    "fentanyl_non_intubated_iss_logit_result = fentanyl_non_intubated_iss_logit_model.fit()\n",
    "print(fentanyl_non_intubated_iss_logit_result.summary())\n",
    "ketamine_non_intubated_iss_logit_model = sm.Logit(non_intubated_temp_df['ketamine_binary'], sm.add_constant(non_intubated_temp_df['ISS']))\n",
    "ketamine_non_intubated_iss_logit_result = ketamine_non_intubated_iss_logit_model.fit()\n",
    "print(ketamine_non_intubated_iss_logit_result.summary())"
   ]
  },
  {
   "cell_type": "markdown",
   "id": "ae3e9e2b",
   "metadata": {},
   "source": [
    "## Sex and Analgetics"
   ]
  },
  {
   "cell_type": "code",
   "execution_count": null,
   "id": "b9e8f88b",
   "metadata": {},
   "outputs": [],
   "source": []
  },
  {
   "cell_type": "code",
   "execution_count": null,
   "id": "f7363fc0",
   "metadata": {},
   "outputs": [],
   "source": [
    "temp_df = df[['any_analgetics', 'Sex']]\n",
    "temp_df.dropna(inplace=True)\n",
    "temp_df['any_analgetics'] = temp_df['any_analgetics'].astype(int)\n",
    "\n",
    "sex_analgetics_logit_model = sm.Logit(temp_df['any_analgetics'], sm.add_constant(temp_df['Sex']))\n",
    "sex_analgetics_logit_result = sex_analgetics_logit_model.fit()\n",
    "print(sex_analgetics_logit_result.summary())\n"
   ]
  },
  {
   "cell_type": "markdown",
   "id": "7dda4633",
   "metadata": {},
   "source": [
    "## Tracheal Intubation and Survival"
   ]
  },
  {
   "cell_type": "code",
   "execution_count": null,
   "id": "a3ab1673",
   "metadata": {},
   "outputs": [],
   "source": [
    "df['1y survival'].replace(999, pd.NA, inplace=True)\n",
    "temp_df = df[['Intubation (y/n)', '1y survival']].copy()\n",
    "temp_df.dropna(inplace=True)\n",
    "temp_df['Intubation (y/n)'] = temp_df['Intubation (y/n)'].astype(int)\n",
    "temp_df['1y survival'] = temp_df['1y survival'].astype(int)\n",
    "\n",
    "intubation_survival_logit_model = sm.Logit(temp_df['1y survival'], sm.add_constant(temp_df['Intubation (y/n)']))\n",
    "intubation_survival_result = intubation_survival_logit_model.fit()\n",
    "print(intubation_survival_result.summary())"
   ]
  },
  {
   "cell_type": "markdown",
   "id": "1d2a5f47",
   "metadata": {},
   "source": [
    "## NACA and i.v. access "
   ]
  },
  {
   "cell_type": "code",
   "execution_count": null,
   "id": "f511fe1d",
   "metadata": {},
   "outputs": [],
   "source": [
    "temp_df = df[['NACA', 'iv']].copy()\n",
    "temp_df.dropna(inplace=True)\n",
    "temp_df['NACA'] = temp_df['NACA'].astype(int)\n",
    "temp_df['iv'] = temp_df['iv'].astype(int)\n",
    "iv_naca_logit_model = sm.Logit(temp_df['iv'], sm.add_constant(temp_df['NACA']))\n",
    "iv_naca_result = iv_naca_logit_model.fit()\n",
    "print(iv_naca_result.summary())"
   ]
  },
  {
   "cell_type": "markdown",
   "id": "e5e10767",
   "metadata": {},
   "source": [
    "## NACA and i.o. access "
   ]
  },
  {
   "cell_type": "code",
   "execution_count": null,
   "id": "99ba2b4a",
   "metadata": {},
   "outputs": [],
   "source": [
    "df['io'] = df['io'].replace(999, pd.NA)\n",
    "temp_df = df[['io', 'NACA']].copy()\n",
    "temp_df.dropna(inplace=True)\n",
    "temp_df['io'] = temp_df['io'].astype(int)\n",
    "temp_df['NACA'] = temp_df['NACA'].astype(int)\n",
    "io_naca_logit_model = sm.Logit(temp_df['io'], sm.add_constant(temp_df['NACA']))\n",
    "io_naca_result = io_naca_logit_model.fit()\n",
    "print(io_naca_result.summary())"
   ]
  },
  {
   "cell_type": "markdown",
   "id": "a54c2b48",
   "metadata": {},
   "source": [
    "## NACA and ISS"
   ]
  },
  {
   "cell_type": "code",
   "execution_count": null,
   "id": "845bdaae",
   "metadata": {},
   "outputs": [],
   "source": [
    "temp_df = df[['NACA', 'ISS']].copy()\n",
    "temp_df.dropna(inplace=True)\n",
    "temp_df['NACA'] = temp_df['NACA'].astype(int)\n",
    "temp_df['ISS'] = temp_df['ISS'].astype(int)\n",
    "# pearson correlation between NACA and ISS\n",
    "naca_iss_corr, naca_iss_pval = spearmanr(temp_df['NACA'], temp_df['ISS'])\n",
    "print(f\"Spearman correlation between NACA and ISS: {naca_iss_corr}, p-value: {naca_iss_pval}\")"
   ]
  },
  {
   "cell_type": "code",
   "execution_count": null,
   "id": "e1597410",
   "metadata": {},
   "outputs": [],
   "source": [
    "# plot iss vs naca\n",
    "plt.figure(figsize=(10, 6))\n",
    "sns.scatterplot(x='NACA', y='ISS', data=temp_df, alpha=0.5)\n",
    "plt.title('In-hospital Injury Severity Score (ISS) vs NACA')\n",
    "plt.xlabel('NACA')\n",
    "plt.ylabel('In-hospital Injury Severity Score (ISS)')\n",
    "plt.xticks(rotation=45)\n",
    "plt.tight_layout()"
   ]
  },
  {
   "cell_type": "markdown",
   "id": "744e0615",
   "metadata": {},
   "source": [
    "## MECHANISM and ISS"
   ]
  },
  {
   "cell_type": "code",
   "execution_count": null,
   "id": "a1d3e484",
   "metadata": {},
   "outputs": [],
   "source": [
    "df['Mechanism of injury'] = df['Mechanism of injury'].replace('1,6', 1)"
   ]
  },
  {
   "cell_type": "code",
   "execution_count": null,
   "id": "8915ff4c",
   "metadata": {},
   "outputs": [],
   "source": [
    "# kruskal\n",
    "temp_df = df[['Mechanism of injury', 'ISS']].copy()\n",
    "temp_df.dropna(inplace=True)\n",
    "temp_df['Mechanism of injury'] = temp_df['Mechanism of injury'].astype(int)\n",
    "from scipy.stats import kruskal\n",
    "\n",
    "mechanism_iss_groups = [group['ISS'].values for name, group in temp_df.groupby('Mechanism of injury')]\n",
    "mechanism_iss_kruskal_result = kruskal(*mechanism_iss_groups)\n",
    "print(f\"Kruskal-Wallis test result: H-statistic = {mechanism_iss_kruskal_result.statistic}, p-value = {mechanism_iss_kruskal_result.pvalue}\")"
   ]
  },
  {
   "cell_type": "markdown",
   "id": "8b5902a4",
   "metadata": {},
   "source": [
    "## MECHANISM and NACA"
   ]
  },
  {
   "cell_type": "code",
   "execution_count": null,
   "id": "dba7de95",
   "metadata": {},
   "outputs": [],
   "source": [
    "temp_df = df[['Mechanism of injury', 'NACA']].copy()\n",
    "temp_df.dropna(inplace=True)\n",
    "temp_df['Mechanism of injury'] = temp_df['Mechanism of injury'].astype(int)\n",
    "mechanism_naca_groups = [group['NACA'].values for name, group in temp_df.groupby('Mechanism of injury')]\n",
    "mechanism_naca_kruskal_result = kruskal(*mechanism_naca_groups)\n",
    "print(f\"Kruskal-Wallis test result for NACA: H-statistic = {mechanism_naca_kruskal_result.statistic}, p-value = {mechanism_naca_kruskal_result.pvalue}\")"
   ]
  },
  {
   "cell_type": "markdown",
   "id": "0be8b080",
   "metadata": {},
   "source": [
    "## Final table"
   ]
  },
  {
   "cell_type": "code",
   "execution_count": null,
   "id": "4f72a16f",
   "metadata": {},
   "outputs": [],
   "source": [
    "str_df = pd.DataFrame({\n",
    "    'Discrepancy between main diagnosis out-of-hospital and in-hospital':[ f'Cohen\\'s kappa: {dx_kappa:.2f}'],\n",
    "    'Association between NACA and hospital survival':[f'OR: {survival_logit_result.params[\"NACA\"]:.2f}, p-value: {survival_logit_result.pvalues[\"NACA\"]:.3f}'],\n",
    "    'Association between ISS and analgetics':[f'OR: {iss_analgetics_logit_result.params[\"ISS\"]:.2f}, p-value: {iss_analgetics_logit_result.pvalues[\"ISS\"]:.3f}'],\n",
    "    'Association between sex and analgetics':[f'OR: {sex_analgetics_logit_result.params[\"Sex\"]:.2f}, p-value: {sex_analgetics_logit_result.pvalues[\"Sex\"]:.3f}'],\n",
    "    'Association between intubation and 1y survival':[f'OR: {intubation_survival_result.params[\"Intubation (y/n)\"]:.2f}, p-value: {intubation_survival_result.pvalues[\"Intubation (y/n)\"]:.3f}'],\n",
    "    'Association between NACA and IV':[f'OR: {iv_naca_result.params[\"NACA\"]:.2f}, p-value: {iv_naca_result.pvalues[\"NACA\"]:.3f}'],\n",
    "    'Association between NACA and IO':[f'OR: {io_naca_result.params[\"NACA\"]:.2f}, p-value: {io_naca_result.pvalues[\"NACA\"]:.3f}'],\n",
    "    'Correlation between NACA and ISS':[f'Spearman Correlation: {naca_iss_corr:.2f}, p-value: {naca_iss_pval:.3f}'],\n",
    "    'Association of Mechanism of Injury with ISS':[f'Kruskal-Wallis H-statistic: {mechanism_iss_kruskal_result.statistic:.2f}, p-value: {mechanism_iss_kruskal_result.pvalue:.3f}'],\n",
    "    'Association of Mechanism of Injury with NACA':[f'Kruskal-Wallis H-statistic: {mechanism_naca_kruskal_result.statistic:.2f}, p-value: {mechanism_naca_kruskal_result.pvalue:.3f}'],\n",
    "    'Association between fentanyl given and ISS': [f'OR: {fentanyl_iss_logit_result.params[\"ISS\"]:.2f}, p-value: {fentanyl_iss_logit_result.pvalues[\"ISS\"]:.3f}'],\n",
    "    'Association between ketamine given and ISS': [f'OR: {ketamine_iss_logit_result.params[\"ISS\"]:.2f}, p-value: {ketamine_iss_logit_result.pvalues[\"ISS\"]:.3f}'],\n",
    "    'Association between fentanyl dose and ISS': [f'Coefficient: {fentanyl_iss_result.params[\"ISS\"]:.2f}, p-value: {fentanyl_iss_result.pvalues[\"ISS\"]:.3f}'],\n",
    "    'Association between ketamine dose and ISS': [f'Coefficient: {ketamine_iss_result.params[\"ISS\"]:.2f}, p-value: {ketamine_iss_result.pvalues[\"ISS\"]:.3f}']\n",
    "})\n",
    "str_df.T"
   ]
  },
  {
   "cell_type": "code",
   "execution_count": null,
   "id": "4aa4e5b8",
   "metadata": {},
   "outputs": [],
   "source": [
    "# str_df.T.to_csv('/Users/jk1/Downloads/table4.csv', index=True)"
   ]
  },
  {
   "cell_type": "code",
   "execution_count": null,
   "id": "701e4054",
   "metadata": {},
   "outputs": [],
   "source": []
  }
 ],
 "metadata": {
  "kernelspec": {
   "display_name": "prehosp",
   "language": "python",
   "name": "python3"
  },
  "language_info": {
   "codemirror_mode": {
    "name": "ipython",
    "version": 3
   },
   "file_extension": ".py",
   "mimetype": "text/x-python",
   "name": "python",
   "nbconvert_exporter": "python",
   "pygments_lexer": "ipython3",
   "version": "3.11.9"
  }
 },
 "nbformat": 4,
 "nbformat_minor": 5
}
