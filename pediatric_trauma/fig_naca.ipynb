{
 "cells": [
  {
   "cell_type": "code",
   "execution_count": null,
   "id": "840a6d55",
   "metadata": {},
   "outputs": [],
   "source": [
    "import pandas as pd\n",
    "import matplotlib.pyplot as plt\n",
    "import seaborn as sns"
   ]
  },
  {
   "cell_type": "code",
   "execution_count": null,
   "id": "3babb220",
   "metadata": {},
   "outputs": [],
   "source": [
    "data_path = '/Users/jk1/Library/CloudStorage/OneDrive-unige.ch/icu_research/prehospital/pediatric_trauma/data/Data_PedRegaTrauma_coded_for_analysis_250417.xlsx'"
   ]
  },
  {
   "cell_type": "code",
   "execution_count": null,
   "id": "9718ab21",
   "metadata": {},
   "outputs": [],
   "source": [
    "data_df = pd.read_excel(data_path, sheet_name='All centres cleaned')"
   ]
  },
  {
   "cell_type": "code",
   "execution_count": null,
   "id": "3a1a3367",
   "metadata": {},
   "outputs": [],
   "source": [
    "data_df"
   ]
  },
  {
   "cell_type": "code",
   "execution_count": null,
   "id": "9238db16",
   "metadata": {},
   "outputs": [],
   "source": [
    "data_df.NACA.describe()"
   ]
  },
  {
   "cell_type": "code",
   "execution_count": null,
   "id": "844062ea",
   "metadata": {},
   "outputs": [],
   "source": [
    "data_df.Sex.value_counts()"
   ]
  },
  {
   "cell_type": "code",
   "execution_count": null,
   "id": "50432e0c",
   "metadata": {},
   "outputs": [],
   "source": [
    "# set 1 to female and 2 to male\n",
    "data_df['Sex'] = data_df['Sex'].map({1:'Female', 2:'Male'})"
   ]
  },
  {
   "cell_type": "code",
   "execution_count": null,
   "id": "ec266a30",
   "metadata": {},
   "outputs": [],
   "source": [
    "# 4. Medical/Clinical Theme\n",
    "fig = plt.figure(figsize=(10, 6))\n",
    "sns.set_theme(style=\"ticks\")\n",
    "ax = sns.displot(data_df, x='NACA', hue='Sex', multiple='dodge', discrete=True, shrink=.8, \n",
    "                 palette=['#E31837', '#0072CE'])\n",
    "# align the legend to the upper right corner\n",
    "sns.move_legend(ax, \"upper right\", bbox_to_anchor=(0.8, 0.9))\n",
    "\n"
   ]
  },
  {
   "cell_type": "code",
   "execution_count": null,
   "id": "04acf266",
   "metadata": {},
   "outputs": [],
   "source": [
    "fig = ax.figure"
   ]
  },
  {
   "cell_type": "code",
   "execution_count": null,
   "id": "c8f7b90b",
   "metadata": {},
   "outputs": [],
   "source": [
    "# fig.savefig('/Users/jk1/Library/CloudStorage/OneDrive-unige.ch/icu_research/prehospital/pediatric_trauma/naca_distribution.png', bbox_inches='tight', dpi=600)"
   ]
  },
  {
   "cell_type": "code",
   "execution_count": null,
   "id": "6e14ba55",
   "metadata": {},
   "outputs": [],
   "source": [
    "data_df['age'] = (pd.to_datetime(data_df['Date of accident']) - pd.to_datetime(data_df['Date of Birth']))/pd.Timedelta(days=365.25)\n"
   ]
  },
  {
   "cell_type": "code",
   "execution_count": null,
   "id": "c21c7d05",
   "metadata": {},
   "outputs": [],
   "source": [
    "# 4. Heatmap showing mean age for each NACA-Sex combination\n",
    "pivot_table = data_df.groupby(['NACA', 'Sex'])['age'].mean().unstack()\n",
    "\n",
    "plt.figure(figsize=(8, 6))\n",
    "sns.heatmap(pivot_table, annot=True, fmt='.1f', cmap='RdYlBu_r', \n",
    "            cbar_kws={'label': 'Mean Age (years)'})\n",
    "plt.title('Mean Age by NACA Score and Sex')\n",
    "plt.xlabel('Sex')\n",
    "plt.ylabel('NACA Score')\n",
    "plt.show()"
   ]
  },
  {
   "cell_type": "code",
   "execution_count": null,
   "id": "f6858088",
   "metadata": {},
   "outputs": [],
   "source": []
  }
 ],
 "metadata": {
  "kernelspec": {
   "display_name": "prehosp",
   "language": "python",
   "name": "python3"
  },
  "language_info": {
   "codemirror_mode": {
    "name": "ipython",
    "version": 3
   },
   "file_extension": ".py",
   "mimetype": "text/x-python",
   "name": "python",
   "nbconvert_exporter": "python",
   "pygments_lexer": "ipython3",
   "version": "3.11.9"
  }
 },
 "nbformat": 4,
 "nbformat_minor": 5
}
