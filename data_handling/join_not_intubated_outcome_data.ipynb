{
 "cells": [
  {
   "cell_type": "code",
   "execution_count": null,
   "id": "initial_id",
   "metadata": {
    "ExecuteTime": {
     "end_time": "2025-03-20T07:52:17.107941Z",
     "start_time": "2025-03-20T07:52:17.105244Z"
    }
   },
   "outputs": [],
   "source": [
    "import pandas as pd\n",
    "import numpy as np\n",
    "import os"
   ]
  },
  {
   "cell_type": "code",
   "execution_count": null,
   "id": "c2c652de2cfeecce",
   "metadata": {
    "ExecuteTime": {
     "end_time": "2025-03-20T07:55:27.852138Z",
     "start_time": "2025-03-20T07:55:27.848685Z"
    }
   },
   "outputs": [],
   "source": [
    "bern_data_path = '/Users/jk1/Library/CloudStorage/OneDrive-unige.ch/icu_research/prehospital/intubation_trigger/data/not_intubated/outcome_data/GCSRegaStudieBernNichtIntubiertOutcomes.xlsx'\n",
    "stgallen_data_path = '/Users/jk1/Library/CloudStorage/OneDrive-unige.ch/icu_research/prehospital/intubation_trigger/data/not_intubated/outcome_data/GCSRegaStudieStGallenNichtIntubiertOutcomes.xlsx'\n",
    "zuerich_data_path = '/Users/jk1/Library/CloudStorage/OneDrive-unige.ch/icu_research/prehospital/intubation_trigger/data/not_intubated/outcome_data/GCSRegaStudieZürichNichtIntubiertOutcomes.xlsx'\n",
    "patient_id_path = '/Users/jk1/Library/CloudStorage/OneDrive-unige.ch/icu_research/prehospital/intubation_trigger/data/not_intubated/einsatznummern_GCS3_8.xlsx'"
   ]
  },
  {
   "cell_type": "code",
   "execution_count": null,
   "id": "45d729250aedda4",
   "metadata": {
    "ExecuteTime": {
     "end_time": "2025-03-20T07:55:44.525589Z",
     "start_time": "2025-03-20T07:55:28.260356Z"
    }
   },
   "outputs": [],
   "source": [
    "bern_df = pd.read_excel(bern_data_path, header=5, sheet_name='Transportiert')\n",
    "stgallen_df = pd.read_excel(stgallen_data_path, header=5, sheet_name='Transportiert')\n",
    "zuerich_df = pd.read_excel(zuerich_data_path, header=5, sheet_name='Transportiert')\n",
    "patient_id_df = pd.read_excel(patient_id_path)"
   ]
  },
  {
   "cell_type": "code",
   "execution_count": null,
   "id": "f88eb94018ffe62e",
   "metadata": {
    "ExecuteTime": {
     "end_time": "2025-03-20T07:57:53.831107Z",
     "start_time": "2025-03-20T07:57:53.822059Z"
    }
   },
   "outputs": [],
   "source": [
    "bern_df.rename(columns={'Sex [M/F]': 'sex'}, inplace=True)\n",
    "stgallen_df.rename(columns={'Sex': 'sex'}, inplace=True)\n",
    "zuerich_df.rename(columns={'Geschlecht': 'sex'}, inplace=True)"
   ]
  },
  {
   "cell_type": "code",
   "execution_count": null,
   "id": "f26b4ca209406c58",
   "metadata": {
    "ExecuteTime": {
     "end_time": "2025-03-20T07:58:00.706219Z",
     "start_time": "2025-03-20T07:58:00.624637Z"
    }
   },
   "outputs": [],
   "source": [
    "overall_df = pd.concat([bern_df, stgallen_df, zuerich_df])"
   ]
  },
  {
   "cell_type": "code",
   "execution_count": null,
   "id": "92d274f20767fc1",
   "metadata": {
    "ExecuteTime": {
     "end_time": "2025-03-20T07:58:33.439005Z",
     "start_time": "2025-03-20T07:58:33.435815Z"
    }
   },
   "outputs": [],
   "source": [
    "target_hospitals = [\n",
    "    'Kantonsspital St. Gallen - Stao St. Gallen (KSSG)',\n",
    "    'Inselspital Bern',\n",
    "    'Schockraum USZ, Zürich',\n",
    "    'Universitätsspital Zürich (USZ)'\n",
    "]"
   ]
  },
  {
   "cell_type": "code",
   "execution_count": null,
   "id": "9a0d72ba9a8cc6a5",
   "metadata": {
    "ExecuteTime": {
     "end_time": "2025-03-20T07:58:34.456759Z",
     "start_time": "2025-03-20T07:58:34.442495Z"
    }
   },
   "outputs": [],
   "source": [
    "overall_df = overall_df[overall_df['Zielort (Zielort)'].isin(target_hospitals)]"
   ]
  },
  {
   "cell_type": "code",
   "execution_count": null,
   "id": "d43d6877dceede3",
   "metadata": {
    "ExecuteTime": {
     "end_time": "2025-03-20T07:58:34.909324Z",
     "start_time": "2025-03-20T07:58:34.895049Z"
    }
   },
   "outputs": [],
   "source": [
    "# exclude NACA 6\n",
    "overall_df = overall_df[overall_df['NACA (Medizinische Daten)'] < 6]"
   ]
  },
  {
   "cell_type": "code",
   "execution_count": null,
   "id": "5600ba99b9744c81",
   "metadata": {
    "ExecuteTime": {
     "end_time": "2025-03-20T07:58:35.524967Z",
     "start_time": "2025-03-20T07:58:35.513031Z"
    }
   },
   "outputs": [],
   "source": [
    "overall_df = overall_df[~overall_df['Atemwegbefund (Atemweg Befund)'].isin(['Intubiert', 'Intubiert; Aspiration', 'Aspiration; Intubiert', 'Intubiert; Atemwege frei', 'Verlegt; Intubiert',\n",
    "       'Intubiert; Verlegt; Aspiration', 'Intubiert; Verlegt',\n",
    "       'Aspiration; Verlegt; Intubiert', 'Tracheotomiert'])]"
   ]
  },
  {
   "cell_type": "code",
   "execution_count": null,
   "id": "3758fe5d849d648c",
   "metadata": {
    "ExecuteTime": {
     "end_time": "2025-03-20T07:58:42.504431Z",
     "start_time": "2025-03-20T07:58:42.495484Z"
    }
   },
   "outputs": [],
   "source": [
    "overall_df['Atemwegbefund (Atemweg Befund)'].unique()"
   ]
  },
  {
   "cell_type": "code",
   "execution_count": null,
   "id": "1f541986f3b8c268",
   "metadata": {
    "ExecuteTime": {
     "end_time": "2025-03-20T07:58:48.218989Z",
     "start_time": "2025-03-20T07:58:48.215909Z"
    }
   },
   "outputs": [],
   "source": [
    "non_intubated = ['Wendel; Güdel',\n",
    "       'Wendel', np.nan, 'Güdel; Bereits vorhanden', 'Güdel']"
   ]
  },
  {
   "cell_type": "code",
   "execution_count": null,
   "id": "29489a087db276ef",
   "metadata": {
    "ExecuteTime": {
     "end_time": "2025-03-20T07:58:50.746457Z",
     "start_time": "2025-03-20T07:58:50.739950Z"
    }
   },
   "outputs": [],
   "source": [
    "overall_df = overall_df[overall_df['Bezeichnung (Atemweg-Management)'].isin(non_intubated)]"
   ]
  },
  {
   "cell_type": "code",
   "execution_count": null,
   "id": "5452ac962e6d20",
   "metadata": {
    "ExecuteTime": {
     "end_time": "2025-03-20T07:58:52.164992Z",
     "start_time": "2025-03-20T07:58:52.155553Z"
    }
   },
   "outputs": [],
   "source": [
    "print('Number of missions with non intubated patients:', overall_df['SNZ Einsatz Nr.  (Einsatz)'].nunique())\n",
    "print('Number of missions with non intubated patients and GCS < 9:', overall_df[overall_df['GCS (Erstbefund)'] < 9]['SNZ Einsatz Nr.  (Einsatz)'].nunique())"
   ]
  },
  {
   "cell_type": "code",
   "execution_count": null,
   "id": "b7a482891d52b721",
   "metadata": {
    "ExecuteTime": {
     "end_time": "2025-03-20T08:14:33.732950Z",
     "start_time": "2025-03-20T08:14:33.726435Z"
    }
   },
   "outputs": [],
   "source": [
    "# restrict to patients in the patient_id_df\n",
    "print('Number of missions after restriction to mission numbers: ', overall_df[overall_df['SNZ Einsatz Nr.  (Einsatz)'].isin(patient_id_df['SNZ Einsatz Nr.  (Einsatz)'])]['SNZ Einsatz Nr.  (Einsatz)'].nunique())"
   ]
  },
  {
   "cell_type": "code",
   "execution_count": null,
   "id": "98b42b5dbf7d7904",
   "metadata": {
    "ExecuteTime": {
     "end_time": "2025-03-20T08:15:10.143803Z",
     "start_time": "2025-03-20T08:15:10.138035Z"
    }
   },
   "outputs": [],
   "source": [
    "overall_df = overall_df[overall_df['SNZ Einsatz Nr.  (Einsatz)'].isin(patient_id_df['SNZ Einsatz Nr.  (Einsatz)'])]"
   ]
  },
  {
   "cell_type": "code",
   "execution_count": null,
   "id": "ad6cdb3349a2fe51",
   "metadata": {
    "ExecuteTime": {
     "end_time": "2025-03-20T08:15:25.788895Z",
     "start_time": "2025-03-20T08:15:25.785562Z"
    }
   },
   "outputs": [],
   "source": [
    "outcome_columns = ['ICU [d]',\n",
    "       'Ventilator [d]', 'Hospital stay [d]', '28 d Survival [y/n]',\n",
    "       'Spital Survival [y/n]', 'ICU Survival [y/n]',\n",
    "       'ITN ass. Pneumonia [y/n]']"
   ]
  },
  {
   "cell_type": "code",
   "execution_count": null,
   "id": "f6214789c9fb4be3",
   "metadata": {
    "ExecuteTime": {
     "end_time": "2025-03-20T08:15:27.963393Z",
     "start_time": "2025-03-20T08:15:27.869716Z"
    }
   },
   "outputs": [],
   "source": [
    "# outcome_present should be 1 if any outcome column is not nan\n",
    "overall_df['outcome_present'] = overall_df.apply(lambda x: 1 if not all(x[outcome_columns].isna()) else 0, axis=1)"
   ]
  },
  {
   "cell_type": "code",
   "execution_count": null,
   "id": "3507cb1a8ca84967",
   "metadata": {
    "ExecuteTime": {
     "end_time": "2025-03-20T08:15:31.379364Z",
     "start_time": "2025-03-20T08:15:31.373733Z"
    }
   },
   "outputs": [],
   "source": [
    "outcome_df = overall_df[overall_df['outcome_present'] == 1]\n",
    "# filter all where ICU [d] is not a number\n",
    "outcome_df = outcome_df[outcome_df['ICU [d]'].apply(np.isreal)]"
   ]
  },
  {
   "cell_type": "code",
   "execution_count": null,
   "id": "ed695413a8bee2d3",
   "metadata": {
    "ExecuteTime": {
     "end_time": "2025-03-20T08:15:31.958092Z",
     "start_time": "2025-03-20T08:15:31.952869Z"
    }
   },
   "outputs": [],
   "source": [
    "outcome_df['SNZ Einsatz Nr.  (Einsatz)'].nunique(), outcome_df.shape"
   ]
  },
  {
   "cell_type": "code",
   "execution_count": null,
   "id": "f7ebd0667d21df56",
   "metadata": {
    "ExecuteTime": {
     "end_time": "2025-03-20T08:15:48.201368Z",
     "start_time": "2025-03-20T08:15:48.192641Z"
    }
   },
   "outputs": [],
   "source": [
    "# outcome_df.to_csv(os.path.join(os.path.dirname(stgallen_data_path), 'non_intubated_comatose_outcome_df.csv'))"
   ]
  },
  {
   "cell_type": "code",
   "execution_count": null,
   "id": "6aaf8b11265655ba",
   "metadata": {},
   "outputs": [],
   "source": []
  }
 ],
 "metadata": {
  "kernelspec": {
   "display_name": "Python 3",
   "language": "python",
   "name": "python3"
  },
  "language_info": {
   "codemirror_mode": {
    "name": "ipython",
    "version": 2
   },
   "file_extension": ".py",
   "mimetype": "text/x-python",
   "name": "python",
   "nbconvert_exporter": "python",
   "pygments_lexer": "ipython2",
   "version": "2.7.6"
  }
 },
 "nbformat": 4,
 "nbformat_minor": 5
}
