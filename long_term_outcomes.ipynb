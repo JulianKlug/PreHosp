{
 "cells": [
  {
   "cell_type": "code",
   "execution_count": null,
   "id": "initial_id",
   "metadata": {
    "ExecuteTime": {
     "end_time": "2024-10-28T10:55:05.241007Z",
     "start_time": "2024-10-28T10:55:05.237383Z"
    }
   },
   "outputs": [],
   "source": [
    "import pandas as pd\n",
    "import os\n",
    "os.environ[\"R_HOME\"] = \"/Library/Frameworks/R.framework/Resources\"\n",
    "from pymer4.models import Lmer\n",
    "import statsmodels.api as sm\n",
    "from statsmodels.stats.nonparametric import rank_compare_2indep"
   ]
  },
  {
   "cell_type": "code",
   "execution_count": null,
   "id": "1dd30a15f0139bfd",
   "metadata": {
    "ExecuteTime": {
     "end_time": "2024-10-28T10:54:13.327644Z",
     "start_time": "2024-10-28T10:54:13.325276Z"
    }
   },
   "outputs": [],
   "source": [
    "data_path = '/Users/jk1/Library/CloudStorage/OneDrive-unige.ch/icu_research/prehospital/intubation_trigger/data/Mastertabelle_filtered.xlsx'"
   ]
  },
  {
   "cell_type": "code",
   "execution_count": null,
   "id": "5424a97172499fb6",
   "metadata": {
    "ExecuteTime": {
     "end_time": "2024-10-28T10:54:13.649884Z",
     "start_time": "2024-10-28T10:54:13.409047Z"
    }
   },
   "outputs": [],
   "source": [
    "df = pd.read_excel(data_path)"
   ]
  },
  {
   "cell_type": "code",
   "execution_count": null,
   "id": "fe6437c3749a5475",
   "metadata": {
    "ExecuteTime": {
     "end_time": "2024-10-28T10:54:13.671657Z",
     "start_time": "2024-10-28T10:54:13.667463Z"
    }
   },
   "outputs": [],
   "source": [
    "df = df[df.Comment != 'Reanimation']"
   ]
  },
  {
   "cell_type": "code",
   "execution_count": null,
   "id": "b0132b29c3d4cab2",
   "metadata": {
    "ExecuteTime": {
     "end_time": "2024-10-28T10:54:13.705368Z",
     "start_time": "2024-10-28T10:54:13.687243Z"
    }
   },
   "outputs": [],
   "source": [
    "df.head()"
   ]
  },
  {
   "cell_type": "code",
   "execution_count": null,
   "id": "d4c3d47d700e22e5",
   "metadata": {
    "ExecuteTime": {
     "end_time": "2024-10-28T10:54:13.757584Z",
     "start_time": "2024-10-28T10:54:13.754863Z"
    }
   },
   "outputs": [],
   "source": [
    "outcomes_of_interest = [\n",
    "    \"ICU [d]\",\n",
    "    \"Ventilator [d]\",\n",
    "    \"Hospital stay [d]\",\n",
    "    \"28 d Survival [y/n]\",\n",
    "    \"ITN ass. Pneumonia [y/n]\"\n",
    "    ]"
   ]
  },
  {
   "cell_type": "code",
   "execution_count": null,
   "id": "4a901e22cf5c8948",
   "metadata": {
    "ExecuteTime": {
     "end_time": "2024-10-28T10:54:13.783938Z",
     "start_time": "2024-10-28T10:54:13.778951Z"
    }
   },
   "outputs": [],
   "source": [
    "time_columns =[\"ICU [d]\",\n",
    "    \"Ventilator [d]\",\n",
    "    \"Hospital stay [d]\"]\n",
    "# in every column, if value ends with +, remove it\n",
    "for col in time_columns:\n",
    "    df[col] = pd.to_numeric(df[col].apply(lambda x: str(x).replace(\"+\", '')), errors='coerce')\n"
   ]
  },
  {
   "cell_type": "code",
   "execution_count": null,
   "id": "1a743d7782ccd191",
   "metadata": {
    "ExecuteTime": {
     "end_time": "2024-10-28T10:54:13.833761Z",
     "start_time": "2024-10-28T10:54:13.828013Z"
    }
   },
   "outputs": [],
   "source": [
    "df['Sverweis_Geschlecht_encoded'] = df['Sverweis_Geschlecht'].map({'männlich': 0, 'weiblich': 1})\n",
    "df['28 d Survival [y/n]_encoded'] = df['28 d Survival [y/n]'].map({'n': 0, 'y': 1})\n",
    "df['ITN ass. Pneumonia [y/n]_encoded'] = df['ITN ass. Pneumonia [y/n]'].map({'n': 0, 'y': 1})"
   ]
  },
  {
   "cell_type": "code",
   "execution_count": null,
   "id": "268dda54fbb2b1bd",
   "metadata": {
    "ExecuteTime": {
     "end_time": "2024-10-28T10:54:13.901223Z",
     "start_time": "2024-10-28T10:54:13.897143Z"
    }
   },
   "outputs": [],
   "source": [
    "df.columns = df.columns.str.replace(' ', '_')"
   ]
  },
  {
   "cell_type": "code",
   "execution_count": null,
   "id": "75c50018421bf2f7",
   "metadata": {
    "ExecuteTime": {
     "end_time": "2024-10-28T10:54:15.134132Z",
     "start_time": "2024-10-28T10:54:15.131430Z"
    }
   },
   "outputs": [],
   "source": [
    "# df['GCS_cat'] = pd.Categorical(df['GCS_(Erstbefund)'], categories=[3, 4, 5, 6, 7, 8, 9, 10, 11, 12, 13, 14, 15], ordered=True)\n",
    "# # then convert to strings categories\n",
    "# df['GCS_cat'] = df['GCS_cat'].astype(str)\n",
    "# # and then convert to strings categories\n",
    "# df['GCS_cat'] = pd.Categorical(df['GCS_cat'], categories=['3', '4', '5', '6', '7', '8', '9', '10', '11', '12', '13', '14', '15'], ordered=True)"
   ]
  },
  {
   "cell_type": "code",
   "execution_count": null,
   "id": "2186076b8a6ce564",
   "metadata": {
    "ExecuteTime": {
     "end_time": "2024-10-28T10:54:20.372561Z",
     "start_time": "2024-10-28T10:54:20.368560Z"
    }
   },
   "outputs": [],
   "source": [
    "df['Einteilung_encoded'] = df['Einteilung_(Hauptdiagnose)'].map({'Krankheit': 0, 'Unfall': 1})"
   ]
  },
  {
   "cell_type": "markdown",
   "id": "3906cc8179110a25",
   "metadata": {},
   "source": [
    "## Influence of GCS on long-term outcoems"
   ]
  },
  {
   "cell_type": "code",
   "execution_count": null,
   "id": "574d7c44497197eb",
   "metadata": {
    "ExecuteTime": {
     "end_time": "2024-07-13T21:50:47.598699Z",
     "start_time": "2024-07-13T21:50:45.252198Z"
    }
   },
   "outputs": [],
   "source": [
    "# icu los\n",
    "icu_los_df = df[[\"ICU_[d]\", 'GCS_(Erstbefund)', 'Sverweis_Geschlecht_encoded', 'Alter__(Patient)', 'Einteilung_encoded']]\n",
    "icu_los_df.columns = ['ICU_los', 'GCS', 'sex', 'age', 'category']\n",
    "print(f'number of nan (excluded): {icu_los_df.isna().sum().sum()}')\n",
    "icu_los_df.dropna(inplace=True)\n",
    "\n",
    "\n",
    "overall_icu_los_model = Lmer(f\"ICU_los ~ GCS + sex + age + (1|category)\", data=icu_los_df, family='gaussian')\n",
    "overall_icu_los_res = overall_icu_los_model.fit()\n",
    "print(overall_icu_los_res)"
   ]
  },
  {
   "cell_type": "code",
   "execution_count": null,
   "id": "e804111bee8cdcc4",
   "metadata": {
    "ExecuteTime": {
     "end_time": "2024-07-13T21:50:47.611431Z",
     "start_time": "2024-07-13T21:50:47.600085Z"
    }
   },
   "outputs": [],
   "source": [
    "unadjusted_icu_los_model = sm.OLS(icu_los_df['ICU_los'], sm.add_constant(icu_los_df[['GCS']]))\n",
    "unadjusted_icu_los_results = unadjusted_icu_los_model.fit()\n",
    "print(unadjusted_icu_los_results.summary())"
   ]
  },
  {
   "cell_type": "code",
   "execution_count": null,
   "id": "8a0fe04e9b619b58",
   "metadata": {
    "ExecuteTime": {
     "end_time": "2024-07-13T21:50:47.912837Z",
     "start_time": "2024-07-13T21:50:47.612717Z"
    }
   },
   "outputs": [],
   "source": [
    "# ventilator days\n",
    "ventilator_days_df = df[[\"Ventilator_[d]\", 'GCS_(Erstbefund)', 'Sverweis_Geschlecht_encoded', 'Alter__(Patient)', 'Einteilung_encoded']]\n",
    "ventilator_days_df.columns = ['ventilator_days', 'GCS', 'sex', 'age', 'category']\n",
    "print(f'number of nan (excluded): {ventilator_days_df.isna().sum().sum()}')\n",
    "ventilator_days_df.dropna(inplace=True)\n",
    "\n",
    "overall_ventilator_days_model = Lmer(f\"ventilator_days ~ GCS + sex + age + (1|category)\", data=ventilator_days_df, family='gaussian')\n",
    "overall_ventilator_days_res = overall_ventilator_days_model.fit()\n",
    "overall_ventilator_days_res"
   ]
  },
  {
   "cell_type": "code",
   "execution_count": null,
   "id": "3c4ea18904b20a2f",
   "metadata": {
    "ExecuteTime": {
     "end_time": "2024-07-13T21:50:47.926938Z",
     "start_time": "2024-07-13T21:50:47.914429Z"
    }
   },
   "outputs": [],
   "source": [
    "unadjusted_ventilator_days_model = sm.OLS(ventilator_days_df['ventilator_days'], sm.add_constant(ventilator_days_df[['GCS']]))\n",
    "unadjusted_ventilator_days_results = unadjusted_ventilator_days_model.fit()\n",
    "print(unadjusted_ventilator_days_results.summary())"
   ]
  },
  {
   "cell_type": "code",
   "execution_count": null,
   "id": "37e4a0de6bf6dd27",
   "metadata": {
    "ExecuteTime": {
     "end_time": "2024-07-13T21:50:48.206687Z",
     "start_time": "2024-07-13T21:50:47.928330Z"
    }
   },
   "outputs": [],
   "source": [
    "# hospital stay\n",
    "hospital_stay_df = df[[\"Hospital_stay_[d]\", 'GCS_(Erstbefund)', 'Sverweis_Geschlecht_encoded', 'Alter__(Patient)', 'Einteilung_encoded']]\n",
    "hospital_stay_df.columns = ['hospital_stay', 'GCS', 'sex', 'age', 'category']\n",
    "print(f'number of nan (excluded): {hospital_stay_df.isna().sum().sum()}')\n",
    "hospital_stay_df.dropna(inplace=True)\n",
    "\n",
    "overall_hospital_stay_model = Lmer(f\"hospital_stay ~ GCS + sex + age + (1|category)\", data=hospital_stay_df, family='gaussian')\n",
    "overall_hospital_stay_res = overall_hospital_stay_model.fit()\n",
    "print(overall_hospital_stay_res)"
   ]
  },
  {
   "cell_type": "code",
   "execution_count": null,
   "id": "b5a65b7c93fd4e84",
   "metadata": {
    "ExecuteTime": {
     "end_time": "2024-07-13T21:50:48.222371Z",
     "start_time": "2024-07-13T21:50:48.208597Z"
    }
   },
   "outputs": [],
   "source": [
    "unadjusted_hospital_stay_model = sm.OLS(hospital_stay_df['hospital_stay'], sm.add_constant(hospital_stay_df[['GCS']]))\n",
    "unadjusted_hospital_stay_results = unadjusted_hospital_stay_model.fit()\n",
    "print(unadjusted_hospital_stay_results.summary())"
   ]
  },
  {
   "cell_type": "code",
   "execution_count": null,
   "id": "475e19291e0c8318",
   "metadata": {
    "ExecuteTime": {
     "end_time": "2024-07-13T21:50:48.703464Z",
     "start_time": "2024-07-13T21:50:48.223364Z"
    }
   },
   "outputs": [],
   "source": [
    "# 28 d Survival\n",
    "survival_df = df[[\"28_d_Survival_[y/n]_encoded\", 'GCS_(Erstbefund)', 'Sverweis_Geschlecht_encoded', 'Alter__(Patient)', 'Einteilung_encoded']]\n",
    "survival_df.columns = ['survival', 'GCS', 'sex', 'age', 'category']\n",
    "print(f'number of nan (excluded): {survival_df.isna().sum().sum()}')\n",
    "survival_df.dropna(inplace=True)\n",
    "\n",
    "overall_survival_model = Lmer(f\"survival ~ GCS + sex + age + (1|category)\", data=survival_df, family='binomial')\n",
    "overall_survival_res = overall_survival_model.fit()\n",
    "print(overall_survival_res)\n",
    "                    "
   ]
  },
  {
   "cell_type": "code",
   "execution_count": null,
   "id": "521459624f4267e3",
   "metadata": {
    "ExecuteTime": {
     "end_time": "2024-07-13T21:50:48.719838Z",
     "start_time": "2024-07-13T21:50:48.706758Z"
    }
   },
   "outputs": [],
   "source": [
    "unadjusted_survival_model = sm.Logit(survival_df['survival'], sm.add_constant(survival_df[['GCS']]))\n",
    "unadjusted_survival_results = unadjusted_survival_model.fit()\n",
    "print(unadjusted_survival_results.summary())"
   ]
  },
  {
   "cell_type": "code",
   "execution_count": null,
   "id": "bb5d57f911c515af",
   "metadata": {
    "ExecuteTime": {
     "end_time": "2024-07-13T21:50:49.337192Z",
     "start_time": "2024-07-13T21:50:48.721349Z"
    }
   },
   "outputs": [],
   "source": [
    "# pneumonia\n",
    "pneumonia_df = df[['ITN_ass._Pneumonia_[y/n]_encoded', 'GCS_(Erstbefund)', 'Sverweis_Geschlecht_encoded', 'Alter__(Patient)', 'Einteilung_encoded']]\n",
    "pneumonia_df.columns = ['pneumonia', 'GCS', 'sex', 'age', 'category']\n",
    "print(f'number of nan (excluded): {pneumonia_df.isna().sum().sum()}')\n",
    "pneumonia_df.dropna(inplace=True)\n",
    "\n",
    "overall_pneumonia_model = Lmer(f\"pneumonia ~ GCS + sex + age + (1|category)\", data=pneumonia_df, family='binomial')\n",
    "overall_pneumonia_res = overall_pneumonia_model.fit()\n",
    "print(overall_pneumonia_res)"
   ]
  },
  {
   "cell_type": "code",
   "execution_count": null,
   "id": "24a144fc626ed0b9",
   "metadata": {
    "ExecuteTime": {
     "end_time": "2024-07-13T21:50:49.353454Z",
     "start_time": "2024-07-13T21:50:49.338629Z"
    }
   },
   "outputs": [],
   "source": [
    "unadjusted_pneumonia_model = sm.Logit(pneumonia_df['pneumonia'], sm.add_constant(pneumonia_df[['GCS']]))\n",
    "unadjusted_pneumonia_results = unadjusted_pneumonia_model.fit()\n",
    "print(unadjusted_pneumonia_results.summary())"
   ]
  },
  {
   "cell_type": "code",
   "execution_count": null,
   "id": "2446f0b8a4a26831",
   "metadata": {
    "ExecuteTime": {
     "end_time": "2024-07-13T22:01:37.269740Z",
     "start_time": "2024-07-13T22:01:37.215853Z"
    }
   },
   "outputs": [],
   "source": [
    "# save all model results in pdf with headings for each outcome and model\n",
    "\n",
    "from reportlab.lib.pagesizes import letter\n",
    "from reportlab.pdfgen import canvas\n",
    "from reportlab.lib.utils import ImageReader\n",
    "import io\n",
    "\n",
    "# Function to add model results to PDF\n",
    "def add_model_results_to_pdf(c, model_results,heading, start_y=750):\n",
    "    c.setFont(\"Helvetica\", 12)\n",
    "    y_position = start_y\n",
    "    c.drawString(100, y_position, heading)\n",
    "    y_position -= 20 \n",
    "    \n",
    "    text_object = c.beginText(40, y_position)\n",
    "    text_object.setFont(\"Helvetica\", 10)\n",
    "    for line in model_results.split('\\n'):\n",
    "        text_object.textLine(line)\n",
    "        y_position -= 10\n",
    "        # Check if we need to start a new page\n",
    "        if y_position < 40:  # Adjust based on your footer size\n",
    "            c.drawText(text_object)\n",
    "            c.showPage()  # Start a new page\n",
    "            c.setFont(\"Helvetica\", 12)\n",
    "            y_position = start_y - 20  # Reset y_position for the new page\n",
    "            text_object = c.beginText(40, y_position)\n",
    "            text_object.setFont(\"Helvetica\", 10)\n",
    "\n",
    "    c.drawText(text_object)\n",
    "\n",
    "# Create a new PDF with ReportLab\n",
    "c = canvas.Canvas(\"/Users/jk1/Downloads/model_results.pdf\", pagesize=letter)\n",
    "height = letter[1]\n",
    "\n",
    "# Assuming you have model results as strings, for example:\n",
    "overall_icu_los_res_str = str(overall_icu_los_res)\n",
    "unadjusted_icu_los_results_str = str(unadjusted_icu_los_results.summary())\n",
    "# Add more model results strings as needed\n",
    "\n",
    "add_model_results_to_pdf(c, overall_icu_los_res_str, \"Adjusted ICU LOS Model Results\")\n",
    "c.showPage()  # Start a new page for the next model if necessary\n",
    "add_model_results_to_pdf(c, unadjusted_icu_los_results_str, \"Unadjusted ICU LOS Model Results\")\n",
    "c.showPage()  # Start a new page for the next model if necessary\n",
    "\n",
    "\n",
    "add_model_results_to_pdf(c, str(overall_ventilator_days_res), \"Adjusted Ventilator Days Model Results\")\n",
    "c.showPage()  # Start a new page for the next model if necessary\n",
    "add_model_results_to_pdf(c, str(unadjusted_ventilator_days_results.summary()), \"Unadjusted Ventilator Days Model Results\")\n",
    "c.showPage()  # Start a new page for the next model if necessary\n",
    "\n",
    "add_model_results_to_pdf(c, str(overall_hospital_stay_res), \"Adjusted Hospital Stay Model Results\")\n",
    "c.showPage()  # Start a new page for the next model if necessary\n",
    "add_model_results_to_pdf(c, str(unadjusted_hospital_stay_results.summary()), \"Unadjusted Hospital Stay Model Results\")\n",
    "c.showPage()  # Start a new page for the next model if necessary\n",
    "\n",
    "add_model_results_to_pdf(c, str(overall_survival_res), \"Adjusted 28 d Survival Model Results\")\n",
    "c.showPage()  # Start a new page for the next model if necessary\n",
    "add_model_results_to_pdf(c, str(unadjusted_survival_results.summary()), \"Unadjusted 28 d Survival Model Results\")\n",
    "c.showPage()  # Start a new page for the next model if necessary\n",
    "\n",
    "add_model_results_to_pdf(c, str(overall_pneumonia_res), \"Adjusted Pneumonia Model Results\")\n",
    "c.showPage()  # Start a new page for the next model if necessary\n",
    "add_model_results_to_pdf(c, str(unadjusted_pneumonia_results.summary()), \"Unadjusted Pneumonia Model Results\")\n",
    "\n",
    "# Save the PDF\n",
    "c.save()\n"
   ]
  },
  {
   "cell_type": "markdown",
   "id": "62c0ea73e115049d",
   "metadata": {},
   "source": [
    "## Impact of Category on long-term outcomes"
   ]
  },
  {
   "cell_type": "code",
   "execution_count": null,
   "id": "d1bb148041da9e9e",
   "metadata": {
    "ExecuteTime": {
     "end_time": "2024-10-28T10:56:02.285502Z",
     "start_time": "2024-10-28T10:56:02.261211Z"
    }
   },
   "outputs": [],
   "source": [
    "df"
   ]
  },
  {
   "cell_type": "code",
   "execution_count": null,
   "id": "1b17b83f14c91bd9",
   "metadata": {
    "ExecuteTime": {
     "end_time": "2024-10-28T10:56:04.557709Z",
     "start_time": "2024-10-28T10:56:04.550551Z"
    }
   },
   "outputs": [],
   "source": [
    "# Pneumonia\n",
    "res_pneumonia = rank_compare_2indep(\n",
    "    df[(df['Einteilung_(Hauptdiagnose)'] == 'Krankheit') & (df['ITN_ass._Pneumonia_[y/n]_encoded'].notna())]['ITN_ass._Pneumonia_[y/n]_encoded'].values,\n",
    "    df[(df['Einteilung_(Hauptdiagnose)'] == 'Unfall') & (df['ITN_ass._Pneumonia_[y/n]_encoded'].notna())]['ITN_ass._Pneumonia_[y/n]_encoded'].values)"
   ]
  },
  {
   "cell_type": "code",
   "execution_count": null,
   "id": "fe1948a844b2f921",
   "metadata": {
    "ExecuteTime": {
     "end_time": "2024-10-28T10:56:04.957546Z",
     "start_time": "2024-10-28T10:56:04.954331Z"
    }
   },
   "outputs": [],
   "source": [
    "res_pneumonia.pvalue"
   ]
  },
  {
   "cell_type": "code",
   "execution_count": null,
   "id": "452741ed4d512be",
   "metadata": {
    "ExecuteTime": {
     "end_time": "2024-10-28T10:56:06.792952Z",
     "start_time": "2024-10-28T10:56:06.785934Z"
    }
   },
   "outputs": [],
   "source": [
    "# ventilator days Ventilator_[d]\n",
    "res_ventilator_days = rank_compare_2indep(\n",
    "    df[(df['Einteilung_(Hauptdiagnose)'] == 'Krankheit') & (df['Ventilator_[d]'].notna())]['Ventilator_[d]'].values,\n",
    "    df[(df['Einteilung_(Hauptdiagnose)'] == 'Unfall') & (df['Ventilator_[d]'].notna())]['Ventilator_[d]'].values)\n"
   ]
  },
  {
   "cell_type": "code",
   "execution_count": null,
   "id": "e2dcc99094c07e36",
   "metadata": {
    "ExecuteTime": {
     "end_time": "2024-10-28T10:56:07.349820Z",
     "start_time": "2024-10-28T10:56:07.346379Z"
    }
   },
   "outputs": [],
   "source": [
    "res_ventilator_days.pvalue"
   ]
  },
  {
   "cell_type": "code",
   "execution_count": null,
   "id": "d8923804b2322035",
   "metadata": {
    "ExecuteTime": {
     "end_time": "2024-10-28T10:56:08.061215Z",
     "start_time": "2024-10-28T10:56:08.055766Z"
    }
   },
   "outputs": [],
   "source": [
    "# icu stay - ICU_[d]\n",
    "res_icu_los = rank_compare_2indep(\n",
    "    df[(df['Einteilung_(Hauptdiagnose)'] == 'Krankheit') & (df['ICU_[d]'].notna())]['ICU_[d]'].values,\n",
    "    df[(df['Einteilung_(Hauptdiagnose)'] == 'Unfall') & (df['ICU_[d]'].notna())]['ICU_[d]'].values)\n",
    "\n"
   ]
  },
  {
   "cell_type": "code",
   "execution_count": null,
   "id": "506a6355c5ce4d5e",
   "metadata": {
    "ExecuteTime": {
     "end_time": "2024-10-28T10:56:08.936460Z",
     "start_time": "2024-10-28T10:56:08.932607Z"
    }
   },
   "outputs": [],
   "source": [
    "res_icu_los.pvalue"
   ]
  },
  {
   "cell_type": "code",
   "execution_count": null,
   "id": "f4aa1c60c8283078",
   "metadata": {
    "ExecuteTime": {
     "end_time": "2024-10-28T10:56:09.779418Z",
     "start_time": "2024-10-28T10:56:09.772726Z"
    }
   },
   "outputs": [],
   "source": [
    "# hospital los - Hospital_stay_[d]\n",
    "res_hospital_los = rank_compare_2indep(\n",
    "    df[(df['Einteilung_(Hauptdiagnose)'] == 'Krankheit') & (df['Hospital_stay_[d]'].notna())]['Hospital_stay_[d]'].values,\n",
    "    df[(df['Einteilung_(Hauptdiagnose)'] == 'Unfall') & (df['Hospital_stay_[d]'].notna())]['Hospital_stay_[d]'].values)\n"
   ]
  },
  {
   "cell_type": "code",
   "execution_count": null,
   "id": "1f0de432cca9847e",
   "metadata": {
    "ExecuteTime": {
     "end_time": "2024-10-28T10:56:10.677756Z",
     "start_time": "2024-10-28T10:56:10.673546Z"
    }
   },
   "outputs": [],
   "source": [
    "res_hospital_los.pvalue"
   ]
  },
  {
   "cell_type": "code",
   "execution_count": null,
   "id": "9bbc850ff1121386",
   "metadata": {
    "ExecuteTime": {
     "end_time": "2024-10-28T10:56:13.063690Z",
     "start_time": "2024-10-28T10:56:13.057074Z"
    }
   },
   "outputs": [],
   "source": [
    "# survival - 28_d_Survival_[y/n]_encoded\n",
    "res_survival = rank_compare_2indep(\n",
    "    df[(df['Einteilung_(Hauptdiagnose)'] == 'Krankheit') & (df['28_d_Survival_[y/n]_encoded'].notna())]['28_d_Survival_[y/n]_encoded'].values,\n",
    "    df[(df['Einteilung_(Hauptdiagnose)'] == 'Unfall') & (df['28_d_Survival_[y/n]_encoded'].notna())]['28_d_Survival_[y/n]_encoded'].values)"
   ]
  },
  {
   "cell_type": "code",
   "execution_count": null,
   "id": "383095ac0908e679",
   "metadata": {
    "ExecuteTime": {
     "end_time": "2024-10-28T10:56:13.456078Z",
     "start_time": "2024-10-28T10:56:13.452607Z"
    }
   },
   "outputs": [],
   "source": [
    "res_survival.pvalue"
   ]
  },
  {
   "cell_type": "code",
   "execution_count": null,
   "id": "28b13687814e1b7",
   "metadata": {
    "ExecuteTime": {
     "end_time": "2024-10-28T10:56:14.163635Z",
     "start_time": "2024-10-28T10:56:14.160571Z"
    }
   },
   "outputs": [],
   "source": [
    "# table \n",
    "impact_of_category_on_outcomes = pd.DataFrame({\n",
    "    'Outcome': ['Pneumonia', 'Ventilator days', 'ICU stay', 'Hospital stay', 'Survival'],\n",
    "    'p-value': [res_pneumonia.pvalue, res_ventilator_days.pvalue, res_icu_los.pvalue, res_hospital_los.pvalue, res_survival.pvalue]\n",
    "})"
   ]
  },
  {
   "cell_type": "code",
   "execution_count": null,
   "id": "5394812707e266ef",
   "metadata": {
    "ExecuteTime": {
     "end_time": "2024-10-28T10:56:17.330391Z",
     "start_time": "2024-10-28T10:56:17.326796Z"
    }
   },
   "outputs": [],
   "source": [
    "import statsmodels.stats.multitest\n",
    "\n",
    "adjustements = statsmodels.stats.multitest.multipletests(impact_of_category_on_outcomes['p-value'], method='fdr_bh')\n",
    "adjusted_pvals = adjustements[1]\n",
    "impact_of_category_on_outcomes['adjusted_p-value'] = adjusted_pvals"
   ]
  },
  {
   "cell_type": "code",
   "execution_count": null,
   "id": "8169f11bb3eba1a7",
   "metadata": {
    "ExecuteTime": {
     "end_time": "2024-10-28T10:56:29.491768Z",
     "start_time": "2024-10-28T10:56:29.486332Z"
    }
   },
   "outputs": [],
   "source": [
    "impact_of_category_on_outcomes"
   ]
  },
  {
   "cell_type": "markdown",
   "id": "61a0ba838a9a503b",
   "metadata": {},
   "source": [
    "## Impact of sex on long-term outcomes\n"
   ]
  },
  {
   "cell_type": "code",
   "execution_count": null,
   "id": "9e61076a4fd7a5df",
   "metadata": {
    "ExecuteTime": {
     "end_time": "2024-10-28T11:02:20.249337Z",
     "start_time": "2024-10-28T11:02:20.242688Z"
    }
   },
   "outputs": [],
   "source": [
    "# Pneumonia\n",
    "sex_res_pneumonia = rank_compare_2indep(\n",
    "       df[(df['Sverweis_Geschlecht_encoded'] == 1) & (df['ITN_ass._Pneumonia_[y/n]_encoded'].notna())]['ITN_ass._Pneumonia_[y/n]_encoded'].values,\n",
    "       df[(df['Sverweis_Geschlecht_encoded'] == 0) & (df['ITN_ass._Pneumonia_[y/n]_encoded'].notna())]['ITN_ass._Pneumonia_[y/n]_encoded'].values)\n",
    "sex_res_pneumonia.pvalue"
   ]
  },
  {
   "cell_type": "code",
   "execution_count": null,
   "id": "de9b435e31039a2d",
   "metadata": {
    "ExecuteTime": {
     "end_time": "2024-10-28T11:01:27.713294Z",
     "start_time": "2024-10-28T11:01:27.706493Z"
    }
   },
   "outputs": [],
   "source": [
    "# ventilator days Ventilator_[d]\n",
    "sex_res_ventilator_days = rank_compare_2indep(\n",
    "    df[(df['Sverweis_Geschlecht_encoded'] == 1) & (df['Ventilator_[d]'].notna())]['Ventilator_[d]'].values,\n",
    "    df[(df['Sverweis_Geschlecht_encoded'] == 0) & (df['Ventilator_[d]'].notna())]['Ventilator_[d]'].values)\n",
    "\n",
    "sex_res_ventilator_days.pvalue"
   ]
  },
  {
   "cell_type": "code",
   "execution_count": null,
   "id": "98fcd6d3263c3e21",
   "metadata": {
    "ExecuteTime": {
     "end_time": "2024-10-28T11:02:12.833784Z",
     "start_time": "2024-10-28T11:02:12.826334Z"
    }
   },
   "outputs": [],
   "source": [
    "# icu stay - ICU_[d]\n",
    "sex_res_icu_los = rank_compare_2indep(\n",
    "    df[(df['Sverweis_Geschlecht_encoded'] == 1) & (df['ICU_[d]'].notna())]['ICU_[d]'].values,\n",
    "    df[(df['Sverweis_Geschlecht_encoded'] == 0) & (df['ICU_[d]'].notna())]['ICU_[d]'].values)\n",
    "\n",
    "sex_res_icu_los.pvalue"
   ]
  },
  {
   "cell_type": "code",
   "execution_count": null,
   "id": "214fa76ef7819b45",
   "metadata": {
    "ExecuteTime": {
     "end_time": "2024-10-28T11:04:48.594690Z",
     "start_time": "2024-10-28T11:04:48.587858Z"
    }
   },
   "outputs": [],
   "source": [
    "# hospital los - Hospital_stay_[d]\n",
    "sex_res_hospital_los = rank_compare_2indep(\n",
    "    df[(df['Sverweis_Geschlecht_encoded'] == 1) & (df['Hospital_stay_[d]'].notna())][\n",
    "        'Hospital_stay_[d]'].values,\n",
    "    df[(df['Sverweis_Geschlecht_encoded'] == 0) & (df['Hospital_stay_[d]'].notna())]['Hospital_stay_[d]'].values)\n",
    "\n",
    "sex_res_hospital_los.pvalue"
   ]
  },
  {
   "cell_type": "code",
   "execution_count": null,
   "id": "7126d4a8a8746571",
   "metadata": {
    "ExecuteTime": {
     "end_time": "2024-10-28T11:03:05.903156Z",
     "start_time": "2024-10-28T11:03:05.896663Z"
    }
   },
   "outputs": [],
   "source": [
    "# survival - 28_d_Survival_[y/n]_encoded\n",
    "sex_res_survival = rank_compare_2indep(\n",
    "    df[(df['Sverweis_Geschlecht_encoded'] == 1) & (df['28_d_Survival_[y/n]_encoded'].notna())][\n",
    "        '28_d_Survival_[y/n]_encoded'].values,\n",
    "    df[(df['Sverweis_Geschlecht_encoded'] == 0) & (df['28_d_Survival_[y/n]_encoded'].notna())][\n",
    "        '28_d_Survival_[y/n]_encoded'].values)\n",
    "sex_res_survival.pvalue"
   ]
  },
  {
   "cell_type": "code",
   "execution_count": null,
   "id": "8a076cd3f56a5475",
   "metadata": {
    "ExecuteTime": {
     "end_time": "2024-10-28T11:05:47.230530Z",
     "start_time": "2024-10-28T11:05:47.227276Z"
    }
   },
   "outputs": [],
   "source": [
    "# table \n",
    "impact_of_sex_on_outcomes = pd.DataFrame({\n",
    "    'Outcome': ['Pneumonia', 'Ventilator days', 'ICU stay', 'Hospital stay', 'Survival'],\n",
    "    'p-value': [sex_res_pneumonia.pvalue, sex_res_ventilator_days.pvalue, sex_res_icu_los.pvalue, sex_res_hospital_los.pvalue, sex_res_survival.pvalue]\n",
    "})"
   ]
  },
  {
   "cell_type": "code",
   "execution_count": null,
   "id": "accba2f5ce60755d",
   "metadata": {
    "ExecuteTime": {
     "end_time": "2024-10-28T11:05:47.575907Z",
     "start_time": "2024-10-28T11:05:47.571959Z"
    }
   },
   "outputs": [],
   "source": [
    "import statsmodels.stats.multitest\n",
    "\n",
    "sex_adjustements = statsmodels.stats.multitest.multipletests(impact_of_sex_on_outcomes['p-value'], method='fdr_bh')\n",
    "sex_adjusted_pvals = sex_adjustements[1]\n",
    "impact_of_sex_on_outcomes['multi_test_adjusted_p-value'] = sex_adjusted_pvals"
   ]
  },
  {
   "cell_type": "code",
   "execution_count": null,
   "id": "1989f890ba1f1ef8",
   "metadata": {
    "ExecuteTime": {
     "end_time": "2024-10-28T11:05:52.716933Z",
     "start_time": "2024-10-28T11:05:52.710014Z"
    }
   },
   "outputs": [],
   "source": [
    "impact_of_sex_on_outcomes"
   ]
  },
  {
   "cell_type": "markdown",
   "id": "617f5fc3ab6e2e69",
   "metadata": {},
   "source": [
    "## Impact of SpO2 on long-term outcomes"
   ]
  },
  {
   "cell_type": "code",
   "execution_count": null,
   "id": "b492ec50f65aaee2",
   "metadata": {
    "ExecuteTime": {
     "end_time": "2024-08-10T15:01:03.240020Z",
     "start_time": "2024-08-10T15:01:03.217415Z"
    }
   },
   "outputs": [],
   "source": [
    "icu_los_df = df[[\"ICU_[d]\", 'SPO2_(Erstbefund)']]\n",
    "print(f'number of nan (excluded): {icu_los_df.isna().sum().sum()}')\n",
    "icu_los_df.dropna(inplace=True)\n",
    "\n",
    "\n",
    "unadjusted_icu_los_model = sm.OLS(icu_los_df['ICU_[d]'], sm.add_constant(icu_los_df[['SPO2_(Erstbefund)']]))\n",
    "unadjusted_icu_los_results = unadjusted_icu_los_model.fit()\n",
    "print(unadjusted_icu_los_results.summary())"
   ]
  },
  {
   "cell_type": "code",
   "execution_count": null,
   "id": "33f85c8cd0625d2d",
   "metadata": {
    "ExecuteTime": {
     "end_time": "2024-08-10T15:03:35.212403Z",
     "start_time": "2024-08-10T15:03:31.415234Z"
    }
   },
   "outputs": [],
   "source": [
    "multi_var_icu_los_df = df[[\"ICU_[d]\", 'GCS_(Erstbefund)', 'Sverweis_Geschlecht_encoded', 'Alter__(Patient)', 'Einteilung_encoded', 'SPO2_(Erstbefund)']]\n",
    "multi_var_icu_los_df.columns = ['ICU_los', 'GCS', 'sex', 'age', 'category', 'SPO2']\n",
    "print(f'number of nan (excluded): {multi_var_icu_los_df.isna().sum().sum()}')\n",
    "multi_var_icu_los_df.dropna(inplace=True)\n",
    "\n",
    "\n",
    "multi_var_icu_los_model = Lmer(f\"ICU_los ~ SPO2 + GCS + sex + age + (1|category)\", data=multi_var_icu_los_df, family='gaussian')\n",
    "multi_var_icu_los_res = multi_var_icu_los_model.fit()\n",
    "print(multi_var_icu_los_res)"
   ]
  },
  {
   "cell_type": "code",
   "execution_count": null,
   "id": "5a88a11db25110f6",
   "metadata": {
    "ExecuteTime": {
     "end_time": "2024-08-10T15:22:06.501949Z",
     "start_time": "2024-08-10T15:22:06.450678Z"
    }
   },
   "outputs": [],
   "source": [
    "# 28 d Survival\n",
    "survival_df = df[[\"28_d_Survival_[y/n]_encoded\", 'SPO2_(Erstbefund)']]\n",
    "survival_df.columns = ['survival', 'SPO2']\n",
    "print(f'number of nan (excluded): {survival_df.isna().sum().sum()}')\n",
    "survival_df.dropna(inplace=True)\n",
    "\n",
    "unadjusted_survival_model = sm.Logit(survival_df['survival'], sm.add_constant(survival_df[['SPO2']]))\n",
    "unadjusted_survival_results = unadjusted_survival_model.fit()\n",
    "print(unadjusted_survival_results.summary())"
   ]
  },
  {
   "cell_type": "code",
   "execution_count": null,
   "id": "80d50816e04f0f2c",
   "metadata": {
    "ExecuteTime": {
     "end_time": "2024-08-10T15:23:01.284567Z",
     "start_time": "2024-08-10T15:23:00.473880Z"
    }
   },
   "outputs": [],
   "source": [
    "survival_df = df[[\"28_d_Survival_[y/n]_encoded\", 'GCS_(Erstbefund)', 'Sverweis_Geschlecht_encoded', 'Alter__(Patient)', 'Einteilung_encoded', 'SPO2_(Erstbefund)']]\n",
    "survival_df.columns = ['survival', 'GCS', 'sex', 'age', 'category', 'SPO2']\n",
    "print(f'number of nan (excluded): {survival_df.isna().sum().sum()}')\n",
    "survival_df.dropna(inplace=True)\n",
    "\n",
    "multi_var_survival_model = Lmer(f\"survival ~ SPO2 + GCS + sex + age + (1|category)\", data=survival_df, family='binomial')\n",
    "multi_var_survival_model = multi_var_survival_model.fit()\n",
    "print(multi_var_survival_model)"
   ]
  },
  {
   "cell_type": "code",
   "execution_count": null,
   "id": "1db607d425df1bb7",
   "metadata": {},
   "outputs": [],
   "source": []
  }
 ],
 "metadata": {
  "kernelspec": {
   "display_name": "Python 3",
   "language": "python",
   "name": "python3"
  },
  "language_info": {
   "codemirror_mode": {
    "name": "ipython",
    "version": 2
   },
   "file_extension": ".py",
   "mimetype": "text/x-python",
   "name": "python",
   "nbconvert_exporter": "python",
   "pygments_lexer": "ipython2",
   "version": "2.7.6"
  }
 },
 "nbformat": 4,
 "nbformat_minor": 5
}
