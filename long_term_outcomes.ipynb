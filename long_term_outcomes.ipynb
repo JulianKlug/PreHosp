{
 "cells": [
  {
   "cell_type": "code",
   "execution_count": null,
   "id": "initial_id",
   "metadata": {
    "ExecuteTime": {
     "end_time": "2024-07-13T21:50:44.934091Z",
     "start_time": "2024-07-13T21:50:39.985615Z"
    }
   },
   "outputs": [],
   "source": [
    "import pandas as pd\n",
    "import os\n",
    "os.environ[\"R_HOME\"] = \"/Library/Frameworks/R.framework/Resources\"\n",
    "from pymer4.models import Lmer\n",
    "import statsmodels.api as sm"
   ]
  },
  {
   "cell_type": "code",
   "execution_count": null,
   "id": "1dd30a15f0139bfd",
   "metadata": {
    "ExecuteTime": {
     "end_time": "2024-07-13T21:50:44.942495Z",
     "start_time": "2024-07-13T21:50:44.937037Z"
    }
   },
   "outputs": [],
   "source": [
    "data_path = '/Users/jk1/Library/CloudStorage/OneDrive-unige.ch/icu_research/prehospital/intubation_trigger/data/Mastertabelle_filtered.xlsx'"
   ]
  },
  {
   "cell_type": "code",
   "execution_count": null,
   "id": "5424a97172499fb6",
   "metadata": {
    "ExecuteTime": {
     "end_time": "2024-07-13T21:50:45.190194Z",
     "start_time": "2024-07-13T21:50:44.944740Z"
    }
   },
   "outputs": [],
   "source": [
    "df = pd.read_excel(data_path)"
   ]
  },
  {
   "cell_type": "code",
   "execution_count": null,
   "id": "fe6437c3749a5475",
   "metadata": {
    "ExecuteTime": {
     "end_time": "2024-07-13T21:50:45.197952Z",
     "start_time": "2024-07-13T21:50:45.193230Z"
    }
   },
   "outputs": [],
   "source": [
    "df = df[df.Comment != 'Reanimation']"
   ]
  },
  {
   "cell_type": "code",
   "execution_count": null,
   "id": "b0132b29c3d4cab2",
   "metadata": {
    "ExecuteTime": {
     "end_time": "2024-07-13T21:50:45.220085Z",
     "start_time": "2024-07-13T21:50:45.200145Z"
    }
   },
   "outputs": [],
   "source": [
    "df.head()"
   ]
  },
  {
   "cell_type": "code",
   "execution_count": null,
   "id": "d4c3d47d700e22e5",
   "metadata": {
    "ExecuteTime": {
     "end_time": "2024-07-13T21:50:45.223403Z",
     "start_time": "2024-07-13T21:50:45.221082Z"
    }
   },
   "outputs": [],
   "source": [
    "outcomes_of_interest = [\n",
    "    \"ICU [d]\",\n",
    "    \"Ventilator [d]\",\n",
    "    \"Hospital stay [d]\",\n",
    "    \"28 d Survival [y/n]\",\n",
    "    \"ITN ass. Pneumonia [y/n]\"\n",
    "    ]"
   ]
  },
  {
   "cell_type": "code",
   "execution_count": null,
   "id": "4a901e22cf5c8948",
   "metadata": {
    "ExecuteTime": {
     "end_time": "2024-07-13T21:50:45.229847Z",
     "start_time": "2024-07-13T21:50:45.224895Z"
    }
   },
   "outputs": [],
   "source": [
    "time_columns =[\"ICU [d]\",\n",
    "    \"Ventilator [d]\",\n",
    "    \"Hospital stay [d]\"]\n",
    "# in every column, if value ends with +, remove it\n",
    "for col in time_columns:\n",
    "    df[col] = pd.to_numeric(df[col].apply(lambda x: str(x).replace(\"+\", '')), errors='coerce')\n"
   ]
  },
  {
   "cell_type": "code",
   "execution_count": null,
   "id": "1a743d7782ccd191",
   "metadata": {
    "ExecuteTime": {
     "end_time": "2024-07-13T21:50:45.236252Z",
     "start_time": "2024-07-13T21:50:45.231076Z"
    }
   },
   "outputs": [],
   "source": [
    "df['Sverweis_Geschlecht_encoded'] = df['Sverweis_Geschlecht'].map({'männlich': 0, 'weiblich': 1})\n",
    "df['28 d Survival [y/n]_encoded'] = df['28 d Survival [y/n]'].map({'n': 0, 'y': 1})\n",
    "df['ITN ass. Pneumonia [y/n]_encoded'] = df['ITN ass. Pneumonia [y/n]'].map({'n': 0, 'y': 1})"
   ]
  },
  {
   "cell_type": "code",
   "execution_count": null,
   "id": "268dda54fbb2b1bd",
   "metadata": {
    "ExecuteTime": {
     "end_time": "2024-07-13T21:50:45.240629Z",
     "start_time": "2024-07-13T21:50:45.237754Z"
    }
   },
   "outputs": [],
   "source": [
    "df.columns = df.columns.str.replace(' ', '_')"
   ]
  },
  {
   "cell_type": "code",
   "execution_count": null,
   "id": "75c50018421bf2f7",
   "metadata": {
    "ExecuteTime": {
     "end_time": "2024-07-13T21:50:45.246591Z",
     "start_time": "2024-07-13T21:50:45.244524Z"
    }
   },
   "outputs": [],
   "source": [
    "# df['GCS_cat'] = pd.Categorical(df['GCS_(Erstbefund)'], categories=[3, 4, 5, 6, 7, 8, 9, 10, 11, 12, 13, 14, 15], ordered=True)\n",
    "# # then convert to strings categories\n",
    "# df['GCS_cat'] = df['GCS_cat'].astype(str)\n",
    "# # and then convert to strings categories\n",
    "# df['GCS_cat'] = pd.Categorical(df['GCS_cat'], categories=['3', '4', '5', '6', '7', '8', '9', '10', '11', '12', '13', '14', '15'], ordered=True)"
   ]
  },
  {
   "cell_type": "code",
   "execution_count": null,
   "id": "2186076b8a6ce564",
   "metadata": {
    "ExecuteTime": {
     "end_time": "2024-07-13T21:50:45.250914Z",
     "start_time": "2024-07-13T21:50:45.247715Z"
    }
   },
   "outputs": [],
   "source": [
    "df['Einteilung_encoded'] = df['Einteilung_(Hauptdiagnose)'].map({'Krankheit': 0, 'Unfall': 1})"
   ]
  },
  {
   "cell_type": "code",
   "execution_count": null,
   "id": "574d7c44497197eb",
   "metadata": {
    "ExecuteTime": {
     "end_time": "2024-07-13T21:50:47.598699Z",
     "start_time": "2024-07-13T21:50:45.252198Z"
    }
   },
   "outputs": [],
   "source": [
    "# icu los\n",
    "icu_los_df = df[[\"ICU_[d]\", 'GCS_(Erstbefund)', 'Sverweis_Geschlecht_encoded', 'Alter__(Patient)', 'Einteilung_encoded']]\n",
    "icu_los_df.columns = ['ICU_los', 'GCS', 'sex', 'age', 'category']\n",
    "print(f'number of nan (excluded): {icu_los_df.isna().sum().sum()}')\n",
    "icu_los_df.dropna(inplace=True)\n",
    "\n",
    "\n",
    "overall_icu_los_model = Lmer(f\"ICU_los ~ GCS + sex + age + (1|category)\", data=icu_los_df, family='gaussian')\n",
    "overall_icu_los_res = overall_icu_los_model.fit()\n",
    "print(overall_icu_los_res)"
   ]
  },
  {
   "cell_type": "code",
   "execution_count": null,
   "id": "e804111bee8cdcc4",
   "metadata": {
    "ExecuteTime": {
     "end_time": "2024-07-13T21:50:47.611431Z",
     "start_time": "2024-07-13T21:50:47.600085Z"
    }
   },
   "outputs": [],
   "source": [
    "unadjusted_icu_los_model = sm.OLS(icu_los_df['ICU_los'], sm.add_constant(icu_los_df[['GCS']]))\n",
    "unadjusted_icu_los_results = unadjusted_icu_los_model.fit()\n",
    "print(unadjusted_icu_los_results.summary())"
   ]
  },
  {
   "cell_type": "code",
   "execution_count": null,
   "id": "8a0fe04e9b619b58",
   "metadata": {
    "ExecuteTime": {
     "end_time": "2024-07-13T21:50:47.912837Z",
     "start_time": "2024-07-13T21:50:47.612717Z"
    }
   },
   "outputs": [],
   "source": [
    "# ventilator days\n",
    "ventilator_days_df = df[[\"Ventilator_[d]\", 'GCS_(Erstbefund)', 'Sverweis_Geschlecht_encoded', 'Alter__(Patient)', 'Einteilung_encoded']]\n",
    "ventilator_days_df.columns = ['ventilator_days', 'GCS', 'sex', 'age', 'category']\n",
    "print(f'number of nan (excluded): {ventilator_days_df.isna().sum().sum()}')\n",
    "ventilator_days_df.dropna(inplace=True)\n",
    "\n",
    "overall_ventilator_days_model = Lmer(f\"ventilator_days ~ GCS + sex + age + (1|category)\", data=ventilator_days_df, family='gaussian')\n",
    "overall_ventilator_days_res = overall_ventilator_days_model.fit()\n",
    "overall_ventilator_days_res"
   ]
  },
  {
   "cell_type": "code",
   "execution_count": null,
   "id": "3c4ea18904b20a2f",
   "metadata": {
    "ExecuteTime": {
     "end_time": "2024-07-13T21:50:47.926938Z",
     "start_time": "2024-07-13T21:50:47.914429Z"
    }
   },
   "outputs": [],
   "source": [
    "unadjusted_ventilator_days_model = sm.OLS(ventilator_days_df['ventilator_days'], sm.add_constant(ventilator_days_df[['GCS']]))\n",
    "unadjusted_ventilator_days_results = unadjusted_ventilator_days_model.fit()\n",
    "print(unadjusted_ventilator_days_results.summary())"
   ]
  },
  {
   "cell_type": "code",
   "execution_count": null,
   "id": "37e4a0de6bf6dd27",
   "metadata": {
    "ExecuteTime": {
     "end_time": "2024-07-13T21:50:48.206687Z",
     "start_time": "2024-07-13T21:50:47.928330Z"
    }
   },
   "outputs": [],
   "source": [
    "# hospital stay\n",
    "hospital_stay_df = df[[\"Hospital_stay_[d]\", 'GCS_(Erstbefund)', 'Sverweis_Geschlecht_encoded', 'Alter__(Patient)', 'Einteilung_encoded']]\n",
    "hospital_stay_df.columns = ['hospital_stay', 'GCS', 'sex', 'age', 'category']\n",
    "print(f'number of nan (excluded): {hospital_stay_df.isna().sum().sum()}')\n",
    "hospital_stay_df.dropna(inplace=True)\n",
    "\n",
    "overall_hospital_stay_model = Lmer(f\"hospital_stay ~ GCS + sex + age + (1|category)\", data=hospital_stay_df, family='gaussian')\n",
    "overall_hospital_stay_res = overall_hospital_stay_model.fit()\n",
    "print(overall_hospital_stay_res)"
   ]
  },
  {
   "cell_type": "code",
   "execution_count": null,
   "id": "b5a65b7c93fd4e84",
   "metadata": {
    "ExecuteTime": {
     "end_time": "2024-07-13T21:50:48.222371Z",
     "start_time": "2024-07-13T21:50:48.208597Z"
    }
   },
   "outputs": [],
   "source": [
    "unadjusted_hospital_stay_model = sm.OLS(hospital_stay_df['hospital_stay'], sm.add_constant(hospital_stay_df[['GCS']]))\n",
    "unadjusted_hospital_stay_results = unadjusted_hospital_stay_model.fit()\n",
    "print(unadjusted_hospital_stay_results.summary())"
   ]
  },
  {
   "cell_type": "code",
   "execution_count": null,
   "id": "475e19291e0c8318",
   "metadata": {
    "ExecuteTime": {
     "end_time": "2024-07-13T21:50:48.703464Z",
     "start_time": "2024-07-13T21:50:48.223364Z"
    }
   },
   "outputs": [],
   "source": [
    "# 28 d Survival\n",
    "survival_df = df[[\"28_d_Survival_[y/n]_encoded\", 'GCS_(Erstbefund)', 'Sverweis_Geschlecht_encoded', 'Alter__(Patient)', 'Einteilung_encoded']]\n",
    "survival_df.columns = ['survival', 'GCS', 'sex', 'age', 'category']\n",
    "print(f'number of nan (excluded): {survival_df.isna().sum().sum()}')\n",
    "survival_df.dropna(inplace=True)\n",
    "\n",
    "overall_survival_model = Lmer(f\"survival ~ GCS + sex + age + (1|category)\", data=survival_df, family='binomial')\n",
    "overall_survival_res = overall_survival_model.fit()\n",
    "print(overall_survival_res)\n",
    "                    "
   ]
  },
  {
   "cell_type": "code",
   "execution_count": null,
   "id": "521459624f4267e3",
   "metadata": {
    "ExecuteTime": {
     "end_time": "2024-07-13T21:50:48.719838Z",
     "start_time": "2024-07-13T21:50:48.706758Z"
    }
   },
   "outputs": [],
   "source": [
    "unadjusted_survival_model = sm.Logit(survival_df['survival'], sm.add_constant(survival_df[['GCS']]))\n",
    "unadjusted_survival_results = unadjusted_survival_model.fit()\n",
    "print(unadjusted_survival_results.summary())"
   ]
  },
  {
   "cell_type": "code",
   "execution_count": null,
   "id": "bb5d57f911c515af",
   "metadata": {
    "ExecuteTime": {
     "end_time": "2024-07-13T21:50:49.337192Z",
     "start_time": "2024-07-13T21:50:48.721349Z"
    }
   },
   "outputs": [],
   "source": [
    "# pneumonia\n",
    "pneumonia_df = df[['ITN_ass._Pneumonia_[y/n]_encoded', 'GCS_(Erstbefund)', 'Sverweis_Geschlecht_encoded', 'Alter__(Patient)', 'Einteilung_encoded']]\n",
    "pneumonia_df.columns = ['pneumonia', 'GCS', 'sex', 'age', 'category']\n",
    "print(f'number of nan (excluded): {pneumonia_df.isna().sum().sum()}')\n",
    "pneumonia_df.dropna(inplace=True)\n",
    "\n",
    "overall_pneumonia_model = Lmer(f\"pneumonia ~ GCS + sex + age + (1|category)\", data=pneumonia_df, family='binomial')\n",
    "overall_pneumonia_res = overall_pneumonia_model.fit()\n",
    "print(overall_pneumonia_res)"
   ]
  },
  {
   "cell_type": "code",
   "execution_count": null,
   "id": "24a144fc626ed0b9",
   "metadata": {
    "ExecuteTime": {
     "end_time": "2024-07-13T21:50:49.353454Z",
     "start_time": "2024-07-13T21:50:49.338629Z"
    }
   },
   "outputs": [],
   "source": [
    "unadjusted_pneumonia_model = sm.Logit(pneumonia_df['pneumonia'], sm.add_constant(pneumonia_df[['GCS']]))\n",
    "unadjusted_pneumonia_results = unadjusted_pneumonia_model.fit()\n",
    "print(unadjusted_pneumonia_results.summary())"
   ]
  },
  {
   "cell_type": "code",
   "execution_count": null,
   "id": "2446f0b8a4a26831",
   "metadata": {
    "ExecuteTime": {
     "end_time": "2024-07-13T22:01:37.269740Z",
     "start_time": "2024-07-13T22:01:37.215853Z"
    }
   },
   "outputs": [],
   "source": [
    "# save all model results in pdf with headings for each outcome and model\n",
    "\n",
    "from reportlab.lib.pagesizes import letter\n",
    "from reportlab.pdfgen import canvas\n",
    "from reportlab.lib.utils import ImageReader\n",
    "import io\n",
    "\n",
    "# Function to add model results to PDF\n",
    "def add_model_results_to_pdf(c, model_results,heading, start_y=750):\n",
    "    c.setFont(\"Helvetica\", 12)\n",
    "    y_position = start_y\n",
    "    c.drawString(100, y_position, heading)\n",
    "    y_position -= 20 \n",
    "    \n",
    "    text_object = c.beginText(40, y_position)\n",
    "    text_object.setFont(\"Helvetica\", 10)\n",
    "    for line in model_results.split('\\n'):\n",
    "        text_object.textLine(line)\n",
    "        y_position -= 10\n",
    "        # Check if we need to start a new page\n",
    "        if y_position < 40:  # Adjust based on your footer size\n",
    "            c.drawText(text_object)\n",
    "            c.showPage()  # Start a new page\n",
    "            c.setFont(\"Helvetica\", 12)\n",
    "            y_position = start_y - 20  # Reset y_position for the new page\n",
    "            text_object = c.beginText(40, y_position)\n",
    "            text_object.setFont(\"Helvetica\", 10)\n",
    "\n",
    "    c.drawText(text_object)\n",
    "\n",
    "# Create a new PDF with ReportLab\n",
    "c = canvas.Canvas(\"/Users/jk1/Downloads/model_results.pdf\", pagesize=letter)\n",
    "height = letter[1]\n",
    "\n",
    "# Assuming you have model results as strings, for example:\n",
    "overall_icu_los_res_str = str(overall_icu_los_res)\n",
    "unadjusted_icu_los_results_str = str(unadjusted_icu_los_results.summary())\n",
    "# Add more model results strings as needed\n",
    "\n",
    "add_model_results_to_pdf(c, overall_icu_los_res_str, \"Adjusted ICU LOS Model Results\")\n",
    "c.showPage()  # Start a new page for the next model if necessary\n",
    "add_model_results_to_pdf(c, unadjusted_icu_los_results_str, \"Unadjusted ICU LOS Model Results\")\n",
    "c.showPage()  # Start a new page for the next model if necessary\n",
    "\n",
    "\n",
    "add_model_results_to_pdf(c, str(overall_ventilator_days_res), \"Adjusted Ventilator Days Model Results\")\n",
    "c.showPage()  # Start a new page for the next model if necessary\n",
    "add_model_results_to_pdf(c, str(unadjusted_ventilator_days_results.summary()), \"Unadjusted Ventilator Days Model Results\")\n",
    "c.showPage()  # Start a new page for the next model if necessary\n",
    "\n",
    "add_model_results_to_pdf(c, str(overall_hospital_stay_res), \"Adjusted Hospital Stay Model Results\")\n",
    "c.showPage()  # Start a new page for the next model if necessary\n",
    "add_model_results_to_pdf(c, str(unadjusted_hospital_stay_results.summary()), \"Unadjusted Hospital Stay Model Results\")\n",
    "c.showPage()  # Start a new page for the next model if necessary\n",
    "\n",
    "add_model_results_to_pdf(c, str(overall_survival_res), \"Adjusted 28 d Survival Model Results\")\n",
    "c.showPage()  # Start a new page for the next model if necessary\n",
    "add_model_results_to_pdf(c, str(unadjusted_survival_results.summary()), \"Unadjusted 28 d Survival Model Results\")\n",
    "c.showPage()  # Start a new page for the next model if necessary\n",
    "\n",
    "add_model_results_to_pdf(c, str(overall_pneumonia_res), \"Adjusted Pneumonia Model Results\")\n",
    "c.showPage()  # Start a new page for the next model if necessary\n",
    "add_model_results_to_pdf(c, str(unadjusted_pneumonia_results.summary()), \"Unadjusted Pneumonia Model Results\")\n",
    "\n",
    "# Save the PDF\n",
    "c.save()\n"
   ]
  },
  {
   "cell_type": "code",
   "execution_count": null,
   "id": "1b17b83f14c91bd9",
   "metadata": {
    "ExecuteTime": {
     "end_time": "2024-07-13T21:50:49.373283Z",
     "start_time": "2024-07-13T21:50:49.371396Z"
    }
   },
   "outputs": [],
   "source": []
  },
  {
   "cell_type": "code",
   "execution_count": null,
   "id": "fe1948a844b2f921",
   "metadata": {},
   "outputs": [],
   "source": []
  }
 ],
 "metadata": {
  "kernelspec": {
   "display_name": "Python 3",
   "language": "python",
   "name": "python3"
  },
  "language_info": {
   "codemirror_mode": {
    "name": "ipython",
    "version": 2
   },
   "file_extension": ".py",
   "mimetype": "text/x-python",
   "name": "python",
   "nbconvert_exporter": "python",
   "pygments_lexer": "ipython2",
   "version": "2.7.6"
  }
 },
 "nbformat": 4,
 "nbformat_minor": 5
}
