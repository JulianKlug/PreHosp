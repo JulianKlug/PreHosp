{
 "cells": [
  {
   "cell_type": "code",
   "execution_count": null,
   "id": "initial_id",
   "metadata": {
    "ExecuteTime": {
     "end_time": "2024-10-28T10:20:13.665746Z",
     "start_time": "2024-10-28T10:20:13.663282Z"
    }
   },
   "outputs": [],
   "source": [
    "import pandas as pd\n",
    "import seaborn as sns\n",
    "import matplotlib.pyplot as plt\n",
    "from scipy.stats import wilcoxon\n",
    "import statsmodels"
   ]
  },
  {
   "cell_type": "code",
   "execution_count": null,
   "id": "454cd805e21382be",
   "metadata": {
    "ExecuteTime": {
     "end_time": "2024-10-28T10:20:13.684755Z",
     "start_time": "2024-10-28T10:20:13.681822Z"
    }
   },
   "outputs": [],
   "source": [
    "data_path = '/Users/jk1/Library/CloudStorage/OneDrive-unige.ch/icu_research/prehospital/intubation_trigger/data/Mastertabelle_filtered.xlsx'"
   ]
  },
  {
   "cell_type": "code",
   "execution_count": null,
   "id": "e0de5a11eae6099f",
   "metadata": {
    "ExecuteTime": {
     "end_time": "2024-10-28T10:20:14.403439Z",
     "start_time": "2024-10-28T10:20:13.698858Z"
    }
   },
   "outputs": [],
   "source": [
    "df = pd.read_excel(data_path)"
   ]
  },
  {
   "cell_type": "code",
   "execution_count": null,
   "id": "c876ea5596bd65f8",
   "metadata": {
    "ExecuteTime": {
     "end_time": "2024-10-28T10:20:14.525440Z",
     "start_time": "2024-10-28T10:20:14.507665Z"
    }
   },
   "outputs": [],
   "source": [
    "df.head()"
   ]
  },
  {
   "cell_type": "code",
   "execution_count": null,
   "id": "129c3207046512d5",
   "metadata": {
    "ExecuteTime": {
     "end_time": "2024-10-28T10:20:16.814992Z",
     "start_time": "2024-10-28T10:20:16.809563Z"
    }
   },
   "outputs": [],
   "source": [
    "df = df[df.Comment != 'Reanimation']"
   ]
  },
  {
   "cell_type": "code",
   "execution_count": null,
   "id": "afff36574582df14",
   "metadata": {
    "ExecuteTime": {
     "end_time": "2024-10-28T10:20:17.829180Z",
     "start_time": "2024-10-28T10:20:17.819130Z"
    }
   },
   "outputs": [],
   "source": [
    "df['Einteilung (Hauptdiagnose)'].value_counts()"
   ]
  },
  {
   "cell_type": "code",
   "execution_count": null,
   "id": "29cefd5af4a7b122",
   "metadata": {
    "ExecuteTime": {
     "end_time": "2024-10-28T10:20:21.347421Z",
     "start_time": "2024-10-28T10:20:21.342653Z"
    }
   },
   "outputs": [],
   "source": [
    "# find number of nans in column\n",
    "df['Einteilung (Hauptdiagnose)'].isna().sum()"
   ]
  },
  {
   "cell_type": "code",
   "execution_count": null,
   "id": "b67c4658cbb6adf1",
   "metadata": {
    "ExecuteTime": {
     "end_time": "2024-10-28T10:20:23.931646Z",
     "start_time": "2024-10-28T10:20:23.926636Z"
    }
   },
   "outputs": [],
   "source": [
    "df['Diagnose präklinisch'].unique()"
   ]
  },
  {
   "cell_type": "code",
   "execution_count": null,
   "id": "ce990330e68de72f",
   "metadata": {
    "ExecuteTime": {
     "end_time": "2024-10-28T10:20:26.168279Z",
     "start_time": "2024-10-28T10:20:26.161635Z"
    }
   },
   "outputs": [],
   "source": [
    "df['GCS (Erstbefund)'].value_counts()"
   ]
  },
  {
   "cell_type": "code",
   "execution_count": null,
   "id": "eba231b6522a911",
   "metadata": {
    "ExecuteTime": {
     "end_time": "2024-10-28T10:20:30.556950Z",
     "start_time": "2024-10-28T10:20:30.550507Z"
    }
   },
   "outputs": [],
   "source": [
    "# number of nans in GCS\n",
    "df['GCS (Erstbefund)'].isna().sum()"
   ]
  },
  {
   "cell_type": "code",
   "execution_count": null,
   "id": "9853ed0c37e4afc1",
   "metadata": {
    "ExecuteTime": {
     "end_time": "2024-10-28T10:20:33.610412Z",
     "start_time": "2024-10-28T10:20:33.605092Z"
    }
   },
   "outputs": [],
   "source": [
    "df['Sverweis_Geschlecht_encoded'] = df['Sverweis_Geschlecht'].map({'männlich': 0, 'weiblich': 1})"
   ]
  },
  {
   "cell_type": "markdown",
   "id": "ad29d1b295415b02",
   "metadata": {
    "collapsed": false
   },
   "source": [
    "## Overall GCS distribution: medical vs trauma"
   ]
  },
  {
   "cell_type": "code",
   "execution_count": null,
   "id": "273cd95590081e53",
   "metadata": {
    "ExecuteTime": {
     "end_time": "2024-10-28T10:20:39.464293Z",
     "start_time": "2024-10-28T10:20:39.454282Z"
    }
   },
   "outputs": [],
   "source": [
    "df[(df['Einteilung (Hauptdiagnose)'] == 'Krankheit') & (df['GCS (Erstbefund)'].notna())]['GCS (Erstbefund)'].describe()"
   ]
  },
  {
   "cell_type": "code",
   "execution_count": null,
   "id": "1c783588c5cda03a",
   "metadata": {
    "ExecuteTime": {
     "end_time": "2024-10-28T10:20:43.770702Z",
     "start_time": "2024-10-28T10:20:43.762983Z"
    }
   },
   "outputs": [],
   "source": [
    "df[(df['Einteilung (Hauptdiagnose)'] == 'Unfall') & (df['GCS (Erstbefund)'].notna())]['GCS (Erstbefund)'].describe()"
   ]
  },
  {
   "cell_type": "markdown",
   "id": "1eaccee322e427a",
   "metadata": {},
   "source": [
    "Uncorrected"
   ]
  },
  {
   "cell_type": "code",
   "execution_count": null,
   "id": "a14c2f235e91a9cc",
   "metadata": {
    "ExecuteTime": {
     "end_time": "2024-10-28T10:20:48.416015Z",
     "start_time": "2024-10-28T10:20:48.408330Z"
    }
   },
   "outputs": [],
   "source": [
    "from statsmodels.stats.nonparametric import rank_compare_2indep"
   ]
  },
  {
   "cell_type": "code",
   "execution_count": null,
   "id": "d312043b7865d614",
   "metadata": {
    "ExecuteTime": {
     "end_time": "2024-10-28T10:20:50.046797Z",
     "start_time": "2024-10-28T10:20:50.041067Z"
    }
   },
   "outputs": [],
   "source": [
    "res = rank_compare_2indep(df[(df['Einteilung (Hauptdiagnose)'] == 'Krankheit') & (df['GCS (Erstbefund)'].notna())]['GCS (Erstbefund)'].values,\n",
    "                    df[(df['Einteilung (Hauptdiagnose)'] == 'Unfall') & (df['GCS (Erstbefund)'].notna())]['GCS (Erstbefund)'].values)"
   ]
  },
  {
   "cell_type": "code",
   "execution_count": null,
   "id": "18056e5bab4169de",
   "metadata": {
    "ExecuteTime": {
     "end_time": "2024-10-28T10:20:52.575788Z",
     "start_time": "2024-10-28T10:20:52.572090Z"
    }
   },
   "outputs": [],
   "source": [
    "res.pvalue"
   ]
  },
  {
   "cell_type": "markdown",
   "id": "f93e1a08e2b5ee4e",
   "metadata": {},
   "source": [
    "with correction for age / sex"
   ]
  },
  {
   "cell_type": "code",
   "execution_count": null,
   "id": "19332ff61524a43",
   "metadata": {
    "ExecuteTime": {
     "end_time": "2024-10-28T10:20:55.027886Z",
     "start_time": "2024-10-28T10:20:55.024780Z"
    }
   },
   "outputs": [],
   "source": [
    "# encode eineteilung\n",
    "df['Einteilung_encoded'] = df['Einteilung (Hauptdiagnose)'].map({'Krankheit': 0, 'Unfall': 1})"
   ]
  },
  {
   "cell_type": "code",
   "execution_count": null,
   "id": "bc926a65919364d4",
   "metadata": {
    "ExecuteTime": {
     "end_time": "2024-10-28T10:21:01.806547Z",
     "start_time": "2024-10-28T10:21:01.774291Z"
    }
   },
   "outputs": [],
   "source": [
    "from statsmodels.miscmodels.ordinal_model import OrderedModel\n",
    "\n",
    "temp_df = df[['GCS (Erstbefund)', 'Einteilung_encoded', 'Sverweis_Geschlecht_encoded', 'Alter  (Patient)']]\n",
    "temp_df.dropna(inplace=True)\n",
    "\n",
    "mod_prob_med = OrderedModel(temp_df['GCS (Erstbefund)'], temp_df[['Einteilung_encoded', 'Sverweis_Geschlecht_encoded', 'Alter  (Patient)']], distr='probit')"
   ]
  },
  {
   "cell_type": "code",
   "execution_count": null,
   "id": "64aac2d326624198",
   "metadata": {
    "ExecuteTime": {
     "end_time": "2024-10-28T10:21:04.532179Z",
     "start_time": "2024-10-28T10:21:02.547245Z"
    }
   },
   "outputs": [],
   "source": [
    "res_prob_med = mod_prob_med.fit(maxiter=10000)"
   ]
  },
  {
   "cell_type": "code",
   "execution_count": null,
   "id": "5554717d40bbb219",
   "metadata": {
    "ExecuteTime": {
     "end_time": "2024-10-28T10:21:34.734610Z",
     "start_time": "2024-10-28T10:21:34.711438Z"
    }
   },
   "outputs": [],
   "source": [
    "res_prob_med.summary()"
   ]
  },
  {
   "cell_type": "code",
   "execution_count": null,
   "id": "3cd29831e0135e83",
   "metadata": {
    "ExecuteTime": {
     "end_time": "2024-10-28T10:21:38.977781Z",
     "start_time": "2024-10-28T10:21:38.784158Z"
    }
   },
   "outputs": [],
   "source": [
    "# plot boxplot of GCS according to main diagnosis\n",
    "fig = plt.figure(figsize=(10, 6))\n",
    "ax = sns.boxplot(x='Einteilung (Hauptdiagnose)', y='GCS (Erstbefund)', data=df[df['Einteilung (Hauptdiagnose)'] != 'Keine Diagnose'],\n",
    "                 showfliers=False, hue='Einteilung (Hauptdiagnose)', palette='viridis', legend=False)\n",
    "\n",
    "# add annotation of p-value (line between boxes)\n",
    "# get the x and y coordinates\n",
    "x1, x2 = 0, 1\n",
    "y, h, col = df['GCS (Erstbefund)'].max() + 0.4, 0.3, 'k'\n",
    "plt.plot([x1, x1, x2, x2], [y, y+h, y+h, y], lw=1.5, c=col)\n",
    "plt.text((x1+x2)*.5, y+h+0.1, f'p={res.pvalue:.3f}', ha='center', va='bottom', color=col)\n",
    "\n",
    "ax.set_ylim(3, 17)\n",
    "plt.ylabel('GCS')\n",
    "\n",
    "# don't allow y_ticks > 15\n",
    "plt.yticks(range(3, 16, 2))\n",
    "\n",
    "plt.xticks(rotation=45)\n",
    "# set x ticks\n",
    "plt.xticks(ticks=[0, 1], labels=['Non-Trauma', 'Trauma'])\n",
    "plt.xlabel('')\n",
    "\n",
    "plt.show()"
   ]
  },
  {
   "cell_type": "code",
   "execution_count": null,
   "id": "dbc5a06264f1dfd7",
   "metadata": {
    "ExecuteTime": {
     "end_time": "2024-10-28T10:21:44.640560Z",
     "start_time": "2024-10-28T10:21:44.637841Z"
    }
   },
   "outputs": [],
   "source": [
    "# fig.savefig('/Users/jk1/Downloads/gcs_intubation.png', dpi=600, bbox_inches='tight')"
   ]
  },
  {
   "cell_type": "code",
   "execution_count": null,
   "id": "98bf1aff7cac4d7",
   "metadata": {
    "ExecuteTime": {
     "end_time": "2024-10-28T10:21:45.321169Z",
     "start_time": "2024-10-28T10:21:45.310069Z"
    }
   },
   "outputs": [],
   "source": [
    "# build table with median (IQR) of GCS for each main diagnosis, and p-value\n",
    "\n",
    "results_df = pd.DataFrame(columns=['Medical', 'Trauma', 'p-value'])\n",
    "medical_df = df[(df['Einteilung (Hauptdiagnose)'] == 'Krankheit') & (df['GCS (Erstbefund)'].notna())]['GCS (Erstbefund)']\n",
    "trauma_df = df[(df['Einteilung (Hauptdiagnose)'] == 'Unfall') & (df['GCS (Erstbefund)'].notna())]['GCS (Erstbefund)']\n",
    "results_df.loc['n'] = [len(medical_df), len(trauma_df), '']\n",
    "results_df.loc['GCS (median/IQR)'] = [f'{medical_df.median()} ({medical_df.quantile(0.25)}-{medical_df.quantile(0.75)})',\n",
    "                        f'{trauma_df.median()} ({trauma_df.quantile(0.25)}-{trauma_df.quantile(0.75)})',\n",
    "                        res.pvalue]\n",
    "\n"
   ]
  },
  {
   "cell_type": "code",
   "execution_count": null,
   "id": "e92bbbad60b94018",
   "metadata": {
    "ExecuteTime": {
     "end_time": "2024-10-28T10:21:48.859839Z",
     "start_time": "2024-10-28T10:21:48.853457Z"
    }
   },
   "outputs": [],
   "source": [
    "results_df"
   ]
  },
  {
   "cell_type": "code",
   "execution_count": null,
   "id": "2ed4ce2d40194f86",
   "metadata": {
    "ExecuteTime": {
     "end_time": "2024-07-01T19:58:21.763048Z",
     "start_time": "2024-07-01T19:58:21.755862Z"
    }
   },
   "outputs": [],
   "source": [
    "# results_df.to_csv('/Users/jk1/Downloads/gcs_intubation.csv')"
   ]
  },
  {
   "cell_type": "markdown",
   "id": "a0219e2baaf0f50e",
   "metadata": {},
   "source": [
    "### GCS distribution: non-trauma vs trauma (excluding burns) "
   ]
  },
  {
   "cell_type": "code",
   "execution_count": null,
   "id": "d7fc90f855b74e54",
   "metadata": {
    "ExecuteTime": {
     "end_time": "2024-10-28T10:23:38.101653Z",
     "start_time": "2024-10-28T10:23:38.096818Z"
    }
   },
   "outputs": [],
   "source": [
    "no_burns_df = df[df['Kategorie (Hauptdiagnose)'] != 'Verbrennung']\n",
    "no_burns_df.shape, df.shape"
   ]
  },
  {
   "cell_type": "markdown",
   "id": "5e54e90986cbf038",
   "metadata": {},
   "source": [
    "Uncorrected"
   ]
  },
  {
   "cell_type": "code",
   "execution_count": null,
   "id": "8d145c3e509ff3ea",
   "metadata": {
    "ExecuteTime": {
     "end_time": "2024-10-28T10:25:13.721710Z",
     "start_time": "2024-10-28T10:25:13.716276Z"
    }
   },
   "outputs": [],
   "source": [
    "no_burns_res = rank_compare_2indep(no_burns_df[(no_burns_df['Einteilung (Hauptdiagnose)'] == 'Krankheit') & (no_burns_df['GCS (Erstbefund)'].notna())]['GCS (Erstbefund)'].values,\n",
    "                    no_burns_df[(no_burns_df['Einteilung (Hauptdiagnose)'] == 'Unfall') & (no_burns_df['GCS (Erstbefund)'].notna())]['GCS (Erstbefund)'].values)"
   ]
  },
  {
   "cell_type": "code",
   "execution_count": null,
   "id": "23a4fedd862a9336",
   "metadata": {
    "ExecuteTime": {
     "end_time": "2024-10-28T10:25:17.046672Z",
     "start_time": "2024-10-28T10:25:17.042316Z"
    }
   },
   "outputs": [],
   "source": [
    "no_burns_res.pvalue"
   ]
  },
  {
   "cell_type": "markdown",
   "id": "d5eed7b08c1ae30",
   "metadata": {},
   "source": [
    "With correction"
   ]
  },
  {
   "cell_type": "code",
   "execution_count": null,
   "id": "d4328b02e680b09e",
   "metadata": {
    "ExecuteTime": {
     "end_time": "2024-10-28T10:27:11.642341Z",
     "start_time": "2024-10-28T10:27:10.126096Z"
    }
   },
   "outputs": [],
   "source": [
    "no_burns_temp_df = no_burns_df[['GCS (Erstbefund)', 'Einteilung_encoded', 'Sverweis_Geschlecht_encoded', 'Alter  (Patient)']]\n",
    "no_burns_temp_df.dropna(inplace=True)\n",
    "\n",
    "no_burns_mod_prob_med = OrderedModel(no_burns_temp_df['GCS (Erstbefund)'],\n",
    "                            no_burns_temp_df[['Einteilung_encoded', 'Sverweis_Geschlecht_encoded', 'Alter  (Patient)']],\n",
    "                            distr='probit')\n",
    "no_burns_res_prob_med = no_burns_mod_prob_med.fit(maxiter=10000)"
   ]
  },
  {
   "cell_type": "code",
   "execution_count": null,
   "id": "b27de70702054efe",
   "metadata": {
    "ExecuteTime": {
     "end_time": "2024-10-28T10:27:12.449298Z",
     "start_time": "2024-10-28T10:27:12.428823Z"
    }
   },
   "outputs": [],
   "source": [
    "no_burns_res_prob_med.summary()"
   ]
  },
  {
   "cell_type": "code",
   "execution_count": null,
   "id": "278f72a71d7036f",
   "metadata": {
    "ExecuteTime": {
     "end_time": "2024-10-28T10:29:02.616021Z",
     "start_time": "2024-10-28T10:29:02.471675Z"
    }
   },
   "outputs": [],
   "source": [
    "# plot boxplot of GCS according to main diagnosis\n",
    "fig = plt.figure(figsize=(10, 6))\n",
    "\n",
    "ax = sns.boxplot(x='Einteilung (Hauptdiagnose)', y='GCS (Erstbefund)', data=no_burns_df[no_burns_df['Einteilung (Hauptdiagnose)'] != 'Keine Diagnose'],\n",
    "                    showfliers=False, hue='Einteilung (Hauptdiagnose)', palette='viridis', legend=False)\n",
    "\n",
    "# add annotation of p-value (line between boxes)\n",
    "# get the x and y coordinates\n",
    "x1, x2 = 0, 1\n",
    "y, h, col = no_burns_df['GCS (Erstbefund)'].max() + 0.4, 0.3, 'k'\n",
    "plt.plot([x1, x1, x2, x2], [y, y+h, y+h, y], lw=1.5, c=col)\n",
    "plt.text((x1+x2)*.5, y+h+0.1, f'p={no_burns_res.pvalue:.3f}', ha='center', va='bottom', color=col)\n",
    "\n",
    "ax.set_ylim(3, 17)\n",
    "plt.ylabel('GCS')\n",
    "\n",
    "# don't allow y_ticks > 15\n",
    "plt.yticks(range(3, 16, 2))\n",
    "\n",
    "plt.xticks(rotation=45)\n",
    "# set x ticks\n",
    "plt.xticks(ticks=[0, 1], labels=['Non-Trauma', 'Trauma'])\n",
    "plt.xlabel('')\n",
    "\n",
    "plt.show()\n",
    "                 "
   ]
  },
  {
   "cell_type": "code",
   "execution_count": null,
   "id": "4208619c99b19fc9",
   "metadata": {
    "ExecuteTime": {
     "end_time": "2024-10-28T10:29:32.203224Z",
     "start_time": "2024-10-28T10:29:30.579846Z"
    }
   },
   "outputs": [],
   "source": [
    "# fig.savefig('/Users/jk1/Downloads/gcs_intubation_no_burns.png', dpi=600, bbox_inches='tight')"
   ]
  },
  {
   "cell_type": "code",
   "execution_count": null,
   "id": "1faad25a40c8145",
   "metadata": {
    "ExecuteTime": {
     "end_time": "2024-10-28T10:30:16.821482Z",
     "start_time": "2024-10-28T10:30:16.811196Z"
    }
   },
   "outputs": [],
   "source": [
    "# build table with median (IQR) of GCS for each main diagnosis, and p-value\n",
    "\n",
    "no_burns_results_df = pd.DataFrame(columns=['Medical', 'Trauma', 'p-value'])\n",
    "no_burns_medical_df = no_burns_df[(no_burns_df['Einteilung (Hauptdiagnose)'] == 'Krankheit') & (no_burns_df['GCS (Erstbefund)'].notna())]['GCS (Erstbefund)']\n",
    "no_burns_trauma_df = no_burns_df[(no_burns_df['Einteilung (Hauptdiagnose)'] == 'Unfall') & (no_burns_df['GCS (Erstbefund)'].notna())]['GCS (Erstbefund)']\n",
    "no_burns_results_df.loc['n'] = [len(no_burns_medical_df), len(no_burns_trauma_df), '']\n",
    "no_burns_results_df.loc['GCS (median/IQR)'] = [f'{no_burns_medical_df.median()} ({no_burns_medical_df.quantile(0.25)}-{no_burns_medical_df.quantile(0.75)})',\n",
    "                        f'{no_burns_trauma_df.median()} ({no_burns_trauma_df.quantile(0.25)}-{no_burns_trauma_df.quantile(0.75)})',\n",
    "                        no_burns_res.pvalue]"
   ]
  },
  {
   "cell_type": "code",
   "execution_count": null,
   "id": "19fca136b39aab5d",
   "metadata": {
    "ExecuteTime": {
     "end_time": "2024-10-28T10:30:24.485051Z",
     "start_time": "2024-10-28T10:30:24.478440Z"
    }
   },
   "outputs": [],
   "source": [
    "no_burns_results_df"
   ]
  },
  {
   "cell_type": "code",
   "execution_count": null,
   "id": "e2d1f71a5807c324",
   "metadata": {},
   "outputs": [],
   "source": [
    "# no_burns_results_df.to_csv('/Users/jk1/Downloads/gcs_intubation_no_burns.csv')"
   ]
  },
  {
   "cell_type": "markdown",
   "id": "61cd06d076d2300a",
   "metadata": {
    "collapsed": false
   },
   "source": [
    "### Evaluation of subgroups in medical/trauma\n",
    "\n",
    "Test: Kruskal-Wallis"
   ]
  },
  {
   "cell_type": "code",
   "execution_count": null,
   "id": "76b122c775f1902c",
   "metadata": {
    "ExecuteTime": {
     "end_time": "2024-07-01T19:57:00.091184Z",
     "start_time": "2024-07-01T19:57:00.087509Z"
    }
   },
   "outputs": [],
   "source": [
    "df['Kategorie (Hauptdiagnose)'].unique()"
   ]
  },
  {
   "cell_type": "code",
   "execution_count": null,
   "id": "549b45bdc9b0f588",
   "metadata": {
    "ExecuteTime": {
     "end_time": "2024-07-01T19:57:00.704376Z",
     "start_time": "2024-07-01T19:57:00.700705Z"
    }
   },
   "outputs": [],
   "source": [
    "df['Kategorie (Hauptdiagnose)'].isna().sum()"
   ]
  },
  {
   "cell_type": "markdown",
   "id": "63da55b9214b6cea",
   "metadata": {
    "collapsed": false
   },
   "source": [
    "#### Medical"
   ]
  },
  {
   "cell_type": "code",
   "execution_count": null,
   "id": "38e78df4a4eea05c",
   "metadata": {
    "ExecuteTime": {
     "end_time": "2024-07-01T19:57:02.505811Z",
     "start_time": "2024-07-01T19:57:02.501791Z"
    }
   },
   "outputs": [],
   "source": [
    "medical_df = df[(df['Einteilung (Hauptdiagnose)'] == 'Krankheit') & (df['GCS (Erstbefund)'].notna())]"
   ]
  },
  {
   "cell_type": "code",
   "execution_count": null,
   "id": "2286baf484e7048",
   "metadata": {
    "ExecuteTime": {
     "end_time": "2024-07-01T19:57:03.014582Z",
     "start_time": "2024-07-01T19:57:03.006640Z"
    }
   },
   "outputs": [],
   "source": [
    "# use kruskal-wallis to compare GCS between different categories\n",
    "from statsmodels.sandbox.stats.multicomp import MultiComparison"
   ]
  },
  {
   "cell_type": "code",
   "execution_count": null,
   "id": "a00c57fe40a9598b",
   "metadata": {
    "ExecuteTime": {
     "end_time": "2024-07-01T19:57:03.524619Z",
     "start_time": "2024-07-01T19:57:03.521095Z"
    }
   },
   "outputs": [],
   "source": [
    "multicomp = MultiComparison(medical_df['GCS (Erstbefund)'], medical_df['Kategorie (Hauptdiagnose)'])"
   ]
  },
  {
   "cell_type": "code",
   "execution_count": null,
   "id": "de3a36c292db06ca",
   "metadata": {
    "ExecuteTime": {
     "end_time": "2024-07-01T19:57:04.231920Z",
     "start_time": "2024-07-01T19:57:04.225997Z"
    }
   },
   "outputs": [],
   "source": [
    "res = multicomp.kruskal()\n",
    "res"
   ]
  },
  {
   "cell_type": "code",
   "execution_count": null,
   "id": "c1f525f227720040",
   "metadata": {
    "ExecuteTime": {
     "end_time": "2024-07-01T19:57:05.238098Z",
     "start_time": "2024-07-01T19:57:05.233029Z"
    }
   },
   "outputs": [],
   "source": [
    "medical_df['Kategorie (Hauptdiagnose)'].value_counts()"
   ]
  },
  {
   "cell_type": "code",
   "execution_count": null,
   "id": "2d76e74de0b2b1f6",
   "metadata": {
    "ExecuteTime": {
     "end_time": "2024-07-01T19:57:06.995831Z",
     "start_time": "2024-07-01T19:57:06.991387Z"
    }
   },
   "outputs": [],
   "source": [
    "medical_df['Kategorie (Hauptdiagnose) encoded'] = medical_df['Kategorie (Hauptdiagnose)'].map(\n",
    "    {'Zentralnervensystem': 0,\n",
    "     'Krampfanfall': 1,\n",
    "        'Herz-Kreislauf': 2,\n",
    "     'Intoxikation': 3,\n",
    "     'Respiratorisch': 4,\n",
    "     })"
   ]
  },
  {
   "cell_type": "code",
   "execution_count": null,
   "id": "12afc57223cbd20e",
   "metadata": {
    "ExecuteTime": {
     "end_time": "2024-07-01T19:57:07.725602Z",
     "start_time": "2024-07-01T19:57:07.721288Z"
    }
   },
   "outputs": [],
   "source": [
    "from statsmodels.miscmodels.ordinal_model import OrderedModel\n",
    "\n",
    "mod_prob_med = OrderedModel(medical_df['GCS (Erstbefund)'], medical_df[['Kategorie (Hauptdiagnose) encoded', 'Sverweis_Geschlecht_encoded', 'Alter  (Patient)']],\n",
    "                            distr='probit')"
   ]
  },
  {
   "cell_type": "code",
   "execution_count": null,
   "id": "20c9e5c953c04a29",
   "metadata": {
    "ExecuteTime": {
     "end_time": "2024-07-01T19:57:09.700192Z",
     "start_time": "2024-07-01T19:57:08.544015Z"
    }
   },
   "outputs": [],
   "source": [
    "res_prob_med = mod_prob_med.fit(maxiter=10000)"
   ]
  },
  {
   "cell_type": "code",
   "execution_count": null,
   "id": "5d1579835b54d4cd",
   "metadata": {
    "ExecuteTime": {
     "end_time": "2024-07-01T19:57:16.142956Z",
     "start_time": "2024-07-01T19:57:16.121511Z"
    }
   },
   "outputs": [],
   "source": [
    "res_prob_med.summary()"
   ]
  },
  {
   "cell_type": "markdown",
   "id": "1311d4b51f72257f",
   "metadata": {
    "collapsed": false
   },
   "source": [
    "#### Trauma"
   ]
  },
  {
   "cell_type": "code",
   "execution_count": null,
   "id": "4e188273f47e3b8a",
   "metadata": {
    "ExecuteTime": {
     "end_time": "2024-07-01T19:57:19.318418Z",
     "start_time": "2024-07-01T19:57:19.314561Z"
    }
   },
   "outputs": [],
   "source": [
    "trauma_df = df[(df['Einteilung (Hauptdiagnose)'] == 'Unfall') & (df['GCS (Erstbefund)'].notna())]"
   ]
  },
  {
   "cell_type": "code",
   "execution_count": null,
   "id": "fc0194cdfd74a2e4",
   "metadata": {
    "ExecuteTime": {
     "end_time": "2024-07-01T19:57:19.711898Z",
     "start_time": "2024-07-01T19:57:19.706657Z"
    }
   },
   "outputs": [],
   "source": [
    "trauma_df['Kategorie (Hauptdiagnose)'].value_counts()"
   ]
  },
  {
   "cell_type": "code",
   "execution_count": null,
   "id": "22af4c53ed6f1899",
   "metadata": {
    "ExecuteTime": {
     "end_time": "2024-07-01T19:57:20.115580Z",
     "start_time": "2024-07-01T19:57:20.112497Z"
    }
   },
   "outputs": [],
   "source": [
    "multicomp_trauma = MultiComparison(trauma_df['GCS (Erstbefund)'], trauma_df['Kategorie (Hauptdiagnose)'])"
   ]
  },
  {
   "cell_type": "code",
   "execution_count": null,
   "id": "10fd88b8596eb73b",
   "metadata": {
    "ExecuteTime": {
     "end_time": "2024-07-01T19:57:20.639045Z",
     "start_time": "2024-07-01T19:57:20.634537Z"
    }
   },
   "outputs": [],
   "source": [
    "trauma_res = multicomp_trauma.kruskal()\n",
    "trauma_res"
   ]
  },
  {
   "cell_type": "code",
   "execution_count": null,
   "id": "aec4f465445fb00a",
   "metadata": {
    "ExecuteTime": {
     "end_time": "2024-07-01T19:57:23.963601Z",
     "start_time": "2024-07-01T19:57:23.959455Z"
    }
   },
   "outputs": [],
   "source": [
    "trauma_df['Kategorie (Hauptdiagnose) encoded'] = trauma_df['Kategorie (Hauptdiagnose)'].map(\n",
    "    {'SHT': 0,\n",
    "        'Polytrauma': 1,\n",
    "        'Verbrennung': 2,\n",
    "        'Respiratorisch': 3,\n",
    "     })"
   ]
  },
  {
   "cell_type": "code",
   "execution_count": null,
   "id": "eef5255c428aa9bf",
   "metadata": {
    "ExecuteTime": {
     "end_time": "2024-07-01T19:57:25.453370Z",
     "start_time": "2024-07-01T19:57:25.447100Z"
    }
   },
   "outputs": [],
   "source": [
    "temp_df = trauma_df[['GCS (Erstbefund)', 'Kategorie (Hauptdiagnose) encoded', 'Sverweis_Geschlecht_encoded', 'Alter  (Patient)']]\n",
    "temp_df.dropna(inplace=True)\n",
    "\n",
    "mod_prob_trauma = OrderedModel(temp_df['GCS (Erstbefund)'], temp_df[['Kategorie (Hauptdiagnose) encoded', 'Sverweis_Geschlecht_encoded', 'Alter  (Patient)']],\n",
    "                            distr='probit')"
   ]
  },
  {
   "cell_type": "code",
   "execution_count": null,
   "id": "3f2ed3bfb466b766",
   "metadata": {
    "ExecuteTime": {
     "end_time": "2024-07-01T19:57:27.244705Z",
     "start_time": "2024-07-01T19:57:26.458649Z"
    }
   },
   "outputs": [],
   "source": [
    "res_prob_trauma = mod_prob_trauma.fit(maxiter=10000)"
   ]
  },
  {
   "cell_type": "code",
   "execution_count": null,
   "id": "45e617d3b3c54187",
   "metadata": {
    "ExecuteTime": {
     "end_time": "2024-07-01T19:57:28.154582Z",
     "start_time": "2024-07-01T19:57:28.130233Z"
    }
   },
   "outputs": [],
   "source": [
    "res_prob_trauma.summary()"
   ]
  },
  {
   "cell_type": "code",
   "execution_count": null,
   "id": "e3a76f0836fa7786",
   "metadata": {
    "ExecuteTime": {
     "end_time": "2024-06-29T21:17:15.498071Z",
     "start_time": "2024-06-29T21:17:15.180816Z"
    }
   },
   "outputs": [],
   "source": [
    "import scikit_posthocs as sp\n",
    "\n",
    "categories_gcs = [trauma_df[trauma_df['Kategorie (Hauptdiagnose)'] == cat]['GCS (Erstbefund)'] for cat in ['SHT', 'Polytrauma', 'Verbrennung', 'Respiratorisch']]\n",
    "\n",
    "dunn_res = sp.posthoc_dunn(categories_gcs, p_adjust='holm')"
   ]
  },
  {
   "cell_type": "code",
   "execution_count": null,
   "id": "c196f1764d124300",
   "metadata": {
    "ExecuteTime": {
     "end_time": "2024-06-29T21:17:44.687965Z",
     "start_time": "2024-06-29T21:17:44.684790Z"
    }
   },
   "outputs": [],
   "source": [
    "dunn_res.columns = ['SHT', 'Polytrauma', 'Verbrennung', 'Respiratorisch']\n",
    "dunn_res.index = ['SHT', 'Polytrauma', 'Verbrennung', 'Respiratorisch']"
   ]
  },
  {
   "cell_type": "code",
   "execution_count": null,
   "id": "c1fd1255a98bcaea",
   "metadata": {
    "ExecuteTime": {
     "end_time": "2024-06-29T21:17:57.018540Z",
     "start_time": "2024-06-29T21:17:57.011360Z"
    }
   },
   "outputs": [],
   "source": [
    "dunn_res"
   ]
  },
  {
   "cell_type": "markdown",
   "id": "5685048019d19126",
   "metadata": {
    "collapsed": false
   },
   "source": [
    "### Boxplots for medical and trauma"
   ]
  },
  {
   "cell_type": "code",
   "execution_count": null,
   "id": "1171e5dd6c2dcc69",
   "metadata": {
    "ExecuteTime": {
     "end_time": "2024-07-01T19:58:39.185445Z",
     "start_time": "2024-07-01T19:58:38.830373Z"
    }
   },
   "outputs": [],
   "source": [
    "# two subplots with boxplots for medical and trauma and every category\n",
    "\n",
    "fig, axs = plt.subplots(1, 2, figsize=(15, 6))\n",
    "\n",
    "sns.boxplot(x='Kategorie (Hauptdiagnose)', y='GCS (Erstbefund)', data=medical_df, showfliers=False, ax=axs[0], palette='mako',\n",
    "            boxprops=dict(alpha=.8))\n",
    "axs[0].set_title('Medical')\n",
    "\n",
    "sns.boxplot(x='Kategorie (Hauptdiagnose)', y='GCS (Erstbefund)', data=trauma_df, showfliers=False, ax=axs[1], palette='magma',\n",
    "            boxprops=dict(alpha=.8))\n",
    "axs[1].set_title('Trauma')\n",
    "\n",
    "# tilt x labels\n",
    "for ax in axs:\n",
    "    ax.set_xticklabels(ax.get_xticklabels(), rotation=65)\n",
    "\n",
    "# remove xaxis labels\n",
    "axs[0].set_xlabel('')\n",
    "axs[1].set_xlabel('')\n",
    "plt.show()"
   ]
  },
  {
   "cell_type": "code",
   "execution_count": null,
   "id": "b52e1edc643a1d1",
   "metadata": {
    "ExecuteTime": {
     "end_time": "2024-07-01T19:58:43.767635Z",
     "start_time": "2024-07-01T19:58:40.669431Z"
    }
   },
   "outputs": [],
   "source": [
    "# fig.savefig('/Users/jk1/Downloads/gcs_intubation_subgroups.png', dpi=600, bbox_inches='tight')"
   ]
  },
  {
   "cell_type": "markdown",
   "id": "c1a88b272c0deb06",
   "metadata": {
    "collapsed": false
   },
   "source": [
    "#### table with subgroups for medical and trauma"
   ]
  },
  {
   "cell_type": "code",
   "execution_count": null,
   "id": "75bfa048dd703cfe",
   "metadata": {
    "ExecuteTime": {
     "end_time": "2024-07-01T20:00:02.520529Z",
     "start_time": "2024-07-01T20:00:02.490641Z"
    }
   },
   "outputs": [],
   "source": [
    "# build table with median (IQR) of GCS for each main diagnosis\n",
    "medical_subgroups_df = pd.DataFrame(columns=['Zentralnervensystem', 'Krampfanfall', 'Herz-Kreislauf', 'Intoxikation', 'Respiratorisch'])\n",
    "trauma_subgroups_df = pd.DataFrame(columns=['SHT', 'Polytrauma', 'Verbrennung', 'Respiratorisch'])\n",
    "\n",
    "medical_subgroups_df.loc['n'] = [len(medical_df[medical_df['Kategorie (Hauptdiagnose)'] == cat]) for cat in ['Zentralnervensystem', 'Krampfanfall', 'Herz-Kreislauf', 'Intoxikation', 'Respiratorisch']]\n",
    "trauma_subgroups_df.loc['n'] = [len(trauma_df[trauma_df['Kategorie (Hauptdiagnose)'] == cat]) for cat in ['SHT', 'Polytrauma', 'Verbrennung', 'Respiratorisch']]\n",
    "\n",
    "for cat in ['Zentralnervensystem', 'Krampfanfall', 'Herz-Kreislauf', 'Intoxikation', 'Respiratorisch']:\n",
    "    gcs_df = medical_df[medical_df['Kategorie (Hauptdiagnose)'] == cat]['GCS (Erstbefund)']\n",
    "    medical_subgroups_df.loc['GCS (median/IQR)', cat] = f'{gcs_df.median()} ({gcs_df.quantile(0.25)}-{gcs_df.quantile(0.75)})'\n",
    "    \n",
    "for cat in ['SHT', 'Polytrauma', 'Verbrennung', 'Respiratorisch']:\n",
    "    gcs_df = trauma_df[trauma_df['Kategorie (Hauptdiagnose)'] == cat]['GCS (Erstbefund)']\n",
    "    trauma_subgroups_df.loc['GCS (median/IQR)', cat] = f'{gcs_df.median()} ({gcs_df.quantile(0.25)}-{gcs_df.quantile(0.75)})'\n"
   ]
  },
  {
   "cell_type": "code",
   "execution_count": null,
   "id": "aafcc381e84e330d",
   "metadata": {
    "ExecuteTime": {
     "end_time": "2024-07-01T20:00:03.577748Z",
     "start_time": "2024-07-01T20:00:03.570847Z"
    }
   },
   "outputs": [],
   "source": [
    "medical_subgroups_df = medical_subgroups_df.T\n",
    "trauma_subgroups_df = trauma_subgroups_df.T\n",
    "\n",
    "medical_subgroups_df.reset_index(inplace=True)\n",
    "trauma_subgroups_df.reset_index(inplace=True)\n",
    "\n",
    "medical_subgroups_df.columns = ['Kategorie', 'n', 'GCS (median/IQR)']\n",
    "trauma_subgroups_df.columns = ['Kategorie', 'n', 'GCS (median/IQR)']\n",
    "\n",
    "medical_subgroups_df['Einteilung'] = 'medical'\n",
    "trauma_subgroups_df['Einteilung'] = 'trauma'\n",
    "\n",
    "medical_subgroups_df['pval'] = res_prob_med.pvalues['Kategorie (Hauptdiagnose) encoded']\n",
    "trauma_subgroups_df['pval'] = res_prob_trauma.pvalues['Kategorie (Hauptdiagnose) encoded']\n",
    "\n",
    "subgroups_df = pd.concat([medical_subgroups_df, trauma_subgroups_df])"
   ]
  },
  {
   "cell_type": "code",
   "execution_count": null,
   "id": "50a718255e24644a",
   "metadata": {
    "ExecuteTime": {
     "end_time": "2024-07-01T20:00:04.912379Z",
     "start_time": "2024-07-01T20:00:04.903766Z"
    }
   },
   "outputs": [],
   "source": [
    "subgroups_df"
   ]
  },
  {
   "cell_type": "code",
   "execution_count": null,
   "id": "d984b7ebd03c4e66",
   "metadata": {
    "ExecuteTime": {
     "end_time": "2024-07-01T20:00:06.966326Z",
     "start_time": "2024-07-01T20:00:06.962907Z"
    }
   },
   "outputs": [],
   "source": [
    "# subgroups_df.to_csv('/Users/jk1/Downloads/gcs_intubation_subgroups.csv')"
   ]
  },
  {
   "cell_type": "markdown",
   "id": "3798122083edddad",
   "metadata": {
    "collapsed": false
   },
   "source": [
    "## overall model"
   ]
  },
  {
   "cell_type": "code",
   "execution_count": null,
   "id": "37b2e2f5fd4e5ed8",
   "metadata": {
    "ExecuteTime": {
     "end_time": "2024-07-01T20:00:11.512427Z",
     "start_time": "2024-07-01T20:00:11.509092Z"
    }
   },
   "outputs": [],
   "source": [
    "overall_temp_df = df[['GCS (Erstbefund)', 'Einteilung (Hauptdiagnose)', 'Kategorie (Hauptdiagnose)', 'Sverweis_Geschlecht_encoded', 'Alter  (Patient)']]\n",
    "# rename columns to remove spaces and brackets\n",
    "overall_temp_df.columns = ['GCS', 'Einteilung', 'Kategorie', 'Geschlecht', 'Alter']"
   ]
  },
  {
   "cell_type": "code",
   "execution_count": null,
   "id": "deaa0a662ccca5ed",
   "metadata": {
    "ExecuteTime": {
     "end_time": "2024-07-01T20:00:12.304080Z",
     "start_time": "2024-07-01T20:00:12.300496Z"
    }
   },
   "outputs": [],
   "source": [
    "# patients with einteilung trauma and kategorie respiratorisch should have kategorie trauma_respiratorisch\n",
    "overall_temp_df.loc[(overall_temp_df['Einteilung'] == 'Unfall') & (overall_temp_df['Kategorie'] == 'Respiratorisch'), 'Kategorie'] = 'Trauma_Respiratorisch'"
   ]
  },
  {
   "cell_type": "code",
   "execution_count": null,
   "id": "fabef74965fee9d1",
   "metadata": {
    "ExecuteTime": {
     "end_time": "2024-07-01T20:00:12.678704Z",
     "start_time": "2024-07-01T20:00:12.673565Z"
    }
   },
   "outputs": [],
   "source": [
    "# numerical encoding for Eineteilung and Kategorie\n",
    "overall_temp_df['Einteilung_encoded'] = overall_temp_df['Einteilung'].map({'Krankheit': 0, 'Unfall': 1})\n",
    "overall_temp_df['Kategorie_encoded'] = overall_temp_df['Kategorie'].map({'Zentralnervensystem': 0,\n",
    "                                                                         'Krampfanfall': 1,\n",
    "                                                                         'Herz-Kreislauf': 2,\n",
    "                                                                         'Intoxikation': 3,\n",
    "                                                                         'Respiratorisch': 4,\n",
    "                                                                         'SHT': 5,\n",
    "                                                                         'Polytrauma': 6,\n",
    "                                                                         'Verbrennung': 7,\n",
    "                                                                         'Trauma_Respiratorisch': 8})"
   ]
  },
  {
   "cell_type": "code",
   "execution_count": null,
   "id": "773928fa3cd780b0",
   "metadata": {
    "ExecuteTime": {
     "end_time": "2024-07-01T20:00:13.645210Z",
     "start_time": "2024-07-01T20:00:13.636767Z"
    }
   },
   "outputs": [],
   "source": [
    "overall_temp_df['GCS_cat'] = pd.Categorical(overall_temp_df['GCS'], categories=[3, 4, 5, 6, 7, 8, 9, 10, 11, 12, 13, 14, 15], ordered=True)\n",
    "# then convert to strings categories\n",
    "overall_temp_df['GCS_cat'] = overall_temp_df['GCS_cat'].astype(str)\n",
    "# and then convert to strings categories\n",
    "overall_temp_df['GCS_cat'] = pd.Categorical(overall_temp_df['GCS_cat'], categories=['3', '4', '5', '6', '7', '8', '9', '10', '11', '12', '13', '14', '15'], ordered=True)"
   ]
  },
  {
   "cell_type": "code",
   "execution_count": null,
   "id": "1f88c51c1f3c19",
   "metadata": {
    "ExecuteTime": {
     "end_time": "2024-07-01T20:00:13.975056Z",
     "start_time": "2024-07-01T20:00:13.970801Z"
    }
   },
   "outputs": [],
   "source": [
    "overall_temp_df.dropna(inplace=True)"
   ]
  },
  {
   "cell_type": "code",
   "execution_count": null,
   "id": "362038981ff374fa",
   "metadata": {
    "ExecuteTime": {
     "end_time": "2024-07-01T20:00:14.399298Z",
     "start_time": "2024-07-01T20:00:14.387692Z"
    }
   },
   "outputs": [],
   "source": [
    "overall_temp_df "
   ]
  },
  {
   "cell_type": "code",
   "execution_count": null,
   "id": "dc16e95507be2d88",
   "metadata": {
    "ExecuteTime": {
     "end_time": "2024-07-01T20:01:10.266399Z",
     "start_time": "2024-07-01T20:01:09.859199Z"
    }
   },
   "outputs": [],
   "source": [
    "import os\n",
    "os.environ[\"R_HOME\"] = \"/Library/Frameworks/R.framework/Resources\"\n",
    "from pymer4.models import Lmer\n",
    "\n",
    "# model = Lmer(f\"GCS ~ Kategorie_encoded + Geschlecht + Alter + (1|Einteilung_encoded)\",\n",
    "#                          data=overall_temp_df, family='binomial')\n",
    "model = Lmer(f\"GCS_cat ~ Kategorie_encoded + Geschlecht + Alter + (1|Einteilung_encoded)\", data=overall_temp_df, family='binomial')\n",
    "model.fit()"
   ]
  },
  {
   "cell_type": "code",
   "execution_count": null,
   "id": "75fffb76b78b0746",
   "metadata": {},
   "outputs": [],
   "source": []
  }
 ],
 "metadata": {
  "kernelspec": {
   "display_name": "Python 3",
   "language": "python",
   "name": "python3"
  },
  "language_info": {
   "codemirror_mode": {
    "name": "ipython",
    "version": 2
   },
   "file_extension": ".py",
   "mimetype": "text/x-python",
   "name": "python",
   "nbconvert_exporter": "python",
   "pygments_lexer": "ipython2",
   "version": "2.7.6"
  }
 },
 "nbformat": 4,
 "nbformat_minor": 5
}
