{
 "cells": [
  {
   "cell_type": "code",
   "execution_count": null,
   "id": "initial_id",
   "metadata": {
    "ExecuteTime": {
     "end_time": "2025-03-03T19:43:15.011315Z",
     "start_time": "2025-03-03T19:43:15.008642Z"
    }
   },
   "outputs": [],
   "source": [
    "import pandas as pd\n",
    "import numpy as np\n",
    "import matplotlib.pyplot as plt\n",
    "import seaborn as sns"
   ]
  },
  {
   "cell_type": "code",
   "execution_count": null,
   "id": "bec88d039af11a1b",
   "metadata": {
    "ExecuteTime": {
     "end_time": "2025-03-03T19:43:43.869119Z",
     "start_time": "2025-03-03T19:43:43.866022Z"
    }
   },
   "outputs": [],
   "source": [
    "intubated_data_path = '/Users/jk1/Library/CloudStorage/OneDrive-unige.ch/icu_research/prehospital/intubation_trigger/data/Mastertabelle_filtered.xlsx'\n",
    "non_intubated_path = '/Users/jk1/Library/CloudStorage/OneDrive-unige.ch/icu_research/prehospital/intubation_trigger/data/GCS Distribution - nicht intubiert.xlsx'"
   ]
  },
  {
   "cell_type": "code",
   "execution_count": null,
   "id": "3a2f8c667d206ad3",
   "metadata": {
    "ExecuteTime": {
     "end_time": "2025-03-03T19:45:07.647028Z",
     "start_time": "2025-03-03T19:45:07.434013Z"
    }
   },
   "outputs": [],
   "source": [
    "intubated_df = pd.read_excel(intubated_data_path)\n",
    "non_intubated_st_gallen_df = pd.read_excel(non_intubated_path, sheet_name='St. Gallen Rohdaten')\n",
    "non_intubated_zurich_df = pd.read_excel(non_intubated_path, sheet_name='Zürich Rohdaten')\n",
    "non_intubated_bern_df = pd.read_excel(non_intubated_path, sheet_name='Bern Rohdaten')"
   ]
  },
  {
   "cell_type": "code",
   "execution_count": null,
   "id": "5c60de2292dde861",
   "metadata": {
    "ExecuteTime": {
     "end_time": "2025-03-03T19:46:27.428313Z",
     "start_time": "2025-03-03T19:46:27.419645Z"
    }
   },
   "outputs": [],
   "source": [
    "intubated_df = intubated_df[intubated_df.Comment != 'Reanimation']"
   ]
  },
  {
   "cell_type": "code",
   "execution_count": null,
   "id": "3ac21f1bfc3806a5",
   "metadata": {
    "ExecuteTime": {
     "end_time": "2025-03-03T19:53:38.622567Z",
     "start_time": "2025-03-03T19:53:38.616902Z"
    }
   },
   "outputs": [],
   "source": [
    "# merge all non intubated dataframes\n",
    "non_intubated_bern_df['Location'] = 'Bern'\n",
    "non_intubated_st_gallen_df['Location'] = 'St. Gallen'\n",
    "non_intubated_zurich_df['Location'] = 'Zurich'\n",
    "non_intubated_df = pd.concat([non_intubated_bern_df, non_intubated_st_gallen_df, non_intubated_zurich_df])\n",
    "non_intubated_df['Intubated'] = 0\n",
    "non_intubated_df.rename(columns={'GCS Alle': 'GCS'}, inplace=True)"
   ]
  },
  {
   "cell_type": "code",
   "execution_count": null,
   "id": "34ca031efea6861c",
   "metadata": {
    "ExecuteTime": {
     "end_time": "2025-03-03T20:06:35.845351Z",
     "start_time": "2025-03-03T20:06:35.836879Z"
    }
   },
   "outputs": [],
   "source": [
    "non_intubated_trauma_df = non_intubated_df[['GCS Trauma', 'Intubated']]\n",
    "non_intubated_trauma_df.rename(columns={'GCS Trauma': 'GCS'}, inplace=True)\n",
    "\n",
    "non_intubated_non_trauma_df = non_intubated_df[['GCS Krankheit', 'Intubated']]\n",
    "non_intubated_non_trauma_df.rename(columns={'GCS Krankheit': 'GCS'}, inplace=True)"
   ]
  },
  {
   "cell_type": "code",
   "execution_count": null,
   "id": "38aeb01d4ec5e7df",
   "metadata": {
    "ExecuteTime": {
     "end_time": "2025-03-03T19:53:44.303057Z",
     "start_time": "2025-03-03T19:53:44.299944Z"
    }
   },
   "outputs": [],
   "source": [
    "intubated_df['Intubated'] = 1\n",
    "intubated_df.rename(columns={'GCS (Erstbefund)': 'GCS'}, inplace=True)"
   ]
  },
  {
   "cell_type": "code",
   "execution_count": null,
   "id": "965d39f457faf168",
   "metadata": {
    "ExecuteTime": {
     "end_time": "2025-03-03T19:47:04.130297Z",
     "start_time": "2025-03-03T19:47:04.122859Z"
    }
   },
   "outputs": [],
   "source": [
    "non_intubated_df.head()"
   ]
  },
  {
   "cell_type": "code",
   "execution_count": null,
   "id": "82b6f158a3265edf",
   "metadata": {
    "ExecuteTime": {
     "end_time": "2025-03-03T19:48:29.053928Z",
     "start_time": "2025-03-03T19:48:29.036626Z"
    }
   },
   "outputs": [],
   "source": [
    "intubated_df.head()"
   ]
  },
  {
   "cell_type": "code",
   "execution_count": null,
   "id": "1e7bd53746727196",
   "metadata": {},
   "outputs": [],
   "source": [
    "overall_joined_df = pd.concat([intubated_df[['GCS', 'Intubated']], non_intubated_df[['GCS', 'Intubated']]]).reset_index()"
   ]
  },
  {
   "cell_type": "code",
   "execution_count": null,
   "id": "5021b75405b03914",
   "metadata": {
    "ExecuteTime": {
     "end_time": "2025-03-03T20:07:34.479989Z",
     "start_time": "2025-03-03T20:07:34.472153Z"
    }
   },
   "outputs": [],
   "source": [
    "trauma_joined_df = pd.concat([intubated_df[intubated_df['Einteilung (Hauptdiagnose)'] == 'Unfall'][['GCS', 'Intubated']], non_intubated_trauma_df]).reset_index()\n",
    "non_trauma_joined_df = pd.concat([intubated_df[intubated_df['Einteilung (Hauptdiagnose)'] == 'Krankheit'][['GCS', 'Intubated']], non_intubated_non_trauma_df]).reset_index()"
   ]
  },
  {
   "cell_type": "code",
   "execution_count": null,
   "id": "7b25df00f01d6c18",
   "metadata": {
    "ExecuteTime": {
     "end_time": "2025-03-03T19:58:07.073729Z",
     "start_time": "2025-03-03T19:58:06.679632Z"
    }
   },
   "outputs": [],
   "source": [
    "# plot distribution of GCS in intubated and non intubated patients\n",
    "plt.figure(figsize=(10, 5))\n",
    "ax = sns.histplot(data=overall_joined_df, x='GCS', hue='Intubated', bins=15, kde=True)\n",
    "\n",
    "# set y axis to log scale\n",
    "ax.set_yscale('log')\n",
    "\n",
    "plt.show()"
   ]
  },
  {
   "cell_type": "code",
   "execution_count": null,
   "id": "e13642c1b6508e46",
   "metadata": {
    "ExecuteTime": {
     "end_time": "2025-03-03T20:23:50.644750Z",
     "start_time": "2025-03-03T20:23:49.837248Z"
    }
   },
   "outputs": [],
   "source": [
    "# plot distribution of GCS in intubated and non intubated patients (two subplots with trauma and non trauma patients)\n",
    "fig, axs = plt.subplots(1, 2, figsize=(20, 5))\n",
    "\n",
    "# trauma patients\n",
    "ax = sns.histplot(data=trauma_joined_df, x='GCS', hue='Intubated', bins=13, kde=True, ax=axs[0], discrete=True)\n",
    "ax.set_yscale('log')\n",
    "ax.set_title('Trauma')\n",
    "\n",
    "# show all GCS values\n",
    "ax.set_xticks(np.arange(3, 16, 1))\n",
    "\n",
    "# non trauma patients\n",
    "ax = sns.histplot(data=non_trauma_joined_df, x='GCS', hue='Intubated', bins=13, kde=True, ax=axs[1], discrete=True)\n",
    "ax.set_yscale('log')\n",
    "ax.set_title('Non Trauma')\n",
    "\n",
    "# show all GCS values\n",
    "ax.set_xticks(np.arange(3, 16, 1))\n",
    "\n",
    "plt.show()"
   ]
  },
  {
   "cell_type": "code",
   "execution_count": null,
   "id": "30fc1b24280e97a9",
   "metadata": {
    "ExecuteTime": {
     "end_time": "2025-03-03T20:24:53.267050Z",
     "start_time": "2025-03-03T20:24:52.872781Z"
    }
   },
   "outputs": [],
   "source": [
    "# plot GCS distribution in intubated and non intubated patients of trauma patients excluding burn patients\n",
    "trauma_no_burn_joined_df = pd.concat([intubated_df[intubated_df['Einteilung (Hauptdiagnose)'] == 'Unfall'][intubated_df['Kategorie (Hauptdiagnose)'] != 'Verbrennung'][['GCS', 'Intubated']], non_intubated_trauma_df]).reset_index()\n",
    "\n",
    "plt.figure(figsize=(10, 5))\n",
    "ax = sns.histplot(data=trauma_no_burn_joined_df, x='GCS', hue='Intubated', bins=13, kde=True, discrete=True)\n",
    "\n",
    "# set y axis to log scale\n",
    "ax.set_yscale('log')\n",
    "\n",
    "# set title\n",
    "plt.title('Trauma (excluding burn injuries)')\n",
    "\n",
    "# show all GCS values\n",
    "plt.xticks(np.arange(3, 16, 1))\n",
    "\n",
    "plt.show()"
   ]
  },
  {
   "cell_type": "code",
   "execution_count": null,
   "id": "32933757b687f75b",
   "metadata": {
    "ExecuteTime": {
     "end_time": "2025-03-03T20:40:54.328413Z",
     "start_time": "2025-03-03T20:40:54.046856Z"
    }
   },
   "outputs": [],
   "source": [
    "# find a cutoff for GCS to predict intubation in trauma patients (excluding burn patients)\n",
    "\n",
    "# compute c statistic for every GCS\n",
    "\n",
    "from sklearn.metrics import roc_auc_score\n",
    "from sklearn.metrics import roc_curve\n",
    "\n",
    "trauma_roc_auc_scores = []\n",
    "trauma_fpr = []\n",
    "trauma_tpr = []\n",
    "trauma_thresholds = []\n",
    "\n",
    "for gcs_threshold in np.arange(3, 16, 1):\n",
    "    y_true = trauma_no_burn_joined_df.Intubated\n",
    "    y_score = trauma_no_burn_joined_df.GCS <= gcs_threshold\n",
    "    trauma_roc_auc_scores.append(roc_auc_score(y_true, y_score))\n",
    "    fpr_, tpr_, thresholds_ = roc_curve(y_true, y_score)\n",
    "    trauma_fpr.append(fpr_)\n",
    "    trauma_tpr.append(tpr_)\n",
    "    trauma_thresholds.append(thresholds_)\n",
    "    \n",
    "non_trauma_roc_auc_scores = []\n",
    "non_trauma_fpr = []\n",
    "non_trauma_tpr = []\n",
    "non_trauma_thresholds = []\n",
    "\n",
    "for gcs_threshold in np.arange(3, 16, 1):\n",
    "    y_true = non_trauma_joined_df.Intubated\n",
    "    y_score = non_trauma_joined_df.GCS <= gcs_threshold\n",
    "    non_trauma_roc_auc_scores.append(roc_auc_score(y_true, y_score))\n",
    "    fpr_, tpr_, thresholds_ = roc_curve(y_true, y_score)\n",
    "    non_trauma_fpr.append(fpr_)\n",
    "    non_trauma_tpr.append(tpr_)\n",
    "    non_trauma_thresholds.append(thresholds_)\n",
    "    \n",
    "    \n",
    "# plot ROC AUC scores\n",
    "plt.figure(figsize=(10, 5))\n",
    "\n",
    "ax = sns.lineplot(x=np.arange(3, 16, 1), y=trauma_roc_auc_scores, label='Trauma (excluding burn injuries)', color='red')\n",
    "ax = sns.lineplot(x=np.arange(3, 16, 1), y=non_trauma_roc_auc_scores, label='Non Trauma', color='blue', ax=ax)\n",
    "\n",
    "plt.xlabel('GCS threshold')\n",
    "plt.ylabel('ROC AUC score')\n",
    "plt.title('ROC AUC score for different GCS thresholds')\n",
    "\n",
    "plt.show()\n"
   ]
  },
  {
   "cell_type": "markdown",
   "id": "51944ec1de1352e2",
   "metadata": {},
   "source": [
    "## Patients with GCS < 9"
   ]
  },
  {
   "cell_type": "code",
   "execution_count": null,
   "id": "7af194a415dc95b",
   "metadata": {
    "ExecuteTime": {
     "end_time": "2025-03-03T20:03:06.007815Z",
     "start_time": "2025-03-03T20:03:05.743671Z"
    }
   },
   "outputs": [],
   "source": [
    "# plot only patients with GCS < 9\n",
    "plt.figure(figsize=(10, 5))\n",
    "ax = sns.histplot(data=overall_joined_df[overall_joined_df.GCS < 9], x='GCS', hue='Intubated', bins=6, kde=True, discrete=True)\n",
    "\n",
    "# set y axis to log scale\n",
    "ax.set_yscale('log')\n",
    "\n",
    "# show all GCS values\n",
    "plt.xticks(np.arange(3, 9, 1))\n",
    "\n",
    "# center bins on integers\n",
    "plt.xlim(2.5, 8.5)\n",
    "\n",
    "plt.show()\n"
   ]
  },
  {
   "cell_type": "code",
   "execution_count": null,
   "id": "d2014c0e939e48c4",
   "metadata": {
    "ExecuteTime": {
     "end_time": "2025-03-03T20:20:55.466966Z",
     "start_time": "2025-03-03T20:20:54.847939Z"
    }
   },
   "outputs": [],
   "source": [
    "# separate trauma and non trauma patients\n",
    "fig, axs = plt.subplots(1, 2, figsize=(20, 5))\n",
    "\n",
    "# trauma patients\n",
    "ax = sns.histplot(data=trauma_joined_df[trauma_joined_df.GCS < 9], x='GCS', hue='Intubated', bins=6, kde=True, discrete=True, ax=axs[0])\n",
    "ax.set_yscale('log')\n",
    "ax.set_title('Trauma')\n",
    "ax.set_xticks(np.arange(3, 9, 1))\n",
    "\n",
    "# non trauma patients\n",
    "ax = sns.histplot(data=non_trauma_joined_df[non_trauma_joined_df.GCS < 9], x='GCS', hue='Intubated', bins=6, kde=True, discrete=True, ax=axs[1])\n",
    "ax.set_yscale('log')\n",
    "ax.set_title('Non Trauma')\n",
    "ax.set_xticks(np.arange(3, 9, 1))\n",
    "\n",
    "plt.show()\n"
   ]
  },
  {
   "cell_type": "code",
   "execution_count": null,
   "id": "465726c384d5237f",
   "metadata": {
    "ExecuteTime": {
     "end_time": "2025-03-03T20:32:59.796921Z",
     "start_time": "2025-03-03T20:32:59.787594Z"
    }
   },
   "outputs": [],
   "source": [
    "# test ordinal shift in GCS distribution in trauma patients with GCS < 9\n",
    "from statsmodels.stats.nonparametric import rank_compare_2indep\n",
    "\n",
    "intubated_trauma_gcs = trauma_joined_df[trauma_joined_df.Intubated == 1].GCS\n",
    "non_intubated_trauma_gcs = trauma_joined_df[trauma_joined_df.Intubated == 0].GCS\n",
    "\n",
    "# drop nans\n",
    "intubated_trauma_gcs = intubated_trauma_gcs.dropna()\n",
    "non_intubated_trauma_gcs = non_intubated_trauma_gcs.dropna()\n",
    "\n",
    "# only consider patients with GCS < 9\n",
    "intubated_trauma_gcs = intubated_trauma_gcs[intubated_trauma_gcs < 9]\n",
    "non_intubated_trauma_gcs = non_intubated_trauma_gcs[non_intubated_trauma_gcs < 9]\n",
    "\n",
    "# test ordinal shift\n",
    "rank_compare_2indep(intubated_trauma_gcs, non_intubated_trauma_gcs)"
   ]
  },
  {
   "cell_type": "code",
   "execution_count": null,
   "id": "b2d5ccee9fa97da0",
   "metadata": {
    "ExecuteTime": {
     "end_time": "2025-03-03T20:33:33.770831Z",
     "start_time": "2025-03-03T20:33:33.762085Z"
    }
   },
   "outputs": [],
   "source": [
    "# test ordinal shift in GCS distribution in non trauma patients with GCS < 9\n",
    "intubated_non_trauma_gcs = non_trauma_joined_df[non_trauma_joined_df.Intubated == 1].GCS\n",
    "non_intubated_non_trauma_gcs = non_trauma_joined_df[non_trauma_joined_df.Intubated == 0].GCS\n",
    "\n",
    "# drop nans\n",
    "intubated_non_trauma_gcs = intubated_non_trauma_gcs.dropna()\n",
    "non_intubated_non_trauma_gcs = non_intubated_non_trauma_gcs.dropna()\n",
    "\n",
    "# only consider patients with GCS < 9\n",
    "intubated_non_trauma_gcs = intubated_non_trauma_gcs[intubated_non_trauma_gcs < 9]\n",
    "non_intubated_non_trauma_gcs = non_intubated_non_trauma_gcs[non_intubated_non_trauma_gcs < 9]\n",
    "\n",
    "# test ordinal shift\n",
    "rank_compare_2indep(intubated_non_trauma_gcs, non_intubated_non_trauma_gcs)"
   ]
  },
  {
   "cell_type": "code",
   "execution_count": null,
   "id": "e79bfbebd23d4fe8",
   "metadata": {},
   "outputs": [],
   "source": []
  }
 ],
 "metadata": {
  "kernelspec": {
   "display_name": "Python 3",
   "language": "python",
   "name": "python3"
  },
  "language_info": {
   "codemirror_mode": {
    "name": "ipython",
    "version": 2
   },
   "file_extension": ".py",
   "mimetype": "text/x-python",
   "name": "python",
   "nbconvert_exporter": "python",
   "pygments_lexer": "ipython2",
   "version": "2.7.6"
  }
 },
 "nbformat": 4,
 "nbformat_minor": 5
}
