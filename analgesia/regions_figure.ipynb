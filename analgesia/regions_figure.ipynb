{
 "cells": [
  {
   "cell_type": "markdown",
   "id": "98fa83a5",
   "metadata": {},
   "source": [
    "Figure: radar plot of distribution of body regions"
   ]
  },
  {
   "cell_type": "code",
   "execution_count": null,
   "id": "4ba81637",
   "metadata": {},
   "outputs": [],
   "source": [
    "import pandas as pd\n",
    "from utils.utils import get_multi_label_counts"
   ]
  },
  {
   "cell_type": "code",
   "execution_count": null,
   "id": "fd6fffa5",
   "metadata": {},
   "outputs": [],
   "source": [
    "data_path = '/Users/jk1/Library/CloudStorage/OneDrive-unige.ch/icu_research/prehospital/analgesia/data/trauma_categories_Rega Pain Study15.09.2025_v2.xlsx'\n",
    "medic_data_path = '/Users/jk1/Library/CloudStorage/OneDrive-unige.ch/icu_research/prehospital/analgesia/data/Liste Notärzte-1.xlsx'"
   ]
  },
  {
   "cell_type": "code",
   "execution_count": null,
   "id": "aff0a4d8",
   "metadata": {},
   "outputs": [],
   "source": [
    "restrict_to_trauma = True\n",
    "restrict_to_primary = True"
   ]
  },
  {
   "cell_type": "code",
   "execution_count": null,
   "id": "f8719396",
   "metadata": {},
   "outputs": [],
   "source": [
    "data_df = pd.read_excel(data_path)\n",
    "medic_df = pd.read_excel(medic_data_path)"
   ]
  },
  {
   "cell_type": "code",
   "execution_count": null,
   "id": "991a56cb",
   "metadata": {},
   "outputs": [],
   "source": [
    "duplicates = data_df[data_df[\"SNZ Ereignis Nr. \"].duplicated()][\"SNZ Ereignis Nr. \"]\n",
    "print(f'Duplicates found: {duplicates.nunique()}')\n",
    "# drop duplicates\n",
    "data_df = data_df.drop_duplicates(subset=[\"SNZ Ereignis Nr. \"])"
   ]
  },
  {
   "cell_type": "code",
   "execution_count": null,
   "id": "d823de74",
   "metadata": {},
   "outputs": [],
   "source": [
    "data_df = data_df[data_df[\"VAS_on_scene\"] > 3]\n",
    "\n",
    "if restrict_to_trauma:\n",
    "    n_non_trauma = data_df[data_df['Einteilung (reduziert)'] != 'Unfall'].shape[0]\n",
    "    print(f'Excluded {n_non_trauma} non-trauma patients')\n",
    "\n",
    "    # adult non-trauma patients\n",
    "    n_adult_non_trauma = data_df[(data_df['Einteilung (reduziert)'] != 'Unfall') & (data_df[\"Alter \"] >= 16)].shape[0]\n",
    "    print(f'Excluded {n_adult_non_trauma} adult non-trauma patients')\n",
    "    # pediatric non-trauma patients\n",
    "    n_pediatric_non_trauma = data_df[(data_df['Einteilung (reduziert)'] != 'Unfall') & (data_df[\"Alter \"] < 16)].shape[0]\n",
    "    print(f'Excluded {n_pediatric_non_trauma} pediatric non-trauma patients')\n",
    "\n",
    "    data_df = data_df[data_df['Einteilung (reduziert)'] == 'Unfall']\n",
    "\n",
    "if restrict_to_primary:\n",
    "    n_secondary = data_df[data_df['Einsatzart'] != 'Primär'].shape[0]\n",
    "    print(f'Excluded {n_secondary} secondary transport patients')\n",
    "\n",
    "    # adult secondary transport patients\n",
    "    n_adult_secondary = data_df[(data_df['Einsatzart'] != 'Primär') & (data_df[\"Alter \"] >= 16)].shape[0]\n",
    "    print(f'Excluded {n_adult_secondary} adult secondary transport patients')\n",
    "    # pediatric secondary transport patients\n",
    "    n_pediatric_secondary = data_df[(data_df['Einsatzart'] != 'Primär') & (data_df[\"Alter \"] < 16)].shape[0]\n",
    "    print(f'Excluded {n_pediatric_secondary} pediatric secondary transport patients')\n",
    "    data_df = data_df[data_df['Einsatzart'] == 'Primär']"
   ]
  },
  {
   "cell_type": "code",
   "execution_count": null,
   "id": "16d4972a",
   "metadata": {},
   "outputs": [],
   "source": [
    "adult_df = data_df[data_df[\"Alter \"] >= 16]"
   ]
  },
  {
   "cell_type": "code",
   "execution_count": null,
   "id": "98b2be0a",
   "metadata": {},
   "outputs": [],
   "source": [
    "def preprocess_body_region(df):\n",
    "    # fill na in Körperregion with Körperregion2\n",
    "    df['Körperregion'] = df['Körperregion'].fillna(df['Körperregion2'])\n",
    "    # set to lower\n",
    "    df['Körperregion'] = df['Körperregion'].str.lower()\n",
    "    # replace kopf and 'schädel-hirn/hals' and 'schädel-hirn/gesicht' and 'schädel-hirn/hals' with schädel-hirn\n",
    "    df['Körperregion'] = df['Körperregion'].str.replace('kopf', 'schädel-hirn')\n",
    "    df['Körperregion'] = df['Körperregion'].str.replace('schädel-hirn/hals', 'schädel-hirn')\n",
    "    df['Körperregion'] = df['Körperregion'].str.replace('schädel-hirn/gesicht', 'schädel-hirn')\n",
    "    df['Körperregion'] = df['Körperregion'].str.replace('schädel-hirn/hals', 'schädel-hirn')\n",
    "    # replace 'kopf/gesicht' / 'augen' / 'kopf/hals' / 'kopf (gehör)' / 'kopf/gesicht/hals'  and 'schädel-hirn (gehör)' with 'gesicht'\n",
    "    # df['Körperregion'] = df['Körperregion'].str.replace({'kopf/gesicht': 'gesicht', 'augen': 'gesicht', 'kopf/hals': 'gesicht', 'kopf (gehör)': 'gesicht', 'kopf/gesicht/hals': 'gesicht'})\n",
    "    df['Körperregion'] = df['Körperregion'].str.replace('kopf/gesicht', 'gesicht')\n",
    "    df['Körperregion'] = df['Körperregion'].str.replace('kopf/hals', 'gesicht')\n",
    "    df['Körperregion'] = df['Körperregion'].str.replace('kopf (gehör)', 'gesicht')\n",
    "    df['Körperregion'] = df['Körperregion'].str.replace('kopf/gesicht/hals', 'gesicht')\n",
    "    df['Körperregion'] = df['Körperregion'].str.replace('augen', 'gesicht')\n",
    "    df['Körperregion'] = df['Körperregion'].str.replace('schädel-hirn (gehör)', 'gesicht')\n",
    "    # replace 'rücken' with 'wirbelsäule'\n",
    "    df['Körperregion'] = df['Körperregion'].str.replace('rücken', 'wirbelsäule')\n",
    "    # replace 'rump' with 'thorax'\n",
    "    df['Körperregion'] = df['Körperregion'].str.replace('rumpf', 'thorax')\n",
    "    # replace  'obere extremiät' and 'obere extermität' with 'obere extremität'    \n",
    "    df['Körperregion'] = df['Körperregion'].str.replace('obere extremiät', 'obere extremität')\n",
    "    df['Körperregion'] = df['Körperregion'].str.replace('obere extermität', 'obere extremität')\n",
    "    # replace 'untere extermität' with 'untere extremität'    \n",
    "    df['Körperregion'] = df['Körperregion'].str.replace('untere extermität', 'untere extremität')\n",
    "    # replace '' with pd.NA\n",
    "    df['Körperregion'] = df['Körperregion'].replace('', pd.NA)\n",
    "\n",
    "    return df"
   ]
  },
  {
   "cell_type": "code",
   "execution_count": null,
   "id": "de52113c",
   "metadata": {},
   "outputs": [],
   "source": [
    "adult_df = preprocess_body_region(adult_df)"
   ]
  },
  {
   "cell_type": "code",
   "execution_count": null,
   "id": "e79541f7",
   "metadata": {},
   "outputs": [],
   "source": [
    "dx_counts = get_multi_label_counts(adult_df, 'Körperregion')"
   ]
  },
  {
   "cell_type": "code",
   "execution_count": null,
   "id": "c7486ced",
   "metadata": {},
   "outputs": [],
   "source": [
    "# remove the '' entry from dx_counts\n",
    "dx_counts.pop('', None)"
   ]
  },
  {
   "cell_type": "code",
   "execution_count": null,
   "id": "0beb26ed",
   "metadata": {},
   "outputs": [],
   "source": [
    "print(\"dx_counts:\", dx_counts)\n",
    "print(f\"Total adult patients: {len(adult_df)}\")\n",
    "print(f\"Number of body regions: {len(dx_counts)}\")"
   ]
  },
  {
   "cell_type": "code",
   "execution_count": null,
   "id": "2eb5f9e4",
   "metadata": {},
   "outputs": [],
   "source": [
    "import matplotlib.pyplot as plt\n",
    "import numpy as np\n",
    "from math import pi\n",
    "\n",
    "def create_radar_chart(dx_counts, total_patients, title=\"Body Region Distribution\", \n",
    "                       figsize=(10, 10), min_percentage_threshold=0.5):\n",
    "    \"\"\"\n",
    "    Create a radar chart from dx_counts object showing percentages of patients\n",
    "    \n",
    "    Parameters:\n",
    "    -----------\n",
    "    dx_counts : dict\n",
    "        Dictionary with body regions as keys and counts as values\n",
    "    total_patients : int\n",
    "        Total number of patients for percentage calculation\n",
    "    title : str\n",
    "        Title for the chart\n",
    "    figsize : tuple\n",
    "        Figure size (width, height)\n",
    "    min_percentage_threshold : float\n",
    "        Minimum percentage to include in chart (filters out very small categories)\n",
    "    \n",
    "    Returns:\n",
    "    --------\n",
    "    fig, ax : matplotlib figure and axis objects\n",
    "    \"\"\"\n",
    "    \n",
    "    # Create label mapping for English display\n",
    "    label_mapping = {\n",
    "        'untere extremität': 'Lower extremity',\n",
    "        'obere extremität': 'Upper extremity', \n",
    "        'wirbelsäule': 'Spine',\n",
    "        'thorax': 'Thorax',\n",
    "        'schädel-hirn': 'Head',\n",
    "        'becken': 'Pelvis',\n",
    "        'abdomen': 'Abdomen',\n",
    "        'gesicht': 'Face',\n",
    "        'hals': 'Neck',\n",
    "        'polytrauma': 'Polytrauma',\n",
    "        'systemisch': 'Systemic',\n",
    "        'weichteile (genitalien)': 'Soft Tissue (Genitals)',\n",
    "        'keine': 'None'\n",
    "    }\n",
    "    \n",
    "    # Filter out categories below threshold and convert counts to percentages\n",
    "    filtered_data = {}\n",
    "    filtered_counts = {}\n",
    "    for region, count in dx_counts.items():\n",
    "        percentage = (count / total_patients) * 100\n",
    "        if percentage >= min_percentage_threshold:\n",
    "            filtered_data[region] = percentage\n",
    "            filtered_counts[region] = count\n",
    "    \n",
    "    # Sort by percentage (descending)\n",
    "    sorted_data = dict(sorted(filtered_data.items(), key=lambda x: x[1], reverse=True))\n",
    "    \n",
    "    # Prepare data for radar chart\n",
    "    categories = list(sorted_data.keys())\n",
    "    display_labels = []\n",
    "    for cat in categories:\n",
    "        clean_label = label_mapping.get(cat, cat.title())\n",
    "        count = filtered_counts[cat]\n",
    "        display_labels.append(f\"{clean_label} ({count/total_patients*100:.1f}%)\")\n",
    "    \n",
    "    values = list(sorted_data.values())\n",
    "    \n",
    "    # Number of variables\n",
    "    N = len(categories)\n",
    "    \n",
    "    # Compute angles for each category\n",
    "    angles = [n / float(N) * 2 * pi for n in range(N)]\n",
    "    angles += angles[:1]  # Complete the circle\n",
    "    \n",
    "    # Add first value to end to complete the circle\n",
    "    values += values[:1]\n",
    "    \n",
    "    # Create the plot\n",
    "    fig, ax = plt.subplots(figsize=figsize, subplot_kw=dict(projection='polar'))\n",
    "    \n",
    "    # Plot the values with clean styling like the reference image\n",
    "    ax.plot(angles, values, 'o-', linewidth=2, markersize=6, \n",
    "            color='#1f77b4', markerfacecolor='#1f77b4', markeredgecolor='#1f77b4')\n",
    "    \n",
    "    # Fill the area with light blue similar to reference\n",
    "    ax.fill(angles, values, alpha=0.25, color='#1f77b4')\n",
    "    \n",
    "    # Set clean white background\n",
    "    ax.set_facecolor('white')\n",
    "    fig.patch.set_facecolor('white')\n",
    "    \n",
    "    # Add category labels positioned outside the chart\n",
    "    ax.set_xticks(angles[:-1])\n",
    "    \n",
    "    # Position labels outside the chart area like in the reference image\n",
    "    max_val = max(values[:-1])\n",
    "    label_distance = max_val * 1.15\n",
    "    \n",
    "    for angle, label in zip(angles[:-1], display_labels):\n",
    "        ax.text(angle, label_distance, label, \n",
    "                horizontalalignment='center', verticalalignment='center',\n",
    "                fontsize=11, fontweight='normal')\n",
    "    \n",
    "    # Remove default tick labels\n",
    "    ax.set_xticklabels([])\n",
    "    \n",
    "    # Set y-axis with clean formatting like reference\n",
    "    ax.set_ylim(0, max_val * 1.3)\n",
    "    \n",
    "    # Create clean radial grid lines like in reference\n",
    "    y_ticks = np.arange(0, max_val + 10, 20)  # Every 20%\n",
    "    ax.set_yticks(y_ticks)\n",
    "    ax.set_yticklabels([f'{int(tick)}%' for tick in y_ticks], fontsize=9, color='gray')\n",
    "    \n",
    "    # Clean title styling like reference image\n",
    "    ax.set_title(title, size=16, fontweight='bold', pad=20, color='black')\n",
    "    \n",
    "    # Clean grid styling\n",
    "    ax.grid(True, alpha=0.3, linestyle='-', linewidth=0.5, color='gray')\n",
    "    ax.set_theta_zero_location('N')  # Start from top\n",
    "    ax.set_theta_direction(-1)  # Clockwise\n",
    "    \n",
    "    # Remove radial axis label\n",
    "    ax.set_ylabel('')\n",
    "    \n",
    "    # Remove legend since we only have one series\n",
    "    \n",
    "    plt.tight_layout()\n",
    "    \n",
    "    return fig, ax"
   ]
  },
  {
   "cell_type": "code",
   "execution_count": null,
   "id": "6e466153",
   "metadata": {},
   "outputs": [],
   "source": [
    "# Create the radar chart with styling similar to reference image\n",
    "fig, ax = create_radar_chart(dx_counts, len(adult_df), \n",
    "                            title=\"Body Region Trauma Distribution\")\n",
    "plt.show()"
   ]
  },
  {
   "cell_type": "code",
   "execution_count": null,
   "id": "98360f72",
   "metadata": {},
   "outputs": [],
   "source": [
    "# save image\n",
    "# fig.savefig(\"/Users/jk1/Library/CloudStorage/OneDrive-unige.ch/icu_research/prehospital/analgesia/analysis/adult_trauma/body_region_distribution.png\", dpi=600, bbox_inches='tight')"
   ]
  },
  {
   "cell_type": "code",
   "execution_count": null,
   "id": "45a2011a",
   "metadata": {},
   "outputs": [],
   "source": []
  }
 ],
 "metadata": {
  "kernelspec": {
   "display_name": "prehosp",
   "language": "python",
   "name": "python3"
  },
  "language_info": {
   "codemirror_mode": {
    "name": "ipython",
    "version": 3
   },
   "file_extension": ".py",
   "mimetype": "text/x-python",
   "name": "python",
   "nbconvert_exporter": "python",
   "pygments_lexer": "ipython3",
   "version": "3.11.9"
  }
 },
 "nbformat": 4,
 "nbformat_minor": 5
}
