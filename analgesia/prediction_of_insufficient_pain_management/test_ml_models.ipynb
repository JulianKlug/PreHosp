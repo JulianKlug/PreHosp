{
 "cells": [
  {
   "cell_type": "markdown",
   "id": "913257ce",
   "metadata": {},
   "source": [
    "# Test ML Models Framework\n",
    "\n",
    "This notebook tests the multiple machine learning models framework for predicting insufficient pain management."
   ]
  },
  {
   "cell_type": "code",
   "execution_count": null,
   "id": "11394890",
   "metadata": {},
   "outputs": [],
   "source": [
    "import sys\n",
    "import os\n",
    "sys.path.append('/Users/jk1/icu_research/PreHosp')\n",
    "\n",
    "from analgesia.prediction_of_insufficient_pain_management.data_preprocessing import load_and_preprocess_data\n",
    "from analgesia.prediction_of_insufficient_pain_management.ml_models import MLModelEvaluator\n",
    "import pandas as pd\n",
    "import numpy as np\n",
    "import matplotlib.pyplot as plt\n",
    "import seaborn as sns"
   ]
  },
  {
   "cell_type": "code",
   "execution_count": null,
   "id": "ed8ef00e",
   "metadata": {},
   "outputs": [],
   "source": [
    "# Load and preprocess the data\n",
    "data_path = '/Users/jk1/Library/CloudStorage/OneDrive-unige.ch/icu_research/prehospital/analgesia/data/trauma_categories_Rega Pain Study15.09.2025_v2.xlsx'\n",
    "\n",
    "print(\"Loading and preprocessing data...\")\n",
    "processed_data, processor = load_and_preprocess_data(data_path)\n",
    "\n",
    "print(f\"\\nProcessed data shape: {processed_data.shape}\")"
   ]
  },
  {
   "cell_type": "code",
   "execution_count": null,
   "id": "ed6abd59",
   "metadata": {},
   "outputs": [],
   "source": [
    "# Prepare data for modeling\n",
    "X_train, X_test, y_train, y_test = processor.prepare_modeling_data()\n",
    "\n",
    "print(f\"Training set: {X_train.shape[0]} samples, {X_train.shape[1]} features\")\n",
    "print(f\"Test set: {X_test.shape[0]} samples, {X_test.shape[1]} features\")"
   ]
  },
  {
   "cell_type": "code",
   "execution_count": null,
   "id": "4c1d183d",
   "metadata": {},
   "outputs": [],
   "source": [
    "# Initialize ML Model Evaluator\n",
    "print(\"\\nInitializing ML Model Evaluator...\")\n",
    "ml_evaluator = MLModelEvaluator()\n",
    "\n",
    "# List available models\n",
    "print(\"Available models:\")\n",
    "model_configs = ml_evaluator.get_model_configs()\n",
    "for model_name in model_configs.keys():\n",
    "    print(f\"  - {model_name}\")"
   ]
  },
  {
   "cell_type": "code",
   "execution_count": null,
   "id": "24e7ee75",
   "metadata": {},
   "outputs": [],
   "source": [
    "# Train and evaluate Random Forest model\n",
    "print(\"\\nTraining Random Forest model...\")\n",
    "\n",
    "# First tune the model\n",
    "print(\"Tuning hyperparameters...\")\n",
    "rf_best_params = ml_evaluator.tune_model('random_forest', X_train, y_train)\n",
    "print(f\"Best parameters: {rf_best_params}\")\n",
    "\n",
    "# Evaluate the model\n",
    "print(\"Evaluating model...\")\n",
    "rf_results = ml_evaluator.evaluate_model('random_forest', X_test, y_test)\n",
    "\n",
    "print(\"\\nRandom Forest Results:\")\n",
    "for metric, score in rf_results.items():\n",
    "    if isinstance(score, (int, float)):\n",
    "        print(f\"  {metric}: {score:.4f}\")\n",
    "    elif hasattr(score, 'mean'):\n",
    "        print(f\"  {metric}: {score.mean():.4f} (+/- {score.std() * 2:.4f})\")\n",
    "    else:\n",
    "        print(f\"  {metric}: {score}\")"
   ]
  },
  {
   "cell_type": "code",
   "execution_count": null,
   "id": "34ead4d0",
   "metadata": {},
   "outputs": [],
   "source": [
    "# Get feature importance from Random Forest\n",
    "print(\"\\nRandom Forest Feature Importance:\")\n",
    "rf_feature_importance = ml_evaluator.get_feature_importance('random_forest')\n",
    "if rf_feature_importance is not None:\n",
    "    print(\"Top 10 Most Important Features:\")\n",
    "    print(rf_feature_importance.head(10))\n",
    "    \n",
    "    # Check if VAS_change or VAS_improved are causing perfect predictions\n",
    "    vas_features = rf_feature_importance[rf_feature_importance['feature'].str.contains('VAS', na=False)]\n",
    "    if not vas_features.empty:\n",
    "        print(f\"\\nVAS-related features importance:\")\n",
    "        print(vas_features)\n",
    "else:\n",
    "    print(\"Feature importance not available for this model type.\")"
   ]
  },
  {
   "cell_type": "code",
   "execution_count": null,
   "id": "782cf467",
   "metadata": {},
   "outputs": [],
   "source": [
    "# Investigate potential data leakage from engineered features\n",
    "print(\"Investigating potential data leakage...\")\n",
    "\n",
    "# Check correlation between VAS features and target\n",
    "vas_features = ['VAS_on_scene', 'VAS_change', 'VAS_improved']\n",
    "available_vas_features = [f for f in vas_features if f in X_train.columns]\n",
    "\n",
    "print(f\"\\nAvailable VAS features in training set: {available_vas_features}\")\n",
    "\n",
    "if available_vas_features:\n",
    "    # Reconstruct full data to check correlations\n",
    "    temp_data = X_train.copy()\n",
    "    temp_data['target'] = y_train\n",
    "    \n",
    "    for feature in available_vas_features:\n",
    "        corr = temp_data[[feature, 'target']].corr().iloc[0, 1]\n",
    "        print(f\"Correlation between {feature} and target: {corr:.4f}\")\n",
    "        \n",
    "        # Check unique values\n",
    "        unique_vals = temp_data[feature].nunique()\n",
    "        print(f\"  Unique values in {feature}: {unique_vals}\")\n",
    "        \n",
    "        # Check if feature is binary or has obvious patterns\n",
    "        if unique_vals <= 10:\n",
    "            value_counts = temp_data[feature].value_counts().head()\n",
    "            print(f\"  Value distribution: {dict(value_counts)}\")\n",
    "        print()"
   ]
  },
  {
   "cell_type": "code",
   "execution_count": null,
   "id": "1101de44",
   "metadata": {},
   "outputs": [],
   "source": [
    "# Test multiple models using run_all_models\n",
    "print(\"Comparing multiple ML models...\")\n",
    "\n",
    "# Run all available models\n",
    "print(\"Running all models (this may take several minutes)...\")\n",
    "try:\n",
    "    results = ml_evaluator.run_all_models(X_train, X_test, y_train, y_test)\n",
    "    \n",
    "    print(\"\\nModel Comparison Results:\")\n",
    "    summary = ml_evaluator.get_model_comparison_summary()\n",
    "    print(summary)\n",
    "    \n",
    "    print(\"\\nFinal Summary:\")\n",
    "    ml_evaluator.print_final_summary()\n",
    "    \n",
    "except Exception as e:\n",
    "    print(f\"Error running all models: {str(e)}\")\n",
    "    \n",
    "    # Let's try individual models\n",
    "    print(\"\\nTrying individual models...\")\n",
    "    models_to_test = ['random_forest', 'gradient_boosting']\n",
    "    \n",
    "    for model_name in models_to_test:\n",
    "        try:\n",
    "            print(f\"\\nTesting {model_name}...\")\n",
    "            # Skip tuning for faster testing\n",
    "            eval_results = ml_evaluator.evaluate_model(model_name, X_test, y_test)\n",
    "            print(f\"  Accuracy: {eval_results.get('accuracy', 'N/A'):.4f}\")\n",
    "            print(f\"  ROC-AUC: {eval_results.get('roc_auc', 'N/A'):.4f}\")\n",
    "        except Exception as model_error:\n",
    "            print(f\"  Error with {model_name}: {str(model_error)}\")"
   ]
  }
 ],
 "metadata": {
  "kernelspec": {
   "display_name": ".venv",
   "language": "python",
   "name": "python3"
  },
  "language_info": {
   "codemirror_mode": {
    "name": "ipython",
    "version": 3
   },
   "file_extension": ".py",
   "mimetype": "text/x-python",
   "name": "python",
   "nbconvert_exporter": "python",
   "pygments_lexer": "ipython3",
   "version": "3.13.2"
  }
 },
 "nbformat": 4,
 "nbformat_minor": 5
}
