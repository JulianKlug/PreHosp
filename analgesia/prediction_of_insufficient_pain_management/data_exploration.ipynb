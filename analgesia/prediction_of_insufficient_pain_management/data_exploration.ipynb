{
 "cells": [
  {
   "cell_type": "markdown",
   "id": "c6ab664b",
   "metadata": {},
   "source": [
    "# Data Exploration for Insufficient Pain Management Prediction\n",
    "\n",
    "This notebook explores the dataset to understand:\n",
    "- Available variables and their types\n",
    "- Target variable (VAS > 3) distribution\n",
    "- Missing data patterns\n",
    "- Potential predictive variables available in prehospital setting\n",
    "- Data quality issues"
   ]
  },
  {
   "cell_type": "code",
   "execution_count": null,
   "id": "c1c69eae",
   "metadata": {},
   "outputs": [],
   "source": [
    "import pandas as pd\n",
    "import numpy as np\n",
    "import matplotlib.pyplot as plt\n",
    "import seaborn as sns\n",
    "from pathlib import Path\n",
    "\n",
    "# Set display options\n",
    "pd.set_option('display.max_columns', None)\n",
    "pd.set_option('display.max_rows', 100)\n",
    "\n",
    "# Configure plotting\n",
    "plt.style.use('default')\n",
    "sns.set_palette(\"husl\")\n",
    "plt.rcParams['figure.figsize'] = (12, 8)"
   ]
  },
  {
   "cell_type": "code",
   "execution_count": null,
   "id": "67ed8155",
   "metadata": {},
   "outputs": [],
   "source": [
    "# Load the data\n",
    "data_path = '/Users/jk1/Library/CloudStorage/OneDrive-unige.ch/icu_research/prehospital/analgesia/data/trauma_categories_Rega Pain Study15.09.2025_v2.xlsx'\n",
    "\n",
    "try:\n",
    "    # Read the Excel file\n",
    "    df = pd.read_excel(data_path)\n",
    "    print(f\"Data loaded successfully!\")\n",
    "    print(f\"Shape: {df.shape}\")\n",
    "    print(f\"Columns: {len(df.columns)}\")\n",
    "    print(f\"Rows: {len(df)}\")\n",
    "except Exception as e:\n",
    "    print(f\"Error loading data: {e}\")\n",
    "    # Try to see if file exists\n",
    "    if Path(data_path).exists():\n",
    "        print(\"File exists but cannot be read\")\n",
    "    else:\n",
    "        print(\"File does not exist\")"
   ]
  },
  {
   "cell_type": "code",
   "execution_count": null,
   "id": "0ebac6c2",
   "metadata": {},
   "outputs": [],
   "source": [
    "# Basic dataset overview\n",
    "print(\"=== DATASET OVERVIEW ===\")\n",
    "print(f\"Dataset shape: {df.shape}\")\n",
    "print(f\"\\nColumn names:\")\n",
    "for i, col in enumerate(df.columns):\n",
    "    print(f\"{i+1:2d}. {col}\")"
   ]
  },
  {
   "cell_type": "code",
   "execution_count": null,
   "id": "73d2886c",
   "metadata": {},
   "outputs": [],
   "source": [
    "# Display first few rows\n",
    "print(\"=== FIRST 5 ROWS ===\")\n",
    "df.head()"
   ]
  },
  {
   "cell_type": "code",
   "execution_count": null,
   "id": "3d241f5e",
   "metadata": {},
   "outputs": [],
   "source": [
    "# Data types and basic info\n",
    "print(\"=== DATA TYPES ===\")\n",
    "df.info()"
   ]
  },
  {
   "cell_type": "code",
   "execution_count": null,
   "id": "d12ff90d",
   "metadata": {},
   "outputs": [],
   "source": [
    "# Look for VAS-related columns to define our target variable\n",
    "print(\"=== VAS-RELATED COLUMNS ===\")\n",
    "vas_columns = [col for col in df.columns if 'vas' in col.lower() or 'pain' in col.lower()]\n",
    "print(f\"Found {len(vas_columns)} VAS/pain-related columns:\")\n",
    "for col in vas_columns:\n",
    "    print(f\"  - {col}\")\n",
    "    if not df[col].empty:\n",
    "        print(f\"    Type: {df[col].dtype}, Non-null: {df[col].notna().sum()}/{len(df)}\")\n",
    "        if pd.api.types.is_numeric_dtype(df[col]):\n",
    "            print(f\"    Range: {df[col].min():.2f} - {df[col].max():.2f}\")\n",
    "        print()"
   ]
  },
  {
   "cell_type": "code",
   "execution_count": null,
   "id": "1ec317f3",
   "metadata": {},
   "outputs": [],
   "source": [
    "# Missing data analysis\n",
    "print(\"=== MISSING DATA ANALYSIS ===\")\n",
    "missing_data = df.isnull().sum()\n",
    "missing_pct = (missing_data / len(df)) * 100\n",
    "missing_df = pd.DataFrame({\n",
    "    'Missing_Count': missing_data,\n",
    "    'Missing_Percentage': missing_pct\n",
    "}).sort_values('Missing_Percentage', ascending=False)\n",
    "\n",
    "# Show columns with missing data\n",
    "columns_with_missing = missing_df[missing_df['Missing_Count'] > 0]\n",
    "print(f\"Columns with missing data: {len(columns_with_missing)}/{len(df.columns)}\")\n",
    "print(\"\\nTop 20 columns with most missing data:\")\n",
    "print(columns_with_missing.head(20))"
   ]
  },
  {
   "cell_type": "code",
   "execution_count": null,
   "id": "03e56b4e",
   "metadata": {},
   "outputs": [],
   "source": [
    "# Visualize missing data pattern\n",
    "plt.figure(figsize=(15, 8))\n",
    "missing_top20 = columns_with_missing.head(20)\n",
    "sns.barplot(x=missing_top20['Missing_Percentage'], y=missing_top20.index)\n",
    "plt.title('Top 20 Columns with Missing Data')\n",
    "plt.xlabel('Missing Percentage (%)')\n",
    "plt.tight_layout()\n",
    "plt.show()"
   ]
  },
  {
   "cell_type": "code",
   "execution_count": null,
   "id": "de84a36b",
   "metadata": {},
   "outputs": [],
   "source": [
    "# Identify potential prehospital variables\n",
    "print(\"=== IDENTIFYING PREHOSPITAL VARIABLES ===\")\n",
    "# Common prehospital variable keywords\n",
    "prehospital_keywords = [\n",
    "    'age', 'sex', 'gender', 'weight', 'height', 'bmi',\n",
    "    'mechanism', 'injury', 'trauma', 'accident',\n",
    "    'systolic', 'diastolic', 'bp', 'pressure', 'hr', 'heart_rate',\n",
    "    'spo2', 'oxygen', 'saturation', 'resp', 'respiratory',\n",
    "    'gcs', 'consciousness', 'alert', 'awake',\n",
    "    'time', 'duration', 'transport', 'distance',\n",
    "    'medication', 'drug', 'analgesic', 'morphine', 'fentanyl',\n",
    "    'scene', 'location', 'weather', 'temperature'\n",
    "]\n",
    "\n",
    "potential_prehospital = []\n",
    "for col in df.columns:\n",
    "    col_lower = col.lower()\n",
    "    for keyword in prehospital_keywords:\n",
    "        if keyword in col_lower:\n",
    "            potential_prehospital.append(col)\n",
    "            break\n",
    "\n",
    "print(f\"Found {len(potential_prehospital)} potential prehospital variables:\")\n",
    "for col in potential_prehospital:\n",
    "    print(f\"  - {col}\")"
   ]
  },
  {
   "cell_type": "code",
   "execution_count": null,
   "id": "07116903",
   "metadata": {},
   "outputs": [],
   "source": [
    "# Statistical summary of numeric variables\n",
    "print(\"=== NUMERIC VARIABLES SUMMARY ===\")\n",
    "numeric_cols = df.select_dtypes(include=[np.number]).columns\n",
    "print(f\"Found {len(numeric_cols)} numeric columns\")\n",
    "df[numeric_cols].describe()"
   ]
  },
  {
   "cell_type": "code",
   "execution_count": null,
   "id": "28d3108b",
   "metadata": {},
   "outputs": [],
   "source": [
    "# Categorical variables analysis\n",
    "print(\"=== CATEGORICAL VARIABLES ANALYSIS ===\")\n",
    "categorical_cols = df.select_dtypes(include=['object', 'category']).columns\n",
    "print(f\"Found {len(categorical_cols)} categorical columns\")\n",
    "\n",
    "for col in categorical_cols[:10]:  # Show first 10\n",
    "    print(f\"\\n{col}:\")\n",
    "    print(f\"  Unique values: {df[col].nunique()}\")\n",
    "    if df[col].nunique() <= 10:  # Show value counts for small number of categories\n",
    "        print(f\"  Value counts:\")\n",
    "        print(df[col].value_counts().to_string())\n",
    "    else:\n",
    "        print(f\"  Top 5 values:\")\n",
    "        print(df[col].value_counts().head().to_string())"
   ]
  },
  {
   "cell_type": "code",
   "execution_count": null,
   "id": "94f090b5",
   "metadata": {},
   "outputs": [],
   "source": [
    "# Define target variable: Insufficient pain management (VAS on arrival > 3)\n",
    "print(\"=== TARGET VARIABLE DEFINITION ===\" )\n",
    "print(\"Insufficient pain management defined as VAS_on_arrival > 3\")\n",
    "\n",
    "# Check VAS_on_arrival distribution\n",
    "print(f\"\\nVAS_on_arrival statistics:\")\n",
    "print(f\"Non-null values: {df['VAS_on_arrival'].notna().sum()}/{len(df)} ({(df['VAS_on_arrival'].notna().sum()/len(df)*100):.1f}%)\")\n",
    "print(f\"Mean: {df['VAS_on_arrival'].mean():.2f}\")\n",
    "print(f\"Median: {df['VAS_on_arrival'].median():.2f}\")\n",
    "print(f\"Std: {df['VAS_on_arrival'].std():.2f}\")\n",
    "\n",
    "# Create target variable\n",
    "df['insufficient_pain_mgmt'] = (df['VAS_on_arrival'] > 3).astype(int)\n",
    "\n",
    "# Handle missing values in target (for now, exclude them)\n",
    "target_available = df['VAS_on_arrival'].notna()\n",
    "print(f\"\\nCases with VAS_on_arrival data: {target_available.sum()}\")\n",
    "\n",
    "# Target variable distribution\n",
    "target_dist = df.loc[target_available, 'insufficient_pain_mgmt'].value_counts()\n",
    "print(f\"\\nTarget variable distribution (insufficient pain management):\")\n",
    "print(f\"No (VAS ≤ 3): {target_dist[0]} ({target_dist[0]/target_dist.sum()*100:.1f}%)\")\n",
    "print(f\"Yes (VAS > 3): {target_dist[1]} ({target_dist[1]/target_dist.sum()*100:.1f}%)\")\n",
    "\n",
    "# VAS distribution visualization\n",
    "plt.figure(figsize=(15, 5))\n",
    "\n",
    "plt.subplot(1, 3, 1)\n",
    "df['VAS_on_arrival'].hist(bins=11, edgecolor='black', alpha=0.7)\n",
    "plt.title('VAS on Arrival Distribution')\n",
    "plt.xlabel('VAS Score')\n",
    "plt.ylabel('Frequency')\n",
    "\n",
    "plt.subplot(1, 3, 2)\n",
    "target_counts = df.loc[target_available, 'insufficient_pain_mgmt'].value_counts()\n",
    "plt.pie(target_counts.values, labels=['Adequate (≤3)', 'Insufficient (>3)'], autopct='%1.1f%%')\n",
    "plt.title('Pain Management Adequacy')\n",
    "\n",
    "plt.subplot(1, 3, 3)\n",
    "sns.boxplot(x='insufficient_pain_mgmt', y='VAS_on_arrival', data=df[target_available])\n",
    "plt.xlabel('Insufficient Pain Management')\n",
    "plt.ylabel('VAS on Arrival')\n",
    "plt.title('VAS Distribution by Target Class')\n",
    "\n",
    "plt.tight_layout()\n",
    "plt.show()"
   ]
  }
 ],
 "metadata": {
  "kernelspec": {
   "display_name": ".venv",
   "language": "python",
   "name": "python3"
  },
  "language_info": {
   "codemirror_mode": {
    "name": "ipython",
    "version": 3
   },
   "file_extension": ".py",
   "mimetype": "text/x-python",
   "name": "python",
   "nbconvert_exporter": "python",
   "pygments_lexer": "ipython3",
   "version": "3.13.2"
  }
 },
 "nbformat": 4,
 "nbformat_minor": 5
}
