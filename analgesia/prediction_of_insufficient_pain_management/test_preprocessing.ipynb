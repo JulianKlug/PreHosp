{
 "cells": [
  {
   "cell_type": "markdown",
   "id": "19041453",
   "metadata": {},
   "source": [
    "# Test Data Preprocessing Pipeline\n",
    "\n",
    "This notebook tests the data preprocessing functions to ensure they work correctly."
   ]
  },
  {
   "cell_type": "code",
   "execution_count": null,
   "id": "8dec4b36",
   "metadata": {},
   "outputs": [],
   "source": [
    "import sys\n",
    "import os\n",
    "\n",
    "# Add the current directory to path to import our modules\n",
    "sys.path.append(os.getcwd())\n",
    "\n",
    "from analgesia.prediction_of_insufficient_pain_management.data_preprocessing import PainManagementDataProcessor, load_and_preprocess_data\n",
    "import pandas as pd\n",
    "import numpy as np"
   ]
  },
  {
   "cell_type": "code",
   "execution_count": null,
   "id": "882a64a8",
   "metadata": {},
   "outputs": [],
   "source": [
    "# Test the preprocessing pipeline\n",
    "data_path = '/Users/jk1/Library/CloudStorage/OneDrive-unige.ch/icu_research/prehospital/analgesia/data/trauma_categories_Rega Pain Study15.09.2025_v2.xlsx'\n",
    "\n",
    "print(\"Testing data preprocessing pipeline...\")\n",
    "processed_data, processor = load_and_preprocess_data(data_path)\n",
    "\n",
    "print(f\"\\nProcessed data shape: {processed_data.shape}\")\n",
    "print(f\"Columns: {list(processed_data.columns)}\")"
   ]
  },
  {
   "cell_type": "code",
   "execution_count": null,
   "id": "291e63c3",
   "metadata": {},
   "outputs": [],
   "source": [
    "# Check target variable distribution\n",
    "if 'insufficient_pain_mgmt' in processed_data.columns:\n",
    "    target_dist = processed_data['insufficient_pain_mgmt'].value_counts()\n",
    "    print(\"Target variable distribution:\")\n",
    "    print(target_dist)\n",
    "    print(f\"\\nPercentages:\")\n",
    "    print(target_dist / target_dist.sum() * 100)"
   ]
  },
  {
   "cell_type": "code",
   "execution_count": null,
   "id": "3ddb3aab",
   "metadata": {},
   "outputs": [],
   "source": [
    "# Test train/test split\n",
    "try:\n",
    "    X_train, X_test, y_train, y_test = processor.prepare_modeling_data()\n",
    "    print(f\"Training set shape: {X_train.shape}\")\n",
    "    print(f\"Test set shape: {X_test.shape}\")\n",
    "    print(f\"Training target distribution: {y_train.value_counts().to_dict()}\")\n",
    "    print(f\"Test target distribution: {y_test.value_counts().to_dict()}\")\n",
    "except Exception as e:\n",
    "    print(f\"Error in train/test split: {e}\")"
   ]
  },
  {
   "cell_type": "code",
   "execution_count": null,
   "id": "ad9cb140",
   "metadata": {},
   "outputs": [],
   "source": [
    "# Verify all data leakage features are removed\n",
    "print(\"Checking for data leakage...\")\n",
    "leakage_features = ['VAS_on_arrival', 'VAS_change', 'VAS_improved']\n",
    "found_leakage = [feat for feat in leakage_features if feat in X_train.columns]\n",
    "\n",
    "if found_leakage:\n",
    "    print(f\"❌ WARNING: Found leakage features in training set: {found_leakage}\")\n",
    "else:\n",
    "    print(f\"✅ GOOD: All leakage features excluded - no data leakage\")\n",
    "    print(f\"   Excluded: {leakage_features}\")\n",
    "\n",
    "print(f\"\\nFeatures in training set: {list(X_train.columns)}\")\n",
    "print(f\"Number of features: {X_train.shape[1]}\")\n",
    "\n",
    "# Check target correlation with excluded features (should still be high for VAS_on_arrival)\n",
    "print(f\"\\nTarget correlations with excluded features:\")\n",
    "for feat in leakage_features:\n",
    "    if feat in processed_data.columns:\n",
    "        corr = processed_data[['insufficient_pain_mgmt', feat]].corr().iloc[0,1]\n",
    "        print(f\"  {feat}: {corr:.4f}\")\n",
    "\n",
    "print(\"\\n(High correlations with excluded features confirm they would cause data leakage)\")"
   ]
  },
  {
   "cell_type": "code",
   "execution_count": null,
   "id": "60cdf06c",
   "metadata": {},
   "outputs": [],
   "source": [
    "# Display basic statistics of processed features\n",
    "print(\"Basic statistics of processed features:\")\n",
    "print(processed_data.describe())"
   ]
  }
 ],
 "metadata": {
  "kernelspec": {
   "display_name": ".venv",
   "language": "python",
   "name": "python3"
  },
  "language_info": {
   "codemirror_mode": {
    "name": "ipython",
    "version": 3
   },
   "file_extension": ".py",
   "mimetype": "text/x-python",
   "name": "python",
   "nbconvert_exporter": "python",
   "pygments_lexer": "ipython3",
   "version": "3.13.2"
  }
 },
 "nbformat": 4,
 "nbformat_minor": 5
}
