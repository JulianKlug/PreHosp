{
 "cells": [
  {
   "cell_type": "markdown",
   "id": "8ab9f1c5",
   "metadata": {},
   "source": [
    "# Test Logistic Regression Baseline Model\n",
    "\n",
    "This notebook tests the logistic regression baseline model for predicting insufficient pain management."
   ]
  },
  {
   "cell_type": "code",
   "execution_count": null,
   "id": "0ec97b04",
   "metadata": {},
   "outputs": [],
   "source": [
    "import sys\n",
    "import os\n",
    "sys.path.append('/Users/jk1/icu_research/PreHosp')\n",
    "\n",
    "from analgesia.prediction_of_insufficient_pain_management.data_preprocessing import load_and_preprocess_data\n",
    "from analgesia.prediction_of_insufficient_pain_management.logistic_regression_baseline import LogisticRegressionBaseline\n",
    "import pandas as pd\n",
    "import numpy as np"
   ]
  },
  {
   "cell_type": "code",
   "execution_count": null,
   "id": "eb2e86ee",
   "metadata": {},
   "outputs": [],
   "source": [
    "# Load and preprocess the data\n",
    "data_path = '/Users/jk1/Library/CloudStorage/OneDrive-unige.ch/icu_research/prehospital/analgesia/data/trauma_categories_Rega Pain Study15.09.2025_v2.xlsx'\n",
    "\n",
    "print(\"Loading and preprocessing data...\")\n",
    "processed_data, processor = load_and_preprocess_data(data_path)\n",
    "\n",
    "print(f\"\\nProcessed data shape: {processed_data.shape}\")\n",
    "print(f\"Target distribution: {processed_data['insufficient_pain_mgmt'].value_counts()}\")"
   ]
  },
  {
   "cell_type": "code",
   "execution_count": null,
   "id": "8486e495",
   "metadata": {},
   "outputs": [],
   "source": [
    "# Prepare data for modeling\n",
    "X_train, X_test, y_train, y_test = processor.prepare_modeling_data()\n",
    "\n",
    "print(f\"Training set: {X_train.shape[0]} samples, {X_train.shape[1]} features\")\n",
    "print(f\"Test set: {X_test.shape[0]} samples, {X_test.shape[1]} features\")\n",
    "print(f\"Training target distribution: {y_train.value_counts().to_dict()}\")\n",
    "print(f\"Test target distribution: {y_test.value_counts().to_dict()}\")"
   ]
  },
  {
   "cell_type": "code",
   "execution_count": null,
   "id": "40c80b94",
   "metadata": {},
   "outputs": [],
   "source": [
    "# Initialize and train the baseline model\n",
    "print(\"\\nInitializing Logistic Regression Baseline...\")\n",
    "baseline = LogisticRegressionBaseline()\n",
    "\n",
    "print(\"Training baseline model...\")\n",
    "baseline.fit_final_model(X_train, y_train)\n",
    "\n",
    "print(\"Baseline model training complete!\")"
   ]
  },
  {
   "cell_type": "code",
   "execution_count": null,
   "id": "37de77a3",
   "metadata": {},
   "outputs": [],
   "source": [
    "# Evaluate the baseline model\n",
    "print(\"\\nEvaluating baseline model...\")\n",
    "baseline_scores = baseline.evaluate_model(X_test, y_test)\n",
    "\n",
    "print(\"\\nBaseline Model Performance:\")\n",
    "for metric, score in baseline_scores.items():\n",
    "    if isinstance(score, (int, float)):\n",
    "        print(f\"  {metric}: {score:.4f}\")\n",
    "    else:\n",
    "        print(f\"  {metric}: {score}\")"
   ]
  },
  {
   "cell_type": "code",
   "execution_count": null,
   "id": "087c68e9",
   "metadata": {},
   "outputs": [],
   "source": [
    "# Get feature importance\n",
    "print(\"\\nTop 10 Most Important Features:\")\n",
    "feature_importance = baseline.get_feature_importance()\n",
    "print(feature_importance.head(10))"
   ]
  },
  {
   "cell_type": "code",
   "execution_count": null,
   "id": "0a2f6ff0",
   "metadata": {},
   "outputs": [],
   "source": [
    "# Test cross-validation\n",
    "print(\"\\nRunning cross-validation...\")\n",
    "cv_scores = baseline.cross_validate_model(X_train, y_train, cv_folds=5)\n",
    "\n",
    "print(\"\\nCross-Validation Results:\")\n",
    "for metric, scores in cv_scores.items():\n",
    "    if hasattr(scores, 'mean'):\n",
    "        print(f\"  {metric}: {scores.mean():.4f} (+/- {scores.std() * 2:.4f})\")\n",
    "    else:\n",
    "        print(f\"  {metric}: {scores}\")"
   ]
  }
 ],
 "metadata": {
  "kernelspec": {
   "display_name": ".venv",
   "language": "python",
   "name": "python3"
  },
  "language_info": {
   "codemirror_mode": {
    "name": "ipython",
    "version": 3
   },
   "file_extension": ".py",
   "mimetype": "text/x-python",
   "name": "python",
   "nbconvert_exporter": "python",
   "pygments_lexer": "ipython3",
   "version": "3.13.2"
  }
 },
 "nbformat": 4,
 "nbformat_minor": 5
}
