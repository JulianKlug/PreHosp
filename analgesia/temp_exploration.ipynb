{
 "cells": [
  {
   "cell_type": "code",
   "execution_count": null,
   "id": "8a8fdcc0",
   "metadata": {},
   "outputs": [],
   "source": [
    "import pandas as pd"
   ]
  },
  {
   "cell_type": "code",
   "execution_count": null,
   "id": "6021d43c",
   "metadata": {},
   "outputs": [],
   "source": [
    "data_path = '/Users/jk1/Library/CloudStorage/OneDrive-unige.ch/icu_research/prehospital/analgesia/data/Masterarbeit Analgesie_24.07.2025.xlsx'\n",
    "data_with_categories_path = '/Users/jk1/Library/CloudStorage/OneDrive-unige.ch/icu_research/prehospital/analgesia/data/trauma_categories_Rega Pain Study15.09.2025_v2.xlsx'"
   ]
  },
  {
   "cell_type": "code",
   "execution_count": null,
   "id": "7d42ea7b",
   "metadata": {},
   "outputs": [],
   "source": [
    "data_df = pd.read_excel(data_path)\n",
    "data_with_categories_df = pd.read_excel(data_with_categories_path)"
   ]
  },
  {
   "cell_type": "code",
   "execution_count": null,
   "id": "c6e01682",
   "metadata": {},
   "outputs": [],
   "source": [
    "data_df.head()"
   ]
  },
  {
   "cell_type": "code",
   "execution_count": null,
   "id": "3ffea35e",
   "metadata": {},
   "outputs": [],
   "source": [
    "data_with_categories_df.head()"
   ]
  },
  {
   "cell_type": "code",
   "execution_count": null,
   "id": "039c033f",
   "metadata": {},
   "outputs": [],
   "source": [
    "# print columns that are unique to each dataframe\n",
    "print(\"Columns in data_df but not in data_with_categories_df:\")\n",
    "print(set(data_df.columns) - set(data_with_categories_df.columns))\n",
    "print(\"\\nColumns in data_with_categories_df but not in data_df:\")\n",
    "print(set(data_with_categories_df.columns) - set(data_df.columns))"
   ]
  },
  {
   "cell_type": "code",
   "execution_count": null,
   "id": "540eaabc",
   "metadata": {},
   "outputs": [],
   "source": [
    "# in each dataframe print columns starting with \"Körper\"\n",
    "print(\"Columns in data_df starting with 'Körper':\")\n",
    "print([col for col in data_df.columns if col.startswith(\"Körper\")])\n",
    "print(\"\\nColumns in data_with_categories_df starting with 'Körper':\")\n",
    "print([col for col in data_with_categories_df.columns if col.startswith(\"Körper\")])"
   ]
  },
  {
   "cell_type": "code",
   "execution_count": null,
   "id": "9695972a",
   "metadata": {},
   "outputs": [],
   "source": [
    "data_with_categories_df['SNZ Ereignis Nr. '].nunique(), data_df['SNZ Ereignis Nr. '].nunique()"
   ]
  },
  {
   "cell_type": "code",
   "execution_count": null,
   "id": "ae2f2894",
   "metadata": {},
   "outputs": [],
   "source": [
    "data_with_categories_df['Körperregion', 'Körperregion2']"
   ]
  },
  {
   "cell_type": "code",
   "execution_count": null,
   "id": "ecb84799",
   "metadata": {},
   "outputs": [],
   "source": []
  }
 ],
 "metadata": {
  "kernelspec": {
   "display_name": "prehosp",
   "language": "python",
   "name": "python3"
  },
  "language_info": {
   "codemirror_mode": {
    "name": "ipython",
    "version": 3
   },
   "file_extension": ".py",
   "mimetype": "text/x-python",
   "name": "python",
   "nbconvert_exporter": "python",
   "pygments_lexer": "ipython3",
   "version": "3.11.9"
  }
 },
 "nbformat": 4,
 "nbformat_minor": 5
}
