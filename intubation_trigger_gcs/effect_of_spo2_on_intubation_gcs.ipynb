{
 "cells": [
  {
   "cell_type": "code",
   "execution_count": null,
   "id": "6a42c62f2fa8419a",
   "metadata": {
    "ExecuteTime": {
     "end_time": "2024-08-16T18:35:57.065335Z",
     "start_time": "2024-08-16T18:35:57.062498Z"
    }
   },
   "outputs": [],
   "source": [
    "import pandas as pd\n",
    "import seaborn as sns\n",
    "import matplotlib.pyplot as plt\n",
    "from scipy.stats import wilcoxon\n",
    "import statsmodels"
   ]
  },
  {
   "cell_type": "code",
   "execution_count": null,
   "id": "f1edaae500bc781",
   "metadata": {
    "ExecuteTime": {
     "end_time": "2024-08-16T18:35:57.417657Z",
     "start_time": "2024-08-16T18:35:57.067404Z"
    }
   },
   "outputs": [],
   "source": [
    "data_path = '/Users/jk1/Library/CloudStorage/OneDrive-unige.ch/icu_research/prehospital/intubation_trigger/data/Mastertabelle_filtered.xlsx'\n",
    "df = pd.read_excel(data_path)"
   ]
  },
  {
   "cell_type": "code",
   "execution_count": null,
   "id": "4d4a6578d2582897",
   "metadata": {
    "ExecuteTime": {
     "end_time": "2024-08-16T18:35:57.425694Z",
     "start_time": "2024-08-16T18:35:57.419391Z"
    }
   },
   "outputs": [],
   "source": [
    "df = df[df.Comment != 'Reanimation']"
   ]
  },
  {
   "cell_type": "code",
   "execution_count": null,
   "id": "3a7e8aa4adff7840",
   "metadata": {
    "ExecuteTime": {
     "end_time": "2024-08-16T18:35:57.448667Z",
     "start_time": "2024-08-16T18:35:57.427848Z"
    }
   },
   "outputs": [],
   "source": [
    "df.head()"
   ]
  },
  {
   "cell_type": "code",
   "execution_count": null,
   "id": "bc99abde2aa79f64",
   "metadata": {
    "ExecuteTime": {
     "end_time": "2024-08-16T18:35:57.454393Z",
     "start_time": "2024-08-16T18:35:57.450034Z"
    }
   },
   "outputs": [],
   "source": [
    "# encode eineteilung\n",
    "df['Einteilung_encoded'] = df['Einteilung (Hauptdiagnose)'].map({'Krankheit': 0, 'Unfall': 1})\n",
    "df['Sverweis_Geschlecht_encoded'] = df['Sverweis_Geschlecht'].map({'männlich': 0, 'weiblich': 1})"
   ]
  },
  {
   "cell_type": "markdown",
   "id": "e2f0210d77fb9370",
   "metadata": {},
   "source": [
    "Spo2 as continuous variable"
   ]
  },
  {
   "cell_type": "markdown",
   "id": "2557bd6b91209750",
   "metadata": {},
   "source": [
    "univariate"
   ]
  },
  {
   "cell_type": "code",
   "execution_count": null,
   "id": "629249aede09e07e",
   "metadata": {
    "ExecuteTime": {
     "end_time": "2024-08-16T18:35:57.488769Z",
     "start_time": "2024-08-16T18:35:57.455636Z"
    }
   },
   "outputs": [],
   "source": [
    "from statsmodels.miscmodels.ordinal_model import OrderedModel\n",
    "\n",
    "temp_df = df[['GCS (Erstbefund)', 'SPO2 (Erstbefund)']]\n",
    "temp_df.dropna(inplace=True)\n",
    "\n",
    "mod_prob_med = OrderedModel(temp_df['GCS (Erstbefund)'], temp_df[['SPO2 (Erstbefund)']], distr='probit')"
   ]
  },
  {
   "cell_type": "code",
   "execution_count": null,
   "id": "fd945aaa48df3b56",
   "metadata": {
    "ExecuteTime": {
     "end_time": "2024-08-16T18:35:57.769100Z",
     "start_time": "2024-08-16T18:35:57.490331Z"
    }
   },
   "outputs": [],
   "source": [
    "res_prob_med = mod_prob_med.fit(maxiter=10000)\n",
    "res_prob_med.summary()"
   ]
  },
  {
   "cell_type": "markdown",
   "id": "a2c956f529afe47",
   "metadata": {},
   "source": [
    "multivariate"
   ]
  },
  {
   "cell_type": "code",
   "execution_count": null,
   "id": "b39461b58e857adf",
   "metadata": {
    "ExecuteTime": {
     "end_time": "2024-08-16T18:35:58.573236Z",
     "start_time": "2024-08-16T18:35:58.565438Z"
    }
   },
   "outputs": [],
   "source": [
    "from statsmodels.miscmodels.ordinal_model import OrderedModel\n",
    "\n",
    "temp_df = df[['GCS (Erstbefund)', 'SPO2 (Erstbefund)', 'Einteilung_encoded', 'Sverweis_Geschlecht_encoded', 'Alter  (Patient)']]\n",
    "temp_df.dropna(inplace=True)\n",
    "\n",
    "mod_prob_med = OrderedModel(temp_df['GCS (Erstbefund)'], temp_df[['SPO2 (Erstbefund)', 'Einteilung_encoded', 'Sverweis_Geschlecht_encoded', 'Alter  (Patient)']], distr='probit')"
   ]
  },
  {
   "cell_type": "code",
   "execution_count": null,
   "id": "f4b91d9028f55d51",
   "metadata": {
    "ExecuteTime": {
     "end_time": "2024-08-16T18:36:00.562797Z",
     "start_time": "2024-08-16T18:35:59.007783Z"
    }
   },
   "outputs": [],
   "source": [
    "res_prob_med = mod_prob_med.fit(maxiter=10000)\n",
    "res_prob_med.summary()"
   ]
  },
  {
   "cell_type": "markdown",
   "id": "38f2db8861d287e5",
   "metadata": {},
   "source": [
    "Spo2 as categorical variable (< 86)"
   ]
  },
  {
   "cell_type": "code",
   "execution_count": null,
   "id": "2a10528497cb187c",
   "metadata": {
    "ExecuteTime": {
     "end_time": "2024-08-16T18:36:01.363229Z",
     "start_time": "2024-08-16T18:36:01.359890Z"
    }
   },
   "outputs": [],
   "source": [
    "df['spo2_cat'] = df['SPO2 (Erstbefund)'].apply(lambda x: 1 if x < 86 else 0)"
   ]
  },
  {
   "cell_type": "markdown",
   "id": "b653f7fc069ceb8c",
   "metadata": {},
   "source": [
    "univariate"
   ]
  },
  {
   "cell_type": "code",
   "execution_count": null,
   "id": "204d7d060ad14384",
   "metadata": {
    "ExecuteTime": {
     "end_time": "2024-08-16T18:36:02.207479Z",
     "start_time": "2024-08-16T18:36:02.192584Z"
    }
   },
   "outputs": [],
   "source": [
    "from statsmodels.stats.nonparametric import rank_compare_2indep\n",
    "\n",
    "res = rank_compare_2indep(\n",
    "    df[(df['spo2_cat'] == 1) & (df['GCS (Erstbefund)'].notna()) & (df['SPO2 (Erstbefund)'].notna())]['GCS (Erstbefund)'].values,\n",
    "    df[(df['spo2_cat'] == 0) & (df['GCS (Erstbefund)'].notna()) & (df['SPO2 (Erstbefund)'].notna())]['GCS (Erstbefund)'].values)"
   ]
  },
  {
   "cell_type": "code",
   "execution_count": null,
   "id": "853b09ed163dc410",
   "metadata": {
    "ExecuteTime": {
     "end_time": "2024-08-16T18:36:02.645339Z",
     "start_time": "2024-08-16T18:36:02.639774Z"
    }
   },
   "outputs": [],
   "source": [
    "res.pvalue"
   ]
  },
  {
   "cell_type": "markdown",
   "id": "ae2da2cc5f2336fc",
   "metadata": {},
   "source": [
    "multivariate"
   ]
  },
  {
   "cell_type": "code",
   "execution_count": null,
   "id": "2e23306a811a9cf6",
   "metadata": {
    "ExecuteTime": {
     "end_time": "2024-08-16T18:36:03.223496Z",
     "start_time": "2024-08-16T18:36:03.214940Z"
    }
   },
   "outputs": [],
   "source": [
    "temp_df = df[['GCS (Erstbefund)', 'spo2_cat', 'Einteilung_encoded', 'Sverweis_Geschlecht_encoded', 'Alter  (Patient)']]\n",
    "temp_df.dropna(inplace=True)\n",
    "\n",
    "mod_prob_med = OrderedModel(temp_df['GCS (Erstbefund)'], temp_df[['spo2_cat', 'Einteilung_encoded', 'Sverweis_Geschlecht_encoded', 'Alter  (Patient)']], distr='probit')"
   ]
  },
  {
   "cell_type": "code",
   "execution_count": null,
   "id": "cf7df91606cb34a",
   "metadata": {
    "ExecuteTime": {
     "end_time": "2024-08-16T18:36:05.842236Z",
     "start_time": "2024-08-16T18:36:04.284611Z"
    }
   },
   "outputs": [],
   "source": [
    "res_prob_med = mod_prob_med.fit(maxiter=10000)\n",
    "res_prob_med.summary()"
   ]
  },
  {
   "cell_type": "markdown",
   "id": "9ddcf07fda19a844",
   "metadata": {},
   "source": [
    "graphical representation"
   ]
  },
  {
   "cell_type": "code",
   "execution_count": null,
   "id": "83b04b64e9038ab3",
   "metadata": {
    "ExecuteTime": {
     "end_time": "2024-08-16T18:40:39.386503Z",
     "start_time": "2024-08-16T18:40:39.383204Z"
    }
   },
   "outputs": [],
   "source": [
    "df['GCS (Erstbefund)'] = df['GCS (Erstbefund)'].astype('int')"
   ]
  },
  {
   "cell_type": "code",
   "execution_count": null,
   "id": "3e7508ddbd7ca280",
   "metadata": {
    "ExecuteTime": {
     "end_time": "2024-08-16T18:40:40.308269Z",
     "start_time": "2024-08-16T18:40:39.639895Z"
    }
   },
   "outputs": [],
   "source": [
    "# plot spo2 vs gcs\n",
    "fig, ax = plt.subplots()\n",
    "sns.swarmplot(y='SPO2 (Erstbefund)', x='GCS (Erstbefund)', hue='spo2_cat', data=df, ax=ax)\n",
    "\n",
    "ax.set_ylabel('First SpO2')\n",
    "ax.set_xlabel('GCS')\n",
    "\n",
    "# set legend title\n",
    "handles, labels = ax.get_legend_handles_labels()\n",
    "ax.legend(handles, ['< 86%', '>= 86%'], title='SpO2')\n",
    "\n"
   ]
  },
  {
   "cell_type": "code",
   "execution_count": null,
   "id": "5ac86cbf832e7cf6",
   "metadata": {
    "ExecuteTime": {
     "end_time": "2024-08-16T18:41:16.929494Z",
     "start_time": "2024-08-16T18:41:15.648239Z"
    }
   },
   "outputs": [],
   "source": [
    "# fig.savefig('/Users/jk1/Downloads/spo2_vs_gcs.png', dpi=600, bbox_inches='tight')"
   ]
  },
  {
   "cell_type": "code",
   "execution_count": null,
   "id": "62ec8d4ad596dfc3",
   "metadata": {},
   "outputs": [],
   "source": []
  }
 ],
 "metadata": {
  "kernelspec": {
   "display_name": "Python 3 (ipykernel)",
   "language": "python",
   "name": "python3"
  },
  "language_info": {
   "codemirror_mode": {
    "name": "ipython",
    "version": 3
   },
   "file_extension": ".py",
   "mimetype": "text/x-python",
   "name": "python",
   "nbconvert_exporter": "python",
   "pygments_lexer": "ipython3",
   "version": "3.11.9"
  }
 },
 "nbformat": 4,
 "nbformat_minor": 5
}
