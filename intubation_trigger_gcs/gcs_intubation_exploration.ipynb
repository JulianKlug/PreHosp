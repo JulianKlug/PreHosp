{
 "cells": [
  {
   "cell_type": "code",
   "execution_count": null,
   "id": "initial_id",
   "metadata": {
    "ExecuteTime": {
     "end_time": "2025-03-16T20:17:31.948698Z",
     "start_time": "2025-03-16T20:17:31.912696Z"
    }
   },
   "outputs": [],
   "source": [
    "import pandas as pd\n",
    "import seaborn as sns\n",
    "import numpy as np\n",
    "import matplotlib.pyplot as plt\n",
    "from scipy.stats import wilcoxon\n",
    "import statsmodels"
   ]
  },
  {
   "cell_type": "code",
   "execution_count": null,
   "id": "454cd805e21382be",
   "metadata": {
    "ExecuteTime": {
     "end_time": "2025-03-16T20:17:32.645799Z",
     "start_time": "2025-03-16T20:17:32.641910Z"
    }
   },
   "outputs": [],
   "source": [
    "data_path = '/Users/jk1/Library/CloudStorage/OneDrive-unige.ch/icu_research/prehospital/intubation_trigger/data/Mastertabelle_filtered.xlsx'\n",
    "ais_data_path = '/Users/jk1/Library/CloudStorage/OneDrive-unige.ch/icu_research/prehospital/intubation_trigger/data/AIS_data/all_centers_ais_data.csv'\n",
    "main_diagnosis_complement_data_path = '/Users/jk1/Library/CloudStorage/OneDrive-unige.ch/icu_research/prehospital/intubation_trigger/data/main_dx_complement.xlsx'\n"
   ]
  },
  {
   "cell_type": "code",
   "execution_count": null,
   "id": "e0de5a11eae6099f",
   "metadata": {
    "ExecuteTime": {
     "end_time": "2025-03-16T20:20:07.218751Z",
     "start_time": "2025-03-16T20:19:30.404255Z"
    }
   },
   "outputs": [],
   "source": [
    "df = pd.read_excel(data_path)\n",
    "main_diagnosis_complement_df = pd.read_excel(main_diagnosis_complement_data_path, header=1)\n"
   ]
  },
  {
   "cell_type": "code",
   "execution_count": null,
   "id": "45e3d75d2aa6eb5f",
   "metadata": {
    "ExecuteTime": {
     "end_time": "2025-03-16T20:20:56.791085Z",
     "start_time": "2025-03-16T20:20:56.774271Z"
    }
   },
   "outputs": [],
   "source": [
    "ais_df = pd.read_csv(ais_data_path)\n",
    "ais_df.drop(columns=['Name', 'Vorname'], inplace=True)\n",
    "df = df.merge(ais_df, how='left', on='SNZ Einsatz Nr.  (Einsatz)')"
   ]
  },
  {
   "cell_type": "code",
   "execution_count": null,
   "id": "5d47f6b1",
   "metadata": {},
   "outputs": [],
   "source": [
    "main_diagnosis_complement_df = main_diagnosis_complement_df[['SNZ Einsatz Nr.  (Einsatz)', 'Einteilung (Hauptdiagnose)', 'Kategorie (Hauptdiagnose)']]\n",
    "main_diagnosis_complement_df['Einteilung (Hauptdiagnose)'] = main_diagnosis_complement_df['Einteilung (Hauptdiagnose)'].replace(['Keine Diagnose', 'Unbekannt'], np.nan)\n",
    "df['Einteilung (Hauptdiagnose)'] = df['Einteilung (Hauptdiagnose)'].replace(['Keine Diagnose', 'Unbekannt'], np.nan)\n",
    "df['Kategorie (Hauptdiagnose)'] = df['Kategorie (Hauptdiagnose)'].replace(['Keine Diagnose', 'Unbekannt'], np.nan)\n",
    "\n",
    "main_diagnosis_complement_df = main_diagnosis_complement_df.rename(columns={\n",
    "    'Einteilung (Hauptdiagnose)': 'completed_main_diagnosis',\n",
    "    'Kategorie (Hauptdiagnose)': 'completed_main_diagnosis_category'\n",
    "})\n",
    "main_diagnosis_complement_df = main_diagnosis_complement_df.dropna()\n",
    "main_diagnosis_complement_df = main_diagnosis_complement_df.drop_duplicates()\n",
    "\n",
    "# find all 'SNZ Einsatz Nr.  (Einsatz)' with nans in 'Einteilung (Hauptdiagnose)' column in df\n",
    "missing_dx_ids = df[df['Einteilung (Hauptdiagnose)'].isna()]['SNZ Einsatz Nr.  (Einsatz)'].unique()\n",
    "main_diagnosis_complement_df = main_diagnosis_complement_df[main_diagnosis_complement_df['SNZ Einsatz Nr.  (Einsatz)'].isin(missing_dx_ids)]\n",
    "\n",
    "df = df.merge(main_diagnosis_complement_df, how='left', on='SNZ Einsatz Nr.  (Einsatz)')\n",
    "# replace nan in 'Einteilung (Hauptdiagnose)' with 'completed_main_diagnosis' \n",
    "df['Einteilung (Hauptdiagnose)'] = df['Einteilung (Hauptdiagnose)'].fillna(df['completed_main_diagnosis'])\n",
    "df['Kategorie (Hauptdiagnose)'] = df['Kategorie (Hauptdiagnose)'].fillna(df['completed_main_diagnosis_category'])\n",
    "# drop 'completed_main_diagnosis' column\n",
    "df = df.drop(columns=['completed_main_diagnosis']) "
   ]
  },
  {
   "cell_type": "code",
   "execution_count": null,
   "id": "129c3207046512d5",
   "metadata": {
    "ExecuteTime": {
     "end_time": "2025-03-16T18:44:08.851268Z",
     "start_time": "2025-03-16T18:44:08.841360Z"
    }
   },
   "outputs": [],
   "source": [
    "df = df[df.Comment != 'Reanimation']"
   ]
  },
  {
   "cell_type": "code",
   "execution_count": null,
   "id": "afff36574582df14",
   "metadata": {
    "ExecuteTime": {
     "end_time": "2025-03-14T19:57:41.948618Z",
     "start_time": "2025-03-14T19:57:41.942646Z"
    }
   },
   "outputs": [],
   "source": [
    "df['Einteilung (Hauptdiagnose)'].value_counts()"
   ]
  },
  {
   "cell_type": "code",
   "execution_count": null,
   "id": "29cefd5af4a7b122",
   "metadata": {
    "ExecuteTime": {
     "end_time": "2025-03-14T19:57:42.060546Z",
     "start_time": "2025-03-14T19:57:42.056619Z"
    }
   },
   "outputs": [],
   "source": [
    "# find number of nans in column\n",
    "df['Einteilung (Hauptdiagnose)'].isna().sum()"
   ]
  },
  {
   "cell_type": "code",
   "execution_count": null,
   "id": "b67c4658cbb6adf1",
   "metadata": {
    "ExecuteTime": {
     "end_time": "2025-03-14T19:57:42.174903Z",
     "start_time": "2025-03-14T19:57:42.170350Z"
    }
   },
   "outputs": [],
   "source": [
    "df['Diagnose präklinisch'].unique()"
   ]
  },
  {
   "cell_type": "code",
   "execution_count": null,
   "id": "ce990330e68de72f",
   "metadata": {
    "ExecuteTime": {
     "end_time": "2025-03-14T19:57:42.255266Z",
     "start_time": "2025-03-14T19:57:42.250621Z"
    }
   },
   "outputs": [],
   "source": [
    "df['GCS (Erstbefund)'].value_counts()"
   ]
  },
  {
   "cell_type": "code",
   "execution_count": null,
   "id": "eba231b6522a911",
   "metadata": {
    "ExecuteTime": {
     "end_time": "2025-03-16T18:45:47.691609Z",
     "start_time": "2025-03-16T18:45:47.684822Z"
    }
   },
   "outputs": [],
   "source": [
    "# number of nans in GCS\n",
    "print(f'Number of nans in GCS: {df[\"GCS (Erstbefund)\"].isna().sum()}')\n",
    "assert df['GCS (Erstbefund)'].isna().sum() == 0\n"
   ]
  },
  {
   "cell_type": "code",
   "execution_count": null,
   "id": "9853ed0c37e4afc1",
   "metadata": {
    "ExecuteTime": {
     "end_time": "2025-03-16T20:23:28.884968Z",
     "start_time": "2025-03-16T20:23:28.876748Z"
    }
   },
   "outputs": [],
   "source": [
    "df['Sverweis_Geschlecht_encoded'] = df['Sverweis_Geschlecht'].map({'männlich': 0, 'weiblich': 1})"
   ]
  },
  {
   "cell_type": "markdown",
   "id": "ad29d1b295415b02",
   "metadata": {
    "collapsed": false
   },
   "source": [
    "## Overall GCS distribution: medical vs trauma"
   ]
  },
  {
   "cell_type": "code",
   "execution_count": null,
   "id": "273cd95590081e53",
   "metadata": {
    "ExecuteTime": {
     "end_time": "2025-03-14T19:57:42.832137Z",
     "start_time": "2025-03-14T19:57:42.825320Z"
    }
   },
   "outputs": [],
   "source": [
    "df[(df['Einteilung (Hauptdiagnose)'] == 'Krankheit') & (df['GCS (Erstbefund)'].notna())]['GCS (Erstbefund)'].describe()"
   ]
  },
  {
   "cell_type": "code",
   "execution_count": null,
   "id": "1c783588c5cda03a",
   "metadata": {
    "ExecuteTime": {
     "end_time": "2025-03-14T19:57:42.958741Z",
     "start_time": "2025-03-14T19:57:42.952401Z"
    }
   },
   "outputs": [],
   "source": [
    "df[(df['Einteilung (Hauptdiagnose)'] == 'Unfall') & (df['GCS (Erstbefund)'].notna())]['GCS (Erstbefund)'].describe()"
   ]
  },
  {
   "cell_type": "markdown",
   "id": "1eaccee322e427a",
   "metadata": {},
   "source": [
    "Uncorrected"
   ]
  },
  {
   "cell_type": "code",
   "execution_count": null,
   "id": "a14c2f235e91a9cc",
   "metadata": {
    "ExecuteTime": {
     "end_time": "2025-03-14T19:57:43.168008Z",
     "start_time": "2025-03-14T19:57:43.165415Z"
    }
   },
   "outputs": [],
   "source": [
    "from statsmodels.stats.nonparametric import rank_compare_2indep"
   ]
  },
  {
   "cell_type": "code",
   "execution_count": null,
   "id": "d312043b7865d614",
   "metadata": {
    "ExecuteTime": {
     "end_time": "2025-03-14T19:57:43.245501Z",
     "start_time": "2025-03-14T19:57:43.238801Z"
    }
   },
   "outputs": [],
   "source": [
    "res = rank_compare_2indep(df[(df['Einteilung (Hauptdiagnose)'] == 'Krankheit') & (df['GCS (Erstbefund)'].notna())]['GCS (Erstbefund)'].values,\n",
    "                    df[(df['Einteilung (Hauptdiagnose)'] == 'Unfall') & (df['GCS (Erstbefund)'].notna())]['GCS (Erstbefund)'].values)"
   ]
  },
  {
   "cell_type": "code",
   "execution_count": null,
   "id": "18056e5bab4169de",
   "metadata": {
    "ExecuteTime": {
     "end_time": "2025-03-14T19:57:43.302667Z",
     "start_time": "2025-03-14T19:57:43.297508Z"
    }
   },
   "outputs": [],
   "source": [
    "res.pvalue"
   ]
  },
  {
   "cell_type": "markdown",
   "id": "f93e1a08e2b5ee4e",
   "metadata": {},
   "source": [
    "with correction for age / sex"
   ]
  },
  {
   "cell_type": "code",
   "execution_count": null,
   "id": "19332ff61524a43",
   "metadata": {
    "ExecuteTime": {
     "end_time": "2025-03-16T20:23:20.004439Z",
     "start_time": "2025-03-16T20:23:19.974122Z"
    }
   },
   "outputs": [],
   "source": [
    "# encode eineteilung\n",
    "df['Einteilung_encoded'] = df['Einteilung (Hauptdiagnose)'].map({'Krankheit': 0, 'Unfall': 1})"
   ]
  },
  {
   "cell_type": "code",
   "execution_count": null,
   "id": "bc926a65919364d4",
   "metadata": {
    "ExecuteTime": {
     "end_time": "2025-03-14T19:57:43.480496Z",
     "start_time": "2025-03-14T19:57:43.435688Z"
    }
   },
   "outputs": [],
   "source": [
    "from statsmodels.miscmodels.ordinal_model import OrderedModel\n",
    "\n",
    "temp_df = df[['GCS (Erstbefund)', 'Einteilung_encoded', 'Sverweis_Geschlecht_encoded', 'Alter  (Patient)']]\n",
    "temp_df.dropna(inplace=True)\n",
    "\n",
    "mod_prob_med = OrderedModel(temp_df['GCS (Erstbefund)'], temp_df[['Einteilung_encoded', 'Sverweis_Geschlecht_encoded', 'Alter  (Patient)']], distr='probit')"
   ]
  },
  {
   "cell_type": "code",
   "execution_count": null,
   "id": "64aac2d326624198",
   "metadata": {
    "ExecuteTime": {
     "end_time": "2025-03-14T19:57:45.512748Z",
     "start_time": "2025-03-14T19:57:43.497568Z"
    }
   },
   "outputs": [],
   "source": [
    "res_prob_med = mod_prob_med.fit(maxiter=10000)"
   ]
  },
  {
   "cell_type": "code",
   "execution_count": null,
   "id": "5554717d40bbb219",
   "metadata": {
    "ExecuteTime": {
     "end_time": "2025-03-14T19:57:45.550952Z",
     "start_time": "2025-03-14T19:57:45.528298Z"
    }
   },
   "outputs": [],
   "source": [
    "res_prob_med.summary()"
   ]
  },
  {
   "cell_type": "markdown",
   "id": "4bf5c73112ef76ce",
   "metadata": {},
   "source": [
    "with correction for age / sex / AIS head - but adjusting for AIS does not really make sense"
   ]
  },
  {
   "cell_type": "code",
   "execution_count": null,
   "id": "d55c5ba0878b3e31",
   "metadata": {
    "ExecuteTime": {
     "end_time": "2025-03-16T20:26:53.244550Z",
     "start_time": "2025-03-16T20:26:51.407389Z"
    }
   },
   "outputs": [],
   "source": [
    "temp_df = df[['GCS (Erstbefund)', 'Einteilung_encoded', 'Sverweis_Geschlecht_encoded', 'Alter  (Patient)', 'AIS Head']]\n",
    "# within medical patients, set AIS Head to 0\n",
    "temp_df[(temp_df['Einteilung_encoded'] == 0)]['AIS Head'] = 0\n",
    "temp_df.dropna(inplace=True)\n",
    "\n",
    "mod_prob_med = OrderedModel(temp_df['GCS (Erstbefund)'], temp_df[['Einteilung_encoded', 'Sverweis_Geschlecht_encoded', 'Alter  (Patient)', 'AIS Head']], distr='probit')\n",
    "\n",
    "res_prob_med = mod_prob_med.fit(maxiter=10000)\n",
    "res_prob_med.summary()\n"
   ]
  },
  {
   "cell_type": "code",
   "execution_count": null,
   "id": "3cd29831e0135e83",
   "metadata": {
    "ExecuteTime": {
     "end_time": "2025-03-14T19:57:45.866304Z",
     "start_time": "2025-03-14T19:57:45.645266Z"
    }
   },
   "outputs": [],
   "source": [
    "# plot boxplot of GCS according to main diagnosis\n",
    "fig = plt.figure(figsize=(10, 6))\n",
    "ax = sns.boxplot(x='Einteilung (Hauptdiagnose)', y='GCS (Erstbefund)', data=df[df['Einteilung (Hauptdiagnose)'] != 'Keine Diagnose'],\n",
    "                 showfliers=False, hue='Einteilung (Hauptdiagnose)', palette='viridis', legend=False)\n",
    "\n",
    "# add annotation of p-value (line between boxes)\n",
    "# get the x and y coordinates\n",
    "x1, x2 = 0, 1\n",
    "y, h, col = df['GCS (Erstbefund)'].max() + 0.4, 0.3, 'k'\n",
    "plt.plot([x1, x1, x2, x2], [y, y+h, y+h, y], lw=1.5, c=col)\n",
    "plt.text((x1+x2)*.5, y+h+0.1, f'p={res.pvalue:.3f}', ha='center', va='bottom', color=col)\n",
    "\n",
    "ax.set_ylim(3, 17)\n",
    "plt.ylabel('GCS')\n",
    "\n",
    "# don't allow y_ticks > 15\n",
    "plt.yticks(range(3, 16, 2))\n",
    "\n",
    "plt.xticks(rotation=45)\n",
    "# set x ticks\n",
    "plt.xticks(ticks=[0, 1], labels=['Non-Trauma', 'Trauma'])\n",
    "plt.xlabel('')\n",
    "\n",
    "plt.show()"
   ]
  },
  {
   "cell_type": "code",
   "execution_count": null,
   "id": "dbc5a06264f1dfd7",
   "metadata": {
    "ExecuteTime": {
     "end_time": "2025-03-14T19:57:45.874748Z",
     "start_time": "2025-03-14T19:57:45.872440Z"
    }
   },
   "outputs": [],
   "source": [
    "# fig.savefig('/Users/jk1/Downloads/gcs_intubation.png', dpi=600, bbox_inches='tight')"
   ]
  },
  {
   "cell_type": "code",
   "execution_count": null,
   "id": "98bf1aff7cac4d7",
   "metadata": {
    "ExecuteTime": {
     "end_time": "2025-03-14T19:57:45.908053Z",
     "start_time": "2025-03-14T19:57:45.896367Z"
    }
   },
   "outputs": [],
   "source": [
    "# build table with median (IQR) of GCS for each main diagnosis, and p-value\n",
    "\n",
    "results_df = pd.DataFrame(columns=['Medical', 'Trauma', 'p-value'])\n",
    "medical_df = df[(df['Einteilung (Hauptdiagnose)'] == 'Krankheit') & (df['GCS (Erstbefund)'].notna())]['GCS (Erstbefund)']\n",
    "trauma_df = df[(df['Einteilung (Hauptdiagnose)'] == 'Unfall') & (df['GCS (Erstbefund)'].notna())]['GCS (Erstbefund)']\n",
    "results_df.loc['n'] = [len(medical_df), len(trauma_df), '']\n",
    "results_df.loc['GCS (median/IQR)'] = [f'{medical_df.median()} ({medical_df.quantile(0.25)}-{medical_df.quantile(0.75)})',\n",
    "                        f'{trauma_df.median()} ({trauma_df.quantile(0.25)}-{trauma_df.quantile(0.75)})',\n",
    "                        res.pvalue]\n",
    "\n"
   ]
  },
  {
   "cell_type": "code",
   "execution_count": null,
   "id": "e92bbbad60b94018",
   "metadata": {
    "ExecuteTime": {
     "end_time": "2025-03-14T19:57:45.932043Z",
     "start_time": "2025-03-14T19:57:45.925774Z"
    }
   },
   "outputs": [],
   "source": [
    "results_df"
   ]
  },
  {
   "cell_type": "code",
   "execution_count": null,
   "id": "2ed4ce2d40194f86",
   "metadata": {
    "ExecuteTime": {
     "end_time": "2025-03-14T19:57:45.982889Z",
     "start_time": "2025-03-14T19:57:45.980583Z"
    }
   },
   "outputs": [],
   "source": [
    "# results_df.to_csv('/Users/jk1/Downloads/gcs_intubation.csv')"
   ]
  },
  {
   "cell_type": "markdown",
   "id": "a0219e2baaf0f50e",
   "metadata": {},
   "source": [
    "### GCS distribution: non-trauma vs trauma (excluding burns) "
   ]
  },
  {
   "cell_type": "code",
   "execution_count": null,
   "id": "d7fc90f855b74e54",
   "metadata": {
    "ExecuteTime": {
     "end_time": "2025-03-14T19:57:46.049231Z",
     "start_time": "2025-03-14T19:57:46.044831Z"
    }
   },
   "outputs": [],
   "source": [
    "no_burns_df = df[df['Kategorie (Hauptdiagnose)'] != 'Verbrennung']\n",
    "no_burns_df.shape, df.shape"
   ]
  },
  {
   "cell_type": "markdown",
   "id": "5e54e90986cbf038",
   "metadata": {},
   "source": [
    "Uncorrected"
   ]
  },
  {
   "cell_type": "code",
   "execution_count": null,
   "id": "8d145c3e509ff3ea",
   "metadata": {
    "ExecuteTime": {
     "end_time": "2025-03-14T19:57:46.132517Z",
     "start_time": "2025-03-14T19:57:46.127050Z"
    }
   },
   "outputs": [],
   "source": [
    "no_burns_res = rank_compare_2indep(no_burns_df[(no_burns_df['Einteilung (Hauptdiagnose)'] == 'Krankheit') & (no_burns_df['GCS (Erstbefund)'].notna())]['GCS (Erstbefund)'].values,\n",
    "                    no_burns_df[(no_burns_df['Einteilung (Hauptdiagnose)'] == 'Unfall') & (no_burns_df['GCS (Erstbefund)'].notna())]['GCS (Erstbefund)'].values)"
   ]
  },
  {
   "cell_type": "code",
   "execution_count": null,
   "id": "23a4fedd862a9336",
   "metadata": {
    "ExecuteTime": {
     "end_time": "2025-03-14T19:57:46.216062Z",
     "start_time": "2025-03-14T19:57:46.212299Z"
    }
   },
   "outputs": [],
   "source": [
    "no_burns_res.pvalue"
   ]
  },
  {
   "cell_type": "markdown",
   "id": "d5eed7b08c1ae30",
   "metadata": {},
   "source": [
    "With correction"
   ]
  },
  {
   "cell_type": "code",
   "execution_count": null,
   "id": "d4328b02e680b09e",
   "metadata": {
    "ExecuteTime": {
     "end_time": "2025-03-14T19:57:48.083404Z",
     "start_time": "2025-03-14T19:57:46.238090Z"
    }
   },
   "outputs": [],
   "source": [
    "no_burns_temp_df = no_burns_df[['GCS (Erstbefund)', 'Einteilung_encoded', 'Sverweis_Geschlecht_encoded', 'Alter  (Patient)']]\n",
    "no_burns_temp_df.dropna(inplace=True)\n",
    "\n",
    "no_burns_mod_prob_med = OrderedModel(no_burns_temp_df['GCS (Erstbefund)'],\n",
    "                            no_burns_temp_df[['Einteilung_encoded', 'Sverweis_Geschlecht_encoded', 'Alter  (Patient)']],\n",
    "                            distr='probit')\n",
    "no_burns_res_prob_med = no_burns_mod_prob_med.fit(maxiter=10000)"
   ]
  },
  {
   "cell_type": "code",
   "execution_count": null,
   "id": "b27de70702054efe",
   "metadata": {
    "ExecuteTime": {
     "end_time": "2025-03-14T19:57:48.133088Z",
     "start_time": "2025-03-14T19:57:48.112473Z"
    }
   },
   "outputs": [],
   "source": [
    "no_burns_res_prob_med.summary()"
   ]
  },
  {
   "cell_type": "code",
   "execution_count": null,
   "id": "278f72a71d7036f",
   "metadata": {
    "ExecuteTime": {
     "end_time": "2025-03-14T19:57:48.287911Z",
     "start_time": "2025-03-14T19:57:48.156823Z"
    }
   },
   "outputs": [],
   "source": [
    "\n",
    "                 "
   ]
  },
  {
   "cell_type": "code",
   "execution_count": null,
   "id": "78770a2c",
   "metadata": {},
   "outputs": [],
   "source": [
    "# fig.savefig('/Users/jk1/Downloads/gcs_intubation_no_burns.png', dpi=600, bbox_inches='tight')"
   ]
  },
  {
   "cell_type": "code",
   "execution_count": null,
   "id": "f7182f61",
   "metadata": {},
   "outputs": [],
   "source": [
    "# plot boxplot of GCS according to main diagnosis\n",
    "fig, axs = plt.subplots(1, 2, figsize=(12, 6))\n",
    "# add horizontal lines\n",
    "sns.set_style(\"whitegrid\")\n",
    "sns.set_context(\"notebook\")\n",
    "\n",
    "sns.boxplot(x='Einteilung (Hauptdiagnose)', y='GCS (Erstbefund)', data=df[df['Einteilung (Hauptdiagnose)'] != 'Keine Diagnose'],\n",
    "                 showfliers=False, hue='Einteilung (Hauptdiagnose)', palette='viridis', legend=False, ax=axs[0])\n",
    "\n",
    "# add annotation of p-value (line between boxes)\n",
    "# get the x and y coordinates\n",
    "x1, x2 = 0, 1\n",
    "y, h, col = df['GCS (Erstbefund)'].max() + 0.4, 0.3, 'k'\n",
    "axs[0].plot([x1, x1, x2, x2], [y, y+h, y+h, y], lw=1.5, c=col)\n",
    "axs[0].text((x1+x2)*.5, y+h+0.1, f'p={res.pvalue:.3f}', ha='center', va='bottom', color=col)\n",
    "\n",
    "axs[0].set_ylim(3, 17.5)\n",
    "axs[0].set_ylabel('GCS')\n",
    "\n",
    "# don't allow y_ticks > 15\n",
    "axs[0].set_yticks(range(3, 16, 2))\n",
    "\n",
    "# set x ticks\n",
    "axs[0].set_xticks(ticks=[0, 1], labels=['Non-Trauma', 'Trauma'], rotation=45)\n",
    "axs[0].set_xlabel('')\n",
    "\n",
    "# plot boxplot of GCS according to main diagnosis\n",
    "sns.boxplot(x='Einteilung (Hauptdiagnose)', y='GCS (Erstbefund)', data=no_burns_df[no_burns_df['Einteilung (Hauptdiagnose)'] != 'Keine Diagnose'],\n",
    "                    showfliers=False, hue='Einteilung (Hauptdiagnose)', palette='viridis', legend=False, ax=axs[1])\n",
    "\n",
    "# add annotation of p-value (line between boxes)\n",
    "# get the x and y coordinates\n",
    "x1, x2 = 0, 1\n",
    "y, h, col = no_burns_df['GCS (Erstbefund)'].max() + 0.4, 0.3, 'k'\n",
    "axs[1].plot([x1, x1, x2, x2], [y, y+h, y+h, y], lw=1.5, c=col)\n",
    "axs[1].text((x1+x2)*.5, y+h+0.1, f'p={no_burns_res.pvalue:.3f}', ha='center', va='bottom', color=col)\n",
    "\n",
    "axs[1].set_ylim(3, 17.5)\n",
    "axs[1].set_ylabel('GCS')\n",
    "\n",
    "# don't allow y_ticks > 15\n",
    "axs[1].set_yticks(range(3, 16, 2))\n",
    "\n",
    "# set x ticks\n",
    "axs[1].set_xticks(ticks=[0, 1], labels=['Non-Trauma', 'Trauma'], rotation=45)\n",
    "axs[1].set_xlabel('')\n",
    "\n",
    "# add number of patients  over each boxplot\n",
    "axs[0].text(0, 16.5, f'n={len(medical_df)}', ha='center', va='bottom')\n",
    "axs[0].text(1, 16.5, f'n={len(trauma_df)}', ha='center', va='bottom')\n",
    "axs[1].text(0, 16.5, f'n={len(no_burns_df[(no_burns_df[\"Einteilung (Hauptdiagnose)\"] == \"Krankheit\") & (no_burns_df[\"GCS (Erstbefund)\"].notna())])}', ha='center', va='bottom')\n",
    "axs[1].text(1, 16.5, f'n={len(no_burns_df[(no_burns_df[\"Einteilung (Hauptdiagnose)\"] == \"Unfall\") & (no_burns_df[\"GCS (Erstbefund)\"].notna())])}', ha='center', va='bottom')\n",
    "plt.show()"
   ]
  },
  {
   "cell_type": "code",
   "execution_count": null,
   "id": "e1ffdad8",
   "metadata": {},
   "outputs": [],
   "source": [
    "# fig.savefig('/Users/jk1/Downloads/gcs_intubation_combined_figure.png', dpi=600, bbox_inches='tight')"
   ]
  },
  {
   "cell_type": "code",
   "execution_count": null,
   "id": "28b70f59",
   "metadata": {},
   "outputs": [],
   "source": [
    "no_burns_df['burns'] = 'excluded'\n",
    "df['burns'] = 'included'\n",
    "# merge dataframes\n",
    "merged_df = pd.concat([df, no_burns_df], ignore_index=True)\n",
    "\n",
    "# plot boxplot of GCS according to main diagnosis with burn exclusion on x axis an trauma / non trauma as hue\n",
    "fig, ax = plt.subplots(figsize=(10, 6))\n",
    "sns.boxplot(x='burns', y='GCS (Erstbefund)', data=merged_df[merged_df['Einteilung (Hauptdiagnose)'] != 'Keine Diagnose'],\n",
    "                 showfliers=False, hue='Einteilung (Hauptdiagnose)', palette='viridis', legend=True, ax=ax)\n",
    "\n",
    "# add annotation of p-value (line between boxes)\n",
    "# get the x and y coordinates\n",
    "x1, x2 = 0, 1\n",
    "y, h, col = merged_df['GCS (Erstbefund)'].max() + 0.4, 0.3, 'k'\n",
    "ax.plot([x1, x1, x2, x2], [y, y+h, y+h, y], lw=1.5, c=col)\n",
    "ax.text((x1+x2)*.5, y+h+0.1, f'p={no_burns_res.pvalue:.3f}', ha='center', va='bottom', color=col)\n",
    "ax.set_ylim(3, 17)\n",
    "ax.set_ylabel('GCS')\n",
    "# don't allow y_ticks > 15\n",
    "ax.set_yticks(range(3, 16, 2))\n",
    "# set x ticks\n",
    "ax.set_xticks(ticks=[0, 1], labels=['Including burn patients', 'Excluding burn patients'])\n",
    "ax.set_xlabel('')\n",
    "plt.show()"
   ]
  },
  {
   "cell_type": "code",
   "execution_count": null,
   "id": "1faad25a40c8145",
   "metadata": {
    "ExecuteTime": {
     "end_time": "2025-03-14T19:57:48.375660Z",
     "start_time": "2025-03-14T19:57:48.366159Z"
    }
   },
   "outputs": [],
   "source": [
    "# build table with median (IQR) of GCS for each main diagnosis, and p-value\n",
    "\n",
    "no_burns_results_df = pd.DataFrame(columns=['Medical', 'Trauma', 'p-value'])\n",
    "no_burns_medical_df = no_burns_df[(no_burns_df['Einteilung (Hauptdiagnose)'] == 'Krankheit') & (no_burns_df['GCS (Erstbefund)'].notna())]['GCS (Erstbefund)']\n",
    "no_burns_trauma_df = no_burns_df[(no_burns_df['Einteilung (Hauptdiagnose)'] == 'Unfall') & (no_burns_df['GCS (Erstbefund)'].notna())]['GCS (Erstbefund)']\n",
    "no_burns_results_df.loc['n'] = [len(no_burns_medical_df), len(no_burns_trauma_df), '']\n",
    "no_burns_results_df.loc['GCS (median/IQR)'] = [f'{no_burns_medical_df.median()} ({no_burns_medical_df.quantile(0.25)}-{no_burns_medical_df.quantile(0.75)})',\n",
    "                        f'{no_burns_trauma_df.median()} ({no_burns_trauma_df.quantile(0.25)}-{no_burns_trauma_df.quantile(0.75)})',\n",
    "                        no_burns_res.pvalue]"
   ]
  },
  {
   "cell_type": "code",
   "execution_count": null,
   "id": "19fca136b39aab5d",
   "metadata": {
    "ExecuteTime": {
     "end_time": "2025-03-14T19:57:48.416212Z",
     "start_time": "2025-03-14T19:57:48.410517Z"
    }
   },
   "outputs": [],
   "source": [
    "no_burns_results_df"
   ]
  },
  {
   "cell_type": "code",
   "execution_count": null,
   "id": "e2d1f71a5807c324",
   "metadata": {
    "ExecuteTime": {
     "end_time": "2025-03-14T19:57:48.456320Z",
     "start_time": "2025-03-14T19:57:48.454304Z"
    }
   },
   "outputs": [],
   "source": [
    "# no_burns_results_df.to_csv('/Users/jk1/Downloads/gcs_intubation_no_burns.csv')"
   ]
  },
  {
   "cell_type": "markdown",
   "id": "61cd06d076d2300a",
   "metadata": {
    "collapsed": false
   },
   "source": [
    "### Evaluation of subgroups in medical/trauma\n",
    "\n",
    "Test: Kruskal-Wallis"
   ]
  },
  {
   "cell_type": "code",
   "execution_count": null,
   "id": "76b122c775f1902c",
   "metadata": {
    "ExecuteTime": {
     "end_time": "2025-03-14T19:57:48.506154Z",
     "start_time": "2025-03-14T19:57:48.502702Z"
    }
   },
   "outputs": [],
   "source": [
    "df['Kategorie (Hauptdiagnose)'].unique()"
   ]
  },
  {
   "cell_type": "code",
   "execution_count": null,
   "id": "549b45bdc9b0f588",
   "metadata": {
    "ExecuteTime": {
     "end_time": "2025-03-14T19:57:48.606542Z",
     "start_time": "2025-03-14T19:57:48.602728Z"
    }
   },
   "outputs": [],
   "source": [
    "df['Kategorie (Hauptdiagnose)'].isna().sum()"
   ]
  },
  {
   "cell_type": "markdown",
   "id": "63da55b9214b6cea",
   "metadata": {
    "collapsed": false
   },
   "source": [
    "#### Medical"
   ]
  },
  {
   "cell_type": "code",
   "execution_count": null,
   "id": "38e78df4a4eea05c",
   "metadata": {
    "ExecuteTime": {
     "end_time": "2025-03-14T19:57:48.679880Z",
     "start_time": "2025-03-14T19:57:48.676411Z"
    }
   },
   "outputs": [],
   "source": [
    "medical_df = df[(df['Einteilung (Hauptdiagnose)'] == 'Krankheit') & (df['GCS (Erstbefund)'].notna())]"
   ]
  },
  {
   "cell_type": "code",
   "execution_count": null,
   "id": "2286baf484e7048",
   "metadata": {
    "ExecuteTime": {
     "end_time": "2025-03-14T19:57:48.748479Z",
     "start_time": "2025-03-14T19:57:48.742233Z"
    }
   },
   "outputs": [],
   "source": [
    "# use kruskal-wallis to compare GCS between different categories\n",
    "from statsmodels.sandbox.stats.multicomp import MultiComparison"
   ]
  },
  {
   "cell_type": "code",
   "execution_count": null,
   "id": "a00c57fe40a9598b",
   "metadata": {
    "ExecuteTime": {
     "end_time": "2025-03-14T19:57:48.805601Z",
     "start_time": "2025-03-14T19:57:48.801885Z"
    }
   },
   "outputs": [],
   "source": [
    "multicomp = MultiComparison(medical_df['GCS (Erstbefund)'], medical_df['Kategorie (Hauptdiagnose)'])"
   ]
  },
  {
   "cell_type": "code",
   "execution_count": null,
   "id": "de3a36c292db06ca",
   "metadata": {
    "ExecuteTime": {
     "end_time": "2025-03-14T19:57:48.877022Z",
     "start_time": "2025-03-14T19:57:48.871360Z"
    }
   },
   "outputs": [],
   "source": [
    "res = multicomp.kruskal()\n",
    "res"
   ]
  },
  {
   "cell_type": "code",
   "execution_count": null,
   "id": "c1f525f227720040",
   "metadata": {
    "ExecuteTime": {
     "end_time": "2025-03-14T19:57:48.907234Z",
     "start_time": "2025-03-14T19:57:48.902517Z"
    }
   },
   "outputs": [],
   "source": [
    "medical_df['Kategorie (Hauptdiagnose)'].value_counts()"
   ]
  },
  {
   "cell_type": "code",
   "execution_count": null,
   "id": "2d76e74de0b2b1f6",
   "metadata": {
    "ExecuteTime": {
     "end_time": "2025-03-14T19:57:48.974395Z",
     "start_time": "2025-03-14T19:57:48.970623Z"
    }
   },
   "outputs": [],
   "source": [
    "medical_df['Kategorie (Hauptdiagnose) encoded'] = medical_df['Kategorie (Hauptdiagnose)'].map(\n",
    "    {'Zentralnervensystem': 0,\n",
    "     'Krampfanfall': 1,\n",
    "        'Herz-Kreislauf': 2,\n",
    "     'Intoxikation': 3,\n",
    "     'Respiratorisch': 4,\n",
    "     })"
   ]
  },
  {
   "cell_type": "code",
   "execution_count": null,
   "id": "12afc57223cbd20e",
   "metadata": {
    "ExecuteTime": {
     "end_time": "2025-03-14T19:57:49.035049Z",
     "start_time": "2025-03-14T19:57:49.030824Z"
    }
   },
   "outputs": [],
   "source": [
    "from statsmodels.miscmodels.ordinal_model import OrderedModel\n",
    "\n",
    "temp_df = medical_df[['GCS (Erstbefund)', 'Kategorie (Hauptdiagnose) encoded', 'Sverweis_Geschlecht_encoded', 'Alter  (Patient)']]\n",
    "temp_df.dropna(inplace=True)\n",
    "mod_prob_med = OrderedModel(temp_df['GCS (Erstbefund)'], temp_df[['Kategorie (Hauptdiagnose) encoded', 'Sverweis_Geschlecht_encoded', 'Alter  (Patient)']],\n",
    "                            distr='probit')"
   ]
  },
  {
   "cell_type": "code",
   "execution_count": null,
   "id": "20c9e5c953c04a29",
   "metadata": {
    "ExecuteTime": {
     "end_time": "2025-03-14T19:57:50.700095Z",
     "start_time": "2025-03-14T19:57:49.110937Z"
    }
   },
   "outputs": [],
   "source": [
    "res_prob_med = mod_prob_med.fit(maxiter=10000)"
   ]
  },
  {
   "cell_type": "code",
   "execution_count": null,
   "id": "5d1579835b54d4cd",
   "metadata": {
    "ExecuteTime": {
     "end_time": "2025-03-14T19:57:50.732328Z",
     "start_time": "2025-03-14T19:57:50.707142Z"
    }
   },
   "outputs": [],
   "source": [
    "res_prob_med.summary()"
   ]
  },
  {
   "cell_type": "markdown",
   "id": "1311d4b51f72257f",
   "metadata": {
    "collapsed": false
   },
   "source": [
    "#### Trauma"
   ]
  },
  {
   "cell_type": "code",
   "execution_count": null,
   "id": "4e188273f47e3b8a",
   "metadata": {
    "ExecuteTime": {
     "end_time": "2025-03-14T21:52:41.763986Z",
     "start_time": "2025-03-14T21:52:41.759682Z"
    }
   },
   "outputs": [],
   "source": [
    "trauma_df = df[(df['Einteilung (Hauptdiagnose)'] == 'Unfall') & (df['GCS (Erstbefund)'].notna())]"
   ]
  },
  {
   "cell_type": "code",
   "execution_count": null,
   "id": "73d298605254220c",
   "metadata": {
    "ExecuteTime": {
     "end_time": "2025-03-16T18:43:21.810462Z",
     "start_time": "2025-03-16T18:43:21.663535Z"
    }
   },
   "outputs": [],
   "source": [
    "df[(df['Einteilung (Hauptdiagnose)'] == 'Unfall')]['GCS (Erstbefund)'].isna().sum()"
   ]
  },
  {
   "cell_type": "code",
   "execution_count": null,
   "id": "fc0194cdfd74a2e4",
   "metadata": {
    "ExecuteTime": {
     "end_time": "2025-03-14T21:52:42.151491Z",
     "start_time": "2025-03-14T21:52:42.145952Z"
    }
   },
   "outputs": [],
   "source": [
    "trauma_df['Kategorie (Hauptdiagnose)'].value_counts()"
   ]
  },
  {
   "cell_type": "code",
   "execution_count": null,
   "id": "22af4c53ed6f1899",
   "metadata": {
    "ExecuteTime": {
     "end_time": "2025-03-14T21:52:45.631840Z",
     "start_time": "2025-03-14T21:52:45.628477Z"
    }
   },
   "outputs": [],
   "source": [
    "multicomp_trauma = MultiComparison(trauma_df['GCS (Erstbefund)'], trauma_df['Kategorie (Hauptdiagnose)'])"
   ]
  },
  {
   "cell_type": "code",
   "execution_count": null,
   "id": "10fd88b8596eb73b",
   "metadata": {
    "ExecuteTime": {
     "end_time": "2025-03-14T21:52:46.182062Z",
     "start_time": "2025-03-14T21:52:46.176743Z"
    }
   },
   "outputs": [],
   "source": [
    "trauma_res = multicomp_trauma.kruskal()\n",
    "trauma_res"
   ]
  },
  {
   "cell_type": "code",
   "execution_count": null,
   "id": "aec4f465445fb00a",
   "metadata": {
    "ExecuteTime": {
     "end_time": "2025-03-14T21:52:47.381603Z",
     "start_time": "2025-03-14T21:52:47.377004Z"
    }
   },
   "outputs": [],
   "source": [
    "trauma_df['Kategorie (Hauptdiagnose) encoded'] = trauma_df['Kategorie (Hauptdiagnose)'].map(\n",
    "    {'SHT': 0,\n",
    "        'Polytrauma': 1,\n",
    "        'Verbrennung': 2,\n",
    "        'Respiratorisch': 3,\n",
    "     })"
   ]
  },
  {
   "cell_type": "code",
   "execution_count": null,
   "id": "eef5255c428aa9bf",
   "metadata": {
    "ExecuteTime": {
     "end_time": "2025-03-14T19:57:51.186062Z",
     "start_time": "2025-03-14T19:57:51.180734Z"
    }
   },
   "outputs": [],
   "source": [
    "temp_df = trauma_df[['GCS (Erstbefund)', 'Kategorie (Hauptdiagnose) encoded', 'Sverweis_Geschlecht_encoded', 'Alter  (Patient)']]\n",
    "temp_df.dropna(inplace=True)\n",
    "\n",
    "mod_prob_trauma = OrderedModel(temp_df['GCS (Erstbefund)'], temp_df[['Kategorie (Hauptdiagnose) encoded', 'Sverweis_Geschlecht_encoded', 'Alter  (Patient)']],\n",
    "                            distr='probit')"
   ]
  },
  {
   "cell_type": "code",
   "execution_count": null,
   "id": "3f2ed3bfb466b766",
   "metadata": {
    "ExecuteTime": {
     "end_time": "2025-03-14T19:57:51.969178Z",
     "start_time": "2025-03-14T19:57:51.235290Z"
    }
   },
   "outputs": [],
   "source": [
    "res_prob_trauma = mod_prob_trauma.fit(maxiter=10000)"
   ]
  },
  {
   "cell_type": "code",
   "execution_count": null,
   "id": "45e617d3b3c54187",
   "metadata": {
    "ExecuteTime": {
     "end_time": "2025-03-14T19:57:52.037831Z",
     "start_time": "2025-03-14T19:57:52.014938Z"
    }
   },
   "outputs": [],
   "source": [
    "res_prob_trauma.summary()"
   ]
  },
  {
   "cell_type": "code",
   "execution_count": null,
   "id": "e3a76f0836fa7786",
   "metadata": {
    "ExecuteTime": {
     "end_time": "2025-03-14T19:57:52.188332Z",
     "start_time": "2025-03-14T19:57:52.111574Z"
    }
   },
   "outputs": [],
   "source": [
    "import scikit_posthocs as sp\n",
    "\n",
    "categories_gcs = [trauma_df[trauma_df['Kategorie (Hauptdiagnose)'] == cat]['GCS (Erstbefund)'] for cat in ['SHT', 'Polytrauma', 'Verbrennung', 'Respiratorisch']]\n",
    "\n",
    "dunn_res = sp.posthoc_dunn(categories_gcs, p_adjust='holm')"
   ]
  },
  {
   "cell_type": "code",
   "execution_count": null,
   "id": "c196f1764d124300",
   "metadata": {
    "ExecuteTime": {
     "end_time": "2025-03-14T19:57:52.240596Z",
     "start_time": "2025-03-14T19:57:52.237885Z"
    }
   },
   "outputs": [],
   "source": [
    "dunn_res.columns = ['SHT', 'Polytrauma', 'Verbrennung', 'Respiratorisch']\n",
    "dunn_res.index = ['SHT', 'Polytrauma', 'Verbrennung', 'Respiratorisch']"
   ]
  },
  {
   "cell_type": "code",
   "execution_count": null,
   "id": "c1fd1255a98bcaea",
   "metadata": {
    "ExecuteTime": {
     "end_time": "2025-03-14T19:57:52.260452Z",
     "start_time": "2025-03-14T19:57:52.253918Z"
    }
   },
   "outputs": [],
   "source": [
    "dunn_res"
   ]
  },
  {
   "cell_type": "markdown",
   "id": "440ab3d8d2a1a02a",
   "metadata": {},
   "source": [
    "Further  adjustement for AIS head"
   ]
  },
  {
   "cell_type": "code",
   "execution_count": null,
   "id": "2c76e5614a2908bf",
   "metadata": {
    "ExecuteTime": {
     "end_time": "2025-03-16T18:37:16.549143Z",
     "start_time": "2025-03-16T18:37:16.522534Z"
    }
   },
   "outputs": [],
   "source": [
    "trauma_df['AIS Head'].isna().sum(), trauma_df.shape"
   ]
  },
  {
   "cell_type": "code",
   "execution_count": null,
   "id": "6a38f77ccbb0c7cd",
   "metadata": {
    "ExecuteTime": {
     "end_time": "2025-03-16T19:22:24.011981Z",
     "start_time": "2025-03-16T19:22:23.971108Z"
    }
   },
   "outputs": [],
   "source": [
    "# print median and IQR AIS\n",
    "\n",
    "print(f'Overall AIS distribution: {trauma_df[\"AIS Head\"].median(), trauma_df[\"AIS Head\"].quantile(0.25), trauma_df[\"AIS Head\"].quantile(0.75)}')\n",
    "\n",
    "TBI_df = trauma_df[trauma_df['Kategorie (Hauptdiagnose)'] == 'SHT']\n",
    "\n",
    "print(f'TBI AIS distribution: {TBI_df[\"AIS Head\"].median(), TBI_df[\"AIS Head\"].quantile(0.25), TBI_df[\"AIS Head\"].quantile(0.75)}')\n",
    "# number and percentage of patients with AIS head > 3 in TBI population\n",
    "print(f'Number of patients with AIS head > 3 in TBI population: {len(TBI_df[TBI_df[\"AIS Head\"] > 3])} ({len(TBI_df[TBI_df[\"AIS Head\"] > 3]) / len(TBI_df) * 100:.2f}%)')\n"
   ]
  },
  {
   "cell_type": "code",
   "execution_count": null,
   "id": "d3538423523a8751",
   "metadata": {
    "ExecuteTime": {
     "end_time": "2025-03-16T18:37:17.621402Z",
     "start_time": "2025-03-16T18:37:17.540748Z"
    }
   },
   "outputs": [],
   "source": [
    "temp_df = trauma_df[['GCS (Erstbefund)', 'Kategorie (Hauptdiagnose) encoded', 'Sverweis_Geschlecht_encoded', 'Alter  (Patient)', 'AIS Head']]\n",
    "temp_df.dropna(inplace=True)\n",
    "\n",
    "mod_prob_trauma = OrderedModel(temp_df['GCS (Erstbefund)'], temp_df[['Kategorie (Hauptdiagnose) encoded', 'Sverweis_Geschlecht_encoded', 'Alter  (Patient)', 'AIS Head']],\n",
    "                            distr='probit')"
   ]
  },
  {
   "cell_type": "code",
   "execution_count": null,
   "id": "a6806e68a66c1b5f",
   "metadata": {
    "ExecuteTime": {
     "end_time": "2025-03-16T18:37:21.256306Z",
     "start_time": "2025-03-16T18:37:19.050666Z"
    }
   },
   "outputs": [],
   "source": [
    "res_prob_trauma = mod_prob_trauma.fit(maxiter=10000)\n",
    "res_prob_trauma.summary()"
   ]
  },
  {
   "cell_type": "code",
   "execution_count": null,
   "id": "cfe6c71dfcc4f3e3",
   "metadata": {
    "ExecuteTime": {
     "end_time": "2025-03-16T18:37:21.631741Z",
     "start_time": "2025-03-16T18:37:21.624395Z"
    }
   },
   "outputs": [],
   "source": [
    "res_prob_trauma.pvalues"
   ]
  },
  {
   "cell_type": "code",
   "execution_count": null,
   "id": "f61b0730a0ebe3af",
   "metadata": {
    "ExecuteTime": {
     "end_time": "2025-03-17T06:15:29.064867Z",
     "start_time": "2025-03-17T06:15:28.632055Z"
    }
   },
   "outputs": [],
   "source": [
    "import scipy as sp\n",
    "\n",
    "temp_df = trauma_df[['GCS (Erstbefund)', 'AIS Head']]\n",
    "temp_df.dropna(inplace=True)\n",
    "\n",
    "r, p = sp.stats.pearsonr(x=temp_df['AIS Head'], y=temp_df['GCS (Erstbefund)'])\n",
    "\n",
    "# correlation plot of GCS and AIS\n",
    "ax = sns.regplot(temp_df, x = 'AIS Head', y = 'GCS (Erstbefund)', x_jitter=.15, scatter_kws={'alpha':0.3})\n",
    "\n",
    "# blue line handle\n",
    "handle = plt.plot([],[], color=sns.color_palette(\"Blues\")[-1], label=f'r = {r:.2f}')\n",
    "plt.legend(loc='upper right')\n",
    "\n",
    "ax.set_ylabel('GCS')\n",
    "\n",
    "plt.show()\n"
   ]
  },
  {
   "cell_type": "markdown",
   "id": "a9c10b7b1879e730",
   "metadata": {},
   "source": [
    "Seperate burn vs other categories"
   ]
  },
  {
   "cell_type": "code",
   "execution_count": null,
   "id": "c6dc0e2f9c523e5",
   "metadata": {
    "ExecuteTime": {
     "end_time": "2025-03-14T23:11:13.624684Z",
     "start_time": "2025-03-14T23:11:13.530261Z"
    }
   },
   "outputs": [],
   "source": [
    "trauma_df['burns'] = trauma_df['Kategorie (Hauptdiagnose)'].apply(lambda x: 1 if x == 'Verbrennung' else 0)"
   ]
  },
  {
   "cell_type": "code",
   "execution_count": null,
   "id": "5b5a3a27874cd173",
   "metadata": {
    "ExecuteTime": {
     "end_time": "2025-03-14T23:11:23.190459Z",
     "start_time": "2025-03-14T23:11:23.175126Z"
    }
   },
   "outputs": [],
   "source": [
    "trauma_df.burns.sum()"
   ]
  },
  {
   "cell_type": "code",
   "execution_count": null,
   "id": "bdae020659e00836",
   "metadata": {
    "ExecuteTime": {
     "end_time": "2025-03-14T23:13:10.182346Z",
     "start_time": "2025-03-14T23:13:05.199499Z"
    }
   },
   "outputs": [],
   "source": [
    "temp_df = trauma_df[['GCS (Erstbefund)', 'burns', 'Sverweis_Geschlecht_encoded', 'Alter  (Patient)', 'AIS Head']]\n",
    "temp_df.dropna(inplace=True)\n",
    "mod_prob_trauma = OrderedModel(temp_df['GCS (Erstbefund)'], temp_df[['burns', 'Sverweis_Geschlecht_encoded', 'Alter  (Patient)', 'AIS Head']],\n",
    "                            distr='probit')\n",
    "\n",
    "res_prob_trauma = mod_prob_trauma.fit(maxiter=10000)\n",
    "res_prob_trauma.summary()"
   ]
  },
  {
   "cell_type": "code",
   "execution_count": null,
   "id": "c508aa060e8b39c7",
   "metadata": {},
   "outputs": [],
   "source": []
  },
  {
   "cell_type": "markdown",
   "id": "5685048019d19126",
   "metadata": {
    "collapsed": false
   },
   "source": [
    "### Boxplots for medical and trauma"
   ]
  },
  {
   "cell_type": "code",
   "execution_count": null,
   "id": "1171e5dd6c2dcc69",
   "metadata": {
    "ExecuteTime": {
     "end_time": "2025-03-14T19:57:52.700159Z",
     "start_time": "2025-03-14T19:57:52.328660Z"
    }
   },
   "outputs": [],
   "source": [
    "# two subplots with boxplots for medical and trauma and every category\n",
    "\n",
    "fig, axs = plt.subplots(1, 2, figsize=(15, 6))\n",
    "\n",
    "sns.boxplot(x='Kategorie (Hauptdiagnose)', y='GCS (Erstbefund)', data=medical_df, showfliers=False, ax=axs[0], palette='mako',\n",
    "            boxprops=dict(alpha=.8))\n",
    "axs[0].set_title('Medical')\n",
    "\n",
    "sns.boxplot(x='Kategorie (Hauptdiagnose)', y='GCS (Erstbefund)', data=trauma_df, showfliers=False, ax=axs[1], palette='magma',\n",
    "            boxprops=dict(alpha=.8))\n",
    "axs[1].set_title('Trauma')\n",
    "\n",
    "# tilt x labels\n",
    "for ax in axs:\n",
    "    ax.set_xticklabels(ax.get_xticklabels(), rotation=65)\n",
    "\n",
    "# remove xaxis labels\n",
    "axs[0].set_xlabel('')\n",
    "axs[1].set_xlabel('')\n",
    "plt.show()"
   ]
  },
  {
   "cell_type": "code",
   "execution_count": null,
   "id": "b52e1edc643a1d1",
   "metadata": {
    "ExecuteTime": {
     "end_time": "2025-03-14T19:57:52.735479Z",
     "start_time": "2025-03-14T19:57:52.732865Z"
    }
   },
   "outputs": [],
   "source": [
    "# fig.savefig('/Users/jk1/Downloads/gcs_intubation_subgroups.png', dpi=600, bbox_inches='tight')"
   ]
  },
  {
   "cell_type": "markdown",
   "id": "c1a88b272c0deb06",
   "metadata": {
    "collapsed": false
   },
   "source": [
    "#### table with subgroups for medical and trauma"
   ]
  },
  {
   "cell_type": "code",
   "execution_count": null,
   "id": "27bd99e8",
   "metadata": {},
   "outputs": [],
   "source": [
    "medical_df['Kategorie (Hauptdiagnose)'].replace('Zentralnvervensystem', 'Zentralnervensystem', inplace=True)\n",
    "trauma_df['Kategorie (Hauptdiagnose)'].replace('Polyytrauma', 'Polytrauma', inplace=True)"
   ]
  },
  {
   "cell_type": "code",
   "execution_count": null,
   "id": "75bfa048dd703cfe",
   "metadata": {
    "ExecuteTime": {
     "end_time": "2025-03-14T19:57:52.805401Z",
     "start_time": "2025-03-14T19:57:52.776496Z"
    }
   },
   "outputs": [],
   "source": [
    "# build table with median (IQR) of GCS for each main diagnosis\n",
    "medical_subgroups_df = pd.DataFrame(columns=['Zentralnervensystem', 'Krampfanfall', 'Herz-Kreislauf', 'Intoxikation', 'Respiratorisch'])\n",
    "trauma_subgroups_df = pd.DataFrame(columns=['SHT', 'Polytrauma', 'Verbrennung', 'Respiratorisch'])\n",
    "\n",
    "medical_subgroups_df.loc['n'] = [len(medical_df[medical_df['Kategorie (Hauptdiagnose)'] == cat]) for cat in ['Zentralnervensystem', 'Krampfanfall', 'Herz-Kreislauf', 'Intoxikation', 'Respiratorisch']]\n",
    "trauma_subgroups_df.loc['n'] = [len(trauma_df[trauma_df['Kategorie (Hauptdiagnose)'] == cat]) for cat in ['SHT', 'Polytrauma', 'Verbrennung', 'Respiratorisch']]\n",
    "\n",
    "for cat in ['Zentralnervensystem', 'Krampfanfall', 'Herz-Kreislauf', 'Intoxikation', 'Respiratorisch']:\n",
    "    gcs_df = medical_df[medical_df['Kategorie (Hauptdiagnose)'] == cat]['GCS (Erstbefund)']\n",
    "    medical_subgroups_df.loc['GCS (median/IQR)', cat] = f'{gcs_df.median()} ({gcs_df.quantile(0.25)}-{gcs_df.quantile(0.75)})'\n",
    "    \n",
    "for cat in ['SHT', 'Polytrauma', 'Verbrennung', 'Respiratorisch']:\n",
    "    gcs_df = trauma_df[trauma_df['Kategorie (Hauptdiagnose)'] == cat]['GCS (Erstbefund)']\n",
    "    trauma_subgroups_df.loc['GCS (median/IQR)', cat] = f'{gcs_df.median()} ({gcs_df.quantile(0.25)}-{gcs_df.quantile(0.75)})'\n"
   ]
  },
  {
   "cell_type": "code",
   "execution_count": null,
   "id": "aafcc381e84e330d",
   "metadata": {
    "ExecuteTime": {
     "end_time": "2025-03-14T19:57:53.034660Z",
     "start_time": "2025-03-14T19:57:53.022254Z"
    }
   },
   "outputs": [],
   "source": [
    "medical_subgroups_df = medical_subgroups_df.T\n",
    "trauma_subgroups_df = trauma_subgroups_df.T\n",
    "\n",
    "medical_subgroups_df.reset_index(inplace=True)\n",
    "trauma_subgroups_df.reset_index(inplace=True)\n",
    "\n",
    "medical_subgroups_df.columns = ['Kategorie', 'n', 'GCS (median/IQR)']\n",
    "trauma_subgroups_df.columns = ['Kategorie', 'n', 'GCS (median/IQR)']\n",
    "\n",
    "medical_subgroups_df['Einteilung'] = 'medical'\n",
    "trauma_subgroups_df['Einteilung'] = 'trauma'\n",
    "\n",
    "medical_subgroups_df['pval'] = res_prob_med.pvalues['Kategorie (Hauptdiagnose) encoded']\n",
    "trauma_subgroups_df['pval'] = res_prob_trauma.pvalues['Kategorie (Hauptdiagnose) encoded']\n",
    "\n",
    "subgroups_df = pd.concat([medical_subgroups_df, trauma_subgroups_df])"
   ]
  },
  {
   "cell_type": "code",
   "execution_count": null,
   "id": "50a718255e24644a",
   "metadata": {
    "ExecuteTime": {
     "end_time": "2025-03-14T19:57:53.277002Z",
     "start_time": "2025-03-14T19:57:53.270154Z"
    }
   },
   "outputs": [],
   "source": [
    "subgroups_df"
   ]
  },
  {
   "cell_type": "code",
   "execution_count": null,
   "id": "d984b7ebd03c4e66",
   "metadata": {
    "ExecuteTime": {
     "end_time": "2025-03-14T19:57:53.619824Z",
     "start_time": "2025-03-14T19:57:53.612795Z"
    }
   },
   "outputs": [],
   "source": [
    "subgroups_df.to_csv('/Users/jk1/Downloads/gcs_intubation_subgroups.csv')"
   ]
  },
  {
   "cell_type": "markdown",
   "id": "3798122083edddad",
   "metadata": {
    "collapsed": false
   },
   "source": [
    "## overall model"
   ]
  },
  {
   "cell_type": "code",
   "execution_count": null,
   "id": "37b2e2f5fd4e5ed8",
   "metadata": {
    "ExecuteTime": {
     "end_time": "2025-03-14T19:57:54.003055Z",
     "start_time": "2025-03-14T19:57:53.995488Z"
    }
   },
   "outputs": [],
   "source": [
    "overall_temp_df = df[['GCS (Erstbefund)', 'Einteilung (Hauptdiagnose)', 'Kategorie (Hauptdiagnose)', 'Sverweis_Geschlecht_encoded', 'Alter  (Patient)']]\n",
    "# rename columns to remove spaces and brackets\n",
    "overall_temp_df.columns = ['GCS', 'Einteilung', 'Kategorie', 'Geschlecht', 'Alter']"
   ]
  },
  {
   "cell_type": "code",
   "execution_count": null,
   "id": "deaa0a662ccca5ed",
   "metadata": {
    "ExecuteTime": {
     "end_time": "2025-03-14T19:57:54.138691Z",
     "start_time": "2025-03-14T19:57:54.134264Z"
    }
   },
   "outputs": [],
   "source": [
    "# patients with einteilung trauma and kategorie respiratorisch should have kategorie trauma_respiratorisch\n",
    "overall_temp_df.loc[(overall_temp_df['Einteilung'] == 'Unfall') & (overall_temp_df['Kategorie'] == 'Respiratorisch'), 'Kategorie'] = 'Trauma_Respiratorisch'"
   ]
  },
  {
   "cell_type": "code",
   "execution_count": null,
   "id": "fabef74965fee9d1",
   "metadata": {
    "ExecuteTime": {
     "end_time": "2025-03-14T19:57:54.295026Z",
     "start_time": "2025-03-14T19:57:54.288421Z"
    }
   },
   "outputs": [],
   "source": [
    "# numerical encoding for Eineteilung and Kategorie\n",
    "overall_temp_df['Einteilung_encoded'] = overall_temp_df['Einteilung'].map({'Krankheit': 0, 'Unfall': 1})\n",
    "overall_temp_df['Kategorie_encoded'] = overall_temp_df['Kategorie'].map({'Zentralnervensystem': 0,\n",
    "                                                                         'Krampfanfall': 1,\n",
    "                                                                         'Herz-Kreislauf': 2,\n",
    "                                                                         'Intoxikation': 3,\n",
    "                                                                         'Respiratorisch': 4,\n",
    "                                                                         'SHT': 5,\n",
    "                                                                         'Polytrauma': 6,\n",
    "                                                                         'Verbrennung': 7,\n",
    "                                                                         'Trauma_Respiratorisch': 8})"
   ]
  },
  {
   "cell_type": "code",
   "execution_count": null,
   "id": "773928fa3cd780b0",
   "metadata": {
    "ExecuteTime": {
     "end_time": "2025-03-14T19:57:54.326717Z",
     "start_time": "2025-03-14T19:57:54.319225Z"
    }
   },
   "outputs": [],
   "source": [
    "overall_temp_df['GCS_cat'] = pd.Categorical(overall_temp_df['GCS'], categories=[3, 4, 5, 6, 7, 8, 9, 10, 11, 12, 13, 14, 15], ordered=True)\n",
    "# then convert to strings categories\n",
    "overall_temp_df['GCS_cat'] = overall_temp_df['GCS_cat'].astype(str)\n",
    "# and then convert to strings categories\n",
    "overall_temp_df['GCS_cat'] = pd.Categorical(overall_temp_df['GCS_cat'], categories=['3', '4', '5', '6', '7', '8', '9', '10', '11', '12', '13', '14', '15'], ordered=True)"
   ]
  },
  {
   "cell_type": "code",
   "execution_count": null,
   "id": "1f88c51c1f3c19",
   "metadata": {
    "ExecuteTime": {
     "end_time": "2025-03-14T19:57:54.393736Z",
     "start_time": "2025-03-14T19:57:54.387372Z"
    }
   },
   "outputs": [],
   "source": [
    "overall_temp_df.dropna(inplace=True)"
   ]
  },
  {
   "cell_type": "code",
   "execution_count": null,
   "id": "362038981ff374fa",
   "metadata": {
    "ExecuteTime": {
     "end_time": "2025-03-14T19:57:54.467121Z",
     "start_time": "2025-03-14T19:57:54.450530Z"
    }
   },
   "outputs": [],
   "source": [
    "overall_temp_df "
   ]
  },
  {
   "cell_type": "code",
   "execution_count": null,
   "id": "dc16e95507be2d88",
   "metadata": {
    "ExecuteTime": {
     "end_time": "2025-03-14T19:58:07.688889Z",
     "start_time": "2025-03-14T19:57:54.566755Z"
    }
   },
   "outputs": [],
   "source": [
    "import os\n",
    "os.environ[\"R_HOME\"] = \"/Library/Frameworks/R.framework/Resources\"\n",
    "from pymer4.models import Lmer\n",
    "\n",
    "# model = Lmer(f\"GCS ~ Kategorie_encoded + Geschlecht + Alter + (1|Einteilung_encoded)\",\n",
    "#                          data=overall_temp_df, family='binomial')\n",
    "model = Lmer(f\"GCS_cat ~ Kategorie_encoded + Geschlecht + Alter + (1|Einteilung_encoded)\", data=overall_temp_df, family='binomial')\n",
    "model.fit()"
   ]
  },
  {
   "cell_type": "code",
   "execution_count": null,
   "id": "75fffb76b78b0746",
   "metadata": {
    "ExecuteTime": {
     "end_time": "2025-03-14T19:58:07.724383Z",
     "start_time": "2025-03-14T19:58:07.722043Z"
    }
   },
   "outputs": [],
   "source": []
  }
 ],
 "metadata": {
  "kernelspec": {
   "display_name": "prehosp",
   "language": "python",
   "name": "python3"
  },
  "language_info": {
   "codemirror_mode": {
    "name": "ipython",
    "version": 3
   },
   "file_extension": ".py",
   "mimetype": "text/x-python",
   "name": "python",
   "nbconvert_exporter": "python",
   "pygments_lexer": "ipython3",
   "version": "3.11.9"
  }
 },
 "nbformat": 4,
 "nbformat_minor": 5
}
