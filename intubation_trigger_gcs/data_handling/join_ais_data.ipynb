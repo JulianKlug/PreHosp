{
 "cells": [
  {
   "cell_type": "code",
   "execution_count": null,
   "id": "initial_id",
   "metadata": {
    "ExecuteTime": {
     "end_time": "2025-03-14T20:00:36.800334Z",
     "start_time": "2025-03-14T20:00:36.797745Z"
    }
   },
   "outputs": [],
   "source": [
    "import pandas as pd"
   ]
  },
  {
   "cell_type": "code",
   "execution_count": null,
   "id": "f4eaa88ba23fa4ff",
   "metadata": {
    "ExecuteTime": {
     "end_time": "2025-03-14T20:40:55.334768Z",
     "start_time": "2025-03-14T20:40:55.331313Z"
    }
   },
   "outputs": [],
   "source": [
    "AIS_bern_path = '/Users/jk1/Library/CloudStorage/OneDrive-unige.ch/icu_research/prehospital/intubation_trigger/data/AIS_data/20250307 Einsätze mit Gruppierung ALEX.xlsx'\n",
    "AIS_st_gallen_path = '/Users/jk1/Library/CloudStorage/OneDrive-unige.ch/icu_research/prehospital/intubation_trigger/data/AIS_data/20250307_ISS_DatenStGAllen.xlsx'\n",
    "AIS_zuerich_path = '/Users/jk1/Library/CloudStorage/OneDrive-unige.ch/icu_research/prehospital/intubation_trigger/data/AIS_data/Zürich_Einsatznummern_tim_18.03.2024_final_PG.xlsx'\n",
    "main_data_path = '/Users/jk1/Library/CloudStorage/OneDrive-unige.ch/icu_research/prehospital/intubation_trigger/data/Mastertabelle_filtered.xlsx'"
   ]
  },
  {
   "cell_type": "code",
   "execution_count": null,
   "id": "ffc8f0599f370885",
   "metadata": {
    "ExecuteTime": {
     "end_time": "2025-03-14T20:40:56.147816Z",
     "start_time": "2025-03-14T20:40:56.051230Z"
    }
   },
   "outputs": [],
   "source": [
    "df = pd.read_excel(main_data_path)"
   ]
  },
  {
   "cell_type": "code",
   "execution_count": null,
   "id": "4c3f8cf115fe0fb7",
   "metadata": {
    "ExecuteTime": {
     "end_time": "2025-03-14T20:40:58.832619Z",
     "start_time": "2025-03-14T20:40:58.640671Z"
    }
   },
   "outputs": [],
   "source": [
    "AIS_bern_df = pd.read_excel(AIS_bern_path, sheet_name='Einsatznummern Bern', header=1)\n",
    "AIS_st_gallen_df = pd.read_excel(AIS_st_gallen_path, skiprows=1)\n",
    "AIS_zuerich_df = pd.read_excel(AIS_zuerich_path)"
   ]
  },
  {
   "cell_type": "code",
   "execution_count": null,
   "id": "2f76ea2cae6a6e9",
   "metadata": {
    "ExecuteTime": {
     "end_time": "2025-03-14T20:41:27.014673Z",
     "start_time": "2025-03-14T20:41:27.010630Z"
    }
   },
   "outputs": [],
   "source": [
    "AIS_st_gallen_df.rename(columns={\n",
    "    'Kopf': 'AIS Head',\n",
    "     'Gesicht': 'AIS Face',\n",
    "     'Thorax': 'AIS Chest ',\n",
    "    'Abdomen': 'AIS Abdomen',\n",
    "    'Extremitäten': 'AIS Extremity',\n",
    "    'Extern': 'AIS External'\n",
    "}, inplace=True)"
   ]
  },
  {
   "cell_type": "code",
   "execution_count": null,
   "id": "63fda70d99a0b508",
   "metadata": {
    "ExecuteTime": {
     "end_time": "2025-03-14T20:32:31.550198Z",
     "start_time": "2025-03-14T20:32:31.526559Z"
    }
   },
   "outputs": [],
   "source": [
    "AIS_bern_df = AIS_bern_df[['SNZ Einsatz Nr.  (Einsatz)', 'AIS Head', 'AIS Face',\n",
    "       'AIS Chest ', 'AIS Abdomen', 'AIS Extremity', 'AIS External']]\n",
    "AIS_zuerich_df = AIS_zuerich_df[['SNZ Einsatz Nr.  (Einsatz)', 'AIS Head', 'AIS Face',\n",
    "       'AIS Chest ', 'AIS Abdomen', 'AIS Extremity', 'AIS External']]\n",
    "AIS_st_gallen_df = AIS_st_gallen_df[['Name', 'Vorname', 'AIS Head', 'AIS Face', 'AIS Chest ', 'AIS Abdomen', 'AIS Extremity', 'AIS External']]"
   ]
  },
  {
   "cell_type": "code",
   "execution_count": null,
   "id": "10bfdf16b5288ba1",
   "metadata": {
    "ExecuteTime": {
     "end_time": "2025-03-14T20:39:21.099786Z",
     "start_time": "2025-03-14T20:39:21.096286Z"
    }
   },
   "outputs": [],
   "source": [
    "df.rename(columns={\n",
    "    'Sverweis_Name': 'Name', 'Sverweis_Vorname': 'Vorname'\n",
    "}, inplace=True)"
   ]
  },
  {
   "cell_type": "code",
   "execution_count": null,
   "id": "2f4171a053833b09",
   "metadata": {
    "ExecuteTime": {
     "end_time": "2025-03-14T21:44:28.273751Z",
     "start_time": "2025-03-14T21:44:28.270020Z"
    }
   },
   "outputs": [],
   "source": [
    "df = df[['SNZ Einsatz Nr.  (Einsatz)', 'Name', 'Vorname']]"
   ]
  },
  {
   "cell_type": "code",
   "execution_count": null,
   "id": "1d5ca3860581e5db",
   "metadata": {
    "ExecuteTime": {
     "end_time": "2025-03-14T20:39:37.670775Z",
     "start_time": "2025-03-14T20:39:37.665174Z"
    }
   },
   "outputs": [],
   "source": [
    "AIS_st_gallen_df = AIS_st_gallen_df.merge(df, how='left', on=['Name', 'Vorname'])"
   ]
  },
  {
   "cell_type": "code",
   "execution_count": null,
   "id": "8b31bee68c8a456f",
   "metadata": {
    "ExecuteTime": {
     "end_time": "2025-03-14T21:30:25.494151Z",
     "start_time": "2025-03-14T21:30:25.489867Z"
    }
   },
   "outputs": [],
   "source": [
    "AIS_st_gallen_df.rename(columns={'AIS Chest': 'AIS Chest '}, inplace=True)"
   ]
  },
  {
   "cell_type": "code",
   "execution_count": null,
   "id": "e2846467bc1d6495",
   "metadata": {
    "ExecuteTime": {
     "end_time": "2025-03-14T21:30:28.542006Z",
     "start_time": "2025-03-14T21:30:28.537832Z"
    }
   },
   "outputs": [],
   "source": [
    "AIS_st_gallen_df = AIS_st_gallen_df[['SNZ Einsatz Nr.  (Einsatz)', 'AIS Head', 'AIS Face',\n",
    "       'AIS Chest ', 'AIS Abdomen', 'AIS Extremity', 'AIS External']]"
   ]
  },
  {
   "cell_type": "code",
   "execution_count": null,
   "id": "41c79296f0eca88a",
   "metadata": {
    "ExecuteTime": {
     "end_time": "2025-03-14T21:31:34.961686Z",
     "start_time": "2025-03-14T21:31:34.950765Z"
    }
   },
   "outputs": [],
   "source": [
    "all_AIS_df = pd.concat([AIS_st_gallen_df, AIS_zuerich_df, AIS_bern_df])"
   ]
  },
  {
   "cell_type": "code",
   "execution_count": null,
   "id": "c106304697288fa5",
   "metadata": {
    "ExecuteTime": {
     "end_time": "2025-03-14T21:32:09.595464Z",
     "start_time": "2025-03-14T21:32:09.591095Z"
    }
   },
   "outputs": [],
   "source": [
    "all_AIS_df.rename(columns={'AIS Chest ': 'AIS Chest'}, inplace=True)"
   ]
  },
  {
   "cell_type": "code",
   "execution_count": null,
   "id": "298404afe88401e4",
   "metadata": {
    "ExecuteTime": {
     "end_time": "2025-03-14T21:44:14.466846Z",
     "start_time": "2025-03-14T21:44:14.463038Z"
    }
   },
   "outputs": [],
   "source": [
    "all_AIS_df = all_AIS_df.dropna(subset=['AIS Head'])"
   ]
  },
  {
   "cell_type": "code",
   "execution_count": null,
   "id": "7008c09ef0a9df81",
   "metadata": {
    "ExecuteTime": {
     "end_time": "2025-03-14T21:44:40.144771Z",
     "start_time": "2025-03-14T21:44:40.138598Z"
    }
   },
   "outputs": [],
   "source": [
    "df = df.merge(all_AIS_df, how='left', on=['SNZ Einsatz Nr.  (Einsatz)'])"
   ]
  },
  {
   "cell_type": "code",
   "execution_count": null,
   "id": "56757dce8021ea72",
   "metadata": {
    "ExecuteTime": {
     "end_time": "2025-03-14T21:44:40.694411Z",
     "start_time": "2025-03-14T21:44:40.679009Z"
    }
   },
   "outputs": [],
   "source": [
    "df"
   ]
  },
  {
   "cell_type": "code",
   "execution_count": null,
   "id": "66e9b99f27a7c613",
   "metadata": {
    "ExecuteTime": {
     "end_time": "2025-03-14T21:45:56.063616Z",
     "start_time": "2025-03-14T21:45:56.048945Z"
    }
   },
   "outputs": [],
   "source": [
    "# df.to_csv('/Users/jk1/Library/CloudStorage/OneDrive-unige.ch/icu_research/prehospital/intubation_trigger/data/AIS_data/all_centers_ais_data.csv', index=False)"
   ]
  },
  {
   "cell_type": "code",
   "execution_count": null,
   "id": "3ee0922601d15168",
   "metadata": {},
   "outputs": [],
   "source": []
  }
 ],
 "metadata": {
  "kernelspec": {
   "display_name": "Python 3",
   "language": "python",
   "name": "python3"
  },
  "language_info": {
   "codemirror_mode": {
    "name": "ipython",
    "version": 2
   },
   "file_extension": ".py",
   "mimetype": "text/x-python",
   "name": "python",
   "nbconvert_exporter": "python",
   "pygments_lexer": "ipython2",
   "version": "2.7.6"
  }
 },
 "nbformat": 4,
 "nbformat_minor": 5
}
