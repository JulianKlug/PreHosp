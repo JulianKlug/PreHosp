{
 "cells": [
  {
   "cell_type": "code",
   "execution_count": null,
   "id": "initial_id",
   "metadata": {
    "ExecuteTime": {
     "end_time": "2025-03-26T07:04:10.928704Z",
     "start_time": "2025-03-26T07:04:10.924587Z"
    }
   },
   "outputs": [],
   "source": [
    "import pandas as pd\n",
    "import numpy as np\n",
    "import os"
   ]
  },
  {
   "cell_type": "code",
   "execution_count": null,
   "id": "c2c652de2cfeecce",
   "metadata": {
    "ExecuteTime": {
     "end_time": "2025-03-26T07:04:52.721156Z",
     "start_time": "2025-03-26T07:04:52.718063Z"
    }
   },
   "outputs": [],
   "source": [
    "bern_data_path = '/Users/jk1/Library/CloudStorage/OneDrive-unige.ch/icu_research/prehospital/intubation_trigger/data/not_intubated/outcome_data/GCSRegaStudieBernNichtIntubiertOutcomes.xlsx'\n",
    "stgallen_data_path = '/Users/jk1/Library/CloudStorage/OneDrive-unige.ch/icu_research/prehospital/intubation_trigger/data/not_intubated/outcome_data/GCSRegaStudieStGallenNichtIntubiertOutcomes.xlsx'\n",
    "zuerich_data_path = '/Users/jk1/Library/CloudStorage/OneDrive-unige.ch/icu_research/prehospital/intubation_trigger/data/not_intubated/outcome_data/GCSRegaStudieZürichNichtIntubiertOutcomes.xlsx'\n",
    "patient_id_path = '/Users/jk1/Library/CloudStorage/OneDrive-unige.ch/icu_research/prehospital/intubation_trigger/data/not_intubated/einsatznummern_GCS3_8.xlsx'"
   ]
  },
  {
   "cell_type": "code",
   "execution_count": null,
   "id": "45d729250aedda4",
   "metadata": {
    "ExecuteTime": {
     "end_time": "2025-03-26T07:05:02.702366Z",
     "start_time": "2025-03-26T07:04:53.010480Z"
    }
   },
   "outputs": [],
   "source": [
    "bern_df = pd.read_excel(bern_data_path, header=5, sheet_name='Transportiert')\n",
    "stgallen_df = pd.read_excel(stgallen_data_path, header=5, sheet_name='Transportiert')\n",
    "zuerich_df = pd.read_excel(zuerich_data_path, header=5, sheet_name='Transportiert')\n",
    "patient_id_df = pd.read_excel(patient_id_path)"
   ]
  },
  {
   "cell_type": "code",
   "execution_count": null,
   "id": "f88eb94018ffe62e",
   "metadata": {
    "ExecuteTime": {
     "end_time": "2025-03-26T07:05:02.711144Z",
     "start_time": "2025-03-26T07:05:02.707529Z"
    }
   },
   "outputs": [],
   "source": [
    "bern_df.rename(columns={'Sex [M/F]': 'sex'}, inplace=True)\n",
    "stgallen_df.rename(columns={'Sex': 'sex'}, inplace=True)\n",
    "zuerich_df.rename(columns={'Geschlecht': 'sex'}, inplace=True)"
   ]
  },
  {
   "cell_type": "code",
   "execution_count": null,
   "id": "f26b4ca209406c58",
   "metadata": {
    "ExecuteTime": {
     "end_time": "2025-03-26T07:05:02.755279Z",
     "start_time": "2025-03-26T07:05:02.737953Z"
    }
   },
   "outputs": [],
   "source": [
    "overall_df = pd.concat([bern_df, stgallen_df, zuerich_df])"
   ]
  },
  {
   "cell_type": "code",
   "execution_count": null,
   "id": "92d274f20767fc1",
   "metadata": {
    "ExecuteTime": {
     "end_time": "2025-03-26T07:05:02.784445Z",
     "start_time": "2025-03-26T07:05:02.782029Z"
    }
   },
   "outputs": [],
   "source": [
    "target_hospitals = [\n",
    "    'Kantonsspital St. Gallen - Stao St. Gallen (KSSG)',\n",
    "    'Inselspital Bern',\n",
    "    'Schockraum USZ, Zürich',\n",
    "    'Universitätsspital Zürich (USZ)'\n",
    "]"
   ]
  },
  {
   "cell_type": "code",
   "execution_count": null,
   "id": "9a0d72ba9a8cc6a5",
   "metadata": {
    "ExecuteTime": {
     "end_time": "2025-03-26T07:04:20.724180Z",
     "start_time": "2025-03-26T07:04:20.710479Z"
    }
   },
   "outputs": [],
   "source": [
    "overall_df = overall_df[overall_df['Zielort (Zielort)'].isin(target_hospitals)]"
   ]
  },
  {
   "cell_type": "code",
   "execution_count": null,
   "id": "d43d6877dceede3",
   "metadata": {
    "ExecuteTime": {
     "end_time": "2025-03-26T07:04:20.758366Z",
     "start_time": "2025-03-26T07:04:20.750903Z"
    }
   },
   "outputs": [],
   "source": [
    "# exclude NACA 6\n",
    "overall_df = overall_df[overall_df['NACA (Medizinische Daten)'] < 6]"
   ]
  },
  {
   "cell_type": "code",
   "execution_count": null,
   "id": "5600ba99b9744c81",
   "metadata": {
    "ExecuteTime": {
     "end_time": "2025-03-26T07:04:20.794205Z",
     "start_time": "2025-03-26T07:04:20.787454Z"
    }
   },
   "outputs": [],
   "source": [
    "overall_df = overall_df[~overall_df['Atemwegbefund (Atemweg Befund)'].isin(['Intubiert', 'Intubiert; Aspiration', 'Aspiration; Intubiert', 'Intubiert; Atemwege frei', 'Verlegt; Intubiert',\n",
    "       'Intubiert; Verlegt; Aspiration', 'Intubiert; Verlegt',\n",
    "       'Aspiration; Verlegt; Intubiert', 'Tracheotomiert'])]"
   ]
  },
  {
   "cell_type": "code",
   "execution_count": null,
   "id": "3758fe5d849d648c",
   "metadata": {
    "ExecuteTime": {
     "end_time": "2025-03-26T07:04:20.854662Z",
     "start_time": "2025-03-26T07:04:20.847280Z"
    }
   },
   "outputs": [],
   "source": [
    "overall_df['Atemwegbefund (Atemweg Befund)'].unique()"
   ]
  },
  {
   "cell_type": "code",
   "execution_count": null,
   "id": "1f541986f3b8c268",
   "metadata": {
    "ExecuteTime": {
     "end_time": "2025-03-26T07:04:20.942871Z",
     "start_time": "2025-03-26T07:04:20.940039Z"
    }
   },
   "outputs": [],
   "source": [
    "non_intubated = ['Wendel; Güdel',\n",
    "       'Wendel', np.nan, 'Güdel; Bereits vorhanden', 'Güdel']"
   ]
  },
  {
   "cell_type": "code",
   "execution_count": null,
   "id": "29489a087db276ef",
   "metadata": {
    "ExecuteTime": {
     "end_time": "2025-03-26T07:04:20.980346Z",
     "start_time": "2025-03-26T07:04:20.974743Z"
    }
   },
   "outputs": [],
   "source": [
    "overall_df = overall_df[overall_df['Bezeichnung (Atemweg-Management)'].isin(non_intubated)]"
   ]
  },
  {
   "cell_type": "code",
   "execution_count": null,
   "id": "5452ac962e6d20",
   "metadata": {
    "ExecuteTime": {
     "end_time": "2025-03-26T07:04:21.014966Z",
     "start_time": "2025-03-26T07:04:21.008268Z"
    }
   },
   "outputs": [],
   "source": [
    "print('Number of missions with non intubated patients:', overall_df['SNZ Einsatz Nr.  (Einsatz)'].nunique())\n",
    "print('Number of missions with non intubated patients and GCS < 9:', overall_df[overall_df['GCS (Erstbefund)'] < 9]['SNZ Einsatz Nr.  (Einsatz)'].nunique())"
   ]
  },
  {
   "cell_type": "code",
   "execution_count": null,
   "id": "b7a482891d52b721",
   "metadata": {
    "ExecuteTime": {
     "end_time": "2025-03-26T07:05:09.734352Z",
     "start_time": "2025-03-26T07:05:09.724969Z"
    }
   },
   "outputs": [],
   "source": [
    "# restrict to patients in the patient_id_df\n",
    "print('Number of missions after restriction to mission numbers: ', overall_df[overall_df['SNZ Einsatz Nr.  (Einsatz)'].isin(patient_id_df['SNZ Einsatz Nr.  (Einsatz)'])]['SNZ Einsatz Nr.  (Einsatz)'].nunique())"
   ]
  },
  {
   "cell_type": "code",
   "execution_count": null,
   "id": "98b42b5dbf7d7904",
   "metadata": {
    "ExecuteTime": {
     "end_time": "2025-03-26T07:05:11.374609Z",
     "start_time": "2025-03-26T07:05:11.360685Z"
    }
   },
   "outputs": [],
   "source": [
    "overall_df = overall_df[overall_df['SNZ Einsatz Nr.  (Einsatz)'].isin(patient_id_df['SNZ Einsatz Nr.  (Einsatz)'])]"
   ]
  },
  {
   "cell_type": "code",
   "execution_count": null,
   "id": "965754368b2bd405",
   "metadata": {
    "ExecuteTime": {
     "end_time": "2025-03-26T07:13:29.441912Z",
     "start_time": "2025-03-26T07:13:29.370164Z"
    }
   },
   "outputs": [],
   "source": [
    "for mission_number in overall_df['SNZ Einsatz Nr.  (Einsatz)'].unique():\n",
    "    # get all non sex values for the mission number\n",
    "    sex_values = overall_df[(overall_df['SNZ Einsatz Nr.  (Einsatz)'] == mission_number) & (~overall_df['sex'].isna())]['sex'].values\n",
    "    sex = np.nan\n",
    "    if len(sex_values) >= 2:\n",
    "        print(mission_number, sex_values)\n",
    "    elif len(sex_values) == 1:\n",
    "        sex = sex_values[0]\n",
    "    overall_df.loc[overall_df['SNZ Einsatz Nr.  (Einsatz)'] == mission_number, 'sex'] = sex\n"
   ]
  },
  {
   "cell_type": "code",
   "execution_count": null,
   "id": "ad6cdb3349a2fe51",
   "metadata": {
    "ExecuteTime": {
     "end_time": "2025-03-20T08:15:25.788895Z",
     "start_time": "2025-03-20T08:15:25.785562Z"
    }
   },
   "outputs": [],
   "source": [
    "outcome_columns = ['ICU [d]',\n",
    "       'Ventilator [d]', 'Hospital stay [d]', '28 d Survival [y/n]',\n",
    "       'Spital Survival [y/n]', 'ICU Survival [y/n]',\n",
    "       'ITN ass. Pneumonia [y/n]']"
   ]
  },
  {
   "cell_type": "code",
   "execution_count": null,
   "id": "f6214789c9fb4be3",
   "metadata": {
    "ExecuteTime": {
     "end_time": "2025-03-20T08:15:27.963393Z",
     "start_time": "2025-03-20T08:15:27.869716Z"
    }
   },
   "outputs": [],
   "source": [
    "# outcome_present should be 1 if any outcome column is not nan\n",
    "overall_df['outcome_present'] = overall_df.apply(lambda x: 1 if not all(x[outcome_columns].isna()) else 0, axis=1)"
   ]
  },
  {
   "cell_type": "code",
   "execution_count": null,
   "id": "3507cb1a8ca84967",
   "metadata": {
    "ExecuteTime": {
     "end_time": "2025-03-20T08:15:31.379364Z",
     "start_time": "2025-03-20T08:15:31.373733Z"
    }
   },
   "outputs": [],
   "source": [
    "outcome_df = overall_df[overall_df['outcome_present'] == 1]\n",
    "# filter all where ICU [d] is not a number\n",
    "outcome_df = outcome_df[outcome_df['ICU [d]'].apply(np.isreal)]"
   ]
  },
  {
   "cell_type": "code",
   "execution_count": null,
   "id": "ed695413a8bee2d3",
   "metadata": {
    "ExecuteTime": {
     "end_time": "2025-03-20T08:15:31.958092Z",
     "start_time": "2025-03-20T08:15:31.952869Z"
    }
   },
   "outputs": [],
   "source": [
    "outcome_df['SNZ Einsatz Nr.  (Einsatz)'].nunique(), outcome_df.shape"
   ]
  },
  {
   "cell_type": "code",
   "execution_count": null,
   "id": "f7ebd0667d21df56",
   "metadata": {
    "ExecuteTime": {
     "end_time": "2025-03-20T08:15:48.201368Z",
     "start_time": "2025-03-20T08:15:48.192641Z"
    }
   },
   "outputs": [],
   "source": [
    "# outcome_df.to_csv(os.path.join(os.path.dirname(stgallen_data_path), 'non_intubated_comatose_outcome_df.csv'))"
   ]
  },
  {
   "cell_type": "code",
   "execution_count": null,
   "id": "6aaf8b11265655ba",
   "metadata": {},
   "outputs": [],
   "source": []
  }
 ],
 "metadata": {
  "kernelspec": {
   "display_name": "prehosp",
   "language": "python",
   "name": "python3"
  },
  "language_info": {
   "codemirror_mode": {
    "name": "ipython",
    "version": 3
   },
   "file_extension": ".py",
   "mimetype": "text/x-python",
   "name": "python",
   "nbconvert_exporter": "python",
   "pygments_lexer": "ipython3",
   "version": "3.11.9"
  }
 },
 "nbformat": 4,
 "nbformat_minor": 5
}
