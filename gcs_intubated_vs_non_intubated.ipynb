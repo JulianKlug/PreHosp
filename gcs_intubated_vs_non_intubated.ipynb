{
 "cells": [
  {
   "cell_type": "code",
   "execution_count": null,
   "id": "initial_id",
   "metadata": {
    "ExecuteTime": {
     "end_time": "2025-03-17T10:28:24.574966Z",
     "start_time": "2025-03-17T10:28:24.571538Z"
    }
   },
   "outputs": [],
   "source": [
    "import pandas as pd\n",
    "import numpy as np\n",
    "import matplotlib.pyplot as plt\n",
    "import seaborn as sns\n",
    "from scipy.stats import alpha"
   ]
  },
  {
   "cell_type": "code",
   "execution_count": null,
   "id": "bec88d039af11a1b",
   "metadata": {
    "ExecuteTime": {
     "end_time": "2025-03-17T10:28:25.125393Z",
     "start_time": "2025-03-17T10:28:25.121781Z"
    }
   },
   "outputs": [],
   "source": [
    "intubated_data_path = '/Users/jk1/Library/CloudStorage/OneDrive-unige.ch/icu_research/prehospital/intubation_trigger/data/Mastertabelle_filtered.xlsx'\n",
    "non_intubated_path = '/Users/jk1/Library/CloudStorage/OneDrive-unige.ch/icu_research/prehospital/intubation_trigger/data/not_intubated/GCS Distribution - nicht intubiert.xlsx'"
   ]
  },
  {
   "cell_type": "code",
   "execution_count": null,
   "id": "3a2f8c667d206ad3",
   "metadata": {
    "ExecuteTime": {
     "end_time": "2025-03-17T10:28:26.091954Z",
     "start_time": "2025-03-17T10:28:25.512551Z"
    }
   },
   "outputs": [],
   "source": [
    "intubated_df = pd.read_excel(intubated_data_path)\n",
    "non_intubated_st_gallen_df = pd.read_excel(non_intubated_path, sheet_name='St. Gallen Rohdaten')\n",
    "non_intubated_zurich_df = pd.read_excel(non_intubated_path, sheet_name='Zürich Rohdaten')\n",
    "non_intubated_bern_df = pd.read_excel(non_intubated_path, sheet_name='Bern Rohdaten')"
   ]
  },
  {
   "cell_type": "code",
   "execution_count": null,
   "id": "5c60de2292dde861",
   "metadata": {
    "ExecuteTime": {
     "end_time": "2025-03-17T10:28:53.778629Z",
     "start_time": "2025-03-17T10:28:53.773729Z"
    }
   },
   "outputs": [],
   "source": [
    "intubated_df = intubated_df[intubated_df.Comment != 'Reanimation']"
   ]
  },
  {
   "cell_type": "code",
   "execution_count": null,
   "id": "3ac21f1bfc3806a5",
   "metadata": {
    "ExecuteTime": {
     "end_time": "2025-03-17T10:28:54.087056Z",
     "start_time": "2025-03-17T10:28:54.079485Z"
    }
   },
   "outputs": [],
   "source": [
    "# merge all non intubated dataframes\n",
    "non_intubated_bern_df['Location'] = 'Bern'\n",
    "non_intubated_st_gallen_df['Location'] = 'St. Gallen'\n",
    "non_intubated_zurich_df['Location'] = 'Zurich'\n",
    "non_intubated_df = pd.concat([non_intubated_bern_df, non_intubated_st_gallen_df, non_intubated_zurich_df])\n",
    "non_intubated_df['Intubated'] = 0\n",
    "non_intubated_df.rename(columns={'GCS Alle': 'GCS'}, inplace=True)"
   ]
  },
  {
   "cell_type": "code",
   "execution_count": null,
   "id": "a92e00c01e325a66",
   "metadata": {
    "ExecuteTime": {
     "end_time": "2025-03-17T10:29:00.283748Z",
     "start_time": "2025-03-17T10:29:00.278578Z"
    }
   },
   "outputs": [],
   "source": [
    "non_intubated_df.shape"
   ]
  },
  {
   "cell_type": "code",
   "execution_count": null,
   "id": "34ca031efea6861c",
   "metadata": {
    "ExecuteTime": {
     "end_time": "2025-03-09T20:49:36.686955Z",
     "start_time": "2025-03-09T20:49:36.666509Z"
    }
   },
   "outputs": [],
   "source": [
    "non_intubated_trauma_df = non_intubated_df[['GCS Trauma', 'Intubated']]\n",
    "non_intubated_trauma_df.rename(columns={'GCS Trauma': 'GCS'}, inplace=True)\n",
    "\n",
    "non_intubated_non_trauma_df = non_intubated_df[['GCS Krankheit', 'Intubated']]\n",
    "non_intubated_non_trauma_df.rename(columns={'GCS Krankheit': 'GCS'}, inplace=True)"
   ]
  },
  {
   "cell_type": "code",
   "execution_count": null,
   "id": "38aeb01d4ec5e7df",
   "metadata": {
    "ExecuteTime": {
     "end_time": "2025-03-09T20:49:36.937810Z",
     "start_time": "2025-03-09T20:49:36.931701Z"
    }
   },
   "outputs": [],
   "source": [
    "intubated_df['Intubated'] = 1\n",
    "intubated_df.rename(columns={'GCS (Erstbefund)': 'GCS'}, inplace=True)"
   ]
  },
  {
   "cell_type": "code",
   "execution_count": null,
   "id": "965d39f457faf168",
   "metadata": {
    "ExecuteTime": {
     "end_time": "2025-03-09T20:49:37.549981Z",
     "start_time": "2025-03-09T20:49:37.526320Z"
    }
   },
   "outputs": [],
   "source": [
    "non_intubated_df.head()"
   ]
  },
  {
   "cell_type": "code",
   "execution_count": null,
   "id": "82b6f158a3265edf",
   "metadata": {
    "ExecuteTime": {
     "end_time": "2025-03-09T20:49:38.309208Z",
     "start_time": "2025-03-09T20:49:38.277854Z"
    }
   },
   "outputs": [],
   "source": [
    "intubated_df.head()"
   ]
  },
  {
   "cell_type": "code",
   "execution_count": null,
   "id": "1e7bd53746727196",
   "metadata": {
    "ExecuteTime": {
     "end_time": "2025-03-09T20:49:38.951916Z",
     "start_time": "2025-03-09T20:49:38.941989Z"
    }
   },
   "outputs": [],
   "source": [
    "overall_joined_df = pd.concat([intubated_df[['GCS', 'Intubated']], non_intubated_df[['GCS', 'Intubated']]]).reset_index()"
   ]
  },
  {
   "cell_type": "code",
   "execution_count": null,
   "id": "5021b75405b03914",
   "metadata": {
    "ExecuteTime": {
     "end_time": "2025-03-09T20:49:39.647207Z",
     "start_time": "2025-03-09T20:49:39.614404Z"
    }
   },
   "outputs": [],
   "source": [
    "trauma_joined_df = pd.concat([intubated_df[intubated_df['Einteilung (Hauptdiagnose)'] == 'Unfall'][['GCS', 'Intubated']], non_intubated_trauma_df]).reset_index()\n",
    "non_trauma_joined_df = pd.concat([intubated_df[intubated_df['Einteilung (Hauptdiagnose)'] == 'Krankheit'][['GCS', 'Intubated']], non_intubated_non_trauma_df]).reset_index()"
   ]
  },
  {
   "cell_type": "code",
   "execution_count": null,
   "id": "7b25df00f01d6c18",
   "metadata": {
    "ExecuteTime": {
     "end_time": "2025-03-09T20:49:41.435992Z",
     "start_time": "2025-03-09T20:49:40.317438Z"
    }
   },
   "outputs": [],
   "source": [
    "# plot distribution of GCS in intubated and non intubated patients\n",
    "plt.figure(figsize=(10, 5))\n",
    "ax = sns.histplot(data=overall_joined_df, x='GCS', hue='Intubated', bins=15, kde=True)\n",
    "\n",
    "# set y axis to log scale\n",
    "ax.set_yscale('log')\n",
    "\n",
    "plt.show()"
   ]
  },
  {
   "cell_type": "code",
   "execution_count": null,
   "id": "c5b2820adc32b13e",
   "metadata": {
    "ExecuteTime": {
     "end_time": "2025-03-09T20:53:46.140318Z",
     "start_time": "2025-03-09T20:53:46.132534Z"
    }
   },
   "outputs": [],
   "source": [
    "sns.color_palette('Set1')[0]"
   ]
  },
  {
   "cell_type": "code",
   "execution_count": null,
   "id": "e13642c1b6508e46",
   "metadata": {
    "ExecuteTime": {
     "end_time": "2025-03-09T20:54:44.196939Z",
     "start_time": "2025-03-09T20:54:43.437308Z"
    }
   },
   "outputs": [],
   "source": [
    "# plot distribution of GCS in intubated and non intubated patients (two subplots with trauma and non trauma patients)\n",
    "fig, axs = plt.subplots(1, 2, figsize=(20, 5))\n",
    "palette = [sns.color_palette('Set1')[1], sns.color_palette('Set1')[0]]\n",
    "multiple = 'layer'\n",
    "\n",
    "# trauma patients\n",
    "ax = sns.histplot(data=trauma_joined_df, x='GCS', hue='Intubated', bins=13, kde=True, ax=axs[0], discrete=True, alpha=0.2, palette=palette, multiple=multiple)\n",
    "ax.set_yscale('log')\n",
    "ax.set_title('Trauma')\n",
    "\n",
    "# show all GCS values\n",
    "ax.set_xticks(np.arange(3, 16, 1))\n",
    "\n",
    "# non trauma patients\n",
    "ax = sns.histplot(data=non_trauma_joined_df, x='GCS', hue='Intubated', bins=13, kde=True, ax=axs[1], discrete=True, alpha=0.2, palette=palette, multiple=multiple)\n",
    "ax.set_yscale('log')\n",
    "ax.set_title('Non-Trauma')\n",
    "\n",
    "# show all GCS values\n",
    "ax.set_xticks(np.arange(3, 16, 1))\n",
    "\n",
    "# set legend\n",
    "# remove legend title\n",
    "axs[0].get_legend().set_title('')\n",
    "axs[1].get_legend().set_title('')\n",
    "# set items of legend to Intubated and Non Intubated\n",
    "axs[0].legend(axs[1].get_legend().legend_handles, ['Non Intubated', 'Intubated'])\n",
    "axs[1].legend(axs[1].get_legend().legend_handles, ['Non Intubated', 'Intubated'])\n",
    "\n",
    "# set y legend: Number of patients (log scale)\n",
    "axs[0].set_ylabel('Number of patients (log scale)')\n",
    "axs[1].set_ylabel('Number of patients (log scale)')\n",
    "\n",
    "plt.show()"
   ]
  },
  {
   "cell_type": "code",
   "execution_count": null,
   "id": "e2fdeaa511fecada",
   "metadata": {
    "ExecuteTime": {
     "end_time": "2025-03-09T20:55:38.447140Z",
     "start_time": "2025-03-09T20:55:34.669467Z"
    }
   },
   "outputs": [],
   "source": [
    "# fig.savefig('/Users/jk1/Downloads/gcs_intubated_vs_non_intubated.png', dpi=600, bbox_inches='tight')"
   ]
  },
  {
   "cell_type": "code",
   "execution_count": null,
   "id": "91d0986f50e09700",
   "metadata": {
    "ExecuteTime": {
     "end_time": "2025-03-06T13:41:54.914282Z",
     "start_time": "2025-03-06T13:41:54.900639Z"
    }
   },
   "outputs": [],
   "source": [
    "# handles\n",
    "axs[1].get_legend().legend_handles"
   ]
  },
  {
   "cell_type": "code",
   "execution_count": null,
   "id": "163f7abec2bdfc10",
   "metadata": {
    "ExecuteTime": {
     "end_time": "2025-03-06T13:34:36.910497Z",
     "start_time": "2025-03-06T13:34:36.901528Z"
    }
   },
   "outputs": [],
   "source": [
    "handles"
   ]
  },
  {
   "cell_type": "code",
   "execution_count": null,
   "id": "3a5ca0825f39eebe",
   "metadata": {
    "ExecuteTime": {
     "end_time": "2025-03-06T13:29:44.268248Z",
     "start_time": "2025-03-06T13:29:44.255602Z"
    }
   },
   "outputs": [],
   "source": [
    "# get individual colors from palette\n",
    "palette = sns.color_palette('Set1', n_colors=2)[0]\n",
    "palette[0], palette[1]"
   ]
  },
  {
   "cell_type": "code",
   "execution_count": null,
   "id": "30fc1b24280e97a9",
   "metadata": {
    "ExecuteTime": {
     "end_time": "2025-03-06T13:10:35.135813Z",
     "start_time": "2025-03-06T13:10:34.376254Z"
    }
   },
   "outputs": [],
   "source": [
    "# plot GCS distribution in intubated and non intubated patients of trauma patients excluding burn patients\n",
    "trauma_no_burn_joined_df = pd.concat([intubated_df[intubated_df['Einteilung (Hauptdiagnose)'] == 'Unfall'][intubated_df['Kategorie (Hauptdiagnose)'] != 'Verbrennung'][['GCS', 'Intubated']], non_intubated_trauma_df]).reset_index()\n",
    "\n",
    "plt.figure(figsize=(10, 5))\n",
    "ax = sns.histplot(data=trauma_no_burn_joined_df, x='GCS', hue='Intubated', bins=13, kde=True, discrete=True, alpha=0.5)\n",
    "\n",
    "# set y axis to log scale\n",
    "ax.set_yscale('log')\n",
    "\n",
    "# set title\n",
    "plt.title('Trauma (excluding burn injuries)')\n",
    "\n",
    "# show all GCS values\n",
    "plt.xticks(np.arange(3, 16, 1))\n",
    "\n",
    "plt.show()"
   ]
  },
  {
   "cell_type": "code",
   "execution_count": null,
   "id": "35d732ea279f4309",
   "metadata": {},
   "outputs": [],
   "source": [
    "# trauma, non trauma and burns\n",
    "# change overlap color or put next to each other"
   ]
  },
  {
   "cell_type": "code",
   "execution_count": null,
   "id": "32933757b687f75b",
   "metadata": {
    "ExecuteTime": {
     "end_time": "2025-03-04T17:51:55.992981Z",
     "start_time": "2025-03-04T17:51:55.375613Z"
    }
   },
   "outputs": [],
   "source": [
    "# find a cutoff for GCS to predict intubation in trauma patients (excluding burn patients)\n",
    "\n",
    "# compute c statistic for every GCS\n",
    "\n",
    "from sklearn.metrics import roc_auc_score\n",
    "from sklearn.metrics import roc_curve\n",
    "\n",
    "trauma_roc_auc_scores = []\n",
    "trauma_fpr = []\n",
    "trauma_tpr = []\n",
    "trauma_thresholds = []\n",
    "\n",
    "for gcs_threshold in np.arange(3, 16, 1):\n",
    "    y_true = trauma_no_burn_joined_df.Intubated\n",
    "    y_score = trauma_no_burn_joined_df.GCS <= gcs_threshold\n",
    "    trauma_roc_auc_scores.append(roc_auc_score(y_true, y_score))\n",
    "    fpr_, tpr_, thresholds_ = roc_curve(y_true, y_score)\n",
    "    trauma_fpr.append(fpr_)\n",
    "    trauma_tpr.append(tpr_)\n",
    "    trauma_thresholds.append(thresholds_)\n",
    "    \n",
    "non_trauma_roc_auc_scores = []\n",
    "non_trauma_fpr = []\n",
    "non_trauma_tpr = []\n",
    "non_trauma_thresholds = []\n",
    "\n",
    "for gcs_threshold in np.arange(3, 16, 1):\n",
    "    y_true = non_trauma_joined_df.Intubated\n",
    "    y_score = non_trauma_joined_df.GCS <= gcs_threshold\n",
    "    non_trauma_roc_auc_scores.append(roc_auc_score(y_true, y_score))\n",
    "    fpr_, tpr_, thresholds_ = roc_curve(y_true, y_score)\n",
    "    non_trauma_fpr.append(fpr_)\n",
    "    non_trauma_tpr.append(tpr_)\n",
    "    non_trauma_thresholds.append(thresholds_)\n",
    "    \n",
    "    \n",
    "# plot ROC AUC scores\n",
    "plt.figure(figsize=(10, 5))\n",
    "\n",
    "ax = sns.lineplot(x=np.arange(3, 16, 1), y=trauma_roc_auc_scores, label='Trauma (excluding burn injuries)', color='red')\n",
    "ax = sns.lineplot(x=np.arange(3, 16, 1), y=non_trauma_roc_auc_scores, label='Non Trauma', color='blue', ax=ax)\n",
    "\n",
    "plt.xlabel('GCS threshold')\n",
    "plt.ylabel('ROC AUC score')\n",
    "plt.title('ROC AUC score for different GCS thresholds')\n",
    "\n",
    "plt.show()\n"
   ]
  },
  {
   "cell_type": "code",
   "execution_count": null,
   "id": "f91e4eb1c07c72f",
   "metadata": {
    "ExecuteTime": {
     "end_time": "2025-03-04T17:55:46.815283Z",
     "start_time": "2025-03-04T17:55:46.803915Z"
    }
   },
   "outputs": [],
   "source": [
    "# overall roc auc score of GCS as a predictor of intubation (excluding burn patients)\n",
    "trauma_no_burn_joined_df.dropna(inplace=True)\n",
    "non_trauma_joined_df.dropna(inplace=True)\n",
    "trauma_roc_auc = roc_auc_score(trauma_no_burn_joined_df.Intubated, trauma_no_burn_joined_df.GCS)\n",
    "non_trauma_roc_auc = roc_auc_score(non_trauma_joined_df.Intubated, non_trauma_joined_df.GCS)\n",
    "\n",
    "print(1 - trauma_roc_auc, 1 - non_trauma_roc_auc)"
   ]
  },
  {
   "cell_type": "markdown",
   "id": "51944ec1de1352e2",
   "metadata": {},
   "source": [
    "## Patients with GCS < 9"
   ]
  },
  {
   "cell_type": "code",
   "execution_count": null,
   "id": "7af194a415dc95b",
   "metadata": {
    "ExecuteTime": {
     "end_time": "2025-03-03T20:03:06.007815Z",
     "start_time": "2025-03-03T20:03:05.743671Z"
    }
   },
   "outputs": [],
   "source": [
    "# plot only patients with GCS < 9\n",
    "plt.figure(figsize=(10, 5))\n",
    "ax = sns.histplot(data=overall_joined_df[overall_joined_df.GCS < 9], x='GCS', hue='Intubated', bins=6, kde=True, discrete=True)\n",
    "\n",
    "# set y axis to log scale\n",
    "ax.set_yscale('log')\n",
    "\n",
    "# show all GCS values\n",
    "plt.xticks(np.arange(3, 9, 1))\n",
    "\n",
    "# center bins on integers\n",
    "plt.xlim(2.5, 8.5)\n",
    "\n",
    "plt.show()\n"
   ]
  },
  {
   "cell_type": "code",
   "execution_count": null,
   "id": "d2014c0e939e48c4",
   "metadata": {
    "ExecuteTime": {
     "end_time": "2025-03-06T12:24:03.971518Z",
     "start_time": "2025-03-06T12:24:02.932342Z"
    }
   },
   "outputs": [],
   "source": [
    "# separate trauma and non trauma patients\n",
    "fig, axs = plt.subplots(1, 2, figsize=(20, 5))\n",
    "\n",
    "# trauma patients\n",
    "ax = sns.histplot(data=trauma_joined_df[trauma_joined_df.GCS < 9], x='GCS', hue='Intubated', bins=6, kde=True, discrete=True, ax=axs[0])\n",
    "# ax.set_yscale('log')\n",
    "ax.set_title('Trauma')\n",
    "ax.set_xticks(np.arange(3, 9, 1))\n",
    "\n",
    "# non trauma patients\n",
    "ax = sns.histplot(data=non_trauma_joined_df[non_trauma_joined_df.GCS < 9], x='GCS', hue='Intubated', bins=6, kde=True, discrete=True, ax=axs[1])\n",
    "# ax.set_yscale('log')\n",
    "ax.set_title('Non Trauma')\n",
    "ax.set_xticks(np.arange(3, 9, 1))\n",
    "\n",
    "plt.show()\n"
   ]
  },
  {
   "cell_type": "code",
   "execution_count": null,
   "id": "465726c384d5237f",
   "metadata": {
    "ExecuteTime": {
     "end_time": "2025-03-03T20:32:59.796921Z",
     "start_time": "2025-03-03T20:32:59.787594Z"
    }
   },
   "outputs": [],
   "source": [
    "# test ordinal shift in GCS distribution in trauma patients with GCS < 9\n",
    "from statsmodels.stats.nonparametric import rank_compare_2indep\n",
    "\n",
    "intubated_trauma_gcs = trauma_joined_df[trauma_joined_df.Intubated == 1].GCS\n",
    "non_intubated_trauma_gcs = trauma_joined_df[trauma_joined_df.Intubated == 0].GCS\n",
    "\n",
    "# drop nans\n",
    "intubated_trauma_gcs = intubated_trauma_gcs.dropna()\n",
    "non_intubated_trauma_gcs = non_intubated_trauma_gcs.dropna()\n",
    "\n",
    "# only consider patients with GCS < 9\n",
    "intubated_trauma_gcs = intubated_trauma_gcs[intubated_trauma_gcs < 9]\n",
    "non_intubated_trauma_gcs = non_intubated_trauma_gcs[non_intubated_trauma_gcs < 9]\n",
    "\n",
    "# test ordinal shift\n",
    "rank_compare_2indep(intubated_trauma_gcs, non_intubated_trauma_gcs)"
   ]
  },
  {
   "cell_type": "code",
   "execution_count": null,
   "id": "b2d5ccee9fa97da0",
   "metadata": {
    "ExecuteTime": {
     "end_time": "2025-03-03T20:33:33.770831Z",
     "start_time": "2025-03-03T20:33:33.762085Z"
    }
   },
   "outputs": [],
   "source": [
    "# test ordinal shift in GCS distribution in non trauma patients with GCS < 9\n",
    "intubated_non_trauma_gcs = non_trauma_joined_df[non_trauma_joined_df.Intubated == 1].GCS\n",
    "non_intubated_non_trauma_gcs = non_trauma_joined_df[non_trauma_joined_df.Intubated == 0].GCS\n",
    "\n",
    "# drop nans\n",
    "intubated_non_trauma_gcs = intubated_non_trauma_gcs.dropna()\n",
    "non_intubated_non_trauma_gcs = non_intubated_non_trauma_gcs.dropna()\n",
    "\n",
    "# only consider patients with GCS < 9\n",
    "intubated_non_trauma_gcs = intubated_non_trauma_gcs[intubated_non_trauma_gcs < 9]\n",
    "non_intubated_non_trauma_gcs = non_intubated_non_trauma_gcs[non_intubated_non_trauma_gcs < 9]\n",
    "\n",
    "# test ordinal shift\n",
    "rank_compare_2indep(intubated_non_trauma_gcs, non_intubated_non_trauma_gcs)"
   ]
  },
  {
   "cell_type": "code",
   "execution_count": null,
   "id": "e79bfbebd23d4fe8",
   "metadata": {},
   "outputs": [],
   "source": []
  }
 ],
 "metadata": {
  "kernelspec": {
   "display_name": "Python 3",
   "language": "python",
   "name": "python3"
  },
  "language_info": {
   "codemirror_mode": {
    "name": "ipython",
    "version": 2
   },
   "file_extension": ".py",
   "mimetype": "text/x-python",
   "name": "python",
   "nbconvert_exporter": "python",
   "pygments_lexer": "ipython2",
   "version": "2.7.6"
  }
 },
 "nbformat": 4,
 "nbformat_minor": 5
}
