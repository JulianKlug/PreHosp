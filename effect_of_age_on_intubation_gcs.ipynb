{
 "cells": [
  {
   "cell_type": "code",
   "execution_count": null,
   "id": "initial_id",
   "metadata": {
    "ExecuteTime": {
     "end_time": "2025-03-06T12:57:11.453980Z",
     "start_time": "2025-03-06T12:57:11.450225Z"
    }
   },
   "outputs": [],
   "source": [
    "import pandas as pd\n",
    "import seaborn as sns\n",
    "import matplotlib.pyplot as plt\n",
    "from scipy.stats import wilcoxon\n",
    "import statsmodels"
   ]
  },
  {
   "cell_type": "code",
   "execution_count": null,
   "id": "2dd26ac986c0e919",
   "metadata": {
    "ExecuteTime": {
     "end_time": "2025-03-06T12:57:12.573822Z",
     "start_time": "2025-03-06T12:57:11.464244Z"
    }
   },
   "outputs": [],
   "source": [
    "data_path = '/Users/jk1/Library/CloudStorage/OneDrive-unige.ch/icu_research/prehospital/intubation_trigger/data/Mastertabelle_filtered.xlsx'\n",
    "df = pd.read_excel(data_path)"
   ]
  },
  {
   "cell_type": "code",
   "execution_count": null,
   "id": "9ee152427d00e9f",
   "metadata": {
    "ExecuteTime": {
     "end_time": "2025-03-06T12:57:12.695773Z",
     "start_time": "2025-03-06T12:57:12.691072Z"
    }
   },
   "outputs": [],
   "source": [
    "df = df[df.Comment != 'Reanimation']"
   ]
  },
  {
   "cell_type": "code",
   "execution_count": null,
   "id": "ad57bc68464df09f",
   "metadata": {
    "ExecuteTime": {
     "end_time": "2025-03-06T12:57:12.729018Z",
     "start_time": "2025-03-06T12:57:12.718163Z"
    }
   },
   "outputs": [],
   "source": [
    "# encode eineteilung\n",
    "df['Einteilung_encoded'] = df['Einteilung (Hauptdiagnose)'].map({'Krankheit': 0, 'Unfall': 1})\n",
    "df['Sverweis_Geschlecht_encoded'] = df['Sverweis_Geschlecht'].map({'männlich': 0, 'weiblich': 1})\n",
    "df.loc[(df['Einteilung (Hauptdiagnose)'] == 'Unfall') & (\n",
    "            df['Kategorie (Hauptdiagnose)'] == 'Respiratorisch'), 'Kategorie (Hauptdiagnose)'] = 'Trauma_Respiratorisch'\n",
    "# numerical encoding for Eineteilung and Kategorie\n",
    "df['Kategorie_encoded'] = df['Kategorie (Hauptdiagnose)'].map({'Zentralnervensystem': 0,\n",
    "                                                                         'Krampfanfall': 1,\n",
    "                                                                         'Herz-Kreislauf': 2,\n",
    "                                                                         'Intoxikation': 3,\n",
    "                                                                         'Respiratorisch': 4,\n",
    "                                                                         'SHT': 5,\n",
    "                                                                         'Polytrauma': 6,\n",
    "                                                                         'Verbrennung': 7,\n",
    "                                                                         'Trauma_Respiratorisch': 8})"
   ]
  },
  {
   "cell_type": "code",
   "execution_count": null,
   "id": "57718154385def27",
   "metadata": {
    "ExecuteTime": {
     "end_time": "2025-03-06T12:57:12.777839Z",
     "start_time": "2025-03-06T12:57:12.773086Z"
    }
   },
   "outputs": [],
   "source": [
    "# categorise age in >= 65 and < 65\n",
    "df['Age_categorised'] = df['Alter  (Patient)'].apply(lambda x: 1 if x >= 65 else 0)"
   ]
  },
  {
   "cell_type": "markdown",
   "id": "c5018698e1910a65",
   "metadata": {},
   "source": [
    "## Continuous\n",
    "\n",
    "Univariate analysis"
   ]
  },
  {
   "cell_type": "code",
   "execution_count": null,
   "id": "c3761a9645bca32b",
   "metadata": {
    "ExecuteTime": {
     "end_time": "2025-03-06T12:57:13.392052Z",
     "start_time": "2025-03-06T12:57:12.804239Z"
    }
   },
   "outputs": [],
   "source": [
    "from statsmodels.miscmodels.ordinal_model import OrderedModel\n",
    "\n",
    "temp_df = df[['GCS (Erstbefund)', 'Alter  (Patient)']]\n",
    "temp_df.dropna(inplace=True)\n",
    "\n",
    "mod_prob_med = OrderedModel(temp_df['GCS (Erstbefund)'], temp_df[['Alter  (Patient)']], distr='probit')\n",
    "res_prob_med = mod_prob_med.fit(maxiter=10000)\n",
    "res_prob_med.summary()"
   ]
  },
  {
   "cell_type": "markdown",
   "id": "e937ee3c0c7c4c53",
   "metadata": {},
   "source": [
    "adjusted"
   ]
  },
  {
   "cell_type": "code",
   "execution_count": null,
   "id": "44d4262f5cfa2df6",
   "metadata": {
    "ExecuteTime": {
     "end_time": "2025-03-06T12:57:16.436906Z",
     "start_time": "2025-03-06T12:57:13.437671Z"
    }
   },
   "outputs": [],
   "source": [
    "from statsmodels.miscmodels.ordinal_model import OrderedModel\n",
    "\n",
    "temp_df = df[['GCS (Erstbefund)', 'Einteilung_encoded', 'Alter  (Patient)', 'Sverweis_Geschlecht_encoded']]\n",
    "temp_df.dropna(inplace=True)\n",
    "\n",
    "mod_prob_med = OrderedModel(temp_df['GCS (Erstbefund)'], temp_df[['Einteilung_encoded', 'Sverweis_Geschlecht_encoded', 'Alter  (Patient)']], distr='probit')\n",
    "res_prob_med = mod_prob_med.fit(maxiter=10000)\n",
    "res_prob_med.summary()"
   ]
  },
  {
   "cell_type": "markdown",
   "id": "3a00eaabf53fc33e",
   "metadata": {},
   "source": [
    "## Categorical"
   ]
  },
  {
   "cell_type": "code",
   "execution_count": null,
   "id": "8668fe9e17bc6d38",
   "metadata": {
    "ExecuteTime": {
     "end_time": "2025-03-06T12:57:17.450450Z",
     "start_time": "2025-03-06T12:57:16.463671Z"
    }
   },
   "outputs": [],
   "source": [
    "# univariate analysis\n",
    "from statsmodels.miscmodels.ordinal_model import OrderedModel\n",
    "\n",
    "temp_df = df[['GCS (Erstbefund)', 'Age_categorised']]\n",
    "temp_df.dropna(inplace=True)\n",
    "\n",
    "mod_prob_med = OrderedModel(temp_df['GCS (Erstbefund)'], temp_df[['Age_categorised']], distr='probit')\n",
    "res_prob_med = mod_prob_med.fit(maxiter=10000)\n",
    "res_prob_med.summary()"
   ]
  },
  {
   "cell_type": "code",
   "execution_count": null,
   "id": "18b0b294f5e33a90",
   "metadata": {
    "ExecuteTime": {
     "end_time": "2025-03-06T12:57:19.346096Z",
     "start_time": "2025-03-06T12:57:17.574034Z"
    }
   },
   "outputs": [],
   "source": [
    "temp_df = df[['GCS (Erstbefund)', 'Einteilung_encoded', 'Age_categorised', 'Sverweis_Geschlecht_encoded']]\n",
    "temp_df.dropna(inplace=True)\n",
    "\n",
    "mod_prob_med = OrderedModel(temp_df['GCS (Erstbefund)'], temp_df[['Einteilung_encoded', 'Sverweis_Geschlecht_encoded', 'Age_categorised']], distr='probit')\n",
    "res_prob_med = mod_prob_med.fit(maxiter=10000)\n",
    "res_prob_med.summary()"
   ]
  },
  {
   "cell_type": "markdown",
   "id": "5dd55242e83d68ba",
   "metadata": {},
   "source": [
    "Plot    "
   ]
  },
  {
   "cell_type": "code",
   "execution_count": null,
   "id": "5c697ed15039cfad",
   "metadata": {
    "ExecuteTime": {
     "end_time": "2025-02-27T20:28:13.551526Z",
     "start_time": "2025-02-27T20:28:13.280054Z"
    }
   },
   "outputs": [],
   "source": [
    "# gcs vs age (continuous)\n",
    "sns.set_theme(style='whitegrid')\n",
    "sns.set_context('talk')\n",
    "sns.set_palette('Set2')\n",
    "sns.set_style('whitegrid')\n",
    "plt.figure(figsize=(10, 7))\n",
    "sns.scatterplot(data=df, x='Alter  (Patient)', y='GCS (Erstbefund)', hue='Einteilung (Hauptdiagnose)')\n",
    "plt.show()\n"
   ]
  },
  {
   "cell_type": "code",
   "execution_count": null,
   "id": "65e8b8bdaf30bc82",
   "metadata": {
    "ExecuteTime": {
     "end_time": "2025-03-06T12:58:04.961431Z",
     "start_time": "2025-03-06T12:58:04.628981Z"
    }
   },
   "outputs": [],
   "source": [
    "# gcs vs age (categorical)\n",
    "sns.set_theme(style='whitegrid')\n",
    "sns.set_context('talk')\n",
    "sns.set_palette('Set2')\n",
    "sns.set_style('whitegrid')\n",
    "plt.figure(figsize=(10, 7))\n",
    "sns.boxplot(data=df, x='Age_categorised', y='GCS (Erstbefund)', hue='Age_categorised')\n",
    "plt.show()"
   ]
  },
  {
   "cell_type": "code",
   "execution_count": null,
   "id": "3a621eee849e4b25",
   "metadata": {},
   "outputs": [],
   "source": []
  }
 ],
 "metadata": {
  "kernelspec": {
   "display_name": "Python 3",
   "language": "python",
   "name": "python3"
  },
  "language_info": {
   "codemirror_mode": {
    "name": "ipython",
    "version": 2
   },
   "file_extension": ".py",
   "mimetype": "text/x-python",
   "name": "python",
   "nbconvert_exporter": "python",
   "pygments_lexer": "ipython2",
   "version": "2.7.6"
  }
 },
 "nbformat": 4,
 "nbformat_minor": 5
}
