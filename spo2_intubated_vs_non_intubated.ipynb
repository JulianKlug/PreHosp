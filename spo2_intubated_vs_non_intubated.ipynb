{
 "cells": [
  {
   "cell_type": "code",
   "execution_count": null,
   "id": "initial_id",
   "metadata": {
    "ExecuteTime": {
     "end_time": "2025-03-04T17:25:22.555680Z",
     "start_time": "2025-03-04T17:25:22.552200Z"
    }
   },
   "outputs": [],
   "source": [
    "import pandas as pd\n",
    "import numpy as np\n",
    "import matplotlib.pyplot as plt\n",
    "import seaborn as sns"
   ]
  },
  {
   "cell_type": "code",
   "execution_count": null,
   "id": "50bdf28e42883fa3",
   "metadata": {
    "ExecuteTime": {
     "end_time": "2025-03-04T17:26:17.539224Z",
     "start_time": "2025-03-04T17:26:17.535518Z"
    }
   },
   "outputs": [],
   "source": [
    "intubated_data_path = '/Users/jk1/Library/CloudStorage/OneDrive-unige.ch/icu_research/prehospital/intubation_trigger/data/Mastertabelle_filtered.xlsx'\n",
    "non_intubated_path = '/Users/jk1/Library/CloudStorage/OneDrive-unige.ch/icu_research/prehospital/intubation_trigger/data/not_intubated/St_GallenBernZürichNicht-intubiert.xlsx'"
   ]
  },
  {
   "cell_type": "code",
   "execution_count": null,
   "id": "8cae7bf1aa7136a8",
   "metadata": {
    "ExecuteTime": {
     "end_time": "2025-03-04T17:26:18.409119Z",
     "start_time": "2025-03-04T17:26:17.884528Z"
    }
   },
   "outputs": [],
   "source": [
    "intubated_data = pd.read_excel(intubated_data_path)\n",
    "non_intubated_data = pd.read_excel(non_intubated_path)"
   ]
  },
  {
   "cell_type": "code",
   "execution_count": null,
   "id": "66e1d968a992622",
   "metadata": {
    "ExecuteTime": {
     "end_time": "2025-03-04T17:27:31.749151Z",
     "start_time": "2025-03-04T17:27:31.740187Z"
    }
   },
   "outputs": [],
   "source": [
    "intubated_data = intubated_data[intubated_data.Comment != 'Reanimation']"
   ]
  },
  {
   "cell_type": "code",
   "execution_count": null,
   "id": "29a37a14530f899f",
   "metadata": {
    "ExecuteTime": {
     "end_time": "2025-03-04T17:27:40.382882Z",
     "start_time": "2025-03-04T17:27:40.378417Z"
    }
   },
   "outputs": [],
   "source": [
    "intubated_data['Intubated'] = 1\n",
    "non_intubated_data['Intubated'] = 0"
   ]
  },
  {
   "cell_type": "code",
   "execution_count": null,
   "id": "5db57b1419e76f3c",
   "metadata": {
    "ExecuteTime": {
     "end_time": "2025-03-04T17:26:18.445775Z",
     "start_time": "2025-03-04T17:26:18.425054Z"
    }
   },
   "outputs": [],
   "source": [
    "intubated_data.head()"
   ]
  },
  {
   "cell_type": "code",
   "execution_count": null,
   "id": "454d3e889aafa692",
   "metadata": {
    "ExecuteTime": {
     "end_time": "2025-03-04T17:31:20.441990Z",
     "start_time": "2025-03-04T17:31:20.435728Z"
    }
   },
   "outputs": [],
   "source": [
    "intubated_data['Einteilung (Hauptdiagnose)'].value_counts()"
   ]
  },
  {
   "cell_type": "code",
   "execution_count": null,
   "id": "3fc5874e4c27841e",
   "metadata": {
    "ExecuteTime": {
     "end_time": "2025-03-04T17:30:34.456652Z",
     "start_time": "2025-03-04T17:30:34.451039Z"
    }
   },
   "outputs": [],
   "source": [
    "spo2_df = pd.concat([intubated_data[['SPO2 (Erstbefund)', 'Intubated', 'Einteilung (Hauptdiagnose)']], non_intubated_data[['SPO2 (Erstbefund)', 'Intubated', 'Einteilung (Hauptdiagnose)']]]).reset_index()"
   ]
  },
  {
   "cell_type": "code",
   "execution_count": null,
   "id": "11410268fdd5dbd9",
   "metadata": {
    "ExecuteTime": {
     "end_time": "2025-03-04T17:34:54.697286Z",
     "start_time": "2025-03-04T17:34:53.640279Z"
    }
   },
   "outputs": [],
   "source": [
    "# plot distribution of SPO2 intubated vs non-intubated (with two subplots for Trauma and Non-Trauma)\n",
    "fig, ax = plt.subplots(1, 2, figsize=(20, 10))\n",
    "sns.histplot(data=spo2_df[spo2_df['Einteilung (Hauptdiagnose)'] == 'Unfall'], x='SPO2 (Erstbefund)', hue='Intubated', kde=True, ax=ax[0], discrete=True)\n",
    "ax[0].set_title('Trauma')\n",
    "\n",
    "sns.histplot(data=spo2_df[spo2_df['Einteilung (Hauptdiagnose)'] == 'Krankheit'], x='SPO2 (Erstbefund)', hue='Intubated', kde=True, ax=ax[1], discrete=True)\n",
    "ax[1].set_title('Non-Trauma')\n",
    "\n",
    "plt.show()"
   ]
  },
  {
   "cell_type": "code",
   "execution_count": null,
   "id": "7f69e628d354af",
   "metadata": {
    "ExecuteTime": {
     "end_time": "2025-03-04T17:44:21.718276Z",
     "start_time": "2025-03-04T17:44:20.752074Z"
    }
   },
   "outputs": [],
   "source": [
    "# find a cutoff for spo2 to predict intubation in trauma and non trauma patients \n",
    "# compute c statistic for every cutoff\n",
    "\n",
    "from sklearn.metrics import roc_auc_score\n",
    "from sklearn.metrics import roc_curve\n",
    "\n",
    "trauma_roc_auc_scores = []\n",
    "trauma_fpr = []\n",
    "trauma_tpr = []\n",
    "trauma_thresholds = []\n",
    "\n",
    "non_trauma_roc_auc_scores = []\n",
    "non_trauma_fpr = []\n",
    "non_trauma_tpr = []\n",
    "non_trauma_thresholds = []\n",
    "\n",
    "for i in range(50, 100):\n",
    "    spo2_df['Intubated_pred'] = spo2_df['SPO2 (Erstbefund)'] < i\n",
    "    trauma_roc_auc_scores.append(roc_auc_score(spo2_df[spo2_df['Einteilung (Hauptdiagnose)'] == 'Unfall']['Intubated'], spo2_df[spo2_df['Einteilung (Hauptdiagnose)'] == 'Unfall']['Intubated_pred']))\n",
    "    fpr, tpr, thresholds = roc_curve(spo2_df[spo2_df['Einteilung (Hauptdiagnose)'] == 'Unfall']['Intubated'], spo2_df[spo2_df['Einteilung (Hauptdiagnose)'] == 'Unfall']['Intubated_pred'])\n",
    "    trauma_fpr.append(fpr)\n",
    "    trauma_tpr.append(tpr)\n",
    "    trauma_thresholds.append(thresholds)\n",
    "\n",
    "    non_trauma_roc_auc_scores.append(roc_auc_score(spo2_df[spo2_df['Einteilung (Hauptdiagnose)'] == 'Krankheit']['Intubated'], spo2_df[spo2_df['Einteilung (Hauptdiagnose)'] == 'Krankheit']['Intubated_pred']))\n",
    "    fpr, tpr, thresholds = roc_curve(spo2_df[spo2_df['Einteilung (Hauptdiagnose)'] == 'Krankheit']['Intubated'], spo2_df[spo2_df['Einteilung (Hauptdiagnose)'] == 'Krankheit']['Intubated_pred'])\n",
    "    non_trauma_fpr.append(fpr)\n",
    "    non_trauma_tpr.append(tpr)\n",
    "    non_trauma_thresholds.append(thresholds)\n",
    "    \n",
    "\n"
   ]
  },
  {
   "cell_type": "code",
   "execution_count": null,
   "id": "84dfef2b3b19d09c",
   "metadata": {
    "ExecuteTime": {
     "end_time": "2025-03-04T17:46:21.306969Z",
     "start_time": "2025-03-04T17:46:20.942680Z"
    }
   },
   "outputs": [],
   "source": [
    "# plot ROC AUC scores\n",
    "plt.figure(figsize=(10, 5))\n",
    "\n",
    "ax = sns.lineplot(x=np.arange(50, 100, 1), y=trauma_roc_auc_scores, label='Trauma', color='red')\n",
    "ax = sns.lineplot(x=np.arange(50, 100, 1), y=non_trauma_roc_auc_scores, label='Non Trauma', color='blue', ax=ax)\n",
    "\n",
    "plt.xlabel('SpO2 threshold')\n",
    "plt.ylabel('ROC AUC score')\n",
    "plt.title('ROC AUC score for different SpO2 thresholds')\n",
    "\n",
    "plt.show()"
   ]
  },
  {
   "cell_type": "code",
   "execution_count": null,
   "id": "83e56dcd93a58368",
   "metadata": {
    "ExecuteTime": {
     "end_time": "2025-03-04T17:48:46.819339Z",
     "start_time": "2025-03-04T17:48:46.800560Z"
    }
   },
   "outputs": [],
   "source": [
    "# overall roc auc score for spo2 as a predictor of intubation in trauma and non trauma patients\n",
    "spo2_df.dropna(inplace=True)\n",
    "overall_rocauc = roc_auc_score(spo2_df['Intubated'], spo2_df['SPO2 (Erstbefund)'])\n",
    "trauma_rocauc = roc_auc_score(spo2_df[spo2_df['Einteilung (Hauptdiagnose)'] == 'Unfall']['Intubated'], spo2_df[spo2_df['Einteilung (Hauptdiagnose)'] == 'Unfall']['SPO2 (Erstbefund)'])\n",
    "non_trauma_rocauc = roc_auc_score(spo2_df[spo2_df['Einteilung (Hauptdiagnose)'] == 'Krankheit']['Intubated'], spo2_df[spo2_df['Einteilung (Hauptdiagnose)'] == 'Krankheit']['SPO2 (Erstbefund)'])\n",
    "\n",
    "print(f'Overall ROC AUC score: {overall_rocauc}')\n",
    "print(f'Trauma ROC AUC score: {trauma_rocauc}')\n",
    "print(f'Non Trauma ROC AUC score: {non_trauma_rocauc}')\n"
   ]
  },
  {
   "cell_type": "code",
   "execution_count": null,
   "id": "70a42d33c9475af",
   "metadata": {},
   "outputs": [],
   "source": []
  }
 ],
 "metadata": {
  "kernelspec": {
   "display_name": "Python 3",
   "language": "python",
   "name": "python3"
  },
  "language_info": {
   "codemirror_mode": {
    "name": "ipython",
    "version": 2
   },
   "file_extension": ".py",
   "mimetype": "text/x-python",
   "name": "python",
   "nbconvert_exporter": "python",
   "pygments_lexer": "ipython2",
   "version": "2.7.6"
  }
 },
 "nbformat": 4,
 "nbformat_minor": 5
}
