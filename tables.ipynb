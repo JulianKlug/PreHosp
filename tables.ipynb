{
 "cells": [
  {
   "cell_type": "markdown",
   "id": "cbaf9c6ce7b9bdc5",
   "metadata": {
    "collapsed": false
   },
   "source": [
    "# Table 1\n",
    "\n",
    "age, sex, day-time, HHO, medical category, detailed medical category, mission time, on-scene time"
   ]
  },
  {
   "cell_type": "code",
   "execution_count": null,
   "id": "initial_id",
   "metadata": {
    "ExecuteTime": {
     "end_time": "2024-07-13T21:10:05.694843Z",
     "start_time": "2024-07-13T21:10:05.691430Z"
    }
   },
   "outputs": [],
   "source": [
    "import pandas as pd"
   ]
  },
  {
   "cell_type": "code",
   "execution_count": null,
   "id": "28d7bdd94420c991",
   "metadata": {
    "ExecuteTime": {
     "end_time": "2024-07-13T21:10:05.700334Z",
     "start_time": "2024-07-13T21:10:05.697511Z"
    }
   },
   "outputs": [],
   "source": [
    "data_path = '/Users/jk1/Library/CloudStorage/OneDrive-unige.ch/icu_research/prehospital/intubation_trigger/data/Mastertabelle_filtered.xlsx'"
   ]
  },
  {
   "cell_type": "code",
   "execution_count": null,
   "id": "e47b83f65886dd2d",
   "metadata": {
    "ExecuteTime": {
     "end_time": "2024-07-13T21:10:06.386758Z",
     "start_time": "2024-07-13T21:10:05.702027Z"
    }
   },
   "outputs": [],
   "source": [
    "df = pd.read_excel(data_path)"
   ]
  },
  {
   "cell_type": "code",
   "execution_count": null,
   "id": "2a685302abea4b41",
   "metadata": {
    "ExecuteTime": {
     "end_time": "2024-07-13T21:10:06.414873Z",
     "start_time": "2024-07-13T21:10:06.389164Z"
    }
   },
   "outputs": [],
   "source": [
    "df.head()"
   ]
  },
  {
   "cell_type": "code",
   "execution_count": null,
   "id": "d33e5fa56f972cbb",
   "metadata": {
    "ExecuteTime": {
     "end_time": "2024-07-13T21:10:06.420688Z",
     "start_time": "2024-07-13T21:10:06.416410Z"
    }
   },
   "outputs": [],
   "source": [
    "df = df[df.Comment != 'Reanimation']"
   ]
  },
  {
   "cell_type": "code",
   "execution_count": null,
   "id": "3e7e8f6cfc164461",
   "metadata": {
    "ExecuteTime": {
     "end_time": "2024-07-13T21:15:28.086468Z",
     "start_time": "2024-07-13T21:15:28.080399Z"
    }
   },
   "outputs": [],
   "source": [
    "df['Sex'] = df['Sverweis_Geschlecht'].map({'männlich': 0, 'weiblich': 1})\n",
    "df['28 d Survival [y/n]_encoded'] = df['28 d Survival [y/n]'].map({'n': 0, 'y': 1})\n",
    "df['ITN ass. Pneumonia [y/n]_encoded'] = df['ITN ass. Pneumonia [y/n]'].map({'n': 0, 'y': 1})"
   ]
  },
  {
   "cell_type": "code",
   "execution_count": null,
   "id": "a3c8ccf3796dd3a6",
   "metadata": {
    "ExecuteTime": {
     "end_time": "2024-07-13T21:10:06.433019Z",
     "start_time": "2024-07-13T21:10:06.428908Z"
    }
   },
   "outputs": [],
   "source": [
    "# encode nighttime as 1 (18-6)\n",
    "df['daytime'] = ((df['Zeit (Erstbefund)'].dt.hour >= 18) | (df['Zeit (Erstbefund)'].dt.hour < 6)).astype(int)"
   ]
  },
  {
   "cell_type": "code",
   "execution_count": null,
   "id": "f1ee489d9d6a89d7",
   "metadata": {
    "ExecuteTime": {
     "end_time": "2024-07-13T21:10:06.438904Z",
     "start_time": "2024-07-13T21:10:06.434228Z"
    }
   },
   "outputs": [],
   "source": [
    "def get_population_stats(input_df):\n",
    "    population_df = pd.DataFrame()\n",
    "    population_df['n_patients'] = [input_df.shape[0]]\n",
    "    \n",
    "    population_df['age_median'] = input_df['Alter  (Patient)'].median()\n",
    "    population_df['age_q1'] = input_df['Alter  (Patient)'].quantile(0.25)\n",
    "    population_df['age_q3'] = input_df['Alter  (Patient)'].quantile(0.75)\n",
    "    population_df['age_str'] = f'{population_df.age_median.iloc[0]:.0f} ({population_df.age_q1.iloc[0]:.0f}-{population_df.age_q3.iloc[0]:.0f})'\n",
    "    \n",
    "    population_df['n_female'] = input_df.Sex.sum()\n",
    "    population_df['p_female'] = input_df.Sex.sum() / input_df.shape[0]\n",
    "    population_df['female_str'] = f'{int(population_df.n_female.iloc[0])} ({population_df.p_female.iloc[0]*100:.1f}%)'\n",
    "    \n",
    "    population_df['n_nighttime'] = input_df.daytime.sum()\n",
    "    population_df['p_nighttime'] = input_df.daytime.sum() / input_df.shape[0]\n",
    "    population_df['nighttime_str'] = f'{population_df.n_nighttime.iloc[0]} ({population_df.p_nighttime.iloc[0]*100:.1f}%)'\n",
    "    \n",
    "    return population_df"
   ]
  },
  {
   "cell_type": "code",
   "execution_count": null,
   "id": "3ace8d94c0fa7a5f",
   "metadata": {
    "ExecuteTime": {
     "end_time": "2024-07-13T21:10:06.458639Z",
     "start_time": "2024-07-13T21:10:06.440644Z"
    }
   },
   "outputs": [],
   "source": [
    "medical_pop_df = get_population_stats(df[df['Einteilung (Hauptdiagnose)'] == 'Krankheit'])\n",
    "trauma_pop_df = get_population_stats(df[df['Einteilung (Hauptdiagnose)'] == 'Unfall'])\n",
    "overall_pop_df = get_population_stats(df)"
   ]
  },
  {
   "cell_type": "code",
   "execution_count": null,
   "id": "770d0980cf8f6771",
   "metadata": {
    "ExecuteTime": {
     "end_time": "2024-07-13T21:10:06.463514Z",
     "start_time": "2024-07-13T21:10:06.460049Z"
    }
   },
   "outputs": [],
   "source": [
    "full_pop_df = pd.concat([overall_pop_df, medical_pop_df, trauma_pop_df], keys=['overall', 'medical', 'trauma'])"
   ]
  },
  {
   "cell_type": "code",
   "execution_count": null,
   "id": "b4552415196f9b35",
   "metadata": {
    "ExecuteTime": {
     "end_time": "2024-07-13T21:10:06.468608Z",
     "start_time": "2024-07-13T21:10:06.465017Z"
    }
   },
   "outputs": [],
   "source": [
    "full_pop_df = full_pop_df.droplevel(1).T"
   ]
  },
  {
   "cell_type": "code",
   "execution_count": null,
   "id": "8013550a185eb15c",
   "metadata": {
    "ExecuteTime": {
     "end_time": "2024-07-13T21:10:06.472762Z",
     "start_time": "2024-07-13T21:10:06.469807Z"
    }
   },
   "outputs": [],
   "source": [
    "str_pop_df = full_pop_df.loc[['n_patients', 'age_str', 'female_str', 'nighttime_str']]"
   ]
  },
  {
   "cell_type": "code",
   "execution_count": null,
   "id": "6faa3f0cbfe53e82",
   "metadata": {
    "ExecuteTime": {
     "end_time": "2024-07-13T21:10:06.477252Z",
     "start_time": "2024-07-13T21:10:06.474068Z"
    }
   },
   "outputs": [],
   "source": [
    "str_pop_df.index = ['Number of patients', 'Age', 'Sex (Female)', 'Nighttime Operation']\n",
    "str_pop_df.rename(columns={'medical': 'Medical', 'trauma': 'Trauma', 'overall': 'Overall population'}, inplace=True)"
   ]
  },
  {
   "cell_type": "code",
   "execution_count": null,
   "id": "925de95c7d743939",
   "metadata": {
    "ExecuteTime": {
     "end_time": "2024-07-13T21:10:06.484792Z",
     "start_time": "2024-07-13T21:10:06.478398Z"
    }
   },
   "outputs": [],
   "source": [
    "str_pop_df"
   ]
  },
  {
   "cell_type": "code",
   "execution_count": null,
   "id": "dcde5c6103f4179",
   "metadata": {
    "ExecuteTime": {
     "end_time": "2024-07-13T21:10:06.488556Z",
     "start_time": "2024-07-13T21:10:06.486257Z"
    }
   },
   "outputs": [],
   "source": [
    "# str_pop_df.to_csv('/Users/jk1/Downloads/table_1.csv')"
   ]
  },
  {
   "cell_type": "markdown",
   "id": "32e202c079437891",
   "metadata": {},
   "source": [
    "## Outcome table"
   ]
  },
  {
   "cell_type": "code",
   "execution_count": null,
   "id": "4eb86ba31da470ef",
   "metadata": {
    "ExecuteTime": {
     "end_time": "2024-07-13T21:10:06.492978Z",
     "start_time": "2024-07-13T21:10:06.490037Z"
    }
   },
   "outputs": [],
   "source": [
    "outcomes_of_interest = [\n",
    "    \"ICU [d]\",\n",
    "    \"Ventilator [d]\",\n",
    "    \"Hospital stay [d]\",\n",
    "    \"28 d Survival [y/n]\",\n",
    "    \"ITN ass. Pneumonia [y/n]\"\n",
    "    ]"
   ]
  },
  {
   "cell_type": "code",
   "execution_count": null,
   "id": "e4643b89a29f9161",
   "metadata": {
    "ExecuteTime": {
     "end_time": "2024-07-13T21:21:55.853460Z",
     "start_time": "2024-07-13T21:21:55.847508Z"
    }
   },
   "outputs": [],
   "source": [
    "time_columns =[\"ICU [d]\",\n",
    "    \"Ventilator [d]\",\n",
    "    \"Hospital stay [d]\"]\n",
    "# in every column, if value ends with +, remove it\n",
    "for col in time_columns:\n",
    "    df[col] = pd.to_numeric(df[col].apply(lambda x: str(x).replace(\"+\", '')), errors='coerce')"
   ]
  },
  {
   "cell_type": "code",
   "execution_count": null,
   "id": "a11729e83d0c20cb",
   "metadata": {
    "ExecuteTime": {
     "end_time": "2024-07-13T21:27:24.739827Z",
     "start_time": "2024-07-13T21:27:24.733034Z"
    }
   },
   "outputs": [],
   "source": [
    "def get_population_outcomes(input_df):\n",
    "    outcomes_df = pd.DataFrame()\n",
    "    \n",
    "    outcomes_df['icu_los_median'] = [input_df[\"ICU [d]\"].median()]\n",
    "    outcomes_df['icu_los_q1'] = input_df[\"ICU [d]\"].quantile(0.25)\n",
    "    outcomes_df['icu_los_q3'] = input_df[\"ICU [d]\"].quantile(0.75)\n",
    "    outcomes_df['icu_los_str'] = f'{outcomes_df.icu_los_median.iloc[0]:.0f} ({outcomes_df.icu_los_q1.iloc[0]:.0f}-{outcomes_df.icu_los_q3.iloc[0]:.0f})'\n",
    "    \n",
    "       # Ventilator Days\n",
    "    outcomes_df['vent_days_median'] = input_df[\"Ventilator [d]\"].median()\n",
    "    outcomes_df['vent_days_q1'] = input_df[\"Ventilator [d]\"].quantile(0.25)\n",
    "    outcomes_df['vent_days_q3'] = input_df[\"Ventilator [d]\"].quantile(0.75)\n",
    "    outcomes_df['vent_days_str'] = f'{outcomes_df.vent_days_median.iloc[0]:.0f} ({outcomes_df.vent_days_q1.iloc[0]:.0f}-{outcomes_df.vent_days_q3.iloc[0]:.0f})'\n",
    "\n",
    "    # Hospital Stay\n",
    "    outcomes_df['hospital_stay_median'] = input_df[\"Hospital stay [d]\"].median()\n",
    "    outcomes_df['hospital_stay_q1'] = input_df[\"Hospital stay [d]\"].quantile(0.25)\n",
    "    outcomes_df['hospital_stay_q3'] = input_df[\"Hospital stay [d]\"].quantile(0.75)\n",
    "    outcomes_df['hospital_stay_str'] = f'{outcomes_df.hospital_stay_median.iloc[0]:.0f} ({outcomes_df.hospital_stay_q1.iloc[0]:.0f}-{outcomes_df.hospital_stay_q3.iloc[0]:.0f})'\n",
    "    \n",
    "    # 28 d Survival\n",
    "    outcomes_df['n_survivors'] = input_df['28 d Survival [y/n]'].map({'n': 0, 'y': 1}).sum()\n",
    "    outcomes_df['p_survivors'] = input_df['28 d Survival [y/n]'].map({'n': 0, 'y': 1}).sum() / input_df.shape[0]\n",
    "    outcomes_df['survivors_str'] = f'{outcomes_df.n_survivors.iloc[0]} ({outcomes_df.p_survivors.iloc[0]*100:.1f}%)'\n",
    "    \n",
    "    # pneumonia\n",
    "    outcomes_df['n_pneumonia_yes'] = input_df[\"ITN ass. Pneumonia [y/n]\"].map({'n': 0, 'y': 1}).sum()\n",
    "    outcomes_df['p_pneumonia_yes'] = outcomes_df['n_pneumonia_yes'] / input_df.shape[0]\n",
    "    outcomes_df['pneumonia_str'] = f'{outcomes_df.n_pneumonia_yes.iloc[0]} ({outcomes_df.p_pneumonia_yes.iloc[0]*100:.1f}%)'\n",
    "    \n",
    "    return outcomes_df\n",
    "\n"
   ]
  },
  {
   "cell_type": "code",
   "execution_count": null,
   "id": "e6498fb76acaf475",
   "metadata": {
    "ExecuteTime": {
     "end_time": "2024-07-13T21:27:25.955692Z",
     "start_time": "2024-07-13T21:27:25.920332Z"
    }
   },
   "outputs": [],
   "source": [
    "medical_pop_outcomes_df = get_population_outcomes(df[df['Einteilung (Hauptdiagnose)'] == 'Krankheit'])\n",
    "trauma_pop_outcomes_df = get_population_outcomes(df[df['Einteilung (Hauptdiagnose)'] == 'Unfall'])\n",
    "overall_outcomes_df = get_population_outcomes(df)"
   ]
  },
  {
   "cell_type": "code",
   "execution_count": null,
   "id": "45c48981702d18dc",
   "metadata": {
    "ExecuteTime": {
     "end_time": "2024-07-13T21:29:10.827969Z",
     "start_time": "2024-07-13T21:29:10.823352Z"
    }
   },
   "outputs": [],
   "source": [
    "full_outcomes_df = pd.concat([overall_outcomes_df, medical_pop_outcomes_df, trauma_pop_outcomes_df], keys=['overall', 'medical', 'trauma'])"
   ]
  },
  {
   "cell_type": "code",
   "execution_count": null,
   "id": "3278648490f17f28",
   "metadata": {
    "ExecuteTime": {
     "end_time": "2024-07-13T21:29:11.213768Z",
     "start_time": "2024-07-13T21:29:11.197045Z"
    }
   },
   "outputs": [],
   "source": [
    "full_outcomes_df"
   ]
  },
  {
   "cell_type": "code",
   "execution_count": null,
   "id": "6985d6f9f63016b2",
   "metadata": {
    "ExecuteTime": {
     "end_time": "2024-07-13T21:30:01.054764Z",
     "start_time": "2024-07-13T21:30:01.051211Z"
    }
   },
   "outputs": [],
   "source": [
    "full_outcomes_df = full_outcomes_df.droplevel(1).T"
   ]
  },
  {
   "cell_type": "code",
   "execution_count": null,
   "id": "e072febc0c6919bd",
   "metadata": {
    "ExecuteTime": {
     "end_time": "2024-07-13T21:31:58.051733Z",
     "start_time": "2024-07-13T21:31:58.047399Z"
    }
   },
   "outputs": [],
   "source": [
    "# str_pop_df = full_pop_df.loc[['n_patients', 'age_str', 'female_str', 'nighttime_str']]\n",
    "# str_pop_df.index = ['Number of patients', 'Age', 'Sex (Female)', 'Nighttime Operation']\n",
    "# str_pop_df.rename(columns={'medical': 'Medical', 'trauma': 'Trauma', 'overall': 'Overall population'}, inplace=True)\n",
    "\n",
    "str_outcomes_df = full_outcomes_df.loc[['icu_los_str', 'vent_days_str', 'hospital_stay_str', 'survivors_str', 'pneumonia_str']]\n",
    "str_outcomes_df.index = ['ICU stay (d)', 'Ventilator Days (d)', 'Hospital stay (d)', 'Survival (28d)', 'Ventilator-associated pneumonia']\n",
    "str_outcomes_df.rename(columns={'medical': 'Medical', 'trauma': 'Trauma', 'overall': 'Overall population'}, inplace=True)"
   ]
  },
  {
   "cell_type": "code",
   "execution_count": null,
   "id": "be72c0fafad0bb39",
   "metadata": {
    "ExecuteTime": {
     "end_time": "2024-07-13T21:31:59.330536Z",
     "start_time": "2024-07-13T21:31:59.324712Z"
    }
   },
   "outputs": [],
   "source": [
    "str_outcomes_df"
   ]
  },
  {
   "cell_type": "code",
   "execution_count": null,
   "id": "e4f29d2bd9a9785b",
   "metadata": {
    "ExecuteTime": {
     "end_time": "2024-07-13T21:32:10.180722Z",
     "start_time": "2024-07-13T21:32:10.173325Z"
    }
   },
   "outputs": [],
   "source": [
    "# str_outcomes_df.to_csv('/Users/jk1/Downloads/table_2.csv')"
   ]
  },
  {
   "cell_type": "code",
   "execution_count": null,
   "id": "e16989b1c920096b",
   "metadata": {},
   "outputs": [],
   "source": []
  }
 ],
 "metadata": {
  "kernelspec": {
   "display_name": "Python 3",
   "language": "python",
   "name": "python3"
  },
  "language_info": {
   "codemirror_mode": {
    "name": "ipython",
    "version": 2
   },
   "file_extension": ".py",
   "mimetype": "text/x-python",
   "name": "python",
   "nbconvert_exporter": "python",
   "pygments_lexer": "ipython2",
   "version": "2.7.6"
  }
 },
 "nbformat": 4,
 "nbformat_minor": 5
}
