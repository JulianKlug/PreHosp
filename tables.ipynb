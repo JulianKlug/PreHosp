{
 "cells": [
  {
   "cell_type": "markdown",
   "id": "cbaf9c6ce7b9bdc5",
   "metadata": {
    "collapsed": false
   },
   "source": [
    "# Descriptive tables"
   ]
  },
  {
   "cell_type": "code",
   "execution_count": null,
   "id": "initial_id",
   "metadata": {
    "ExecuteTime": {
     "end_time": "2025-03-06T12:39:07.983225Z",
     "start_time": "2025-03-06T12:39:07.978179Z"
    }
   },
   "outputs": [],
   "source": [
    "import pandas as pd\n",
    "import numpy as np\n",
    "import matplotlib.pyplot as plt"
   ]
  },
  {
   "cell_type": "code",
   "execution_count": null,
   "id": "28d7bdd94420c991",
   "metadata": {
    "ExecuteTime": {
     "end_time": "2025-03-06T12:35:17.345863Z",
     "start_time": "2025-03-06T12:35:17.340865Z"
    }
   },
   "outputs": [],
   "source": [
    "data_path = '/Users/jk1/Library/CloudStorage/OneDrive-unige.ch/icu_research/prehospital/intubation_trigger/data/Mastertabelle_filtered.xlsx'\n",
    "ISS_data_path = '/Users/jk1/Library/CloudStorage/OneDrive-unige.ch/icu_research/prehospital/intubation_trigger/data/MastertabelleSt.GallenBernZürich_with_ISS.xlsx'"
   ]
  },
  {
   "cell_type": "code",
   "execution_count": null,
   "id": "e47b83f65886dd2d",
   "metadata": {
    "ExecuteTime": {
     "end_time": "2025-03-06T12:35:28.169578Z",
     "start_time": "2025-03-06T12:35:17.472295Z"
    }
   },
   "outputs": [],
   "source": [
    "df = pd.read_excel(data_path)\n",
    "iss_df = pd.read_excel(ISS_data_path, header=1)"
   ]
  },
  {
   "cell_type": "code",
   "execution_count": null,
   "id": "2a685302abea4b41",
   "metadata": {
    "ExecuteTime": {
     "end_time": "2025-03-06T12:35:28.336115Z",
     "start_time": "2025-03-06T12:35:28.221169Z"
    }
   },
   "outputs": [],
   "source": [
    "df.head()"
   ]
  },
  {
   "cell_type": "code",
   "execution_count": null,
   "id": "ed8c29f4a7fedb8d",
   "metadata": {
    "ExecuteTime": {
     "end_time": "2025-03-06T12:35:28.643771Z",
     "start_time": "2025-03-06T12:35:28.621455Z"
    }
   },
   "outputs": [],
   "source": [
    "iss_df = iss_df[['SNZ Einsatz Nr.  (Einsatz)', 'ISS']]\n",
    "iss_df = iss_df.dropna()\n",
    "iss_df = iss_df.drop_duplicates()"
   ]
  },
  {
   "cell_type": "code",
   "execution_count": null,
   "id": "d33e5fa56f972cbb",
   "metadata": {
    "ExecuteTime": {
     "end_time": "2025-03-06T12:36:21.035187Z",
     "start_time": "2025-03-06T12:36:21.027936Z"
    }
   },
   "outputs": [],
   "source": [
    "df = df[df.Comment != 'Reanimation']"
   ]
  },
  {
   "cell_type": "markdown",
   "id": "d5b3ca838df969a3",
   "metadata": {},
   "source": [
    "# Table 1\n",
    "age, sex, day-time, HHO, medical category, detailed medical category, mission time, on-scene time"
   ]
  },
  {
   "cell_type": "code",
   "execution_count": null,
   "id": "3e7e8f6cfc164461",
   "metadata": {
    "ExecuteTime": {
     "end_time": "2025-03-06T12:36:24.834954Z",
     "start_time": "2025-03-06T12:36:24.823364Z"
    }
   },
   "outputs": [],
   "source": [
    "df['Sex'] = df['Sverweis_Geschlecht'].map({'männlich': 0, 'weiblich': 1})\n",
    "df['28 d Survival [y/n]_encoded'] = df['28 d Survival [y/n]'].map({'n': 0, 'y': 1})\n",
    "df['ITN ass. Pneumonia [y/n]_encoded'] = df['ITN ass. Pneumonia [y/n]'].map({'n': 0, 'y': 1})"
   ]
  },
  {
   "cell_type": "code",
   "execution_count": null,
   "id": "a3c8ccf3796dd3a6",
   "metadata": {
    "ExecuteTime": {
     "end_time": "2025-03-06T12:36:26.316625Z",
     "start_time": "2025-03-06T12:36:26.306516Z"
    }
   },
   "outputs": [],
   "source": [
    "# encode nighttime as 1 (18-6)\n",
    "df['daytime'] = ((df['Zeit (Erstbefund)'].dt.hour >= 18) | (df['Zeit (Erstbefund)'].dt.hour < 6)).astype(int)"
   ]
  },
  {
   "cell_type": "code",
   "execution_count": null,
   "id": "3177f9a3481eab38",
   "metadata": {
    "ExecuteTime": {
     "end_time": "2025-03-06T12:36:26.868503Z",
     "start_time": "2025-03-06T12:36:26.855872Z"
    }
   },
   "outputs": [],
   "source": [
    "df['mission_duration'] = (pd.to_datetime(df['Zeit (Übergabe)']) - pd.to_datetime(df['Zeit (Erstbefund)'])).dt.total_seconds() / 60"
   ]
  },
  {
   "cell_type": "code",
   "execution_count": null,
   "id": "65220a52c9ecc056",
   "metadata": {
    "ExecuteTime": {
     "end_time": "2025-03-06T12:36:28.228390Z",
     "start_time": "2025-03-06T12:36:28.211202Z"
    }
   },
   "outputs": [],
   "source": [
    "df = pd.merge(left=df, right=iss_df, how='left', on='SNZ Einsatz Nr.  (Einsatz)', suffixes=('', '_completed')) "
   ]
  },
  {
   "cell_type": "code",
   "execution_count": null,
   "id": "305525cf3514b3b5",
   "metadata": {
    "ExecuteTime": {
     "end_time": "2025-03-06T12:36:34.737267Z",
     "start_time": "2025-03-06T12:36:34.722930Z"
    }
   },
   "outputs": [],
   "source": [
    "df['ISS_completed'] = df['ISS_completed'].replace('25 (75)', 25)\n",
    "df['ISS'] = df['ISS'].replace('-', np.nan).replace('?', np.nan).replace('x', np.nan).astype(float)\n",
    "df['ISS'] = df['ISS'].fillna(df['ISS_completed'])\n",
    "df['ISS'] = df['ISS'].replace('-', np.nan).replace('?', np.nan).replace('x', np.nan).astype(float)\n",
    "# if df['Einteilung (Hauptdiagnose)'] == 'Krankheit' ISS should be nan\n",
    "df.loc[df['Einteilung (Hauptdiagnose)'] == 'Krankheit', 'ISS'] = np.nan"
   ]
  },
  {
   "cell_type": "code",
   "execution_count": null,
   "id": "494113cb53c3c720",
   "metadata": {
    "ExecuteTime": {
     "end_time": "2025-03-06T12:36:38.303090Z",
     "start_time": "2025-03-06T12:36:38.290556Z"
    }
   },
   "outputs": [],
   "source": [
    "df['ISS'].isna().sum(), df['ISS'].isna().sum() - df[df['Einteilung (Hauptdiagnose)'] == 'Krankheit'].shape[0]"
   ]
  },
  {
   "cell_type": "code",
   "execution_count": null,
   "id": "55b50810480e9418",
   "metadata": {
    "ExecuteTime": {
     "end_time": "2025-03-06T12:40:14.675187Z",
     "start_time": "2025-03-06T12:40:14.667649Z"
    }
   },
   "outputs": [],
   "source": [
    "df['Kategorie (Hauptdiagnose)'].unique()"
   ]
  },
  {
   "cell_type": "code",
   "execution_count": null,
   "id": "5d2ac3ab1e780a14",
   "metadata": {
    "ExecuteTime": {
     "end_time": "2025-03-06T12:41:48.494756Z",
     "start_time": "2025-03-06T12:41:47.712922Z"
    }
   },
   "outputs": [],
   "source": [
    "import seaborn as sns\n",
    "\n",
    "# plot distribution of ISS in SHT and Polytrauma patients\n",
    "ax = sns.histplot(data=df[df['Kategorie (Hauptdiagnose)'].isin(['Polytrauma', 'SHT'])], x='ISS', hue='Kategorie (Hauptdiagnose)', bins=15, kde=True,\n",
    "                  palette='Set1')\n",
    "\n",
    "plt.show()"
   ]
  },
  {
   "cell_type": "code",
   "execution_count": null,
   "id": "890b2a7289fef32e",
   "metadata": {
    "ExecuteTime": {
     "end_time": "2024-09-15T20:05:12.465744Z",
     "start_time": "2024-09-15T20:05:12.460311Z"
    }
   },
   "outputs": [],
   "source": [
    "df[df['SPO2 (Erstbefund)'] < 86].shape"
   ]
  },
  {
   "cell_type": "code",
   "execution_count": null,
   "id": "f1ee489d9d6a89d7",
   "metadata": {
    "ExecuteTime": {
     "end_time": "2024-09-15T20:05:12.861598Z",
     "start_time": "2024-09-15T20:05:12.851698Z"
    }
   },
   "outputs": [],
   "source": [
    "def get_population_stats(input_df):\n",
    "    population_df = pd.DataFrame()\n",
    "    population_df['n_patients'] = [input_df.shape[0]]\n",
    "    \n",
    "    population_df['age_median'] = input_df['Alter  (Patient)'].median()\n",
    "    population_df['age_q1'] = input_df['Alter  (Patient)'].quantile(0.25)\n",
    "    population_df['age_q3'] = input_df['Alter  (Patient)'].quantile(0.75)\n",
    "    population_df['age_str'] = f'{population_df.age_median.iloc[0]:.0f} ({population_df.age_q1.iloc[0]:.0f}-{population_df.age_q3.iloc[0]:.0f})'\n",
    "    \n",
    "    population_df['n_female'] = input_df.Sex.sum()\n",
    "    population_df['p_female'] = input_df.Sex.sum() / input_df.shape[0]\n",
    "    population_df['female_str'] = f'{int(population_df.n_female.iloc[0])} ({population_df.p_female.iloc[0]*100:.1f}%)'\n",
    "    \n",
    "    population_df['n_nighttime'] = input_df.daytime.sum()\n",
    "    population_df['p_nighttime'] = input_df.daytime.sum() / input_df.shape[0]\n",
    "    population_df['nighttime_str'] = f'{population_df.n_nighttime.iloc[0]} ({population_df.p_nighttime.iloc[0]*100:.1f}%)'\n",
    "    \n",
    "    population_df['naca_median'] = input_df['NACA (Medizinische Daten)'].median()\n",
    "    population_df['naca_q1'] = input_df['NACA (Medizinische Daten)'].quantile(0.25)\n",
    "    population_df['naca_q3'] = input_df['NACA (Medizinische Daten)'].quantile(0.75)\n",
    "    population_df['naca_str'] = f'{population_df.naca_median.iloc[0]:.0f} ({population_df.naca_q1.iloc[0]:.0f}-{population_df.naca_q3.iloc[0]:.0f})'\n",
    "    \n",
    "    population_df['iss_median'] = input_df['ISS'].median()\n",
    "    population_df['iss_q1'] = input_df['ISS'].quantile(0.25)\n",
    "    population_df['iss_q3'] = input_df['ISS'].quantile(0.75)\n",
    "    population_df['iss_str'] = f'{population_df.iss_median.iloc[0]:.0f} ({population_df.iss_q1.iloc[0]:.0f}-{population_df.iss_q3.iloc[0]:.0f})'\n",
    "    \n",
    "    population_df['mission_duration_median'] = input_df['mission_duration'].median()\n",
    "    population_df['mission_duration_q1'] = input_df['mission_duration'].quantile(0.25)\n",
    "    population_df['mission_duration_q3'] = input_df['mission_duration'].quantile(0.75)\n",
    "    population_df['mission_duration_str'] = f'{population_df.mission_duration_median.iloc[0]:.0f} ({population_df.mission_duration_q1.iloc[0]:.0f}-{population_df.mission_duration_q3.iloc[0]:.0f})'\n",
    "    \n",
    "    population_df['spo2_median'] = input_df['SPO2 (Erstbefund)'].median()\n",
    "    population_df['spo2_q1'] = input_df['SPO2 (Erstbefund)'].quantile(0.25)\n",
    "    population_df['spo2_q3'] = input_df['SPO2 (Erstbefund)'].quantile(0.75)\n",
    "    population_df['spo2_str'] = f'{population_df.spo2_median.iloc[0]:.0f} ({population_df.spo2_q1.iloc[0]:.0f}-{population_df.spo2_q3.iloc[0]:.0f})'\n",
    "    \n",
    "    return population_df"
   ]
  },
  {
   "cell_type": "code",
   "execution_count": null,
   "id": "3ace8d94c0fa7a5f",
   "metadata": {
    "ExecuteTime": {
     "end_time": "2024-09-15T20:05:13.563241Z",
     "start_time": "2024-09-15T20:05:13.507699Z"
    }
   },
   "outputs": [],
   "source": [
    "medical_pop_df = get_population_stats(df[df['Einteilung (Hauptdiagnose)'] == 'Krankheit'])\n",
    "trauma_pop_df = get_population_stats(df[df['Einteilung (Hauptdiagnose)'] == 'Unfall'])\n",
    "overall_pop_df = get_population_stats(df)"
   ]
  },
  {
   "cell_type": "code",
   "execution_count": null,
   "id": "770d0980cf8f6771",
   "metadata": {
    "ExecuteTime": {
     "end_time": "2024-09-15T20:05:14.011327Z",
     "start_time": "2024-09-15T20:05:14.005103Z"
    }
   },
   "outputs": [],
   "source": [
    "full_pop_df = pd.concat([overall_pop_df, medical_pop_df, trauma_pop_df], keys=['overall', 'medical', 'trauma'])"
   ]
  },
  {
   "cell_type": "code",
   "execution_count": null,
   "id": "b4552415196f9b35",
   "metadata": {
    "ExecuteTime": {
     "end_time": "2024-09-15T20:05:14.726170Z",
     "start_time": "2024-09-15T20:05:14.721797Z"
    }
   },
   "outputs": [],
   "source": [
    "full_pop_df = full_pop_df.droplevel(1).T"
   ]
  },
  {
   "cell_type": "code",
   "execution_count": null,
   "id": "8013550a185eb15c",
   "metadata": {
    "ExecuteTime": {
     "end_time": "2024-09-15T20:05:15.069342Z",
     "start_time": "2024-09-15T20:05:15.065016Z"
    }
   },
   "outputs": [],
   "source": [
    "str_pop_df = full_pop_df.loc[['n_patients', 'age_str', 'female_str', 'nighttime_str', 'naca_str', 'iss_str', 'mission_duration_str', 'spo2_str']]"
   ]
  },
  {
   "cell_type": "code",
   "execution_count": null,
   "id": "6faa3f0cbfe53e82",
   "metadata": {
    "ExecuteTime": {
     "end_time": "2024-09-15T20:05:15.500648Z",
     "start_time": "2024-09-15T20:05:15.495950Z"
    }
   },
   "outputs": [],
   "source": [
    "str_pop_df.index = ['Number of patients', 'Age', 'Sex (Female)', 'Nighttime Operation', 'NACA', 'ISS', 'Mission duration (min)', 'SpO2']\n",
    "str_pop_df.rename(columns={'medical': 'Medical', 'trauma': 'Trauma', 'overall': 'Overall population'}, inplace=True)"
   ]
  },
  {
   "cell_type": "code",
   "execution_count": null,
   "id": "925de95c7d743939",
   "metadata": {
    "ExecuteTime": {
     "end_time": "2024-09-15T20:05:16.015035Z",
     "start_time": "2024-09-15T20:05:16.007290Z"
    }
   },
   "outputs": [],
   "source": [
    "str_pop_df"
   ]
  },
  {
   "cell_type": "code",
   "execution_count": null,
   "id": "dcde5c6103f4179",
   "metadata": {
    "ExecuteTime": {
     "end_time": "2024-09-15T20:05:25.275808Z",
     "start_time": "2024-09-15T20:05:25.266428Z"
    }
   },
   "outputs": [],
   "source": [
    "str_pop_df.to_csv('/Users/jk1/Downloads/table_1.csv')"
   ]
  },
  {
   "cell_type": "markdown",
   "id": "32e202c079437891",
   "metadata": {},
   "source": [
    "## Outcome table"
   ]
  },
  {
   "cell_type": "code",
   "execution_count": null,
   "id": "4eb86ba31da470ef",
   "metadata": {
    "ExecuteTime": {
     "end_time": "2024-07-22T16:01:00.951421Z",
     "start_time": "2024-07-22T16:01:00.948970Z"
    }
   },
   "outputs": [],
   "source": [
    "outcomes_of_interest = [\n",
    "    \"ICU [d]\",\n",
    "    \"Ventilator [d]\",\n",
    "    \"Hospital stay [d]\",\n",
    "    \"28 d Survival [y/n]\",\n",
    "    \"ITN ass. Pneumonia [y/n]\"\n",
    "    ]"
   ]
  },
  {
   "cell_type": "code",
   "execution_count": null,
   "id": "e4643b89a29f9161",
   "metadata": {
    "ExecuteTime": {
     "end_time": "2024-07-22T16:01:01.608999Z",
     "start_time": "2024-07-22T16:01:01.603597Z"
    }
   },
   "outputs": [],
   "source": [
    "time_columns =[\"ICU [d]\",\n",
    "    \"Ventilator [d]\",\n",
    "    \"Hospital stay [d]\"]\n",
    "# in every column, if value ends with +, remove it\n",
    "for col in time_columns:\n",
    "    df[col] = pd.to_numeric(df[col].apply(lambda x: str(x).replace(\"+\", '')), errors='coerce')"
   ]
  },
  {
   "cell_type": "code",
   "execution_count": null,
   "id": "a11729e83d0c20cb",
   "metadata": {
    "ExecuteTime": {
     "end_time": "2024-07-22T16:01:02.161291Z",
     "start_time": "2024-07-22T16:01:02.154315Z"
    }
   },
   "outputs": [],
   "source": [
    "def get_population_outcomes(input_df):\n",
    "    outcomes_df = pd.DataFrame()\n",
    "    \n",
    "    outcomes_df['icu_los_median'] = [input_df[\"ICU [d]\"].median()]\n",
    "    outcomes_df['icu_los_q1'] = input_df[\"ICU [d]\"].quantile(0.25)\n",
    "    outcomes_df['icu_los_q3'] = input_df[\"ICU [d]\"].quantile(0.75)\n",
    "    outcomes_df['icu_los_str'] = f'{outcomes_df.icu_los_median.iloc[0]:.0f} ({outcomes_df.icu_los_q1.iloc[0]:.0f}-{outcomes_df.icu_los_q3.iloc[0]:.0f})'\n",
    "    \n",
    "       # Ventilator Days\n",
    "    outcomes_df['vent_days_median'] = input_df[\"Ventilator [d]\"].median()\n",
    "    outcomes_df['vent_days_q1'] = input_df[\"Ventilator [d]\"].quantile(0.25)\n",
    "    outcomes_df['vent_days_q3'] = input_df[\"Ventilator [d]\"].quantile(0.75)\n",
    "    outcomes_df['vent_days_str'] = f'{outcomes_df.vent_days_median.iloc[0]:.0f} ({outcomes_df.vent_days_q1.iloc[0]:.0f}-{outcomes_df.vent_days_q3.iloc[0]:.0f})'\n",
    "\n",
    "    # Hospital Stay\n",
    "    outcomes_df['hospital_stay_median'] = input_df[\"Hospital stay [d]\"].median()\n",
    "    outcomes_df['hospital_stay_q1'] = input_df[\"Hospital stay [d]\"].quantile(0.25)\n",
    "    outcomes_df['hospital_stay_q3'] = input_df[\"Hospital stay [d]\"].quantile(0.75)\n",
    "    outcomes_df['hospital_stay_str'] = f'{outcomes_df.hospital_stay_median.iloc[0]:.0f} ({outcomes_df.hospital_stay_q1.iloc[0]:.0f}-{outcomes_df.hospital_stay_q3.iloc[0]:.0f})'\n",
    "    \n",
    "    # 28 d Survival\n",
    "    outcomes_df['n_survivors'] = input_df['28 d Survival [y/n]'].map({'n': 0, 'y': 1}).sum()\n",
    "    outcomes_df['p_survivors'] = input_df['28 d Survival [y/n]'].map({'n': 0, 'y': 1}).sum() / input_df.shape[0]\n",
    "    outcomes_df['survivors_str'] = f'{outcomes_df.n_survivors.iloc[0]} ({outcomes_df.p_survivors.iloc[0]*100:.1f}%)'\n",
    "    \n",
    "    # pneumonia\n",
    "    outcomes_df['n_pneumonia_yes'] = input_df[\"ITN ass. Pneumonia [y/n]\"].map({'n': 0, 'y': 1}).sum()\n",
    "    outcomes_df['p_pneumonia_yes'] = outcomes_df['n_pneumonia_yes'] / input_df.shape[0]\n",
    "    outcomes_df['pneumonia_str'] = f'{outcomes_df.n_pneumonia_yes.iloc[0]} ({outcomes_df.p_pneumonia_yes.iloc[0]*100:.1f}%)'\n",
    "    \n",
    "    return outcomes_df\n",
    "\n"
   ]
  },
  {
   "cell_type": "code",
   "execution_count": null,
   "id": "e6498fb76acaf475",
   "metadata": {
    "ExecuteTime": {
     "end_time": "2024-07-22T16:01:02.758089Z",
     "start_time": "2024-07-22T16:01:02.724255Z"
    }
   },
   "outputs": [],
   "source": [
    "medical_pop_outcomes_df = get_population_outcomes(df[df['Einteilung (Hauptdiagnose)'] == 'Krankheit'])\n",
    "trauma_pop_outcomes_df = get_population_outcomes(df[df['Einteilung (Hauptdiagnose)'] == 'Unfall'])\n",
    "overall_outcomes_df = get_population_outcomes(df)"
   ]
  },
  {
   "cell_type": "code",
   "execution_count": null,
   "id": "45c48981702d18dc",
   "metadata": {
    "ExecuteTime": {
     "end_time": "2024-07-22T16:01:03.061111Z",
     "start_time": "2024-07-22T16:01:03.056817Z"
    }
   },
   "outputs": [],
   "source": [
    "full_outcomes_df = pd.concat([overall_outcomes_df, medical_pop_outcomes_df, trauma_pop_outcomes_df], keys=['overall', 'medical', 'trauma'])"
   ]
  },
  {
   "cell_type": "code",
   "execution_count": null,
   "id": "3278648490f17f28",
   "metadata": {
    "ExecuteTime": {
     "end_time": "2024-07-22T16:01:03.379699Z",
     "start_time": "2024-07-22T16:01:03.363249Z"
    }
   },
   "outputs": [],
   "source": [
    "full_outcomes_df"
   ]
  },
  {
   "cell_type": "code",
   "execution_count": null,
   "id": "6985d6f9f63016b2",
   "metadata": {
    "ExecuteTime": {
     "end_time": "2024-07-22T16:01:03.753679Z",
     "start_time": "2024-07-22T16:01:03.750017Z"
    }
   },
   "outputs": [],
   "source": [
    "full_outcomes_df = full_outcomes_df.droplevel(1).T"
   ]
  },
  {
   "cell_type": "code",
   "execution_count": null,
   "id": "e072febc0c6919bd",
   "metadata": {
    "ExecuteTime": {
     "end_time": "2024-07-22T16:01:04.367935Z",
     "start_time": "2024-07-22T16:01:04.363378Z"
    }
   },
   "outputs": [],
   "source": [
    "# str_pop_df = full_pop_df.loc[['n_patients', 'age_str', 'female_str', 'nighttime_str']]\n",
    "# str_pop_df.index = ['Number of patients', 'Age', 'Sex (Female)', 'Nighttime Operation']\n",
    "# str_pop_df.rename(columns={'medical': 'Medical', 'trauma': 'Trauma', 'overall': 'Overall population'}, inplace=True)\n",
    "\n",
    "str_outcomes_df = full_outcomes_df.loc[['icu_los_str', 'vent_days_str', 'hospital_stay_str', 'survivors_str', 'pneumonia_str']]\n",
    "str_outcomes_df.index = ['ICU stay (d)', 'Ventilator Days (d)', 'Hospital stay (d)', 'Survival (28d)', 'Ventilator-associated pneumonia']\n",
    "str_outcomes_df.rename(columns={'medical': 'Medical', 'trauma': 'Trauma', 'overall': 'Overall population'}, inplace=True)"
   ]
  },
  {
   "cell_type": "code",
   "execution_count": null,
   "id": "be72c0fafad0bb39",
   "metadata": {
    "ExecuteTime": {
     "end_time": "2024-07-22T16:01:04.712986Z",
     "start_time": "2024-07-22T16:01:04.706032Z"
    }
   },
   "outputs": [],
   "source": [
    "str_outcomes_df"
   ]
  },
  {
   "cell_type": "code",
   "execution_count": null,
   "id": "e4f29d2bd9a9785b",
   "metadata": {
    "ExecuteTime": {
     "end_time": "2024-07-13T21:32:10.180722Z",
     "start_time": "2024-07-13T21:32:10.173325Z"
    }
   },
   "outputs": [],
   "source": [
    "# str_outcomes_df.to_csv('/Users/jk1/Downloads/table_2.csv')"
   ]
  },
  {
   "cell_type": "markdown",
   "id": "95694c7c0069bd0c",
   "metadata": {},
   "source": [
    "## Airway management table"
   ]
  },
  {
   "cell_type": "code",
   "execution_count": null,
   "id": "f931ae84fdf16388",
   "metadata": {
    "ExecuteTime": {
     "end_time": "2024-07-22T16:47:51.119261Z",
     "start_time": "2024-07-22T16:47:51.106601Z"
    }
   },
   "outputs": [],
   "source": [
    "rows_to_be_swapped = [16, 35, 44, 130, 226]\n",
    "airway_management_df = df['Detailliert (Atemweg-Management)']\n",
    "airway_management_df = airway_management_df.str.split(';', expand=True)\n",
    "airway_management_df.columns = ['main_method', 'auxillary']\n",
    "\n",
    "# print warning that rows are being swapped\n",
    "print('Rows being swapped:', rows_to_be_swapped)\n",
    "print('Before swapping:', airway_management_df.loc[rows_to_be_swapped])\n",
    "print('Verify that the swapping is correct')\n",
    "\n",
    "# for these rows 1st attempt and 2nd attempt should be swapped\n",
    "for row in rows_to_be_swapped:\n",
    "    temp = airway_management_df.loc[row, 'main_method']\n",
    "    airway_management_df.loc[row, 'main_method'] = airway_management_df.loc[row, 'auxillary']\n",
    "    airway_management_df.loc[row, 'auxillary'] = temp\n",
    "    \n",
    "print('After swapping:', airway_management_df.loc[rows_to_be_swapped])\n",
    "        "
   ]
  },
  {
   "cell_type": "code",
   "execution_count": null,
   "id": "5fadb97afed6785c",
   "metadata": {
    "ExecuteTime": {
     "end_time": "2024-07-22T16:48:26.730587Z",
     "start_time": "2024-07-22T16:48:26.726017Z"
    }
   },
   "outputs": [],
   "source": [
    "# join with main df \n",
    "df = pd.concat([df, airway_management_df], axis=1)"
   ]
  },
  {
   "cell_type": "code",
   "execution_count": null,
   "id": "e29b66057c22e725",
   "metadata": {
    "ExecuteTime": {
     "end_time": "2024-07-22T16:54:48.104191Z",
     "start_time": "2024-07-22T16:54:48.096602Z"
    }
   },
   "outputs": [],
   "source": [
    "def get_intubation_df(input_df):       \n",
    "    airway_management_df = input_df['main_method']\n",
    "    # parse csv from every row with following columns:\n",
    "    # Intubationsart, Tubusgrösse, Zahnreihe, Versuche, Erfolg, CL-Score, Stimmbänder, vorbestehend, Intubierende Person, Uhrzeit\n",
    "    airway_management_df = airway_management_df.str.split(',', expand=True)\n",
    "    airway_management_df.columns = ['Intubation type', 'Tube size', 'Dental row', 'Attempts', 'Success', 'CL-Score',\n",
    "                                    'Vocal cords', 'Pre-existing', 'Intubator', 'Time']\n",
    "        \n",
    "    intubation_df = pd.DataFrame()\n",
    "    intubation_df['n_patients'] = [input_df.shape[0]]\n",
    "    \n",
    "    # number of attempts\n",
    "    # set '-' to nan\n",
    "    airway_management_df['Attempts'] = airway_management_df['Attempts'].replace(' -', np.nan)\n",
    "    intubation_df['attempts_median'] = [airway_management_df['Attempts'].astype(float).median()]\n",
    "    intubation_df['attempts_q1'] = airway_management_df['Attempts'].astype(float).quantile(0.25)\n",
    "    intubation_df['attempts_q3'] = airway_management_df['Attempts'].astype(float).quantile(0.75)\n",
    "    intubation_df['attempts_n_missing'] = airway_management_df['Attempts'].isna().sum()\n",
    "    intubation_df['attempts_str'] = f'{intubation_df.attempts_median.iloc[0]:.0f} ({intubation_df.attempts_q1.iloc[0]:.0f}-{intubation_df.attempts_q3.iloc[0]:.0f}) [missing: {intubation_df.attempts_n_missing.iloc[0]}]'\n",
    "    \n",
    "    # CL-Score\n",
    "    # current values ' -', ' CL I', ' CL II', ' CL III', ' CL IV'\n",
    "    # convert to nan, 1, 2, 3, 4\n",
    "    airway_management_df['CL-Score'] = airway_management_df['CL-Score'].replace(' -', np.nan)\n",
    "    airway_management_df['CL-Score'] = airway_management_df['CL-Score'].replace(' CL I', 1)\n",
    "    airway_management_df['CL-Score'] = airway_management_df['CL-Score'].replace(' CL II', 2)\n",
    "    airway_management_df['CL-Score'] = airway_management_df['CL-Score'].replace(' CL III', 3)\n",
    "    airway_management_df['CL-Score'] = airway_management_df['CL-Score'].replace(' CL IV', 4)\n",
    "    intubation_df['cl_score_median'] = airway_management_df['CL-Score'].median()\n",
    "    intubation_df['cl_score_q1'] = airway_management_df['CL-Score'].quantile(0.25)\n",
    "    intubation_df['cl_score_q3'] = airway_management_df['CL-Score'].quantile(0.75)\n",
    "    intubation_df['cl_score_n_missing'] = airway_management_df['CL-Score'].isna().sum()\n",
    "    intubation_df['cl_score_str'] = f'{intubation_df.cl_score_median.iloc[0]:.0f} ({intubation_df.cl_score_q1.iloc[0]:.0f}-{intubation_df.cl_score_q3.iloc[0]:.0f}) [missing: {intubation_df.cl_score_n_missing.iloc[0]}]'\n",
    "    \n",
    "    return intubation_df"
   ]
  },
  {
   "cell_type": "code",
   "execution_count": null,
   "id": "c76db30cc85953e9",
   "metadata": {
    "ExecuteTime": {
     "end_time": "2024-07-22T16:54:48.305575Z",
     "start_time": "2024-07-22T16:54:48.261124Z"
    }
   },
   "outputs": [],
   "source": [
    "airway_management_df['CL-Score'].unique()"
   ]
  },
  {
   "cell_type": "code",
   "execution_count": null,
   "id": "c0bf3aadc8bf6e3c",
   "metadata": {
    "ExecuteTime": {
     "end_time": "2024-07-22T16:54:48.451929Z",
     "start_time": "2024-07-22T16:54:48.426397Z"
    }
   },
   "outputs": [],
   "source": [
    "medical_intubation_df = get_intubation_df(df[df['Einteilung (Hauptdiagnose)'] == 'Krankheit'])\n",
    "trauma_intubation_df = get_intubation_df(df[df['Einteilung (Hauptdiagnose)'] == 'Unfall'])\n",
    "overall_intubation_df = get_intubation_df(df)"
   ]
  },
  {
   "cell_type": "code",
   "execution_count": null,
   "id": "a04eae67a99c549f",
   "metadata": {
    "ExecuteTime": {
     "end_time": "2024-07-22T16:54:48.609880Z",
     "start_time": "2024-07-22T16:54:48.599289Z"
    }
   },
   "outputs": [],
   "source": [
    "full_airway_df = pd.concat([overall_intubation_df, medical_intubation_df, trauma_intubation_df], keys=['overall', 'medical', 'trauma'])\n",
    "full_airway_df"
   ]
  },
  {
   "cell_type": "code",
   "execution_count": null,
   "id": "4cd7369db25c2422",
   "metadata": {
    "ExecuteTime": {
     "end_time": "2024-07-22T16:54:49.060746Z",
     "start_time": "2024-07-22T16:54:49.057506Z"
    }
   },
   "outputs": [],
   "source": [
    "full_airway_df = full_airway_df.droplevel(1).T"
   ]
  },
  {
   "cell_type": "code",
   "execution_count": null,
   "id": "15bda6a1a4bbc62",
   "metadata": {
    "ExecuteTime": {
     "end_time": "2024-07-22T16:54:49.670074Z",
     "start_time": "2024-07-22T16:54:49.665944Z"
    }
   },
   "outputs": [],
   "source": [
    "str_airway_df = full_airway_df.loc[['n_patients', 'attempts_str', 'cl_score_str']]\n",
    "str_airway_df.index = ['Number of patients', 'Number of attempts', 'Cormack-Lehane Score']\n",
    "str_airway_df.rename(columns={'medical': 'Medical', 'trauma': 'Trauma', 'overall': 'Overall population'}, inplace=True)"
   ]
  },
  {
   "cell_type": "code",
   "execution_count": null,
   "id": "cb2e1e3342f93f2c",
   "metadata": {
    "ExecuteTime": {
     "end_time": "2024-07-22T16:54:50.704441Z",
     "start_time": "2024-07-22T16:54:50.697935Z"
    }
   },
   "outputs": [],
   "source": [
    "str_airway_df"
   ]
  },
  {
   "cell_type": "code",
   "execution_count": null,
   "id": "d30d3823ec544c52",
   "metadata": {
    "ExecuteTime": {
     "end_time": "2024-07-22T16:58:08.616496Z",
     "start_time": "2024-07-22T16:58:08.610671Z"
    }
   },
   "outputs": [],
   "source": [
    "# str_airway_df.to_csv('/Users/jk1/Downloads/table_3.csv')"
   ]
  },
  {
   "cell_type": "code",
   "execution_count": null,
   "id": "8b3308d937219883",
   "metadata": {},
   "outputs": [],
   "source": []
  }
 ],
 "metadata": {
  "kernelspec": {
   "display_name": "Python 3",
   "language": "python",
   "name": "python3"
  },
  "language_info": {
   "codemirror_mode": {
    "name": "ipython",
    "version": 2
   },
   "file_extension": ".py",
   "mimetype": "text/x-python",
   "name": "python",
   "nbconvert_exporter": "python",
   "pygments_lexer": "ipython2",
   "version": "2.7.6"
  }
 },
 "nbformat": 4,
 "nbformat_minor": 5
}
