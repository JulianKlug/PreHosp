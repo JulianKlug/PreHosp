{
 "cells": [
  {
   "cell_type": "markdown",
   "id": "c920383bc663a628",
   "metadata": {},
   "source": [
    "# Association of intubation status with outcomes in comatose patients\n"
   ]
  },
  {
   "cell_type": "code",
   "execution_count": null,
   "id": "a3ac7ea8fc922594",
   "metadata": {
    "ExecuteTime": {
     "end_time": "2025-03-20T10:06:11.868868Z",
     "start_time": "2025-03-20T10:06:11.861739Z"
    }
   },
   "outputs": [],
   "source": [
    "import pandas as pd\n",
    "import os\n",
    "import seaborn as sns\n",
    "import matplotlib.pyplot as plt\n",
    "import statsmodels.formula.api as smf\n",
    "import numpy as np\n",
    "from scipy.special import label\n",
    "from scipy.stats import alpha\n",
    "\n",
    "os.environ[\"R_HOME\"] = \"/Library/Frameworks/R.framework/Resources\"\n",
    "\n",
    "from lifelines import CoxPHFitter"
   ]
  },
  {
   "cell_type": "code",
   "execution_count": null,
   "id": "e19c3052c92c2066",
   "metadata": {
    "ExecuteTime": {
     "end_time": "2025-03-20T08:16:11.536087Z",
     "start_time": "2025-03-20T08:16:11.532796Z"
    }
   },
   "outputs": [],
   "source": [
    "intubated_data_path = '/Users/jk1/Library/CloudStorage/OneDrive-unige.ch/icu_research/prehospital/intubation_trigger/data/Mastertabelle_filtered.xlsx'\n",
    "non_intubated_data_path = '/Users/jk1/Library/CloudStorage/OneDrive-unige.ch/icu_research/prehospital/intubation_trigger/data/not_intubated/outcome_data/non_intubated_comatose_outcome_df.csv'"
   ]
  },
  {
   "cell_type": "code",
   "execution_count": null,
   "id": "8d6b15913536cd42",
   "metadata": {
    "ExecuteTime": {
     "end_time": "2025-03-20T14:33:28.022123Z",
     "start_time": "2025-03-20T14:33:27.832398Z"
    }
   },
   "outputs": [],
   "source": [
    "intubated_df = pd.read_excel(intubated_data_path)\n",
    "intubated_df = intubated_df[intubated_df.Comment != 'Reanimation']"
   ]
  },
  {
   "cell_type": "code",
   "execution_count": null,
   "id": "9ed0067aebebbfc",
   "metadata": {
    "ExecuteTime": {
     "end_time": "2025-03-20T14:33:28.170141Z",
     "start_time": "2025-03-20T14:33:28.161786Z"
    }
   },
   "outputs": [],
   "source": [
    "non_intubated_df = pd.read_csv(non_intubated_data_path)"
   ]
  },
  {
   "cell_type": "code",
   "execution_count": null,
   "id": "9dd78171fd8e0297",
   "metadata": {
    "ExecuteTime": {
     "end_time": "2025-03-20T14:33:28.514353Z",
     "start_time": "2025-03-20T14:33:28.511096Z"
    }
   },
   "outputs": [],
   "source": [
    "outcomes_of_interest = [\n",
    "    \"ICU [d]\",\n",
    "    \"Ventilator [d]\",\n",
    "    \"Hospital stay [d]\",\n",
    "    \"28 d Survival [y/n]\",\n",
    "    \"ITN ass. Pneumonia [y/n]\"\n",
    "]\n",
    "time_columns = [\"ICU [d]\",\n",
    "                \"Ventilator [d]\",\n",
    "                \"Hospital stay [d]\"]"
   ]
  },
  {
   "cell_type": "code",
   "execution_count": null,
   "id": "5fd39005113f6f26",
   "metadata": {
    "ExecuteTime": {
     "end_time": "2025-03-20T14:33:29.745809Z",
     "start_time": "2025-03-20T14:33:29.738798Z"
    }
   },
   "outputs": [],
   "source": [
    "# in every column, if value ends with +, remove it\n",
    "for col in time_columns:\n",
    "    intubated_df[col] = pd.to_numeric(intubated_df[col].apply(lambda x: str(x).replace(\"+\", '')), errors='coerce')\n",
    "    non_intubated_df[col] = pd.to_numeric(non_intubated_df[col], errors='coerce')"
   ]
  },
  {
   "cell_type": "code",
   "execution_count": null,
   "id": "6492fccac45f6a4d",
   "metadata": {
    "ExecuteTime": {
     "end_time": "2025-03-20T14:33:30.351171Z",
     "start_time": "2025-03-20T14:33:30.344926Z"
    }
   },
   "outputs": [],
   "source": [
    "intubated_df['Einteilung_encoded'] = intubated_df['Einteilung (Hauptdiagnose)'].map({'Krankheit': 0, 'Unfall': 1})\n",
    "non_intubated_df['Einteilung_encoded'] = non_intubated_df['Einteilung (Hauptdiagnose)'].map({'Krankheit': 0, 'Unfall': 1})"
   ]
  },
  {
   "cell_type": "code",
   "execution_count": null,
   "id": "initial_id",
   "metadata": {
    "ExecuteTime": {
     "end_time": "2025-03-20T14:33:31.066088Z",
     "start_time": "2025-03-20T14:33:31.051764Z"
    }
   },
   "outputs": [],
   "source": [
    "intubated_df['Sverweis_Geschlecht_encoded'] = intubated_df['Sverweis_Geschlecht'].map({'männlich': 0, 'weiblich': 1})\n",
    "intubated_df.rename(columns={'Sverweis_Geschlecht_encoded': 'sex_encoded'}, inplace=True)\n",
    "intubated_df['28 d Survival [y/n]_encoded'] = intubated_df['28 d Survival [y/n]'].map({'n': 0, 'y': 1})\n",
    "intubated_df['ICU Survival [y/n]_encoded'] = intubated_df['ICU Survival [y/n]'].map({'n': 0, 'y': 1})\n",
    "intubated_df['Spital Survival [y/n]_encoded'] = intubated_df['Spital Survival [y/n]'].map({'n': 0, 'y': 1})\n",
    "intubated_df['ITN ass. Pneumonia [y/n]_encoded'] = intubated_df['ITN ass. Pneumonia [y/n]'].map({'n': 0, 'y': 1})\n",
    "intubated_df.columns = intubated_df.columns.str.replace(' ', '_')\n",
    "\n",
    "intubated_df['Einteilung_encoded'] = intubated_df['Einteilung_(Hauptdiagnose)'].map({'Krankheit': 0, 'Unfall': 1})"
   ]
  },
  {
   "cell_type": "code",
   "execution_count": null,
   "id": "b2533c3dbcf802",
   "metadata": {
    "ExecuteTime": {
     "end_time": "2025-03-20T14:33:32.921052Z",
     "start_time": "2025-03-20T14:33:32.885591Z"
    }
   },
   "outputs": [],
   "source": [
    "non_intubated_df['sex_encoded'] = non_intubated_df['sex'].str.lower().map({'m': 0, 'f': 1, 'w': 1})\n",
    "non_intubated_df['28 d Survival [y/n]_encoded'] = non_intubated_df['28 d Survival [y/n]'].str.lower().map({'n': 0, 'y': 1})\n",
    "non_intubated_df['ICU Survival [y/n]_encoded'] = non_intubated_df['ICU Survival [y/n]'].str.lower().map({'n': 0, 'y': 1})\n",
    "non_intubated_df['Spital Survival [y/n]_encoded'] = non_intubated_df['Spital Survival [y/n]'].str.lower().map({'n': 0, 'y': 1})\n",
    "non_intubated_df['ITN ass. Pneumonia [y/n]_encoded'] = non_intubated_df['ITN ass. Pneumonia [y/n]'].str.lower().map({'n': 0, 'y': 1})\n",
    "non_intubated_df.columns = non_intubated_df.columns.str.replace(' ', '_')"
   ]
  },
  {
   "cell_type": "code",
   "execution_count": null,
   "id": "3fce814e93a3fdc5",
   "metadata": {
    "ExecuteTime": {
     "end_time": "2025-03-20T14:33:34.167017Z",
     "start_time": "2025-03-20T14:33:34.161896Z"
    }
   },
   "outputs": [],
   "source": [
    "non_intubated_df['intubated'] = 0\n",
    "intubated_df['intubated'] = 1"
   ]
  },
  {
   "cell_type": "code",
   "execution_count": null,
   "id": "430108bd90d34a21",
   "metadata": {
    "ExecuteTime": {
     "end_time": "2025-03-20T14:11:03.890399Z",
     "start_time": "2025-03-20T14:11:03.883020Z"
    }
   },
   "outputs": [],
   "source": [
    "non_intubated_df['Einteilung_(Hauptdiagnose)'].value_counts()"
   ]
  },
  {
   "cell_type": "code",
   "execution_count": null,
   "id": "e302be2aef235d6e",
   "metadata": {
    "ExecuteTime": {
     "end_time": "2025-03-20T14:12:56.225103Z",
     "start_time": "2025-03-20T14:12:56.216536Z"
    }
   },
   "outputs": [],
   "source": [
    "intubated_df['Einteilung_(Hauptdiagnose)'].value_counts()"
   ]
  },
  {
   "cell_type": "code",
   "execution_count": null,
   "id": "72ce77e9072b3964",
   "metadata": {
    "ExecuteTime": {
     "end_time": "2025-03-20T14:33:58.477951Z",
     "start_time": "2025-03-20T14:33:58.471709Z"
    }
   },
   "outputs": [],
   "source": [
    "columns_to_retain = ['Alter__(Patient)', 'sex_encoded', 'NACA_(Medizinische_Daten)', 'Einteilung_encoded', 'GCS_(Erstbefund)', 'ICU_[d]',\n",
    "       'Ventilator_[d]', 'Hospital_stay_[d]', '28_d_Survival_[y/n]_encoded', 'ICU_Survival_[y/n]_encoded',\n",
    "       'Spital_Survival_[y/n]_encoded', 'ITN_ass._Pneumonia_[y/n]_encoded', 'intubated']"
   ]
  },
  {
   "cell_type": "code",
   "execution_count": null,
   "id": "150c43f0268e12a9",
   "metadata": {
    "ExecuteTime": {
     "end_time": "2025-03-20T14:33:59.718607Z",
     "start_time": "2025-03-20T14:33:59.682300Z"
    }
   },
   "outputs": [],
   "source": [
    "joined_df = pd.concat([intubated_df[columns_to_retain], non_intubated_df[columns_to_retain]])"
   ]
  },
  {
   "cell_type": "code",
   "execution_count": null,
   "id": "c7bd76c7cb401c75",
   "metadata": {
    "ExecuteTime": {
     "end_time": "2025-03-20T14:34:01.774293Z",
     "start_time": "2025-03-20T14:34:01.767325Z"
    }
   },
   "outputs": [],
   "source": [
    "joined_df.intubated.value_counts()"
   ]
  },
  {
   "cell_type": "markdown",
   "id": "78104cb0d72c611a",
   "metadata": {},
   "source": [
    "### ICU LOS"
   ]
  },
  {
   "cell_type": "code",
   "execution_count": null,
   "id": "3900f115010a8f57",
   "metadata": {
    "ExecuteTime": {
     "end_time": "2025-03-20T14:34:53.715191Z",
     "start_time": "2025-03-20T14:34:53.432626Z"
    }
   },
   "outputs": [],
   "source": [
    "# survival model\n",
    "cph = CoxPHFitter()\n",
    "icu_los_df = joined_df[[\"ICU_[d]\", 'GCS_(Erstbefund)', 'Alter__(Patient)', 'sex_encoded', 'Einteilung_encoded', 'intubated', 'ICU_Survival_[y/n]_encoded', 'NACA_(Medizinische_Daten)']]\n",
    "icu_los_df.columns = ['ICU_los', 'GCS', 'age', 'sex', 'category', 'intubated', 'icu_survival', 'NACA']\n",
    "icu_los_df['icu_death'] = -1 * icu_los_df['icu_survival'] + 1\n",
    "icu_los_df.drop(columns='icu_survival', inplace=True)\n",
    "\n",
    "print(f'number of nan (excluded): {icu_los_df.isna().sum().sum()}')\n",
    "print(f'{icu_los_df.intubated.value_counts()}')\n",
    "icu_los_df.dropna(inplace=True)\n",
    "\n",
    "cph.fit(icu_los_df, duration_col='ICU_los', event_col='icu_death')\n",
    "cph.print_summary()"
   ]
  },
  {
   "cell_type": "code",
   "execution_count": null,
   "id": "4511baf4e6dffcbb",
   "metadata": {
    "ExecuteTime": {
     "end_time": "2025-03-20T08:31:15.927553Z",
     "start_time": "2025-03-20T08:31:15.904270Z"
    }
   },
   "outputs": [],
   "source": [
    "# print ICU LOS in non intubated vs intubated patients as median [IQR]\n",
    "print(f'Non intubated: {icu_los_df[icu_los_df.intubated == 0].ICU_los.median()} [{icu_los_df[icu_los_df.intubated == 0].ICU_los.quantile(0.25)}-{icu_los_df[icu_los_df.intubated == 0].ICU_los.quantile(0.75)}]')"
   ]
  },
  {
   "cell_type": "code",
   "execution_count": null,
   "id": "10d6bf77de6ca8e1",
   "metadata": {
    "ExecuteTime": {
     "end_time": "2025-03-20T08:31:21.034935Z",
     "start_time": "2025-03-20T08:31:20.621990Z"
    }
   },
   "outputs": [],
   "source": [
    "ax = sns.boxplot(x='intubated', y='ICU_los', data=icu_los_df, hue='intubated')\n",
    "ax.set_ylim(0, 50)\n",
    "ax.set_ylabel('ICU los')\n",
    "\n",
    "plt.show()"
   ]
  },
  {
   "cell_type": "markdown",
   "id": "dbaed55be7ab684b",
   "metadata": {},
   "source": [
    "### Hospital LOS"
   ]
  },
  {
   "cell_type": "code",
   "execution_count": null,
   "id": "6fc58218c2b157e0",
   "metadata": {
    "ExecuteTime": {
     "end_time": "2025-03-20T14:35:43.126833Z",
     "start_time": "2025-03-20T14:35:42.906822Z"
    }
   },
   "outputs": [],
   "source": [
    "# survival model\n",
    "hospital_stay_df = joined_df[[\"Hospital_stay_[d]\", 'GCS_(Erstbefund)', 'Alter__(Patient)', 'sex_encoded', 'Einteilung_encoded', 'intubated', 'Spital_Survival_[y/n]_encoded', 'NACA_(Medizinische_Daten)']]\n",
    "hospital_stay_df.columns = ['hospital_stay', 'GCS', 'age', 'sex', 'category', 'intubated', 'hospital_survival', 'NACA']\n",
    "hospital_stay_df['hospital_death'] = -1 * hospital_stay_df['hospital_survival'] + 1\n",
    "hospital_stay_df.drop(columns='hospital_survival', inplace=True)\n",
    "\n",
    "print(f'number of nan (excluded): {hospital_stay_df.isna().sum().sum()}')\n",
    "hospital_stay_df.dropna(inplace=True)\n",
    "\n",
    "cph = CoxPHFitter()\n",
    "cph.fit(hospital_stay_df, duration_col='hospital_stay', event_col='hospital_death')\n",
    "cph.print_summary()"
   ]
  },
  {
   "cell_type": "code",
   "execution_count": null,
   "id": "2f6fc1e7ed51952e",
   "metadata": {
    "ExecuteTime": {
     "end_time": "2025-03-20T14:36:07.829134Z",
     "start_time": "2025-03-20T14:36:07.811332Z"
    }
   },
   "outputs": [],
   "source": [
    "# print hospital LOS in non intubated vs intubated patients as median [IQR]\n",
    "print(f'Non intubated: {hospital_stay_df[hospital_stay_df.intubated == 0].hospital_stay.median()} [{hospital_stay_df[hospital_stay_df.intubated == 0].hospital_stay.quantile(0.25)}, {hospital_stay_df[hospital_stay_df.intubated == 0].hospital_stay.quantile(0.75)}]')"
   ]
  },
  {
   "cell_type": "code",
   "execution_count": null,
   "id": "fc76d775a3cb59e4",
   "metadata": {
    "ExecuteTime": {
     "end_time": "2025-03-20T14:36:09.235621Z",
     "start_time": "2025-03-20T14:36:08.555323Z"
    }
   },
   "outputs": [],
   "source": [
    "ax = sns.boxplot(x='intubated', y='hospital_stay', data=hospital_stay_df, hue='intubated')\n",
    "ax.set_ylim(0, 50)\n",
    "ax.set_title('Hospital LOS')\n",
    "\n",
    "plt.show()"
   ]
  },
  {
   "cell_type": "markdown",
   "id": "1af630b4e01ee7d8",
   "metadata": {},
   "source": [
    "### Ventilator days"
   ]
  },
  {
   "cell_type": "code",
   "execution_count": null,
   "id": "c687173c0f0a2b5f",
   "metadata": {
    "ExecuteTime": {
     "end_time": "2025-03-20T14:36:37.980941Z",
     "start_time": "2025-03-20T14:36:37.786651Z"
    }
   },
   "outputs": [],
   "source": [
    "# survival model\n",
    "# Here, we treat icu_survival == 1 (extubation) as the event, and icu_survival == 0 (death) as censored.\n",
    "ventilator_days_df = joined_df[[\"Ventilator_[d]\", 'GCS_(Erstbefund)', 'Alter__(Patient)', 'sex_encoded', 'Einteilung_encoded', 'intubated', 'ICU_Survival_[y/n]_encoded', 'NACA_(Medizinische_Daten)']]\n",
    "ventilator_days_df.columns = ['ventilator_days', 'GCS', 'age', 'sex', 'category', 'intubated', 'icu_survival', 'NACA']\n",
    "ventilator_days_df['icu_death'] = -1 * ventilator_days_df['icu_survival'] + 1\n",
    "ventilator_days_df.drop(columns='icu_survival', inplace=True)\n",
    "\n",
    "print(f'number of nan (excluded): {ventilator_days_df.isna().sum().sum()}')\n",
    "print(f'{ventilator_days_df.intubated.value_counts()}')\n",
    "ventilator_days_df.dropna(inplace=True)\n",
    "\n",
    "# Prepare the DataFrame for the model.\n",
    "# We use 'ventilator_days' as the duration, 'event' as the event indicator, and include relevant covariates.\n",
    "df_model = ventilator_days_df[['ventilator_days', 'icu_death', 'GCS', 'age', 'sex', 'category', 'intubated', 'NACA']].copy()\n",
    "\n",
    "# Fit the cause-specific Cox model.\n",
    "# In this model, death is treated as a censoring event.\n",
    "cph = CoxPHFitter()\n",
    "cph.fit(df_model, duration_col='ventilator_days', event_col='icu_death')\n",
    "cph.print_summary()"
   ]
  },
  {
   "cell_type": "code",
   "execution_count": null,
   "id": "e39e8c95f9f15cb4",
   "metadata": {
    "ExecuteTime": {
     "end_time": "2025-03-18T04:23:35.693700Z",
     "start_time": "2025-03-18T04:23:35.691330Z"
    }
   },
   "outputs": [],
   "source": [
    "# ventilator_days_df.to_csv('/Users/jk1/Downloads/ventilator_days_df.csv', index=False)"
   ]
  },
  {
   "cell_type": "code",
   "execution_count": null,
   "id": "b0474f4043bea34a",
   "metadata": {
    "ExecuteTime": {
     "end_time": "2025-03-20T16:12:43.375206Z",
     "start_time": "2025-03-20T16:12:43.299729Z"
    }
   },
   "outputs": [],
   "source": [
    "# print median [IQR] ventilator days in non intubated patients\n",
    "print(f'Non intubated: {ventilator_days_df[ventilator_days_df.intubated == 0].ventilator_days.median()} [{ventilator_days_df[ventilator_days_df.intubated == 0].ventilator_days.quantile(0.25)}, {ventilator_days_df[ventilator_days_df.intubated == 0].ventilator_days.quantile(0.75)}]')"
   ]
  },
  {
   "cell_type": "code",
   "execution_count": null,
   "id": "9964f71895c7fa4e",
   "metadata": {
    "ExecuteTime": {
     "end_time": "2025-03-20T08:32:04.616159Z",
     "start_time": "2025-03-20T08:32:04.267228Z"
    }
   },
   "outputs": [],
   "source": [
    "ax = sns.boxplot(x='intubated', y='ventilator_days', data=ventilator_days_df, hue='intubated')\n",
    "ax.set_ylim(0, 50)\n",
    "ax.set_ylabel('Ventilator days')\n",
    "\n",
    "plt.show()"
   ]
  },
  {
   "cell_type": "markdown",
   "id": "16f296af56ddd90",
   "metadata": {},
   "source": [
    "### 28d Mortality"
   ]
  },
  {
   "cell_type": "code",
   "execution_count": null,
   "id": "e71e54362030f81c",
   "metadata": {
    "ExecuteTime": {
     "end_time": "2025-03-20T14:37:16.226291Z",
     "start_time": "2025-03-20T14:37:16.004537Z"
    }
   },
   "outputs": [],
   "source": [
    "# multiple logistic regression\n",
    "survival_df = joined_df[[\"28_d_Survival_[y/n]_encoded\", 'GCS_(Erstbefund)', 'Alter__(Patient)', 'sex_encoded',  'Einteilung_encoded', 'intubated', 'NACA_(Medizinische_Daten)']]\n",
    "survival_df.columns = ['survival', 'GCS', 'age', 'sex', 'category', 'intubated', 'NACA']\n",
    "print(f'number of nan (excluded): {survival_df.isna().sum().sum()}')\n",
    "survival_df.dropna(inplace=True)\n",
    "\n",
    "# If 'category' is a categorical variable, ensure it is treated as such.\n",
    "survival_df['intubated'] = survival_df['intubated'].astype('category')\n",
    "\n",
    "# Define the logistic regression formula.\n",
    "# Adjusting for ventilator_days, along with GCS, age, and intubated.\n",
    "formula = \"survival ~ GCS + age + NACA + C(intubated) + sex + category\"\n",
    "\n",
    "# Fit the logistic regression model.\n",
    "model = smf.logit(formula, data=survival_df).fit()\n",
    "\n",
    "# Print the summary of the model.\n",
    "print(model.summary())"
   ]
  },
  {
   "cell_type": "code",
   "execution_count": null,
   "id": "682ac1f1d8de80d5",
   "metadata": {
    "ExecuteTime": {
     "end_time": "2025-03-20T16:32:16.089554Z",
     "start_time": "2025-03-20T16:32:16.078160Z"
    }
   },
   "outputs": [],
   "source": [
    "# print 28d mortality in non intubated vs intubated patients as number (percentage)\n",
    "print(f'Non intubated: {survival_df[survival_df.intubated == 0].survival.value_counts()} ({survival_df[survival_df.intubated == 0].survival.value_counts(normalize=True).values[1] * 100:.2f}%)')"
   ]
  },
  {
   "cell_type": "code",
   "execution_count": null,
   "id": "34e65ac2d197106e",
   "metadata": {
    "ExecuteTime": {
     "end_time": "2025-03-20T16:20:09.773547Z",
     "start_time": "2025-03-20T16:20:09.739610Z"
    }
   },
   "outputs": [],
   "source": [
    "print(f'Intubated: {survival_df[survival_df.intubated == 1].survival.value_counts()} ({survival_df[survival_df.intubated == 1].survival.value_counts(normalize=True).values[1] * 100:.2f}%)')"
   ]
  },
  {
   "cell_type": "code",
   "execution_count": null,
   "id": "d65fddaa04fc1b47",
   "metadata": {
    "ExecuteTime": {
     "end_time": "2025-03-20T08:32:52.283853Z",
     "start_time": "2025-03-20T08:32:51.871788Z"
    }
   },
   "outputs": [],
   "source": [
    "# plot 28d mortality in non intubated vs intubated patients\n",
    "\n",
    "(survival_df\n",
    ".groupby('intubated')['survival']\n",
    ".value_counts(normalize=True)\n",
    ".mul(100)\n",
    ".rename('percent')\n",
    ".reset_index()\n",
    ".pipe((sns.catplot,'data'), x='intubated',y='percent',hue='survival',kind='bar'))\n",
    "\n",
    "plt.show()"
   ]
  },
  {
   "cell_type": "markdown",
   "id": "cf5178fd4747bd45",
   "metadata": {},
   "source": [
    "### Pneumonia"
   ]
  },
  {
   "cell_type": "code",
   "execution_count": null,
   "id": "98b7e79967afeb33",
   "metadata": {
    "ExecuteTime": {
     "end_time": "2025-03-20T14:38:11.018649Z",
     "start_time": "2025-03-20T14:38:10.968410Z"
    }
   },
   "outputs": [],
   "source": [
    "# multiple logistic regression\n",
    "\n",
    "pneumonia_df = joined_df[['ITN_ass._Pneumonia_[y/n]_encoded', 'GCS_(Erstbefund)', 'Alter__(Patient)', 'sex_encoded', 'Einteilung_encoded', 'intubated', 'Ventilator_[d]', 'Hospital_stay_[d]', 'NACA_(Medizinische_Daten)']]\n",
    "pneumonia_df.columns = ['pneumonia', 'GCS', 'age', 'sex', 'category', 'intubated', 'ventilator_days', 'hospital_los', 'NACA']\n",
    "\n",
    "# If 'category' is a categorical variable, ensure it is treated as such.\n",
    "pneumonia_df['intubated'] = pneumonia_df['intubated'].astype('category')\n",
    "\n",
    "# Define the logistic regression formula.\n",
    "# Adjusting for hospitals days, along with GCS, age, and intubation status.\n",
    "formula = \"pneumonia ~ GCS + age + sex + NACA + C(intubated) + hospital_los + category\"\n",
    "\n",
    "# Fit the logistic regression model.\n",
    "model = smf.logit(formula, data=pneumonia_df).fit()\n",
    "\n",
    "# Print the summary of the model.\n",
    "print(model.summary())"
   ]
  },
  {
   "cell_type": "code",
   "execution_count": null,
   "id": "61a50616cfa54871",
   "metadata": {
    "ExecuteTime": {
     "end_time": "2025-03-20T08:32:59.814568Z",
     "start_time": "2025-03-20T08:32:59.809026Z"
    }
   },
   "outputs": [],
   "source": [
    "# print pneumonia occurence in non intubated patients as number (percentage)\n",
    "print(f'Non intubated pneumonia: {pneumonia_df[pneumonia_df.intubated==0].pneumonia.sum()} ({pneumonia_df[pneumonia_df.intubated==0].pneumonia.sum() * 100 / pneumonia_df[pneumonia_df.intubated==0].shape[0]:.2f}%)')"
   ]
  },
  {
   "cell_type": "code",
   "execution_count": null,
   "id": "cda566d20fc8ea3",
   "metadata": {
    "ExecuteTime": {
     "end_time": "2025-03-20T08:33:01.171030Z",
     "start_time": "2025-03-20T08:33:00.754826Z"
    }
   },
   "outputs": [],
   "source": [
    "# plot pneumonia counts in non intubated vs intubated patients\n",
    "\n",
    "(pneumonia_df\n",
    ".groupby('intubated')['pneumonia']\n",
    ".value_counts(normalize=True)\n",
    ".mul(100)\n",
    ".rename('percent')\n",
    ".reset_index()\n",
    ".pipe((sns.catplot,'data'), x='intubated',y='percent',hue='pneumonia',kind='bar'))\n",
    "\n",
    "plt.show()\n"
   ]
  },
  {
   "cell_type": "code",
   "execution_count": null,
   "id": "f0dadd8f7730c5e5",
   "metadata": {
    "ExecuteTime": {
     "end_time": "2025-03-20T16:40:53.007373Z",
     "start_time": "2025-03-20T16:40:50.725612Z"
    }
   },
   "outputs": [],
   "source": [
    "# plot all plots (5)\n",
    "fig, axes = plt.subplots(2, 3, figsize=(15, 10))\n",
    "\n",
    "palette = sns.color_palette('Set3')\n",
    "sns.boxplot(x='intubated', y='ICU_los', data=icu_los_df, hue='intubated', ax=axes[0, 0], palette=palette, boxprops=dict(alpha=.7),\n",
    "            legend=False)\n",
    "axes[0, 0].set_ylim(0, 50)\n",
    "axes[0, 0].set_ylabel('days')\n",
    "axes[0, 0].set_title('ICU LOS')\n",
    "\n",
    "sns.boxplot(x='intubated', y='hospital_stay', data=hospital_stay_df, hue='intubated', ax=axes[0, 1], palette=palette, boxprops=dict(alpha=.7),\n",
    "            legend=False)\n",
    "axes[0, 1].set_ylim(0, 50)\n",
    "axes[0, 1].set_ylabel('days')\n",
    "axes[0, 1].set_title('Hospital LOS')\n",
    "\n",
    "sns.boxplot(x='intubated', y='ventilator_days', data=ventilator_days_df, hue='intubated', ax=axes[0, 2], palette=palette, boxprops=dict(alpha=.7),\n",
    "            legend=False)\n",
    "axes[0, 2].set_ylim(0, 50)\n",
    "axes[0, 2].set_ylabel('days')\n",
    "axes[0, 2].set_title('Ventilator days')\n",
    "\n",
    "# conversion to integer\n",
    "survival_df['survival'] = survival_df['survival'].astype('Int64')\n",
    "(survival_df\n",
    ".groupby('intubated')['survival']\n",
    ".value_counts(normalize=True)\n",
    ".mul(100)\n",
    ".rename('percent')\n",
    ".reset_index()\n",
    ".pipe((sns.barplot,'data'), x='intubated',y='percent',hue='survival', ax=axes[1, 0], palette=\n",
    "                            reversed(sns.color_palette('Set2')[0:2]), alpha=0.7)\n",
    ")\n",
    "axes[1, 0].set_title('Mortality (28 days)')\n",
    "axes[1, 0].set_ylim(0, 100)\n",
    "# set yticks to percentage with \"%\"\n",
    "axes[1, 0].set_yticklabels([f'{int(i)}%' for i in axes[1, 0].get_yticks()])\n",
    "axes[1, 0].set_ylabel('')\n",
    "\n",
    "# set legend labels to yes / no\n",
    "survival_handles, survival_labels = axes[1, 0].get_legend_handles_labels()\n",
    "axes[1, 0].legend(survival_handles, ['No', 'Yes'], title='Survival')\n",
    "\n",
    "# add absolute counts to the bars\n",
    "no_survival_labels = [f'n = {survival_df[survival_df.intubated==0].survival.value_counts().sort_index()[0]}',\n",
    "                     f'n = {survival_df[survival_df.intubated==1].survival.value_counts().sort_index()[0]}']\n",
    "survival_labels = [f'n = {survival_df[survival_df.intubated==0].survival.value_counts().sort_index()[1]}',\n",
    "                        f'n = {survival_df[survival_df.intubated==1].survival.value_counts().sort_index()[1]}']\n",
    "\n",
    "axes[1, 0].bar_label(container=axes[1, 0].containers[0], labels=no_survival_labels, label_type='edge')\n",
    "axes[1, 0].bar_label(container=axes[1, 0].containers[1], labels=survival_labels, label_type='edge')\n",
    "\n",
    "pneumonia_df.pneumonia = pneumonia_df.pneumonia.astype('Int64')\n",
    "(pneumonia_df\n",
    ".groupby('intubated')['pneumonia']\n",
    ".value_counts(normalize=True)\n",
    ".mul(100)\n",
    ".rename('percent')\n",
    ".reset_index()\n",
    ".pipe((sns.barplot,'data'), x='intubated',y='percent',hue='pneumonia', ax=axes[1, 1], palette=\n",
    "                                 reversed(sns.color_palette('Set1')[0:2]), alpha=0.7)\n",
    ")\n",
    "axes[1, 1].set_title('Pneumonia')\n",
    "axes[1, 1].set_ylim(0, 100)\n",
    "# set yticks to percentage with \"%\"\n",
    "axes[1, 1].set_yticklabels([f'{int(i)}%' for i in axes[1, 0].get_yticks()])\n",
    "axes[1, 1].set_ylabel('')\n",
    "\n",
    "# set legend labels to yes / no\n",
    "pneumonia_handles, pneumonia_labels = axes[1, 1].get_legend_handles_labels()\n",
    "axes[1, 1].legend(pneumonia_handles, ['No', 'Yes'], title='Pneumonia')\n",
    "\n",
    "# add absolute counts to the bars\n",
    "no_pneumonia_labels = [f'n = {pneumonia_df[pneumonia_df.intubated==0].pneumonia.value_counts().sort_index()[0]}',\n",
    "                          f'n = {pneumonia_df[pneumonia_df.intubated==1].pneumonia.value_counts().sort_index()[0]}']\n",
    "with_pneumonia_labels = [f'n = {pneumonia_df[pneumonia_df.intubated==0].pneumonia.value_counts().sort_index()[1]}',\n",
    "                          f'n = {pneumonia_df[pneumonia_df.intubated==1].pneumonia.value_counts().sort_index()[1]}']\n",
    "axes[1, 1].bar_label(container=axes[1, 1].containers[0], labels=no_pneumonia_labels, label_type='edge')\n",
    "axes[1, 1].bar_label(container=axes[1, 1].containers[1], labels=with_pneumonia_labels, label_type='edge')\n",
    "\n",
    "axes[1, 2].axis('off')\n",
    "\n",
    "# set x ticks for all to 'Non intubated', 'Intubated'\n",
    "for ax in axes.flatten():\n",
    "    ax.set_xticklabels(['Non intubated', 'Intubated'])\n",
    "    ax.set_xlabel('')\n",
    "\n",
    "plt.show()\n"
   ]
  },
  {
   "cell_type": "code",
   "execution_count": null,
   "id": "a21acde5b98e6141",
   "metadata": {
    "ExecuteTime": {
     "end_time": "2025-03-20T16:41:01.116557Z",
     "start_time": "2025-03-20T16:40:54.806687Z"
    }
   },
   "outputs": [],
   "source": [
    "# save figure\n",
    "# fig.savefig('/Users/jk1/Downloads/outcomes_intubated_vs_non_intubated.png', dpi=600, bbox_inches='tight')"
   ]
  },
  {
   "cell_type": "code",
   "execution_count": null,
   "id": "e6276b3f6aa4a33c",
   "metadata": {},
   "outputs": [],
   "source": []
  }
 ],
 "metadata": {
  "kernelspec": {
   "display_name": "Python 3",
   "language": "python",
   "name": "python3"
  },
  "language_info": {
   "codemirror_mode": {
    "name": "ipython",
    "version": 2
   },
   "file_extension": ".py",
   "mimetype": "text/x-python",
   "name": "python",
   "nbconvert_exporter": "python",
   "pygments_lexer": "ipython2",
   "version": "2.7.6"
  }
 },
 "nbformat": 4,
 "nbformat_minor": 5
}
