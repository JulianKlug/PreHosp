{
 "cells": [
  {
   "cell_type": "code",
   "execution_count": null,
   "id": "744821fa72f4d1c6",
   "metadata": {
    "ExecuteTime": {
     "end_time": "2024-08-16T18:29:29.251606Z",
     "start_time": "2024-08-16T18:29:29.248247Z"
    }
   },
   "outputs": [],
   "source": [
    "import pandas as pd\n",
    "import seaborn as sns\n",
    "import matplotlib.pyplot as plt\n",
    "from scipy.stats import wilcoxon\n",
    "import statsmodels"
   ]
  },
  {
   "cell_type": "code",
   "execution_count": null,
   "id": "bb64c0c45c56bf0e",
   "metadata": {
    "ExecuteTime": {
     "end_time": "2024-08-16T18:29:30.004400Z",
     "start_time": "2024-08-16T18:29:29.566920Z"
    }
   },
   "outputs": [],
   "source": [
    "data_path = '/Users/jk1/Library/CloudStorage/OneDrive-unige.ch/icu_research/prehospital/intubation_trigger/data/Mastertabelle_filtered.xlsx'\n",
    "df = pd.read_excel(data_path)"
   ]
  },
  {
   "cell_type": "code",
   "execution_count": null,
   "id": "initial_id",
   "metadata": {
    "ExecuteTime": {
     "end_time": "2024-08-16T18:29:30.018568Z",
     "start_time": "2024-08-16T18:29:30.007262Z"
    }
   },
   "outputs": [],
   "source": [
    "df = df[df.Comment != 'Reanimation']"
   ]
  },
  {
   "cell_type": "code",
   "execution_count": null,
   "id": "92ac516e6fc70d44",
   "metadata": {
    "ExecuteTime": {
     "end_time": "2024-08-16T18:29:30.091605Z",
     "start_time": "2024-08-16T18:29:30.081832Z"
    }
   },
   "outputs": [],
   "source": [
    "# encode eineteilung\n",
    "df['Einteilung_encoded'] = df['Einteilung (Hauptdiagnose)'].map({'Krankheit': 0, 'Unfall': 1})\n",
    "df['Sverweis_Geschlecht_encoded'] = df['Sverweis_Geschlecht'].map({'männlich': 0, 'weiblich': 1})\n",
    "df.loc[(df['Einteilung (Hauptdiagnose)'] == 'Unfall') & (\n",
    "            df['Kategorie (Hauptdiagnose)'] == 'Respiratorisch'), 'Kategorie (Hauptdiagnose)'] = 'Trauma_Respiratorisch'\n",
    "# numerical encoding for Eineteilung and Kategorie\n",
    "df['Kategorie_encoded'] = df['Kategorie (Hauptdiagnose)'].map({'Zentralnervensystem': 0,\n",
    "                                                                         'Krampfanfall': 1,\n",
    "                                                                         'Herz-Kreislauf': 2,\n",
    "                                                                         'Intoxikation': 3,\n",
    "                                                                         'Respiratorisch': 4,\n",
    "                                                                         'SHT': 5,\n",
    "                                                                         'Polytrauma': 6,\n",
    "                                                                         'Verbrennung': 7,\n",
    "                                                                         'Trauma_Respiratorisch': 8})"
   ]
  },
  {
   "cell_type": "code",
   "execution_count": null,
   "id": "56ddccac5450bd3",
   "metadata": {
    "ExecuteTime": {
     "end_time": "2024-08-16T18:29:30.335140Z",
     "start_time": "2024-08-16T18:29:30.312581Z"
    }
   },
   "outputs": [],
   "source": [
    "df.head()"
   ]
  },
  {
   "cell_type": "markdown",
   "id": "901928d7875c3e9f",
   "metadata": {},
   "source": [
    "univariate analysis"
   ]
  },
  {
   "cell_type": "code",
   "execution_count": null,
   "id": "d4606e33fbf70294",
   "metadata": {
    "ExecuteTime": {
     "end_time": "2024-08-16T18:29:33.833001Z",
     "start_time": "2024-08-16T18:29:33.789587Z"
    }
   },
   "outputs": [],
   "source": [
    "from statsmodels.miscmodels.ordinal_model import OrderedModel\n",
    "\n",
    "temp_df = df[['GCS (Erstbefund)', 'Sverweis_Geschlecht_encoded']]\n",
    "temp_df.dropna(inplace=True)\n",
    "\n",
    "mod_prob_med = OrderedModel(temp_df['GCS (Erstbefund)'], temp_df[['Sverweis_Geschlecht_encoded']], distr='probit')"
   ]
  },
  {
   "cell_type": "code",
   "execution_count": null,
   "id": "87c20a734751cfdb",
   "metadata": {
    "ExecuteTime": {
     "end_time": "2024-08-16T18:29:34.445363Z",
     "start_time": "2024-08-16T18:29:33.972222Z"
    }
   },
   "outputs": [],
   "source": [
    "res_prob_med = mod_prob_med.fit(maxiter=10000)\n",
    "res_prob_med.summary()"
   ]
  },
  {
   "cell_type": "markdown",
   "id": "e14449fcf5d0a140",
   "metadata": {},
   "source": [
    "multivariate analysis"
   ]
  },
  {
   "cell_type": "code",
   "execution_count": null,
   "id": "ead221a51bfcaa90",
   "metadata": {
    "ExecuteTime": {
     "end_time": "2024-08-16T18:29:34.995016Z",
     "start_time": "2024-08-16T18:29:34.988907Z"
    }
   },
   "outputs": [],
   "source": [
    "from statsmodels.miscmodels.ordinal_model import OrderedModel\n",
    "\n",
    "temp_df = df[['GCS (Erstbefund)', 'Einteilung_encoded', 'Sverweis_Geschlecht_encoded', 'Alter  (Patient)']]\n",
    "temp_df.dropna(inplace=True)\n",
    "\n",
    "mod_prob_med = OrderedModel(temp_df['GCS (Erstbefund)'], temp_df[['Einteilung_encoded', 'Sverweis_Geschlecht_encoded', 'Alter  (Patient)']], distr='probit')"
   ]
  },
  {
   "cell_type": "code",
   "execution_count": null,
   "id": "5f8d26fec2bd2847",
   "metadata": {
    "ExecuteTime": {
     "end_time": "2024-08-16T18:29:37.104412Z",
     "start_time": "2024-08-16T18:29:35.523320Z"
    }
   },
   "outputs": [],
   "source": [
    "res_prob_med = mod_prob_med.fit(maxiter=10000)\n",
    "res_prob_med.summary()"
   ]
  },
  {
   "cell_type": "code",
   "execution_count": null,
   "id": "3f2f47cc787b93eb",
   "metadata": {
    "ExecuteTime": {
     "end_time": "2024-08-16T18:29:38.531526Z",
     "start_time": "2024-08-16T18:29:37.106115Z"
    }
   },
   "outputs": [],
   "source": [
    "from statsmodels.miscmodels.ordinal_model import OrderedModel\n",
    "\n",
    "temp_df = df[['GCS (Erstbefund)', 'Kategorie_encoded', 'Sverweis_Geschlecht_encoded', 'Alter  (Patient)']]\n",
    "temp_df.dropna(inplace=True)\n",
    "\n",
    "mod_prob_med = OrderedModel(temp_df['GCS (Erstbefund)'],\n",
    "                            temp_df[['Kategorie_encoded', 'Sverweis_Geschlecht_encoded', 'Alter  (Patient)']],\n",
    "                            distr='probit')\n",
    "res_prob_med = mod_prob_med.fit(maxiter=10000)\n",
    "res_prob_med.summary()"
   ]
  },
  {
   "cell_type": "markdown",
   "id": "e34740de6ac1d38b",
   "metadata": {},
   "source": [
    "plot"
   ]
  },
  {
   "cell_type": "code",
   "execution_count": null,
   "id": "207d62cd858986df",
   "metadata": {
    "ExecuteTime": {
     "end_time": "2024-08-16T18:29:38.536918Z",
     "start_time": "2024-08-16T18:29:38.533001Z"
    }
   },
   "outputs": [],
   "source": [
    "df['Category'] = df['Einteilung (Hauptdiagnose)'].map({'Krankheit': 'Non trauma', 'Unfall': 'Trauma'})"
   ]
  },
  {
   "cell_type": "code",
   "execution_count": null,
   "id": "e84cbbf938048301",
   "metadata": {
    "ExecuteTime": {
     "end_time": "2024-08-16T18:34:16.317103Z",
     "start_time": "2024-08-16T18:34:16.133263Z"
    }
   },
   "outputs": [],
   "source": [
    "# gcs vs sex\n",
    "fig, ax = plt.subplots(figsize=(10, 6))\n",
    "sns.boxplot(x='Sverweis_Geschlecht', y='GCS (Erstbefund)', hue='Category', data=df[~df.Category.isna()], palette='Set3', ax=ax)\n",
    "\n",
    "ax.set_ylim(3, 17)\n",
    "plt.ylabel('GCS')\n",
    "# don't allow y_ticks > 15\n",
    "plt.yticks(range(3, 16, 2))\n",
    "\n",
    "# set x ticks\n",
    "plt.xticks(range(2), ['Female', 'Male'])\n",
    "\n",
    "ax.set_xlabel('')\n",
    "\n",
    "# set legend location upper left\n",
    "plt.legend(loc='upper left')"
   ]
  },
  {
   "cell_type": "code",
   "execution_count": null,
   "id": "c84bfad8fc108988",
   "metadata": {
    "ExecuteTime": {
     "end_time": "2024-08-16T18:34:32.892946Z",
     "start_time": "2024-08-16T18:34:31.537373Z"
    }
   },
   "outputs": [],
   "source": [
    "# fig.savefig('/Users/jk1/Downloads/gcs_vs_sex.png', dpi=600, bbox_inches='tight')"
   ]
  },
  {
   "cell_type": "code",
   "execution_count": null,
   "id": "e45afe3854aa93b",
   "metadata": {},
   "outputs": [],
   "source": []
  }
 ],
 "metadata": {
  "kernelspec": {
   "display_name": "Python 3",
   "language": "python",
   "name": "python3"
  },
  "language_info": {
   "codemirror_mode": {
    "name": "ipython",
    "version": 2
   },
   "file_extension": ".py",
   "mimetype": "text/x-python",
   "name": "python",
   "nbconvert_exporter": "python",
   "pygments_lexer": "ipython2",
   "version": "2.7.6"
  }
 },
 "nbformat": 4,
 "nbformat_minor": 5
}
